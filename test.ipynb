{
 "cells": [
  {
   "cell_type": "code",
   "execution_count": 2,
   "id": "75f6e240",
   "metadata": {},
   "outputs": [
    {
     "data": {
      "text/plain": [
       "[('AAPL',\n",
       "  'stock',\n",
       "  'stooq_eod',\n",
       "  datetime.datetime(2025, 8, 28, 0, 0),\n",
       "  230.82,\n",
       "  233.41,\n",
       "  229.335,\n",
       "  232.56,\n",
       "  38074700.0,\n",
       "  None)]"
      ]
     },
     "execution_count": 2,
     "metadata": {},
     "output_type": "execute_result"
    }
   ],
   "source": [
    "\n",
    "import duckdb; \n",
    "con=duckdb.connect('data/market/market.duckdb'); \n",
    "con.execute(\"SELECT * FROM ohlcv ORDER BY ts DESC LIMIT 1;\").fetchall()\n"
   ]
  },
  {
   "cell_type": "code",
   "execution_count": 3,
   "id": "6f7eae56",
   "metadata": {},
   "outputs": [
    {
     "name": "stdout",
     "output_type": "stream",
     "text": [
      "               Open     High      Low    Close      Volume\n",
      "Date                                                      \n",
      "2010-01-04  6.42488  6.45501  6.39166  6.44034   583191777\n",
      "2010-01-05  6.46388  6.48813  6.41768  6.45138   713715946\n",
      "2010-01-06  6.45138  6.47712  6.34179  6.34840   652802003\n",
      "2010-01-07  6.37037  6.38003  6.29093  6.33718   565387425\n",
      "2010-01-08  6.33224  6.38003  6.29142  6.37983   530786106\n",
      "2010-01-11  6.40911  6.40978  6.27291  6.32318   547235670\n",
      "2010-01-12  6.29891  6.31243  6.21182  6.25133   704043769\n",
      "2010-01-13  6.26294  6.34742  6.14214  6.33884   717292318\n",
      "2010-01-14  6.32090  6.33371  6.29024  6.30208   513287899\n",
      "2010-01-15  6.36190  6.36802  6.19486  6.19663   704839616\n",
      "2010-01-19  6.27134  6.47583  6.23673  6.47157   865102093\n",
      "2010-01-20  6.46767  6.48657  6.30455  6.37185   725332037\n",
      "2010-01-21  6.38921  6.41895  6.23576  6.26117   720350400\n",
      "2010-01-22  6.22305  6.24462  5.93242  5.95055  1040681451\n",
      "2010-01-25  6.10410  6.16018  6.02447  6.11147  1233911347\n",
      "\n",
      "Rows: 27  Unique days: 27\n"
     ]
    }
   ],
   "source": [
    "import pandas as pd\n",
    "from pandas_datareader import data as pdr\n",
    "df = pdr.DataReader(\"AAPL\", \"stooq\", start=\"2010-01-01\", end=\"2010-02-10\").sort_index()\n",
    "print(df.head(15))\n",
    "print(\"\\nRows:\", len(df), \" Unique days:\", df.index.nunique())"
   ]
  },
  {
   "cell_type": "code",
   "execution_count": 4,
   "id": "3f6fff76",
   "metadata": {},
   "outputs": [],
   "source": [
    "from datetime import datetime\n",
    "def _fetch_stooq(symbol: str, start_dt: datetime, end_dt: datetime) -> pd.DataFrame:\n",
    "    \"\"\"Fetch daily bars from Stooq (ascending by date).\"\"\"\n",
    "    df = pdr.DataReader(symbol, \"stooq\", start=start_dt.date(), end=end_dt.date())\n",
    "    if df is None or df.empty:\n",
    "        return pd.DataFrame()\n",
    "    df = df.sort_index()  # ascending\n",
    "    out = pd.DataFrame({\n",
    "        \"ts\": pd.to_datetime(df.index).tz_localize(None),\n",
    "        \"open\": pd.to_numeric(df.get(\"Open\"), errors=\"coerce\"),\n",
    "        \"high\": pd.to_numeric(df.get(\"High\"), errors=\"coerce\"),\n",
    "        \"low\": pd.to_numeric(df.get(\"Low\"), errors=\"coerce\"),\n",
    "        \"close\": pd.to_numeric(df.get(\"Close\"), errors=\"coerce\"),\n",
    "        \"volume\": pd.to_numeric(df.get(\"Volume\"), errors=\"coerce\"),\n",
    "        \"adj_close\": pd.to_numeric(df.get(\"Adj Close\"), errors=\"coerce\") if \"Adj Close\" in df.columns else pd.NA,\n",
    "    })\n",
    "    out = out.dropna(subset=[\"ts\",\"open\",\"high\",\"low\",\"close\"]).reset_index(drop=True)\n",
    "    return out"
   ]
  },
  {
   "cell_type": "code",
   "execution_count": 8,
   "id": "25e25c48",
   "metadata": {},
   "outputs": [
    {
     "name": "stderr",
     "output_type": "stream",
     "text": [
      "/Users/oluwadolaposalako/CryptoAdvisor/helpers/indicators.py:85: FutureWarning:\n",
      "\n",
      "'Y' is deprecated and will be removed in a future version, please use 'YE' instead.\n",
      "\n"
     ]
    },
    {
     "ename": "ValueError",
     "evalue": "Mime type rendering requires nbformat>=4.2.0 but it is not installed",
     "output_type": "error",
     "traceback": [
      "\u001b[0;31m---------------------------------------------------------------------------\u001b[0m",
      "\u001b[0;31mValueError\u001b[0m                                Traceback (most recent call last)",
      "File \u001b[0;32m/opt/anaconda3/envs/cryptoadvisor/lib/python3.9/site-packages/IPython/core/formatters.py:922\u001b[0m, in \u001b[0;36mIPythonDisplayFormatter.__call__\u001b[0;34m(self, obj)\u001b[0m\n\u001b[1;32m    920\u001b[0m method \u001b[38;5;241m=\u001b[39m get_real_method(obj, \u001b[38;5;28mself\u001b[39m\u001b[38;5;241m.\u001b[39mprint_method)\n\u001b[1;32m    921\u001b[0m \u001b[38;5;28;01mif\u001b[39;00m method \u001b[38;5;129;01mis\u001b[39;00m \u001b[38;5;129;01mnot\u001b[39;00m \u001b[38;5;28;01mNone\u001b[39;00m:\n\u001b[0;32m--> 922\u001b[0m     \u001b[43mmethod\u001b[49m\u001b[43m(\u001b[49m\u001b[43m)\u001b[49m\n\u001b[1;32m    923\u001b[0m     \u001b[38;5;28;01mreturn\u001b[39;00m \u001b[38;5;28;01mTrue\u001b[39;00m\n",
      "File \u001b[0;32m/opt/anaconda3/envs/cryptoadvisor/lib/python3.9/site-packages/plotly/basedatatypes.py:850\u001b[0m, in \u001b[0;36mBaseFigure._ipython_display_\u001b[0;34m(self)\u001b[0m\n\u001b[1;32m    847\u001b[0m \u001b[38;5;28;01mimport\u001b[39;00m\u001b[38;5;250m \u001b[39m\u001b[38;5;21;01mplotly\u001b[39;00m\u001b[38;5;21;01m.\u001b[39;00m\u001b[38;5;21;01mio\u001b[39;00m\u001b[38;5;250m \u001b[39m\u001b[38;5;28;01mas\u001b[39;00m\u001b[38;5;250m \u001b[39m\u001b[38;5;21;01mpio\u001b[39;00m\n\u001b[1;32m    849\u001b[0m \u001b[38;5;28;01mif\u001b[39;00m pio\u001b[38;5;241m.\u001b[39mrenderers\u001b[38;5;241m.\u001b[39mrender_on_display \u001b[38;5;129;01mand\u001b[39;00m pio\u001b[38;5;241m.\u001b[39mrenderers\u001b[38;5;241m.\u001b[39mdefault:\n\u001b[0;32m--> 850\u001b[0m     \u001b[43mpio\u001b[49m\u001b[38;5;241;43m.\u001b[39;49m\u001b[43mshow\u001b[49m\u001b[43m(\u001b[49m\u001b[38;5;28;43mself\u001b[39;49m\u001b[43m)\u001b[49m\n\u001b[1;32m    851\u001b[0m \u001b[38;5;28;01melse\u001b[39;00m:\n\u001b[1;32m    852\u001b[0m     \u001b[38;5;28mprint\u001b[39m(\u001b[38;5;28mrepr\u001b[39m(\u001b[38;5;28mself\u001b[39m))\n",
      "File \u001b[0;32m/opt/anaconda3/envs/cryptoadvisor/lib/python3.9/site-packages/plotly/io/_renderers.py:415\u001b[0m, in \u001b[0;36mshow\u001b[0;34m(fig, renderer, validate, **kwargs)\u001b[0m\n\u001b[1;32m    410\u001b[0m     \u001b[38;5;28;01mraise\u001b[39;00m \u001b[38;5;167;01mValueError\u001b[39;00m(\n\u001b[1;32m    411\u001b[0m         \u001b[38;5;124m\"\u001b[39m\u001b[38;5;124mMime type rendering requires ipython but it is not installed\u001b[39m\u001b[38;5;124m\"\u001b[39m\n\u001b[1;32m    412\u001b[0m     )\n\u001b[1;32m    414\u001b[0m \u001b[38;5;28;01mif\u001b[39;00m \u001b[38;5;129;01mnot\u001b[39;00m nbformat \u001b[38;5;129;01mor\u001b[39;00m Version(nbformat\u001b[38;5;241m.\u001b[39m__version__) \u001b[38;5;241m<\u001b[39m Version(\u001b[38;5;124m\"\u001b[39m\u001b[38;5;124m4.2.0\u001b[39m\u001b[38;5;124m\"\u001b[39m):\n\u001b[0;32m--> 415\u001b[0m     \u001b[38;5;28;01mraise\u001b[39;00m \u001b[38;5;167;01mValueError\u001b[39;00m(\n\u001b[1;32m    416\u001b[0m         \u001b[38;5;124m\"\u001b[39m\u001b[38;5;124mMime type rendering requires nbformat>=4.2.0 but it is not installed\u001b[39m\u001b[38;5;124m\"\u001b[39m\n\u001b[1;32m    417\u001b[0m     )\n\u001b[1;32m    419\u001b[0m display_jupyter_version_warnings()\n\u001b[1;32m    421\u001b[0m ipython_display\u001b[38;5;241m.\u001b[39mdisplay(bundle, raw\u001b[38;5;241m=\u001b[39m\u001b[38;5;28;01mTrue\u001b[39;00m)\n",
      "\u001b[0;31mValueError\u001b[0m: Mime type rendering requires nbformat>=4.2.0 but it is not installed"
     ]
    },
    {
     "data": {
      "application/vnd.plotly.v1+json": {
       "config": {
        "plotlyServerURL": "https://plot.ly"
       },
       "data": [
        {
         "hoverinfo": "text",
         "line": {
          "width": 2
         },
         "mode": "lines",
         "name": "3-Year Rolling CAGR",
         "text": [
          "2010-12-31 → 2013-12-31<br>CAGR: 2.27%",
          "2011-12-31 → 2014-12-31<br>CAGR: 14.83%",
          "2012-12-31 → 2015-12-31<br>CAGR: 41.64%",
          "2013-12-31 → 2016-12-31<br>CAGR: 90.92%",
          "2014-12-31 → 2017-12-31<br>CAGR: 115.04%",
          "2015-12-31 → 2018-12-31<br>CAGR: 60.27%",
          "2016-12-31 → 2019-12-31<br>CAGR: 30.61%",
          "2017-12-31 → 2020-12-31<br>CAGR: 39.61%",
          "2018-12-31 → 2021-12-31<br>CAGR: 107.0%",
          "2019-12-31 → 2022-12-31<br>CAGR: 35.59%",
          "2020-12-31 → 2023-12-31<br>CAGR: 56.08%",
          "2021-12-31 → 2024-12-31<br>CAGR: 65.99%"
         ],
         "type": "scatter",
         "x": [
          "2013-12-31T00:00:00.000000000",
          "2014-12-31T00:00:00.000000000",
          "2015-12-31T00:00:00.000000000",
          "2016-12-31T00:00:00.000000000",
          "2017-12-31T00:00:00.000000000",
          "2018-12-31T00:00:00.000000000",
          "2019-12-31T00:00:00.000000000",
          "2020-12-31T00:00:00.000000000",
          "2021-12-31T00:00:00.000000000",
          "2022-12-31T00:00:00.000000000",
          "2023-12-31T00:00:00.000000000",
          "2024-12-31T00:00:00.000000000"
         ],
         "y": {
          "bdata": "KVyPwvUoAkApXI/C9agtQFK4HoXr0URAexSuR+G6VkDD9Shcj8JcQMP1KFyPIk5AXI/C9SicPkCuR+F6FM5DQAAAAAAAwFpA7FG4HoXLQUAK16NwPQpMQI/C9Shcf1BA",
          "dtype": "f8"
         }
        }
       ],
       "layout": {
        "hovermode": "x unified",
        "template": {
         "data": {
          "bar": [
           {
            "error_x": {
             "color": "#2a3f5f"
            },
            "error_y": {
             "color": "#2a3f5f"
            },
            "marker": {
             "line": {
              "color": "white",
              "width": 0.5
             },
             "pattern": {
              "fillmode": "overlay",
              "size": 10,
              "solidity": 0.2
             }
            },
            "type": "bar"
           }
          ],
          "barpolar": [
           {
            "marker": {
             "line": {
              "color": "white",
              "width": 0.5
             },
             "pattern": {
              "fillmode": "overlay",
              "size": 10,
              "solidity": 0.2
             }
            },
            "type": "barpolar"
           }
          ],
          "carpet": [
           {
            "aaxis": {
             "endlinecolor": "#2a3f5f",
             "gridcolor": "#C8D4E3",
             "linecolor": "#C8D4E3",
             "minorgridcolor": "#C8D4E3",
             "startlinecolor": "#2a3f5f"
            },
            "baxis": {
             "endlinecolor": "#2a3f5f",
             "gridcolor": "#C8D4E3",
             "linecolor": "#C8D4E3",
             "minorgridcolor": "#C8D4E3",
             "startlinecolor": "#2a3f5f"
            },
            "type": "carpet"
           }
          ],
          "choropleth": [
           {
            "colorbar": {
             "outlinewidth": 0,
             "ticks": ""
            },
            "type": "choropleth"
           }
          ],
          "contour": [
           {
            "colorbar": {
             "outlinewidth": 0,
             "ticks": ""
            },
            "colorscale": [
             [
              0,
              "#0d0887"
             ],
             [
              0.1111111111111111,
              "#46039f"
             ],
             [
              0.2222222222222222,
              "#7201a8"
             ],
             [
              0.3333333333333333,
              "#9c179e"
             ],
             [
              0.4444444444444444,
              "#bd3786"
             ],
             [
              0.5555555555555556,
              "#d8576b"
             ],
             [
              0.6666666666666666,
              "#ed7953"
             ],
             [
              0.7777777777777778,
              "#fb9f3a"
             ],
             [
              0.8888888888888888,
              "#fdca26"
             ],
             [
              1,
              "#f0f921"
             ]
            ],
            "type": "contour"
           }
          ],
          "contourcarpet": [
           {
            "colorbar": {
             "outlinewidth": 0,
             "ticks": ""
            },
            "type": "contourcarpet"
           }
          ],
          "heatmap": [
           {
            "colorbar": {
             "outlinewidth": 0,
             "ticks": ""
            },
            "colorscale": [
             [
              0,
              "#0d0887"
             ],
             [
              0.1111111111111111,
              "#46039f"
             ],
             [
              0.2222222222222222,
              "#7201a8"
             ],
             [
              0.3333333333333333,
              "#9c179e"
             ],
             [
              0.4444444444444444,
              "#bd3786"
             ],
             [
              0.5555555555555556,
              "#d8576b"
             ],
             [
              0.6666666666666666,
              "#ed7953"
             ],
             [
              0.7777777777777778,
              "#fb9f3a"
             ],
             [
              0.8888888888888888,
              "#fdca26"
             ],
             [
              1,
              "#f0f921"
             ]
            ],
            "type": "heatmap"
           }
          ],
          "histogram": [
           {
            "marker": {
             "pattern": {
              "fillmode": "overlay",
              "size": 10,
              "solidity": 0.2
             }
            },
            "type": "histogram"
           }
          ],
          "histogram2d": [
           {
            "colorbar": {
             "outlinewidth": 0,
             "ticks": ""
            },
            "colorscale": [
             [
              0,
              "#0d0887"
             ],
             [
              0.1111111111111111,
              "#46039f"
             ],
             [
              0.2222222222222222,
              "#7201a8"
             ],
             [
              0.3333333333333333,
              "#9c179e"
             ],
             [
              0.4444444444444444,
              "#bd3786"
             ],
             [
              0.5555555555555556,
              "#d8576b"
             ],
             [
              0.6666666666666666,
              "#ed7953"
             ],
             [
              0.7777777777777778,
              "#fb9f3a"
             ],
             [
              0.8888888888888888,
              "#fdca26"
             ],
             [
              1,
              "#f0f921"
             ]
            ],
            "type": "histogram2d"
           }
          ],
          "histogram2dcontour": [
           {
            "colorbar": {
             "outlinewidth": 0,
             "ticks": ""
            },
            "colorscale": [
             [
              0,
              "#0d0887"
             ],
             [
              0.1111111111111111,
              "#46039f"
             ],
             [
              0.2222222222222222,
              "#7201a8"
             ],
             [
              0.3333333333333333,
              "#9c179e"
             ],
             [
              0.4444444444444444,
              "#bd3786"
             ],
             [
              0.5555555555555556,
              "#d8576b"
             ],
             [
              0.6666666666666666,
              "#ed7953"
             ],
             [
              0.7777777777777778,
              "#fb9f3a"
             ],
             [
              0.8888888888888888,
              "#fdca26"
             ],
             [
              1,
              "#f0f921"
             ]
            ],
            "type": "histogram2dcontour"
           }
          ],
          "mesh3d": [
           {
            "colorbar": {
             "outlinewidth": 0,
             "ticks": ""
            },
            "type": "mesh3d"
           }
          ],
          "parcoords": [
           {
            "line": {
             "colorbar": {
              "outlinewidth": 0,
              "ticks": ""
             }
            },
            "type": "parcoords"
           }
          ],
          "pie": [
           {
            "automargin": true,
            "type": "pie"
           }
          ],
          "scatter": [
           {
            "fillpattern": {
             "fillmode": "overlay",
             "size": 10,
             "solidity": 0.2
            },
            "type": "scatter"
           }
          ],
          "scatter3d": [
           {
            "line": {
             "colorbar": {
              "outlinewidth": 0,
              "ticks": ""
             }
            },
            "marker": {
             "colorbar": {
              "outlinewidth": 0,
              "ticks": ""
             }
            },
            "type": "scatter3d"
           }
          ],
          "scattercarpet": [
           {
            "marker": {
             "colorbar": {
              "outlinewidth": 0,
              "ticks": ""
             }
            },
            "type": "scattercarpet"
           }
          ],
          "scattergeo": [
           {
            "marker": {
             "colorbar": {
              "outlinewidth": 0,
              "ticks": ""
             }
            },
            "type": "scattergeo"
           }
          ],
          "scattergl": [
           {
            "marker": {
             "colorbar": {
              "outlinewidth": 0,
              "ticks": ""
             }
            },
            "type": "scattergl"
           }
          ],
          "scattermap": [
           {
            "marker": {
             "colorbar": {
              "outlinewidth": 0,
              "ticks": ""
             }
            },
            "type": "scattermap"
           }
          ],
          "scattermapbox": [
           {
            "marker": {
             "colorbar": {
              "outlinewidth": 0,
              "ticks": ""
             }
            },
            "type": "scattermapbox"
           }
          ],
          "scatterpolar": [
           {
            "marker": {
             "colorbar": {
              "outlinewidth": 0,
              "ticks": ""
             }
            },
            "type": "scatterpolar"
           }
          ],
          "scatterpolargl": [
           {
            "marker": {
             "colorbar": {
              "outlinewidth": 0,
              "ticks": ""
             }
            },
            "type": "scatterpolargl"
           }
          ],
          "scatterternary": [
           {
            "marker": {
             "colorbar": {
              "outlinewidth": 0,
              "ticks": ""
             }
            },
            "type": "scatterternary"
           }
          ],
          "surface": [
           {
            "colorbar": {
             "outlinewidth": 0,
             "ticks": ""
            },
            "colorscale": [
             [
              0,
              "#0d0887"
             ],
             [
              0.1111111111111111,
              "#46039f"
             ],
             [
              0.2222222222222222,
              "#7201a8"
             ],
             [
              0.3333333333333333,
              "#9c179e"
             ],
             [
              0.4444444444444444,
              "#bd3786"
             ],
             [
              0.5555555555555556,
              "#d8576b"
             ],
             [
              0.6666666666666666,
              "#ed7953"
             ],
             [
              0.7777777777777778,
              "#fb9f3a"
             ],
             [
              0.8888888888888888,
              "#fdca26"
             ],
             [
              1,
              "#f0f921"
             ]
            ],
            "type": "surface"
           }
          ],
          "table": [
           {
            "cells": {
             "fill": {
              "color": "#EBF0F8"
             },
             "line": {
              "color": "white"
             }
            },
            "header": {
             "fill": {
              "color": "#C8D4E3"
             },
             "line": {
              "color": "white"
             }
            },
            "type": "table"
           }
          ]
         },
         "layout": {
          "annotationdefaults": {
           "arrowcolor": "#2a3f5f",
           "arrowhead": 0,
           "arrowwidth": 1
          },
          "autotypenumbers": "strict",
          "coloraxis": {
           "colorbar": {
            "outlinewidth": 0,
            "ticks": ""
           }
          },
          "colorscale": {
           "diverging": [
            [
             0,
             "#8e0152"
            ],
            [
             0.1,
             "#c51b7d"
            ],
            [
             0.2,
             "#de77ae"
            ],
            [
             0.3,
             "#f1b6da"
            ],
            [
             0.4,
             "#fde0ef"
            ],
            [
             0.5,
             "#f7f7f7"
            ],
            [
             0.6,
             "#e6f5d0"
            ],
            [
             0.7,
             "#b8e186"
            ],
            [
             0.8,
             "#7fbc41"
            ],
            [
             0.9,
             "#4d9221"
            ],
            [
             1,
             "#276419"
            ]
           ],
           "sequential": [
            [
             0,
             "#0d0887"
            ],
            [
             0.1111111111111111,
             "#46039f"
            ],
            [
             0.2222222222222222,
             "#7201a8"
            ],
            [
             0.3333333333333333,
             "#9c179e"
            ],
            [
             0.4444444444444444,
             "#bd3786"
            ],
            [
             0.5555555555555556,
             "#d8576b"
            ],
            [
             0.6666666666666666,
             "#ed7953"
            ],
            [
             0.7777777777777778,
             "#fb9f3a"
            ],
            [
             0.8888888888888888,
             "#fdca26"
            ],
            [
             1,
             "#f0f921"
            ]
           ],
           "sequentialminus": [
            [
             0,
             "#0d0887"
            ],
            [
             0.1111111111111111,
             "#46039f"
            ],
            [
             0.2222222222222222,
             "#7201a8"
            ],
            [
             0.3333333333333333,
             "#9c179e"
            ],
            [
             0.4444444444444444,
             "#bd3786"
            ],
            [
             0.5555555555555556,
             "#d8576b"
            ],
            [
             0.6666666666666666,
             "#ed7953"
            ],
            [
             0.7777777777777778,
             "#fb9f3a"
            ],
            [
             0.8888888888888888,
             "#fdca26"
            ],
            [
             1,
             "#f0f921"
            ]
           ]
          },
          "colorway": [
           "#636efa",
           "#EF553B",
           "#00cc96",
           "#ab63fa",
           "#FFA15A",
           "#19d3f3",
           "#FF6692",
           "#B6E880",
           "#FF97FF",
           "#FECB52"
          ],
          "font": {
           "color": "#2a3f5f"
          },
          "geo": {
           "bgcolor": "white",
           "lakecolor": "white",
           "landcolor": "white",
           "showlakes": true,
           "showland": true,
           "subunitcolor": "#C8D4E3"
          },
          "hoverlabel": {
           "align": "left"
          },
          "hovermode": "closest",
          "mapbox": {
           "style": "light"
          },
          "paper_bgcolor": "white",
          "plot_bgcolor": "white",
          "polar": {
           "angularaxis": {
            "gridcolor": "#EBF0F8",
            "linecolor": "#EBF0F8",
            "ticks": ""
           },
           "bgcolor": "white",
           "radialaxis": {
            "gridcolor": "#EBF0F8",
            "linecolor": "#EBF0F8",
            "ticks": ""
           }
          },
          "scene": {
           "xaxis": {
            "backgroundcolor": "white",
            "gridcolor": "#DFE8F3",
            "gridwidth": 2,
            "linecolor": "#EBF0F8",
            "showbackground": true,
            "ticks": "",
            "zerolinecolor": "#EBF0F8"
           },
           "yaxis": {
            "backgroundcolor": "white",
            "gridcolor": "#DFE8F3",
            "gridwidth": 2,
            "linecolor": "#EBF0F8",
            "showbackground": true,
            "ticks": "",
            "zerolinecolor": "#EBF0F8"
           },
           "zaxis": {
            "backgroundcolor": "white",
            "gridcolor": "#DFE8F3",
            "gridwidth": 2,
            "linecolor": "#EBF0F8",
            "showbackground": true,
            "ticks": "",
            "zerolinecolor": "#EBF0F8"
           }
          },
          "shapedefaults": {
           "line": {
            "color": "#2a3f5f"
           }
          },
          "ternary": {
           "aaxis": {
            "gridcolor": "#DFE8F3",
            "linecolor": "#A2B1C6",
            "ticks": ""
           },
           "baxis": {
            "gridcolor": "#DFE8F3",
            "linecolor": "#A2B1C6",
            "ticks": ""
           },
           "bgcolor": "white",
           "caxis": {
            "gridcolor": "#DFE8F3",
            "linecolor": "#A2B1C6",
            "ticks": ""
           }
          },
          "title": {
           "x": 0.05
          },
          "xaxis": {
           "automargin": true,
           "gridcolor": "#EBF0F8",
           "linecolor": "#EBF0F8",
           "ticks": "",
           "title": {
            "standoff": 15
           },
           "zerolinecolor": "#EBF0F8",
           "zerolinewidth": 2
          },
          "yaxis": {
           "automargin": true,
           "gridcolor": "#EBF0F8",
           "linecolor": "#EBF0F8",
           "ticks": "",
           "title": {
            "standoff": 15
           },
           "zerolinecolor": "#EBF0F8",
           "zerolinewidth": 2
          }
         }
        },
        "title": {
         "text": "NVDA - 3-Year Rolling CAGR (Yearly)"
        },
        "xaxis": {
         "title": {
          "text": "End Date"
         }
        },
        "yaxis": {
         "title": {
          "text": "Rolling CAGR (%)"
         }
        }
       }
      },
      "text/html": [
       "<div>                        <script type=\"text/javascript\">window.PlotlyConfig = {MathJaxConfig: 'local'};</script>\n",
       "        <script charset=\"utf-8\" src=\"https://cdn.plot.ly/plotly-3.1.0.min.js\" integrity=\"sha256-Ei4740bWZhaUTQuD6q9yQlgVCMPBz6CZWhevDYPv93A=\" crossorigin=\"anonymous\"></script>                <div id=\"e112a83b-4102-4822-b11d-6f7d36a07575\" class=\"plotly-graph-div\" style=\"height:100%; width:100%;\"></div>            <script type=\"text/javascript\">                window.PLOTLYENV=window.PLOTLYENV || {};                                if (document.getElementById(\"e112a83b-4102-4822-b11d-6f7d36a07575\")) {                    Plotly.newPlot(                        \"e112a83b-4102-4822-b11d-6f7d36a07575\",                        [{\"hoverinfo\":\"text\",\"line\":{\"width\":2},\"mode\":\"lines\",\"name\":\"3-Year Rolling CAGR\",\"text\":[\"2010-12-31 \\u2192 2013-12-31\\u003cbr\\u003eCAGR: 2.27%\",\"2011-12-31 \\u2192 2014-12-31\\u003cbr\\u003eCAGR: 14.83%\",\"2012-12-31 \\u2192 2015-12-31\\u003cbr\\u003eCAGR: 41.64%\",\"2013-12-31 \\u2192 2016-12-31\\u003cbr\\u003eCAGR: 90.92%\",\"2014-12-31 \\u2192 2017-12-31\\u003cbr\\u003eCAGR: 115.04%\",\"2015-12-31 \\u2192 2018-12-31\\u003cbr\\u003eCAGR: 60.27%\",\"2016-12-31 \\u2192 2019-12-31\\u003cbr\\u003eCAGR: 30.61%\",\"2017-12-31 \\u2192 2020-12-31\\u003cbr\\u003eCAGR: 39.61%\",\"2018-12-31 \\u2192 2021-12-31\\u003cbr\\u003eCAGR: 107.0%\",\"2019-12-31 \\u2192 2022-12-31\\u003cbr\\u003eCAGR: 35.59%\",\"2020-12-31 \\u2192 2023-12-31\\u003cbr\\u003eCAGR: 56.08%\",\"2021-12-31 \\u2192 2024-12-31\\u003cbr\\u003eCAGR: 65.99%\"],\"x\":[\"2013-12-31T00:00:00.000000000\",\"2014-12-31T00:00:00.000000000\",\"2015-12-31T00:00:00.000000000\",\"2016-12-31T00:00:00.000000000\",\"2017-12-31T00:00:00.000000000\",\"2018-12-31T00:00:00.000000000\",\"2019-12-31T00:00:00.000000000\",\"2020-12-31T00:00:00.000000000\",\"2021-12-31T00:00:00.000000000\",\"2022-12-31T00:00:00.000000000\",\"2023-12-31T00:00:00.000000000\",\"2024-12-31T00:00:00.000000000\"],\"y\":{\"dtype\":\"f8\",\"bdata\":\"KVyPwvUoAkApXI\\u002fC9agtQFK4HoXr0URAexSuR+G6VkDD9Shcj8JcQMP1KFyPIk5AXI\\u002fC9SicPkCuR+F6FM5DQAAAAAAAwFpA7FG4HoXLQUAK16NwPQpMQI\\u002fC9Shcf1BA\"},\"type\":\"scatter\"}],                        {\"template\":{\"data\":{\"barpolar\":[{\"marker\":{\"line\":{\"color\":\"white\",\"width\":0.5},\"pattern\":{\"fillmode\":\"overlay\",\"size\":10,\"solidity\":0.2}},\"type\":\"barpolar\"}],\"bar\":[{\"error_x\":{\"color\":\"#2a3f5f\"},\"error_y\":{\"color\":\"#2a3f5f\"},\"marker\":{\"line\":{\"color\":\"white\",\"width\":0.5},\"pattern\":{\"fillmode\":\"overlay\",\"size\":10,\"solidity\":0.2}},\"type\":\"bar\"}],\"carpet\":[{\"aaxis\":{\"endlinecolor\":\"#2a3f5f\",\"gridcolor\":\"#C8D4E3\",\"linecolor\":\"#C8D4E3\",\"minorgridcolor\":\"#C8D4E3\",\"startlinecolor\":\"#2a3f5f\"},\"baxis\":{\"endlinecolor\":\"#2a3f5f\",\"gridcolor\":\"#C8D4E3\",\"linecolor\":\"#C8D4E3\",\"minorgridcolor\":\"#C8D4E3\",\"startlinecolor\":\"#2a3f5f\"},\"type\":\"carpet\"}],\"choropleth\":[{\"colorbar\":{\"outlinewidth\":0,\"ticks\":\"\"},\"type\":\"choropleth\"}],\"contourcarpet\":[{\"colorbar\":{\"outlinewidth\":0,\"ticks\":\"\"},\"type\":\"contourcarpet\"}],\"contour\":[{\"colorbar\":{\"outlinewidth\":0,\"ticks\":\"\"},\"colorscale\":[[0.0,\"#0d0887\"],[0.1111111111111111,\"#46039f\"],[0.2222222222222222,\"#7201a8\"],[0.3333333333333333,\"#9c179e\"],[0.4444444444444444,\"#bd3786\"],[0.5555555555555556,\"#d8576b\"],[0.6666666666666666,\"#ed7953\"],[0.7777777777777778,\"#fb9f3a\"],[0.8888888888888888,\"#fdca26\"],[1.0,\"#f0f921\"]],\"type\":\"contour\"}],\"heatmap\":[{\"colorbar\":{\"outlinewidth\":0,\"ticks\":\"\"},\"colorscale\":[[0.0,\"#0d0887\"],[0.1111111111111111,\"#46039f\"],[0.2222222222222222,\"#7201a8\"],[0.3333333333333333,\"#9c179e\"],[0.4444444444444444,\"#bd3786\"],[0.5555555555555556,\"#d8576b\"],[0.6666666666666666,\"#ed7953\"],[0.7777777777777778,\"#fb9f3a\"],[0.8888888888888888,\"#fdca26\"],[1.0,\"#f0f921\"]],\"type\":\"heatmap\"}],\"histogram2dcontour\":[{\"colorbar\":{\"outlinewidth\":0,\"ticks\":\"\"},\"colorscale\":[[0.0,\"#0d0887\"],[0.1111111111111111,\"#46039f\"],[0.2222222222222222,\"#7201a8\"],[0.3333333333333333,\"#9c179e\"],[0.4444444444444444,\"#bd3786\"],[0.5555555555555556,\"#d8576b\"],[0.6666666666666666,\"#ed7953\"],[0.7777777777777778,\"#fb9f3a\"],[0.8888888888888888,\"#fdca26\"],[1.0,\"#f0f921\"]],\"type\":\"histogram2dcontour\"}],\"histogram2d\":[{\"colorbar\":{\"outlinewidth\":0,\"ticks\":\"\"},\"colorscale\":[[0.0,\"#0d0887\"],[0.1111111111111111,\"#46039f\"],[0.2222222222222222,\"#7201a8\"],[0.3333333333333333,\"#9c179e\"],[0.4444444444444444,\"#bd3786\"],[0.5555555555555556,\"#d8576b\"],[0.6666666666666666,\"#ed7953\"],[0.7777777777777778,\"#fb9f3a\"],[0.8888888888888888,\"#fdca26\"],[1.0,\"#f0f921\"]],\"type\":\"histogram2d\"}],\"histogram\":[{\"marker\":{\"pattern\":{\"fillmode\":\"overlay\",\"size\":10,\"solidity\":0.2}},\"type\":\"histogram\"}],\"mesh3d\":[{\"colorbar\":{\"outlinewidth\":0,\"ticks\":\"\"},\"type\":\"mesh3d\"}],\"parcoords\":[{\"line\":{\"colorbar\":{\"outlinewidth\":0,\"ticks\":\"\"}},\"type\":\"parcoords\"}],\"pie\":[{\"automargin\":true,\"type\":\"pie\"}],\"scatter3d\":[{\"line\":{\"colorbar\":{\"outlinewidth\":0,\"ticks\":\"\"}},\"marker\":{\"colorbar\":{\"outlinewidth\":0,\"ticks\":\"\"}},\"type\":\"scatter3d\"}],\"scattercarpet\":[{\"marker\":{\"colorbar\":{\"outlinewidth\":0,\"ticks\":\"\"}},\"type\":\"scattercarpet\"}],\"scattergeo\":[{\"marker\":{\"colorbar\":{\"outlinewidth\":0,\"ticks\":\"\"}},\"type\":\"scattergeo\"}],\"scattergl\":[{\"marker\":{\"colorbar\":{\"outlinewidth\":0,\"ticks\":\"\"}},\"type\":\"scattergl\"}],\"scattermapbox\":[{\"marker\":{\"colorbar\":{\"outlinewidth\":0,\"ticks\":\"\"}},\"type\":\"scattermapbox\"}],\"scattermap\":[{\"marker\":{\"colorbar\":{\"outlinewidth\":0,\"ticks\":\"\"}},\"type\":\"scattermap\"}],\"scatterpolargl\":[{\"marker\":{\"colorbar\":{\"outlinewidth\":0,\"ticks\":\"\"}},\"type\":\"scatterpolargl\"}],\"scatterpolar\":[{\"marker\":{\"colorbar\":{\"outlinewidth\":0,\"ticks\":\"\"}},\"type\":\"scatterpolar\"}],\"scatter\":[{\"fillpattern\":{\"fillmode\":\"overlay\",\"size\":10,\"solidity\":0.2},\"type\":\"scatter\"}],\"scatterternary\":[{\"marker\":{\"colorbar\":{\"outlinewidth\":0,\"ticks\":\"\"}},\"type\":\"scatterternary\"}],\"surface\":[{\"colorbar\":{\"outlinewidth\":0,\"ticks\":\"\"},\"colorscale\":[[0.0,\"#0d0887\"],[0.1111111111111111,\"#46039f\"],[0.2222222222222222,\"#7201a8\"],[0.3333333333333333,\"#9c179e\"],[0.4444444444444444,\"#bd3786\"],[0.5555555555555556,\"#d8576b\"],[0.6666666666666666,\"#ed7953\"],[0.7777777777777778,\"#fb9f3a\"],[0.8888888888888888,\"#fdca26\"],[1.0,\"#f0f921\"]],\"type\":\"surface\"}],\"table\":[{\"cells\":{\"fill\":{\"color\":\"#EBF0F8\"},\"line\":{\"color\":\"white\"}},\"header\":{\"fill\":{\"color\":\"#C8D4E3\"},\"line\":{\"color\":\"white\"}},\"type\":\"table\"}]},\"layout\":{\"annotationdefaults\":{\"arrowcolor\":\"#2a3f5f\",\"arrowhead\":0,\"arrowwidth\":1},\"autotypenumbers\":\"strict\",\"coloraxis\":{\"colorbar\":{\"outlinewidth\":0,\"ticks\":\"\"}},\"colorscale\":{\"diverging\":[[0,\"#8e0152\"],[0.1,\"#c51b7d\"],[0.2,\"#de77ae\"],[0.3,\"#f1b6da\"],[0.4,\"#fde0ef\"],[0.5,\"#f7f7f7\"],[0.6,\"#e6f5d0\"],[0.7,\"#b8e186\"],[0.8,\"#7fbc41\"],[0.9,\"#4d9221\"],[1,\"#276419\"]],\"sequential\":[[0.0,\"#0d0887\"],[0.1111111111111111,\"#46039f\"],[0.2222222222222222,\"#7201a8\"],[0.3333333333333333,\"#9c179e\"],[0.4444444444444444,\"#bd3786\"],[0.5555555555555556,\"#d8576b\"],[0.6666666666666666,\"#ed7953\"],[0.7777777777777778,\"#fb9f3a\"],[0.8888888888888888,\"#fdca26\"],[1.0,\"#f0f921\"]],\"sequentialminus\":[[0.0,\"#0d0887\"],[0.1111111111111111,\"#46039f\"],[0.2222222222222222,\"#7201a8\"],[0.3333333333333333,\"#9c179e\"],[0.4444444444444444,\"#bd3786\"],[0.5555555555555556,\"#d8576b\"],[0.6666666666666666,\"#ed7953\"],[0.7777777777777778,\"#fb9f3a\"],[0.8888888888888888,\"#fdca26\"],[1.0,\"#f0f921\"]]},\"colorway\":[\"#636efa\",\"#EF553B\",\"#00cc96\",\"#ab63fa\",\"#FFA15A\",\"#19d3f3\",\"#FF6692\",\"#B6E880\",\"#FF97FF\",\"#FECB52\"],\"font\":{\"color\":\"#2a3f5f\"},\"geo\":{\"bgcolor\":\"white\",\"lakecolor\":\"white\",\"landcolor\":\"white\",\"showlakes\":true,\"showland\":true,\"subunitcolor\":\"#C8D4E3\"},\"hoverlabel\":{\"align\":\"left\"},\"hovermode\":\"closest\",\"mapbox\":{\"style\":\"light\"},\"paper_bgcolor\":\"white\",\"plot_bgcolor\":\"white\",\"polar\":{\"angularaxis\":{\"gridcolor\":\"#EBF0F8\",\"linecolor\":\"#EBF0F8\",\"ticks\":\"\"},\"bgcolor\":\"white\",\"radialaxis\":{\"gridcolor\":\"#EBF0F8\",\"linecolor\":\"#EBF0F8\",\"ticks\":\"\"}},\"scene\":{\"xaxis\":{\"backgroundcolor\":\"white\",\"gridcolor\":\"#DFE8F3\",\"gridwidth\":2,\"linecolor\":\"#EBF0F8\",\"showbackground\":true,\"ticks\":\"\",\"zerolinecolor\":\"#EBF0F8\"},\"yaxis\":{\"backgroundcolor\":\"white\",\"gridcolor\":\"#DFE8F3\",\"gridwidth\":2,\"linecolor\":\"#EBF0F8\",\"showbackground\":true,\"ticks\":\"\",\"zerolinecolor\":\"#EBF0F8\"},\"zaxis\":{\"backgroundcolor\":\"white\",\"gridcolor\":\"#DFE8F3\",\"gridwidth\":2,\"linecolor\":\"#EBF0F8\",\"showbackground\":true,\"ticks\":\"\",\"zerolinecolor\":\"#EBF0F8\"}},\"shapedefaults\":{\"line\":{\"color\":\"#2a3f5f\"}},\"ternary\":{\"aaxis\":{\"gridcolor\":\"#DFE8F3\",\"linecolor\":\"#A2B1C6\",\"ticks\":\"\"},\"baxis\":{\"gridcolor\":\"#DFE8F3\",\"linecolor\":\"#A2B1C6\",\"ticks\":\"\"},\"bgcolor\":\"white\",\"caxis\":{\"gridcolor\":\"#DFE8F3\",\"linecolor\":\"#A2B1C6\",\"ticks\":\"\"}},\"title\":{\"x\":0.05},\"xaxis\":{\"automargin\":true,\"gridcolor\":\"#EBF0F8\",\"linecolor\":\"#EBF0F8\",\"ticks\":\"\",\"title\":{\"standoff\":15},\"zerolinecolor\":\"#EBF0F8\",\"zerolinewidth\":2},\"yaxis\":{\"automargin\":true,\"gridcolor\":\"#EBF0F8\",\"linecolor\":\"#EBF0F8\",\"ticks\":\"\",\"title\":{\"standoff\":15},\"zerolinecolor\":\"#EBF0F8\",\"zerolinewidth\":2}}},\"title\":{\"text\":\"NVDA - 3-Year Rolling CAGR (Yearly)\"},\"xaxis\":{\"title\":{\"text\":\"End Date\"}},\"yaxis\":{\"title\":{\"text\":\"Rolling CAGR (%)\"}},\"hovermode\":\"x unified\"},                        {\"responsive\": true}                    )                };            </script>        </div>"
      ],
      "text/plain": [
       "Figure({\n",
       "    'data': [{'hoverinfo': 'text',\n",
       "              'line': {'width': 2},\n",
       "              'mode': 'lines',\n",
       "              'name': '3-Year Rolling CAGR',\n",
       "              'text': array(['2010-12-31 → 2013-12-31<br>CAGR: 2.27%',\n",
       "                             '2011-12-31 → 2014-12-31<br>CAGR: 14.83%',\n",
       "                             '2012-12-31 → 2015-12-31<br>CAGR: 41.64%',\n",
       "                             '2013-12-31 → 2016-12-31<br>CAGR: 90.92%',\n",
       "                             '2014-12-31 → 2017-12-31<br>CAGR: 115.04%',\n",
       "                             '2015-12-31 → 2018-12-31<br>CAGR: 60.27%',\n",
       "                             '2016-12-31 → 2019-12-31<br>CAGR: 30.61%',\n",
       "                             '2017-12-31 → 2020-12-31<br>CAGR: 39.61%',\n",
       "                             '2018-12-31 → 2021-12-31<br>CAGR: 107.0%',\n",
       "                             '2019-12-31 → 2022-12-31<br>CAGR: 35.59%',\n",
       "                             '2020-12-31 → 2023-12-31<br>CAGR: 56.08%',\n",
       "                             '2021-12-31 → 2024-12-31<br>CAGR: 65.99%'], dtype=object),\n",
       "              'type': 'scatter',\n",
       "              'x': array(['2013-12-31T00:00:00.000000000', '2014-12-31T00:00:00.000000000',\n",
       "                          '2015-12-31T00:00:00.000000000', '2016-12-31T00:00:00.000000000',\n",
       "                          '2017-12-31T00:00:00.000000000', '2018-12-31T00:00:00.000000000',\n",
       "                          '2019-12-31T00:00:00.000000000', '2020-12-31T00:00:00.000000000',\n",
       "                          '2021-12-31T00:00:00.000000000', '2022-12-31T00:00:00.000000000',\n",
       "                          '2023-12-31T00:00:00.000000000', '2024-12-31T00:00:00.000000000'],\n",
       "                         dtype='datetime64[ns]'),\n",
       "              'y': {'bdata': ('KVyPwvUoAkApXI/C9agtQFK4HoXr0U' ... 'G4HoXLQUAK16NwPQpMQI/C9Shcf1BA'),\n",
       "                    'dtype': 'f8'}}],\n",
       "    'layout': {'hovermode': 'x unified',\n",
       "               'template': '...',\n",
       "               'title': {'text': 'NVDA - 3-Year Rolling CAGR (Yearly)'},\n",
       "               'xaxis': {'title': {'text': 'End Date'}},\n",
       "               'yaxis': {'title': {'text': 'Rolling CAGR (%)'}}}\n",
       "})"
      ]
     },
     "execution_count": 8,
     "metadata": {},
     "output_type": "execute_result"
    }
   ],
   "source": [
    "from helpers import indicators\n",
    "\n",
    "indicators.plot_rolling_returns(db_path=\"data/market/market.duckdb\", symbol='NVDA', window_years=3)"
   ]
  },
  {
   "cell_type": "code",
   "execution_count": 8,
   "id": "2185f3ab",
   "metadata": {},
   "outputs": [],
   "source": [
    "from helpers import indicators\n",
    "fig, explain = indicators.plot_total_return_vs_benchmark(db_path=\"data/market/market.duckdb\", symbol='MSFT', start_date=\"2020-01-01\")"
   ]
  },
  {
   "cell_type": "code",
   "execution_count": 9,
   "id": "98008feb",
   "metadata": {},
   "outputs": [
    {
     "ename": "ValueError",
     "evalue": "Mime type rendering requires nbformat>=4.2.0 but it is not installed",
     "output_type": "error",
     "traceback": [
      "\u001b[0;31m---------------------------------------------------------------------------\u001b[0m",
      "\u001b[0;31mValueError\u001b[0m                                Traceback (most recent call last)",
      "File \u001b[0;32m/opt/anaconda3/envs/cryptoadvisor/lib/python3.9/site-packages/IPython/core/formatters.py:922\u001b[0m, in \u001b[0;36mIPythonDisplayFormatter.__call__\u001b[0;34m(self, obj)\u001b[0m\n\u001b[1;32m    920\u001b[0m method \u001b[38;5;241m=\u001b[39m get_real_method(obj, \u001b[38;5;28mself\u001b[39m\u001b[38;5;241m.\u001b[39mprint_method)\n\u001b[1;32m    921\u001b[0m \u001b[38;5;28;01mif\u001b[39;00m method \u001b[38;5;129;01mis\u001b[39;00m \u001b[38;5;129;01mnot\u001b[39;00m \u001b[38;5;28;01mNone\u001b[39;00m:\n\u001b[0;32m--> 922\u001b[0m     \u001b[43mmethod\u001b[49m\u001b[43m(\u001b[49m\u001b[43m)\u001b[49m\n\u001b[1;32m    923\u001b[0m     \u001b[38;5;28;01mreturn\u001b[39;00m \u001b[38;5;28;01mTrue\u001b[39;00m\n",
      "File \u001b[0;32m/opt/anaconda3/envs/cryptoadvisor/lib/python3.9/site-packages/plotly/basedatatypes.py:850\u001b[0m, in \u001b[0;36mBaseFigure._ipython_display_\u001b[0;34m(self)\u001b[0m\n\u001b[1;32m    847\u001b[0m \u001b[38;5;28;01mimport\u001b[39;00m\u001b[38;5;250m \u001b[39m\u001b[38;5;21;01mplotly\u001b[39;00m\u001b[38;5;21;01m.\u001b[39;00m\u001b[38;5;21;01mio\u001b[39;00m\u001b[38;5;250m \u001b[39m\u001b[38;5;28;01mas\u001b[39;00m\u001b[38;5;250m \u001b[39m\u001b[38;5;21;01mpio\u001b[39;00m\n\u001b[1;32m    849\u001b[0m \u001b[38;5;28;01mif\u001b[39;00m pio\u001b[38;5;241m.\u001b[39mrenderers\u001b[38;5;241m.\u001b[39mrender_on_display \u001b[38;5;129;01mand\u001b[39;00m pio\u001b[38;5;241m.\u001b[39mrenderers\u001b[38;5;241m.\u001b[39mdefault:\n\u001b[0;32m--> 850\u001b[0m     \u001b[43mpio\u001b[49m\u001b[38;5;241;43m.\u001b[39;49m\u001b[43mshow\u001b[49m\u001b[43m(\u001b[49m\u001b[38;5;28;43mself\u001b[39;49m\u001b[43m)\u001b[49m\n\u001b[1;32m    851\u001b[0m \u001b[38;5;28;01melse\u001b[39;00m:\n\u001b[1;32m    852\u001b[0m     \u001b[38;5;28mprint\u001b[39m(\u001b[38;5;28mrepr\u001b[39m(\u001b[38;5;28mself\u001b[39m))\n",
      "File \u001b[0;32m/opt/anaconda3/envs/cryptoadvisor/lib/python3.9/site-packages/plotly/io/_renderers.py:415\u001b[0m, in \u001b[0;36mshow\u001b[0;34m(fig, renderer, validate, **kwargs)\u001b[0m\n\u001b[1;32m    410\u001b[0m     \u001b[38;5;28;01mraise\u001b[39;00m \u001b[38;5;167;01mValueError\u001b[39;00m(\n\u001b[1;32m    411\u001b[0m         \u001b[38;5;124m\"\u001b[39m\u001b[38;5;124mMime type rendering requires ipython but it is not installed\u001b[39m\u001b[38;5;124m\"\u001b[39m\n\u001b[1;32m    412\u001b[0m     )\n\u001b[1;32m    414\u001b[0m \u001b[38;5;28;01mif\u001b[39;00m \u001b[38;5;129;01mnot\u001b[39;00m nbformat \u001b[38;5;129;01mor\u001b[39;00m Version(nbformat\u001b[38;5;241m.\u001b[39m__version__) \u001b[38;5;241m<\u001b[39m Version(\u001b[38;5;124m\"\u001b[39m\u001b[38;5;124m4.2.0\u001b[39m\u001b[38;5;124m\"\u001b[39m):\n\u001b[0;32m--> 415\u001b[0m     \u001b[38;5;28;01mraise\u001b[39;00m \u001b[38;5;167;01mValueError\u001b[39;00m(\n\u001b[1;32m    416\u001b[0m         \u001b[38;5;124m\"\u001b[39m\u001b[38;5;124mMime type rendering requires nbformat>=4.2.0 but it is not installed\u001b[39m\u001b[38;5;124m\"\u001b[39m\n\u001b[1;32m    417\u001b[0m     )\n\u001b[1;32m    419\u001b[0m display_jupyter_version_warnings()\n\u001b[1;32m    421\u001b[0m ipython_display\u001b[38;5;241m.\u001b[39mdisplay(bundle, raw\u001b[38;5;241m=\u001b[39m\u001b[38;5;28;01mTrue\u001b[39;00m)\n",
      "\u001b[0;31mValueError\u001b[0m: Mime type rendering requires nbformat>=4.2.0 but it is not installed"
     ]
    },
    {
     "data": {
      "application/vnd.plotly.v1+json": {
       "config": {
        "plotlyServerURL": "https://plot.ly"
       },
       "data": [
        {
         "mode": "lines",
         "name": "MSFT",
         "type": "scatter",
         "x": [
          "2020-01-02T00:00:00.000000",
          "2020-01-03T00:00:00.000000",
          "2020-01-06T00:00:00.000000",
          "2020-01-07T00:00:00.000000",
          "2020-01-08T00:00:00.000000",
          "2020-01-09T00:00:00.000000",
          "2020-01-10T00:00:00.000000",
          "2020-01-13T00:00:00.000000",
          "2020-01-14T00:00:00.000000",
          "2020-01-15T00:00:00.000000",
          "2020-01-16T00:00:00.000000",
          "2020-01-17T00:00:00.000000",
          "2020-01-21T00:00:00.000000",
          "2020-01-22T00:00:00.000000",
          "2020-01-23T00:00:00.000000",
          "2020-01-24T00:00:00.000000",
          "2020-01-27T00:00:00.000000",
          "2020-01-28T00:00:00.000000",
          "2020-01-29T00:00:00.000000",
          "2020-01-30T00:00:00.000000",
          "2020-01-31T00:00:00.000000",
          "2020-02-03T00:00:00.000000",
          "2020-02-04T00:00:00.000000",
          "2020-02-05T00:00:00.000000",
          "2020-02-06T00:00:00.000000",
          "2020-02-07T00:00:00.000000",
          "2020-02-10T00:00:00.000000",
          "2020-02-11T00:00:00.000000",
          "2020-02-12T00:00:00.000000",
          "2020-02-13T00:00:00.000000",
          "2020-02-14T00:00:00.000000",
          "2020-02-18T00:00:00.000000",
          "2020-02-19T00:00:00.000000",
          "2020-02-20T00:00:00.000000",
          "2020-02-21T00:00:00.000000",
          "2020-02-24T00:00:00.000000",
          "2020-02-25T00:00:00.000000",
          "2020-02-26T00:00:00.000000",
          "2020-02-27T00:00:00.000000",
          "2020-02-28T00:00:00.000000",
          "2020-03-02T00:00:00.000000",
          "2020-03-03T00:00:00.000000",
          "2020-03-04T00:00:00.000000",
          "2020-03-05T00:00:00.000000",
          "2020-03-06T00:00:00.000000",
          "2020-03-09T00:00:00.000000",
          "2020-03-10T00:00:00.000000",
          "2020-03-11T00:00:00.000000",
          "2020-03-12T00:00:00.000000",
          "2020-03-13T00:00:00.000000",
          "2020-03-16T00:00:00.000000",
          "2020-03-17T00:00:00.000000",
          "2020-03-18T00:00:00.000000",
          "2020-03-19T00:00:00.000000",
          "2020-03-20T00:00:00.000000",
          "2020-03-23T00:00:00.000000",
          "2020-03-24T00:00:00.000000",
          "2020-03-25T00:00:00.000000",
          "2020-03-26T00:00:00.000000",
          "2020-03-27T00:00:00.000000",
          "2020-03-30T00:00:00.000000",
          "2020-03-31T00:00:00.000000",
          "2020-04-01T00:00:00.000000",
          "2020-04-02T00:00:00.000000",
          "2020-04-03T00:00:00.000000",
          "2020-04-06T00:00:00.000000",
          "2020-04-07T00:00:00.000000",
          "2020-04-08T00:00:00.000000",
          "2020-04-09T00:00:00.000000",
          "2020-04-13T00:00:00.000000",
          "2020-04-14T00:00:00.000000",
          "2020-04-15T00:00:00.000000",
          "2020-04-16T00:00:00.000000",
          "2020-04-17T00:00:00.000000",
          "2020-04-20T00:00:00.000000",
          "2020-04-21T00:00:00.000000",
          "2020-04-22T00:00:00.000000",
          "2020-04-23T00:00:00.000000",
          "2020-04-24T00:00:00.000000",
          "2020-04-27T00:00:00.000000",
          "2020-04-28T00:00:00.000000",
          "2020-04-29T00:00:00.000000",
          "2020-04-30T00:00:00.000000",
          "2020-05-01T00:00:00.000000",
          "2020-05-04T00:00:00.000000",
          "2020-05-05T00:00:00.000000",
          "2020-05-06T00:00:00.000000",
          "2020-05-07T00:00:00.000000",
          "2020-05-08T00:00:00.000000",
          "2020-05-11T00:00:00.000000",
          "2020-05-12T00:00:00.000000",
          "2020-05-13T00:00:00.000000",
          "2020-05-14T00:00:00.000000",
          "2020-05-15T00:00:00.000000",
          "2020-05-18T00:00:00.000000",
          "2020-05-19T00:00:00.000000",
          "2020-05-20T00:00:00.000000",
          "2020-05-21T00:00:00.000000",
          "2020-05-22T00:00:00.000000",
          "2020-05-26T00:00:00.000000",
          "2020-05-27T00:00:00.000000",
          "2020-05-28T00:00:00.000000",
          "2020-05-29T00:00:00.000000",
          "2020-06-01T00:00:00.000000",
          "2020-06-02T00:00:00.000000",
          "2020-06-03T00:00:00.000000",
          "2020-06-04T00:00:00.000000",
          "2020-06-05T00:00:00.000000",
          "2020-06-08T00:00:00.000000",
          "2020-06-09T00:00:00.000000",
          "2020-06-10T00:00:00.000000",
          "2020-06-11T00:00:00.000000",
          "2020-06-12T00:00:00.000000",
          "2020-06-15T00:00:00.000000",
          "2020-06-16T00:00:00.000000",
          "2020-06-17T00:00:00.000000",
          "2020-06-18T00:00:00.000000",
          "2020-06-19T00:00:00.000000",
          "2020-06-22T00:00:00.000000",
          "2020-06-23T00:00:00.000000",
          "2020-06-24T00:00:00.000000",
          "2020-06-25T00:00:00.000000",
          "2020-06-26T00:00:00.000000",
          "2020-06-29T00:00:00.000000",
          "2020-06-30T00:00:00.000000",
          "2020-07-01T00:00:00.000000",
          "2020-07-02T00:00:00.000000",
          "2020-07-06T00:00:00.000000",
          "2020-07-07T00:00:00.000000",
          "2020-07-08T00:00:00.000000",
          "2020-07-09T00:00:00.000000",
          "2020-07-10T00:00:00.000000",
          "2020-07-13T00:00:00.000000",
          "2020-07-14T00:00:00.000000",
          "2020-07-15T00:00:00.000000",
          "2020-07-16T00:00:00.000000",
          "2020-07-17T00:00:00.000000",
          "2020-07-20T00:00:00.000000",
          "2020-07-21T00:00:00.000000",
          "2020-07-22T00:00:00.000000",
          "2020-07-23T00:00:00.000000",
          "2020-07-24T00:00:00.000000",
          "2020-07-27T00:00:00.000000",
          "2020-07-28T00:00:00.000000",
          "2020-07-29T00:00:00.000000",
          "2020-07-30T00:00:00.000000",
          "2020-07-31T00:00:00.000000",
          "2020-08-03T00:00:00.000000",
          "2020-08-04T00:00:00.000000",
          "2020-08-05T00:00:00.000000",
          "2020-08-06T00:00:00.000000",
          "2020-08-07T00:00:00.000000",
          "2020-08-10T00:00:00.000000",
          "2020-08-11T00:00:00.000000",
          "2020-08-12T00:00:00.000000",
          "2020-08-13T00:00:00.000000",
          "2020-08-14T00:00:00.000000",
          "2020-08-17T00:00:00.000000",
          "2020-08-18T00:00:00.000000",
          "2020-08-19T00:00:00.000000",
          "2020-08-20T00:00:00.000000",
          "2020-08-21T00:00:00.000000",
          "2020-08-24T00:00:00.000000",
          "2020-08-25T00:00:00.000000",
          "2020-08-26T00:00:00.000000",
          "2020-08-27T00:00:00.000000",
          "2020-08-28T00:00:00.000000",
          "2020-08-31T00:00:00.000000",
          "2020-09-01T00:00:00.000000",
          "2020-09-02T00:00:00.000000",
          "2020-09-03T00:00:00.000000",
          "2020-09-04T00:00:00.000000",
          "2020-09-08T00:00:00.000000",
          "2020-09-09T00:00:00.000000",
          "2020-09-10T00:00:00.000000",
          "2020-09-11T00:00:00.000000",
          "2020-09-14T00:00:00.000000",
          "2020-09-15T00:00:00.000000",
          "2020-09-16T00:00:00.000000",
          "2020-09-17T00:00:00.000000",
          "2020-09-18T00:00:00.000000",
          "2020-09-21T00:00:00.000000",
          "2020-09-22T00:00:00.000000",
          "2020-09-23T00:00:00.000000",
          "2020-09-24T00:00:00.000000",
          "2020-09-25T00:00:00.000000",
          "2020-09-28T00:00:00.000000",
          "2020-09-29T00:00:00.000000",
          "2020-09-30T00:00:00.000000",
          "2020-10-01T00:00:00.000000",
          "2020-10-02T00:00:00.000000",
          "2020-10-05T00:00:00.000000",
          "2020-10-06T00:00:00.000000",
          "2020-10-07T00:00:00.000000",
          "2020-10-08T00:00:00.000000",
          "2020-10-09T00:00:00.000000",
          "2020-10-12T00:00:00.000000",
          "2020-10-13T00:00:00.000000",
          "2020-10-14T00:00:00.000000",
          "2020-10-15T00:00:00.000000",
          "2020-10-16T00:00:00.000000",
          "2020-10-19T00:00:00.000000",
          "2020-10-20T00:00:00.000000",
          "2020-10-21T00:00:00.000000",
          "2020-10-22T00:00:00.000000",
          "2020-10-23T00:00:00.000000",
          "2020-10-26T00:00:00.000000",
          "2020-10-27T00:00:00.000000",
          "2020-10-28T00:00:00.000000",
          "2020-10-29T00:00:00.000000",
          "2020-10-30T00:00:00.000000",
          "2020-11-02T00:00:00.000000",
          "2020-11-03T00:00:00.000000",
          "2020-11-04T00:00:00.000000",
          "2020-11-05T00:00:00.000000",
          "2020-11-06T00:00:00.000000",
          "2020-11-09T00:00:00.000000",
          "2020-11-10T00:00:00.000000",
          "2020-11-11T00:00:00.000000",
          "2020-11-12T00:00:00.000000",
          "2020-11-13T00:00:00.000000",
          "2020-11-16T00:00:00.000000",
          "2020-11-17T00:00:00.000000",
          "2020-11-18T00:00:00.000000",
          "2020-11-19T00:00:00.000000",
          "2020-11-20T00:00:00.000000",
          "2020-11-23T00:00:00.000000",
          "2020-11-24T00:00:00.000000",
          "2020-11-25T00:00:00.000000",
          "2020-11-27T00:00:00.000000",
          "2020-11-30T00:00:00.000000",
          "2020-12-01T00:00:00.000000",
          "2020-12-02T00:00:00.000000",
          "2020-12-03T00:00:00.000000",
          "2020-12-04T00:00:00.000000",
          "2020-12-07T00:00:00.000000",
          "2020-12-08T00:00:00.000000",
          "2020-12-09T00:00:00.000000",
          "2020-12-10T00:00:00.000000",
          "2020-12-11T00:00:00.000000",
          "2020-12-14T00:00:00.000000",
          "2020-12-15T00:00:00.000000",
          "2020-12-16T00:00:00.000000",
          "2020-12-17T00:00:00.000000",
          "2020-12-18T00:00:00.000000",
          "2020-12-21T00:00:00.000000",
          "2020-12-22T00:00:00.000000",
          "2020-12-23T00:00:00.000000",
          "2020-12-24T00:00:00.000000",
          "2020-12-28T00:00:00.000000",
          "2020-12-29T00:00:00.000000",
          "2020-12-30T00:00:00.000000",
          "2020-12-31T00:00:00.000000",
          "2021-01-04T00:00:00.000000",
          "2021-01-05T00:00:00.000000",
          "2021-01-06T00:00:00.000000",
          "2021-01-07T00:00:00.000000",
          "2021-01-08T00:00:00.000000",
          "2021-01-11T00:00:00.000000",
          "2021-01-12T00:00:00.000000",
          "2021-01-13T00:00:00.000000",
          "2021-01-14T00:00:00.000000",
          "2021-01-15T00:00:00.000000",
          "2021-01-19T00:00:00.000000",
          "2021-01-20T00:00:00.000000",
          "2021-01-21T00:00:00.000000",
          "2021-01-22T00:00:00.000000",
          "2021-01-25T00:00:00.000000",
          "2021-01-26T00:00:00.000000",
          "2021-01-27T00:00:00.000000",
          "2021-01-28T00:00:00.000000",
          "2021-01-29T00:00:00.000000",
          "2021-02-01T00:00:00.000000",
          "2021-02-02T00:00:00.000000",
          "2021-02-03T00:00:00.000000",
          "2021-02-04T00:00:00.000000",
          "2021-02-05T00:00:00.000000",
          "2021-02-08T00:00:00.000000",
          "2021-02-09T00:00:00.000000",
          "2021-02-10T00:00:00.000000",
          "2021-02-11T00:00:00.000000",
          "2021-02-12T00:00:00.000000",
          "2021-02-16T00:00:00.000000",
          "2021-02-17T00:00:00.000000",
          "2021-02-18T00:00:00.000000",
          "2021-02-19T00:00:00.000000",
          "2021-02-22T00:00:00.000000",
          "2021-02-23T00:00:00.000000",
          "2021-02-24T00:00:00.000000",
          "2021-02-25T00:00:00.000000",
          "2021-02-26T00:00:00.000000",
          "2021-03-01T00:00:00.000000",
          "2021-03-02T00:00:00.000000",
          "2021-03-03T00:00:00.000000",
          "2021-03-04T00:00:00.000000",
          "2021-03-05T00:00:00.000000",
          "2021-03-08T00:00:00.000000",
          "2021-03-09T00:00:00.000000",
          "2021-03-10T00:00:00.000000",
          "2021-03-11T00:00:00.000000",
          "2021-03-12T00:00:00.000000",
          "2021-03-15T00:00:00.000000",
          "2021-03-16T00:00:00.000000",
          "2021-03-17T00:00:00.000000",
          "2021-03-18T00:00:00.000000",
          "2021-03-19T00:00:00.000000",
          "2021-03-22T00:00:00.000000",
          "2021-03-23T00:00:00.000000",
          "2021-03-24T00:00:00.000000",
          "2021-03-25T00:00:00.000000",
          "2021-03-26T00:00:00.000000",
          "2021-03-29T00:00:00.000000",
          "2021-03-30T00:00:00.000000",
          "2021-03-31T00:00:00.000000",
          "2021-04-01T00:00:00.000000",
          "2021-04-05T00:00:00.000000",
          "2021-04-06T00:00:00.000000",
          "2021-04-07T00:00:00.000000",
          "2021-04-08T00:00:00.000000",
          "2021-04-09T00:00:00.000000",
          "2021-04-12T00:00:00.000000",
          "2021-04-13T00:00:00.000000",
          "2021-04-14T00:00:00.000000",
          "2021-04-15T00:00:00.000000",
          "2021-04-16T00:00:00.000000",
          "2021-04-19T00:00:00.000000",
          "2021-04-20T00:00:00.000000",
          "2021-04-21T00:00:00.000000",
          "2021-04-22T00:00:00.000000",
          "2021-04-23T00:00:00.000000",
          "2021-04-26T00:00:00.000000",
          "2021-04-27T00:00:00.000000",
          "2021-04-28T00:00:00.000000",
          "2021-04-29T00:00:00.000000",
          "2021-04-30T00:00:00.000000",
          "2021-05-03T00:00:00.000000",
          "2021-05-04T00:00:00.000000",
          "2021-05-05T00:00:00.000000",
          "2021-05-06T00:00:00.000000",
          "2021-05-07T00:00:00.000000",
          "2021-05-10T00:00:00.000000",
          "2021-05-11T00:00:00.000000",
          "2021-05-12T00:00:00.000000",
          "2021-05-13T00:00:00.000000",
          "2021-05-14T00:00:00.000000",
          "2021-05-17T00:00:00.000000",
          "2021-05-18T00:00:00.000000",
          "2021-05-19T00:00:00.000000",
          "2021-05-20T00:00:00.000000",
          "2021-05-21T00:00:00.000000",
          "2021-05-24T00:00:00.000000",
          "2021-05-25T00:00:00.000000",
          "2021-05-26T00:00:00.000000",
          "2021-05-27T00:00:00.000000",
          "2021-05-28T00:00:00.000000",
          "2021-06-01T00:00:00.000000",
          "2021-06-02T00:00:00.000000",
          "2021-06-03T00:00:00.000000",
          "2021-06-04T00:00:00.000000",
          "2021-06-07T00:00:00.000000",
          "2021-06-08T00:00:00.000000",
          "2021-06-09T00:00:00.000000",
          "2021-06-10T00:00:00.000000",
          "2021-06-11T00:00:00.000000",
          "2021-06-14T00:00:00.000000",
          "2021-06-15T00:00:00.000000",
          "2021-06-16T00:00:00.000000",
          "2021-06-17T00:00:00.000000",
          "2021-06-18T00:00:00.000000",
          "2021-06-21T00:00:00.000000",
          "2021-06-22T00:00:00.000000",
          "2021-06-23T00:00:00.000000",
          "2021-06-24T00:00:00.000000",
          "2021-06-25T00:00:00.000000",
          "2021-06-28T00:00:00.000000",
          "2021-06-29T00:00:00.000000",
          "2021-06-30T00:00:00.000000",
          "2021-07-01T00:00:00.000000",
          "2021-07-02T00:00:00.000000",
          "2021-07-06T00:00:00.000000",
          "2021-07-07T00:00:00.000000",
          "2021-07-08T00:00:00.000000",
          "2021-07-09T00:00:00.000000",
          "2021-07-12T00:00:00.000000",
          "2021-07-13T00:00:00.000000",
          "2021-07-14T00:00:00.000000",
          "2021-07-15T00:00:00.000000",
          "2021-07-16T00:00:00.000000",
          "2021-07-19T00:00:00.000000",
          "2021-07-20T00:00:00.000000",
          "2021-07-21T00:00:00.000000",
          "2021-07-22T00:00:00.000000",
          "2021-07-23T00:00:00.000000",
          "2021-07-26T00:00:00.000000",
          "2021-07-27T00:00:00.000000",
          "2021-07-28T00:00:00.000000",
          "2021-07-29T00:00:00.000000",
          "2021-07-30T00:00:00.000000",
          "2021-08-02T00:00:00.000000",
          "2021-08-03T00:00:00.000000",
          "2021-08-04T00:00:00.000000",
          "2021-08-05T00:00:00.000000",
          "2021-08-06T00:00:00.000000",
          "2021-08-09T00:00:00.000000",
          "2021-08-10T00:00:00.000000",
          "2021-08-11T00:00:00.000000",
          "2021-08-12T00:00:00.000000",
          "2021-08-13T00:00:00.000000",
          "2021-08-16T00:00:00.000000",
          "2021-08-17T00:00:00.000000",
          "2021-08-18T00:00:00.000000",
          "2021-08-19T00:00:00.000000",
          "2021-08-20T00:00:00.000000",
          "2021-08-23T00:00:00.000000",
          "2021-08-24T00:00:00.000000",
          "2021-08-25T00:00:00.000000",
          "2021-08-26T00:00:00.000000",
          "2021-08-27T00:00:00.000000",
          "2021-08-30T00:00:00.000000",
          "2021-08-31T00:00:00.000000",
          "2021-09-01T00:00:00.000000",
          "2021-09-02T00:00:00.000000",
          "2021-09-03T00:00:00.000000",
          "2021-09-07T00:00:00.000000",
          "2021-09-08T00:00:00.000000",
          "2021-09-09T00:00:00.000000",
          "2021-09-10T00:00:00.000000",
          "2021-09-13T00:00:00.000000",
          "2021-09-14T00:00:00.000000",
          "2021-09-15T00:00:00.000000",
          "2021-09-16T00:00:00.000000",
          "2021-09-17T00:00:00.000000",
          "2021-09-20T00:00:00.000000",
          "2021-09-21T00:00:00.000000",
          "2021-09-22T00:00:00.000000",
          "2021-09-23T00:00:00.000000",
          "2021-09-24T00:00:00.000000",
          "2021-09-27T00:00:00.000000",
          "2021-09-28T00:00:00.000000",
          "2021-09-29T00:00:00.000000",
          "2021-09-30T00:00:00.000000",
          "2021-10-01T00:00:00.000000",
          "2021-10-04T00:00:00.000000",
          "2021-10-05T00:00:00.000000",
          "2021-10-06T00:00:00.000000",
          "2021-10-07T00:00:00.000000",
          "2021-10-08T00:00:00.000000",
          "2021-10-11T00:00:00.000000",
          "2021-10-12T00:00:00.000000",
          "2021-10-13T00:00:00.000000",
          "2021-10-14T00:00:00.000000",
          "2021-10-15T00:00:00.000000",
          "2021-10-18T00:00:00.000000",
          "2021-10-19T00:00:00.000000",
          "2021-10-20T00:00:00.000000",
          "2021-10-21T00:00:00.000000",
          "2021-10-22T00:00:00.000000",
          "2021-10-25T00:00:00.000000",
          "2021-10-26T00:00:00.000000",
          "2021-10-27T00:00:00.000000",
          "2021-10-28T00:00:00.000000",
          "2021-10-29T00:00:00.000000",
          "2021-11-01T00:00:00.000000",
          "2021-11-02T00:00:00.000000",
          "2021-11-03T00:00:00.000000",
          "2021-11-04T00:00:00.000000",
          "2021-11-05T00:00:00.000000",
          "2021-11-08T00:00:00.000000",
          "2021-11-09T00:00:00.000000",
          "2021-11-10T00:00:00.000000",
          "2021-11-11T00:00:00.000000",
          "2021-11-12T00:00:00.000000",
          "2021-11-15T00:00:00.000000",
          "2021-11-16T00:00:00.000000",
          "2021-11-17T00:00:00.000000",
          "2021-11-18T00:00:00.000000",
          "2021-11-19T00:00:00.000000",
          "2021-11-22T00:00:00.000000",
          "2021-11-23T00:00:00.000000",
          "2021-11-24T00:00:00.000000",
          "2021-11-26T00:00:00.000000",
          "2021-11-29T00:00:00.000000",
          "2021-11-30T00:00:00.000000",
          "2021-12-01T00:00:00.000000",
          "2021-12-02T00:00:00.000000",
          "2021-12-03T00:00:00.000000",
          "2021-12-06T00:00:00.000000",
          "2021-12-07T00:00:00.000000",
          "2021-12-08T00:00:00.000000",
          "2021-12-09T00:00:00.000000",
          "2021-12-10T00:00:00.000000",
          "2021-12-13T00:00:00.000000",
          "2021-12-14T00:00:00.000000",
          "2021-12-15T00:00:00.000000",
          "2021-12-16T00:00:00.000000",
          "2021-12-17T00:00:00.000000",
          "2021-12-20T00:00:00.000000",
          "2021-12-21T00:00:00.000000",
          "2021-12-22T00:00:00.000000",
          "2021-12-23T00:00:00.000000",
          "2021-12-27T00:00:00.000000",
          "2021-12-28T00:00:00.000000",
          "2021-12-29T00:00:00.000000",
          "2021-12-30T00:00:00.000000",
          "2021-12-31T00:00:00.000000",
          "2022-01-03T00:00:00.000000",
          "2022-01-04T00:00:00.000000",
          "2022-01-05T00:00:00.000000",
          "2022-01-06T00:00:00.000000",
          "2022-01-07T00:00:00.000000",
          "2022-01-10T00:00:00.000000",
          "2022-01-11T00:00:00.000000",
          "2022-01-12T00:00:00.000000",
          "2022-01-13T00:00:00.000000",
          "2022-01-14T00:00:00.000000",
          "2022-01-18T00:00:00.000000",
          "2022-01-19T00:00:00.000000",
          "2022-01-20T00:00:00.000000",
          "2022-01-21T00:00:00.000000",
          "2022-01-24T00:00:00.000000",
          "2022-01-25T00:00:00.000000",
          "2022-01-26T00:00:00.000000",
          "2022-01-27T00:00:00.000000",
          "2022-01-28T00:00:00.000000",
          "2022-01-31T00:00:00.000000",
          "2022-02-01T00:00:00.000000",
          "2022-02-02T00:00:00.000000",
          "2022-02-03T00:00:00.000000",
          "2022-02-04T00:00:00.000000",
          "2022-02-07T00:00:00.000000",
          "2022-02-08T00:00:00.000000",
          "2022-02-09T00:00:00.000000",
          "2022-02-10T00:00:00.000000",
          "2022-02-11T00:00:00.000000",
          "2022-02-14T00:00:00.000000",
          "2022-02-15T00:00:00.000000",
          "2022-02-16T00:00:00.000000",
          "2022-02-17T00:00:00.000000",
          "2022-02-18T00:00:00.000000",
          "2022-02-22T00:00:00.000000",
          "2022-02-23T00:00:00.000000",
          "2022-02-24T00:00:00.000000",
          "2022-02-25T00:00:00.000000",
          "2022-02-28T00:00:00.000000",
          "2022-03-01T00:00:00.000000",
          "2022-03-02T00:00:00.000000",
          "2022-03-03T00:00:00.000000",
          "2022-03-04T00:00:00.000000",
          "2022-03-07T00:00:00.000000",
          "2022-03-08T00:00:00.000000",
          "2022-03-09T00:00:00.000000",
          "2022-03-10T00:00:00.000000",
          "2022-03-11T00:00:00.000000",
          "2022-03-14T00:00:00.000000",
          "2022-03-15T00:00:00.000000",
          "2022-03-16T00:00:00.000000",
          "2022-03-17T00:00:00.000000",
          "2022-03-18T00:00:00.000000",
          "2022-03-21T00:00:00.000000",
          "2022-03-22T00:00:00.000000",
          "2022-03-23T00:00:00.000000",
          "2022-03-24T00:00:00.000000",
          "2022-03-25T00:00:00.000000",
          "2022-03-28T00:00:00.000000",
          "2022-03-29T00:00:00.000000",
          "2022-03-30T00:00:00.000000",
          "2022-03-31T00:00:00.000000",
          "2022-04-01T00:00:00.000000",
          "2022-04-04T00:00:00.000000",
          "2022-04-05T00:00:00.000000",
          "2022-04-06T00:00:00.000000",
          "2022-04-07T00:00:00.000000",
          "2022-04-08T00:00:00.000000",
          "2022-04-11T00:00:00.000000",
          "2022-04-12T00:00:00.000000",
          "2022-04-13T00:00:00.000000",
          "2022-04-14T00:00:00.000000",
          "2022-04-18T00:00:00.000000",
          "2022-04-19T00:00:00.000000",
          "2022-04-20T00:00:00.000000",
          "2022-04-21T00:00:00.000000",
          "2022-04-22T00:00:00.000000",
          "2022-04-25T00:00:00.000000",
          "2022-04-26T00:00:00.000000",
          "2022-04-27T00:00:00.000000",
          "2022-04-28T00:00:00.000000",
          "2022-04-29T00:00:00.000000",
          "2022-05-02T00:00:00.000000",
          "2022-05-03T00:00:00.000000",
          "2022-05-04T00:00:00.000000",
          "2022-05-05T00:00:00.000000",
          "2022-05-06T00:00:00.000000",
          "2022-05-09T00:00:00.000000",
          "2022-05-10T00:00:00.000000",
          "2022-05-11T00:00:00.000000",
          "2022-05-12T00:00:00.000000",
          "2022-05-13T00:00:00.000000",
          "2022-05-16T00:00:00.000000",
          "2022-05-17T00:00:00.000000",
          "2022-05-18T00:00:00.000000",
          "2022-05-19T00:00:00.000000",
          "2022-05-20T00:00:00.000000",
          "2022-05-23T00:00:00.000000",
          "2022-05-24T00:00:00.000000",
          "2022-05-25T00:00:00.000000",
          "2022-05-26T00:00:00.000000",
          "2022-05-27T00:00:00.000000",
          "2022-05-31T00:00:00.000000",
          "2022-06-01T00:00:00.000000",
          "2022-06-02T00:00:00.000000",
          "2022-06-03T00:00:00.000000",
          "2022-06-06T00:00:00.000000",
          "2022-06-07T00:00:00.000000",
          "2022-06-08T00:00:00.000000",
          "2022-06-09T00:00:00.000000",
          "2022-06-10T00:00:00.000000",
          "2022-06-13T00:00:00.000000",
          "2022-06-14T00:00:00.000000",
          "2022-06-15T00:00:00.000000",
          "2022-06-16T00:00:00.000000",
          "2022-06-17T00:00:00.000000",
          "2022-06-21T00:00:00.000000",
          "2022-06-22T00:00:00.000000",
          "2022-06-23T00:00:00.000000",
          "2022-06-24T00:00:00.000000",
          "2022-06-27T00:00:00.000000",
          "2022-06-28T00:00:00.000000",
          "2022-06-29T00:00:00.000000",
          "2022-06-30T00:00:00.000000",
          "2022-07-01T00:00:00.000000",
          "2022-07-05T00:00:00.000000",
          "2022-07-06T00:00:00.000000",
          "2022-07-07T00:00:00.000000",
          "2022-07-08T00:00:00.000000",
          "2022-07-11T00:00:00.000000",
          "2022-07-12T00:00:00.000000",
          "2022-07-13T00:00:00.000000",
          "2022-07-14T00:00:00.000000",
          "2022-07-15T00:00:00.000000",
          "2022-07-18T00:00:00.000000",
          "2022-07-19T00:00:00.000000",
          "2022-07-20T00:00:00.000000",
          "2022-07-21T00:00:00.000000",
          "2022-07-22T00:00:00.000000",
          "2022-07-25T00:00:00.000000",
          "2022-07-26T00:00:00.000000",
          "2022-07-27T00:00:00.000000",
          "2022-07-28T00:00:00.000000",
          "2022-07-29T00:00:00.000000",
          "2022-08-01T00:00:00.000000",
          "2022-08-02T00:00:00.000000",
          "2022-08-03T00:00:00.000000",
          "2022-08-04T00:00:00.000000",
          "2022-08-05T00:00:00.000000",
          "2022-08-08T00:00:00.000000",
          "2022-08-09T00:00:00.000000",
          "2022-08-10T00:00:00.000000",
          "2022-08-11T00:00:00.000000",
          "2022-08-12T00:00:00.000000",
          "2022-08-15T00:00:00.000000",
          "2022-08-16T00:00:00.000000",
          "2022-08-17T00:00:00.000000",
          "2022-08-18T00:00:00.000000",
          "2022-08-19T00:00:00.000000",
          "2022-08-22T00:00:00.000000",
          "2022-08-23T00:00:00.000000",
          "2022-08-24T00:00:00.000000",
          "2022-08-25T00:00:00.000000",
          "2022-08-26T00:00:00.000000",
          "2022-08-29T00:00:00.000000",
          "2022-08-30T00:00:00.000000",
          "2022-08-31T00:00:00.000000",
          "2022-09-01T00:00:00.000000",
          "2022-09-02T00:00:00.000000",
          "2022-09-06T00:00:00.000000",
          "2022-09-07T00:00:00.000000",
          "2022-09-08T00:00:00.000000",
          "2022-09-09T00:00:00.000000",
          "2022-09-12T00:00:00.000000",
          "2022-09-13T00:00:00.000000",
          "2022-09-14T00:00:00.000000",
          "2022-09-15T00:00:00.000000",
          "2022-09-16T00:00:00.000000",
          "2022-09-19T00:00:00.000000",
          "2022-09-20T00:00:00.000000",
          "2022-09-21T00:00:00.000000",
          "2022-09-22T00:00:00.000000",
          "2022-09-23T00:00:00.000000",
          "2022-09-26T00:00:00.000000",
          "2022-09-27T00:00:00.000000",
          "2022-09-28T00:00:00.000000",
          "2022-09-29T00:00:00.000000",
          "2022-09-30T00:00:00.000000",
          "2022-10-03T00:00:00.000000",
          "2022-10-04T00:00:00.000000",
          "2022-10-05T00:00:00.000000",
          "2022-10-06T00:00:00.000000",
          "2022-10-07T00:00:00.000000",
          "2022-10-10T00:00:00.000000",
          "2022-10-11T00:00:00.000000",
          "2022-10-12T00:00:00.000000",
          "2022-10-13T00:00:00.000000",
          "2022-10-14T00:00:00.000000",
          "2022-10-17T00:00:00.000000",
          "2022-10-18T00:00:00.000000",
          "2022-10-19T00:00:00.000000",
          "2022-10-20T00:00:00.000000",
          "2022-10-21T00:00:00.000000",
          "2022-10-24T00:00:00.000000",
          "2022-10-25T00:00:00.000000",
          "2022-10-26T00:00:00.000000",
          "2022-10-27T00:00:00.000000",
          "2022-10-28T00:00:00.000000",
          "2022-10-31T00:00:00.000000",
          "2022-11-01T00:00:00.000000",
          "2022-11-02T00:00:00.000000",
          "2022-11-03T00:00:00.000000",
          "2022-11-04T00:00:00.000000",
          "2022-11-07T00:00:00.000000",
          "2022-11-08T00:00:00.000000",
          "2022-11-09T00:00:00.000000",
          "2022-11-10T00:00:00.000000",
          "2022-11-11T00:00:00.000000",
          "2022-11-14T00:00:00.000000",
          "2022-11-15T00:00:00.000000",
          "2022-11-16T00:00:00.000000",
          "2022-11-17T00:00:00.000000",
          "2022-11-18T00:00:00.000000",
          "2022-11-21T00:00:00.000000",
          "2022-11-22T00:00:00.000000",
          "2022-11-23T00:00:00.000000",
          "2022-11-25T00:00:00.000000",
          "2022-11-28T00:00:00.000000",
          "2022-11-29T00:00:00.000000",
          "2022-11-30T00:00:00.000000",
          "2022-12-01T00:00:00.000000",
          "2022-12-02T00:00:00.000000",
          "2022-12-05T00:00:00.000000",
          "2022-12-06T00:00:00.000000",
          "2022-12-07T00:00:00.000000",
          "2022-12-08T00:00:00.000000",
          "2022-12-09T00:00:00.000000",
          "2022-12-12T00:00:00.000000",
          "2022-12-13T00:00:00.000000",
          "2022-12-14T00:00:00.000000",
          "2022-12-15T00:00:00.000000",
          "2022-12-16T00:00:00.000000",
          "2022-12-19T00:00:00.000000",
          "2022-12-20T00:00:00.000000",
          "2022-12-21T00:00:00.000000",
          "2022-12-22T00:00:00.000000",
          "2022-12-23T00:00:00.000000",
          "2022-12-27T00:00:00.000000",
          "2022-12-28T00:00:00.000000",
          "2022-12-29T00:00:00.000000",
          "2022-12-30T00:00:00.000000",
          "2023-01-03T00:00:00.000000",
          "2023-01-04T00:00:00.000000",
          "2023-01-05T00:00:00.000000",
          "2023-01-06T00:00:00.000000",
          "2023-01-09T00:00:00.000000",
          "2023-01-10T00:00:00.000000",
          "2023-01-11T00:00:00.000000",
          "2023-01-12T00:00:00.000000",
          "2023-01-13T00:00:00.000000",
          "2023-01-17T00:00:00.000000",
          "2023-01-18T00:00:00.000000",
          "2023-01-19T00:00:00.000000",
          "2023-01-20T00:00:00.000000",
          "2023-01-23T00:00:00.000000",
          "2023-01-24T00:00:00.000000",
          "2023-01-25T00:00:00.000000",
          "2023-01-26T00:00:00.000000",
          "2023-01-27T00:00:00.000000",
          "2023-01-30T00:00:00.000000",
          "2023-01-31T00:00:00.000000",
          "2023-02-01T00:00:00.000000",
          "2023-02-02T00:00:00.000000",
          "2023-02-03T00:00:00.000000",
          "2023-02-06T00:00:00.000000",
          "2023-02-07T00:00:00.000000",
          "2023-02-08T00:00:00.000000",
          "2023-02-09T00:00:00.000000",
          "2023-02-10T00:00:00.000000",
          "2023-02-13T00:00:00.000000",
          "2023-02-14T00:00:00.000000",
          "2023-02-15T00:00:00.000000",
          "2023-02-16T00:00:00.000000",
          "2023-02-17T00:00:00.000000",
          "2023-02-21T00:00:00.000000",
          "2023-02-22T00:00:00.000000",
          "2023-02-23T00:00:00.000000",
          "2023-02-24T00:00:00.000000",
          "2023-02-27T00:00:00.000000",
          "2023-02-28T00:00:00.000000",
          "2023-03-01T00:00:00.000000",
          "2023-03-02T00:00:00.000000",
          "2023-03-03T00:00:00.000000",
          "2023-03-06T00:00:00.000000",
          "2023-03-07T00:00:00.000000",
          "2023-03-08T00:00:00.000000",
          "2023-03-09T00:00:00.000000",
          "2023-03-10T00:00:00.000000",
          "2023-03-13T00:00:00.000000",
          "2023-03-14T00:00:00.000000",
          "2023-03-15T00:00:00.000000",
          "2023-03-16T00:00:00.000000",
          "2023-03-17T00:00:00.000000",
          "2023-03-20T00:00:00.000000",
          "2023-03-21T00:00:00.000000",
          "2023-03-22T00:00:00.000000",
          "2023-03-23T00:00:00.000000",
          "2023-03-24T00:00:00.000000",
          "2023-03-27T00:00:00.000000",
          "2023-03-28T00:00:00.000000",
          "2023-03-29T00:00:00.000000",
          "2023-03-30T00:00:00.000000",
          "2023-03-31T00:00:00.000000",
          "2023-04-03T00:00:00.000000",
          "2023-04-04T00:00:00.000000",
          "2023-04-05T00:00:00.000000",
          "2023-04-06T00:00:00.000000",
          "2023-04-10T00:00:00.000000",
          "2023-04-11T00:00:00.000000",
          "2023-04-12T00:00:00.000000",
          "2023-04-13T00:00:00.000000",
          "2023-04-14T00:00:00.000000",
          "2023-04-17T00:00:00.000000",
          "2023-04-18T00:00:00.000000",
          "2023-04-19T00:00:00.000000",
          "2023-04-20T00:00:00.000000",
          "2023-04-21T00:00:00.000000",
          "2023-04-24T00:00:00.000000",
          "2023-04-25T00:00:00.000000",
          "2023-04-26T00:00:00.000000",
          "2023-04-27T00:00:00.000000",
          "2023-04-28T00:00:00.000000",
          "2023-05-01T00:00:00.000000",
          "2023-05-02T00:00:00.000000",
          "2023-05-03T00:00:00.000000",
          "2023-05-04T00:00:00.000000",
          "2023-05-05T00:00:00.000000",
          "2023-05-08T00:00:00.000000",
          "2023-05-09T00:00:00.000000",
          "2023-05-10T00:00:00.000000",
          "2023-05-11T00:00:00.000000",
          "2023-05-12T00:00:00.000000",
          "2023-05-15T00:00:00.000000",
          "2023-05-16T00:00:00.000000",
          "2023-05-17T00:00:00.000000",
          "2023-05-18T00:00:00.000000",
          "2023-05-19T00:00:00.000000",
          "2023-05-22T00:00:00.000000",
          "2023-05-23T00:00:00.000000",
          "2023-05-24T00:00:00.000000",
          "2023-05-25T00:00:00.000000",
          "2023-05-26T00:00:00.000000",
          "2023-05-30T00:00:00.000000",
          "2023-05-31T00:00:00.000000",
          "2023-06-01T00:00:00.000000",
          "2023-06-02T00:00:00.000000",
          "2023-06-05T00:00:00.000000",
          "2023-06-06T00:00:00.000000",
          "2023-06-07T00:00:00.000000",
          "2023-06-08T00:00:00.000000",
          "2023-06-09T00:00:00.000000",
          "2023-06-12T00:00:00.000000",
          "2023-06-13T00:00:00.000000",
          "2023-06-14T00:00:00.000000",
          "2023-06-15T00:00:00.000000",
          "2023-06-16T00:00:00.000000",
          "2023-06-20T00:00:00.000000",
          "2023-06-21T00:00:00.000000",
          "2023-06-22T00:00:00.000000",
          "2023-06-23T00:00:00.000000",
          "2023-06-26T00:00:00.000000",
          "2023-06-27T00:00:00.000000",
          "2023-06-28T00:00:00.000000",
          "2023-06-29T00:00:00.000000",
          "2023-06-30T00:00:00.000000",
          "2023-07-03T00:00:00.000000",
          "2023-07-05T00:00:00.000000",
          "2023-07-06T00:00:00.000000",
          "2023-07-07T00:00:00.000000",
          "2023-07-10T00:00:00.000000",
          "2023-07-11T00:00:00.000000",
          "2023-07-12T00:00:00.000000",
          "2023-07-13T00:00:00.000000",
          "2023-07-14T00:00:00.000000",
          "2023-07-17T00:00:00.000000",
          "2023-07-18T00:00:00.000000",
          "2023-07-19T00:00:00.000000",
          "2023-07-20T00:00:00.000000",
          "2023-07-21T00:00:00.000000",
          "2023-07-24T00:00:00.000000",
          "2023-07-25T00:00:00.000000",
          "2023-07-26T00:00:00.000000",
          "2023-07-27T00:00:00.000000",
          "2023-07-28T00:00:00.000000",
          "2023-07-31T00:00:00.000000",
          "2023-08-01T00:00:00.000000",
          "2023-08-02T00:00:00.000000",
          "2023-08-03T00:00:00.000000",
          "2023-08-04T00:00:00.000000",
          "2023-08-07T00:00:00.000000",
          "2023-08-08T00:00:00.000000",
          "2023-08-09T00:00:00.000000",
          "2023-08-10T00:00:00.000000",
          "2023-08-11T00:00:00.000000",
          "2023-08-14T00:00:00.000000",
          "2023-08-15T00:00:00.000000",
          "2023-08-16T00:00:00.000000",
          "2023-08-17T00:00:00.000000",
          "2023-08-18T00:00:00.000000",
          "2023-08-21T00:00:00.000000",
          "2023-08-22T00:00:00.000000",
          "2023-08-23T00:00:00.000000",
          "2023-08-24T00:00:00.000000",
          "2023-08-25T00:00:00.000000",
          "2023-08-28T00:00:00.000000",
          "2023-08-29T00:00:00.000000",
          "2023-08-30T00:00:00.000000",
          "2023-08-31T00:00:00.000000",
          "2023-09-01T00:00:00.000000",
          "2023-09-05T00:00:00.000000",
          "2023-09-06T00:00:00.000000",
          "2023-09-07T00:00:00.000000",
          "2023-09-08T00:00:00.000000",
          "2023-09-11T00:00:00.000000",
          "2023-09-12T00:00:00.000000",
          "2023-09-13T00:00:00.000000",
          "2023-09-14T00:00:00.000000",
          "2023-09-15T00:00:00.000000",
          "2023-09-18T00:00:00.000000",
          "2023-09-19T00:00:00.000000",
          "2023-09-20T00:00:00.000000",
          "2023-09-21T00:00:00.000000",
          "2023-09-22T00:00:00.000000",
          "2023-09-25T00:00:00.000000",
          "2023-09-26T00:00:00.000000",
          "2023-09-27T00:00:00.000000",
          "2023-09-28T00:00:00.000000",
          "2023-09-29T00:00:00.000000",
          "2023-10-02T00:00:00.000000",
          "2023-10-03T00:00:00.000000",
          "2023-10-04T00:00:00.000000",
          "2023-10-05T00:00:00.000000",
          "2023-10-06T00:00:00.000000",
          "2023-10-09T00:00:00.000000",
          "2023-10-10T00:00:00.000000",
          "2023-10-11T00:00:00.000000",
          "2023-10-12T00:00:00.000000",
          "2023-10-13T00:00:00.000000",
          "2023-10-16T00:00:00.000000",
          "2023-10-17T00:00:00.000000",
          "2023-10-18T00:00:00.000000",
          "2023-10-19T00:00:00.000000",
          "2023-10-20T00:00:00.000000",
          "2023-10-23T00:00:00.000000",
          "2023-10-24T00:00:00.000000",
          "2023-10-25T00:00:00.000000",
          "2023-10-26T00:00:00.000000",
          "2023-10-27T00:00:00.000000",
          "2023-10-30T00:00:00.000000",
          "2023-10-31T00:00:00.000000",
          "2023-11-01T00:00:00.000000",
          "2023-11-02T00:00:00.000000",
          "2023-11-03T00:00:00.000000",
          "2023-11-06T00:00:00.000000",
          "2023-11-07T00:00:00.000000",
          "2023-11-08T00:00:00.000000",
          "2023-11-09T00:00:00.000000",
          "2023-11-10T00:00:00.000000",
          "2023-11-13T00:00:00.000000",
          "2023-11-14T00:00:00.000000",
          "2023-11-15T00:00:00.000000",
          "2023-11-16T00:00:00.000000",
          "2023-11-17T00:00:00.000000",
          "2023-11-20T00:00:00.000000",
          "2023-11-21T00:00:00.000000",
          "2023-11-22T00:00:00.000000",
          "2023-11-24T00:00:00.000000",
          "2023-11-27T00:00:00.000000",
          "2023-11-28T00:00:00.000000",
          "2023-11-29T00:00:00.000000",
          "2023-11-30T00:00:00.000000",
          "2023-12-01T00:00:00.000000",
          "2023-12-04T00:00:00.000000",
          "2023-12-05T00:00:00.000000",
          "2023-12-06T00:00:00.000000",
          "2023-12-07T00:00:00.000000",
          "2023-12-08T00:00:00.000000",
          "2023-12-11T00:00:00.000000",
          "2023-12-12T00:00:00.000000",
          "2023-12-13T00:00:00.000000",
          "2023-12-14T00:00:00.000000",
          "2023-12-15T00:00:00.000000",
          "2023-12-18T00:00:00.000000",
          "2023-12-19T00:00:00.000000",
          "2023-12-20T00:00:00.000000",
          "2023-12-21T00:00:00.000000",
          "2023-12-22T00:00:00.000000",
          "2023-12-26T00:00:00.000000",
          "2023-12-27T00:00:00.000000",
          "2023-12-28T00:00:00.000000",
          "2023-12-29T00:00:00.000000",
          "2024-01-02T00:00:00.000000",
          "2024-01-03T00:00:00.000000",
          "2024-01-04T00:00:00.000000",
          "2024-01-05T00:00:00.000000",
          "2024-01-08T00:00:00.000000",
          "2024-01-09T00:00:00.000000",
          "2024-01-10T00:00:00.000000",
          "2024-01-11T00:00:00.000000",
          "2024-01-12T00:00:00.000000",
          "2024-01-16T00:00:00.000000",
          "2024-01-17T00:00:00.000000",
          "2024-01-18T00:00:00.000000",
          "2024-01-19T00:00:00.000000",
          "2024-01-22T00:00:00.000000",
          "2024-01-23T00:00:00.000000",
          "2024-01-24T00:00:00.000000",
          "2024-01-25T00:00:00.000000",
          "2024-01-26T00:00:00.000000",
          "2024-01-29T00:00:00.000000",
          "2024-01-30T00:00:00.000000",
          "2024-01-31T00:00:00.000000",
          "2024-02-01T00:00:00.000000",
          "2024-02-02T00:00:00.000000",
          "2024-02-05T00:00:00.000000",
          "2024-02-06T00:00:00.000000",
          "2024-02-07T00:00:00.000000",
          "2024-02-08T00:00:00.000000",
          "2024-02-09T00:00:00.000000",
          "2024-02-12T00:00:00.000000",
          "2024-02-13T00:00:00.000000",
          "2024-02-14T00:00:00.000000",
          "2024-02-15T00:00:00.000000",
          "2024-02-16T00:00:00.000000",
          "2024-02-20T00:00:00.000000",
          "2024-02-21T00:00:00.000000",
          "2024-02-22T00:00:00.000000",
          "2024-02-23T00:00:00.000000",
          "2024-02-26T00:00:00.000000",
          "2024-02-27T00:00:00.000000",
          "2024-02-28T00:00:00.000000",
          "2024-02-29T00:00:00.000000",
          "2024-03-01T00:00:00.000000",
          "2024-03-04T00:00:00.000000",
          "2024-03-05T00:00:00.000000",
          "2024-03-06T00:00:00.000000",
          "2024-03-07T00:00:00.000000",
          "2024-03-08T00:00:00.000000",
          "2024-03-11T00:00:00.000000",
          "2024-03-12T00:00:00.000000",
          "2024-03-13T00:00:00.000000",
          "2024-03-14T00:00:00.000000",
          "2024-03-15T00:00:00.000000",
          "2024-03-18T00:00:00.000000",
          "2024-03-19T00:00:00.000000",
          "2024-03-20T00:00:00.000000",
          "2024-03-21T00:00:00.000000",
          "2024-03-22T00:00:00.000000",
          "2024-03-25T00:00:00.000000",
          "2024-03-26T00:00:00.000000",
          "2024-03-27T00:00:00.000000",
          "2024-03-28T00:00:00.000000",
          "2024-04-01T00:00:00.000000",
          "2024-04-02T00:00:00.000000",
          "2024-04-03T00:00:00.000000",
          "2024-04-04T00:00:00.000000",
          "2024-04-05T00:00:00.000000",
          "2024-04-08T00:00:00.000000",
          "2024-04-09T00:00:00.000000",
          "2024-04-10T00:00:00.000000",
          "2024-04-11T00:00:00.000000",
          "2024-04-12T00:00:00.000000",
          "2024-04-15T00:00:00.000000",
          "2024-04-16T00:00:00.000000",
          "2024-04-17T00:00:00.000000",
          "2024-04-18T00:00:00.000000",
          "2024-04-19T00:00:00.000000",
          "2024-04-22T00:00:00.000000",
          "2024-04-23T00:00:00.000000",
          "2024-04-24T00:00:00.000000",
          "2024-04-25T00:00:00.000000",
          "2024-04-26T00:00:00.000000",
          "2024-04-29T00:00:00.000000",
          "2024-04-30T00:00:00.000000",
          "2024-05-01T00:00:00.000000",
          "2024-05-02T00:00:00.000000",
          "2024-05-03T00:00:00.000000",
          "2024-05-06T00:00:00.000000",
          "2024-05-07T00:00:00.000000",
          "2024-05-08T00:00:00.000000",
          "2024-05-09T00:00:00.000000",
          "2024-05-10T00:00:00.000000",
          "2024-05-13T00:00:00.000000",
          "2024-05-14T00:00:00.000000",
          "2024-05-15T00:00:00.000000",
          "2024-05-16T00:00:00.000000",
          "2024-05-17T00:00:00.000000",
          "2024-05-20T00:00:00.000000",
          "2024-05-21T00:00:00.000000",
          "2024-05-22T00:00:00.000000",
          "2024-05-23T00:00:00.000000",
          "2024-05-24T00:00:00.000000",
          "2024-05-28T00:00:00.000000",
          "2024-05-29T00:00:00.000000",
          "2024-05-30T00:00:00.000000",
          "2024-05-31T00:00:00.000000",
          "2024-06-03T00:00:00.000000",
          "2024-06-04T00:00:00.000000",
          "2024-06-05T00:00:00.000000",
          "2024-06-06T00:00:00.000000",
          "2024-06-07T00:00:00.000000",
          "2024-06-10T00:00:00.000000",
          "2024-06-11T00:00:00.000000",
          "2024-06-12T00:00:00.000000",
          "2024-06-13T00:00:00.000000",
          "2024-06-14T00:00:00.000000",
          "2024-06-17T00:00:00.000000",
          "2024-06-18T00:00:00.000000",
          "2024-06-20T00:00:00.000000",
          "2024-06-21T00:00:00.000000",
          "2024-06-24T00:00:00.000000",
          "2024-06-25T00:00:00.000000",
          "2024-06-26T00:00:00.000000",
          "2024-06-27T00:00:00.000000",
          "2024-06-28T00:00:00.000000",
          "2024-07-01T00:00:00.000000",
          "2024-07-02T00:00:00.000000",
          "2024-07-03T00:00:00.000000",
          "2024-07-05T00:00:00.000000",
          "2024-07-08T00:00:00.000000",
          "2024-07-09T00:00:00.000000",
          "2024-07-10T00:00:00.000000",
          "2024-07-11T00:00:00.000000",
          "2024-07-12T00:00:00.000000",
          "2024-07-15T00:00:00.000000",
          "2024-07-16T00:00:00.000000",
          "2024-07-17T00:00:00.000000",
          "2024-07-18T00:00:00.000000",
          "2024-07-19T00:00:00.000000",
          "2024-07-22T00:00:00.000000",
          "2024-07-23T00:00:00.000000",
          "2024-07-24T00:00:00.000000",
          "2024-07-25T00:00:00.000000",
          "2024-07-26T00:00:00.000000",
          "2024-07-29T00:00:00.000000",
          "2024-07-30T00:00:00.000000",
          "2024-07-31T00:00:00.000000",
          "2024-08-01T00:00:00.000000",
          "2024-08-02T00:00:00.000000",
          "2024-08-05T00:00:00.000000",
          "2024-08-06T00:00:00.000000",
          "2024-08-07T00:00:00.000000",
          "2024-08-08T00:00:00.000000",
          "2024-08-09T00:00:00.000000",
          "2024-08-12T00:00:00.000000",
          "2024-08-13T00:00:00.000000",
          "2024-08-14T00:00:00.000000",
          "2024-08-15T00:00:00.000000",
          "2024-08-16T00:00:00.000000",
          "2024-08-19T00:00:00.000000",
          "2024-08-20T00:00:00.000000",
          "2024-08-21T00:00:00.000000",
          "2024-08-22T00:00:00.000000",
          "2024-08-23T00:00:00.000000",
          "2024-08-26T00:00:00.000000",
          "2024-08-27T00:00:00.000000",
          "2024-08-28T00:00:00.000000",
          "2024-08-29T00:00:00.000000",
          "2024-08-30T00:00:00.000000",
          "2024-09-03T00:00:00.000000",
          "2024-09-04T00:00:00.000000",
          "2024-09-05T00:00:00.000000",
          "2024-09-06T00:00:00.000000",
          "2024-09-09T00:00:00.000000",
          "2024-09-10T00:00:00.000000",
          "2024-09-11T00:00:00.000000",
          "2024-09-12T00:00:00.000000",
          "2024-09-13T00:00:00.000000",
          "2024-09-16T00:00:00.000000",
          "2024-09-17T00:00:00.000000",
          "2024-09-18T00:00:00.000000",
          "2024-09-19T00:00:00.000000",
          "2024-09-20T00:00:00.000000",
          "2024-09-23T00:00:00.000000",
          "2024-09-24T00:00:00.000000",
          "2024-09-25T00:00:00.000000",
          "2024-09-26T00:00:00.000000",
          "2024-09-27T00:00:00.000000",
          "2024-09-30T00:00:00.000000",
          "2024-10-01T00:00:00.000000",
          "2024-10-02T00:00:00.000000",
          "2024-10-03T00:00:00.000000",
          "2024-10-04T00:00:00.000000",
          "2024-10-07T00:00:00.000000",
          "2024-10-08T00:00:00.000000",
          "2024-10-09T00:00:00.000000",
          "2024-10-10T00:00:00.000000",
          "2024-10-11T00:00:00.000000",
          "2024-10-14T00:00:00.000000",
          "2024-10-15T00:00:00.000000",
          "2024-10-16T00:00:00.000000",
          "2024-10-17T00:00:00.000000",
          "2024-10-18T00:00:00.000000",
          "2024-10-21T00:00:00.000000",
          "2024-10-22T00:00:00.000000",
          "2024-10-23T00:00:00.000000",
          "2024-10-24T00:00:00.000000",
          "2024-10-25T00:00:00.000000",
          "2024-10-28T00:00:00.000000",
          "2024-10-29T00:00:00.000000",
          "2024-10-30T00:00:00.000000",
          "2024-10-31T00:00:00.000000",
          "2024-11-01T00:00:00.000000",
          "2024-11-04T00:00:00.000000",
          "2024-11-05T00:00:00.000000",
          "2024-11-06T00:00:00.000000",
          "2024-11-07T00:00:00.000000",
          "2024-11-08T00:00:00.000000",
          "2024-11-11T00:00:00.000000",
          "2024-11-12T00:00:00.000000",
          "2024-11-13T00:00:00.000000",
          "2024-11-14T00:00:00.000000",
          "2024-11-15T00:00:00.000000",
          "2024-11-18T00:00:00.000000",
          "2024-11-19T00:00:00.000000",
          "2024-11-20T00:00:00.000000",
          "2024-11-21T00:00:00.000000",
          "2024-11-22T00:00:00.000000",
          "2024-11-25T00:00:00.000000",
          "2024-11-26T00:00:00.000000",
          "2024-11-27T00:00:00.000000",
          "2024-11-29T00:00:00.000000",
          "2024-12-02T00:00:00.000000",
          "2024-12-03T00:00:00.000000",
          "2024-12-04T00:00:00.000000",
          "2024-12-05T00:00:00.000000",
          "2024-12-06T00:00:00.000000",
          "2024-12-09T00:00:00.000000",
          "2024-12-10T00:00:00.000000",
          "2024-12-11T00:00:00.000000",
          "2024-12-12T00:00:00.000000",
          "2024-12-13T00:00:00.000000",
          "2024-12-16T00:00:00.000000",
          "2024-12-17T00:00:00.000000",
          "2024-12-18T00:00:00.000000",
          "2024-12-19T00:00:00.000000",
          "2024-12-20T00:00:00.000000",
          "2024-12-23T00:00:00.000000",
          "2024-12-24T00:00:00.000000",
          "2024-12-26T00:00:00.000000",
          "2024-12-27T00:00:00.000000",
          "2024-12-30T00:00:00.000000",
          "2024-12-31T00:00:00.000000",
          "2025-01-02T00:00:00.000000",
          "2025-01-03T00:00:00.000000",
          "2025-01-06T00:00:00.000000",
          "2025-01-07T00:00:00.000000",
          "2025-01-08T00:00:00.000000",
          "2025-01-10T00:00:00.000000",
          "2025-01-13T00:00:00.000000",
          "2025-01-14T00:00:00.000000",
          "2025-01-15T00:00:00.000000",
          "2025-01-16T00:00:00.000000",
          "2025-01-17T00:00:00.000000",
          "2025-01-21T00:00:00.000000",
          "2025-01-22T00:00:00.000000",
          "2025-01-23T00:00:00.000000",
          "2025-01-24T00:00:00.000000",
          "2025-01-27T00:00:00.000000",
          "2025-01-28T00:00:00.000000",
          "2025-01-29T00:00:00.000000",
          "2025-01-30T00:00:00.000000",
          "2025-01-31T00:00:00.000000",
          "2025-02-03T00:00:00.000000",
          "2025-02-04T00:00:00.000000",
          "2025-02-05T00:00:00.000000",
          "2025-02-06T00:00:00.000000",
          "2025-02-07T00:00:00.000000",
          "2025-02-10T00:00:00.000000",
          "2025-02-11T00:00:00.000000",
          "2025-02-12T00:00:00.000000",
          "2025-02-13T00:00:00.000000",
          "2025-02-14T00:00:00.000000",
          "2025-02-18T00:00:00.000000",
          "2025-02-19T00:00:00.000000",
          "2025-02-20T00:00:00.000000",
          "2025-02-21T00:00:00.000000",
          "2025-02-24T00:00:00.000000",
          "2025-02-25T00:00:00.000000",
          "2025-02-26T00:00:00.000000",
          "2025-02-27T00:00:00.000000",
          "2025-02-28T00:00:00.000000",
          "2025-03-03T00:00:00.000000",
          "2025-03-04T00:00:00.000000",
          "2025-03-05T00:00:00.000000",
          "2025-03-06T00:00:00.000000",
          "2025-03-07T00:00:00.000000",
          "2025-03-10T00:00:00.000000",
          "2025-03-11T00:00:00.000000",
          "2025-03-12T00:00:00.000000",
          "2025-03-13T00:00:00.000000",
          "2025-03-14T00:00:00.000000",
          "2025-03-17T00:00:00.000000",
          "2025-03-18T00:00:00.000000",
          "2025-03-19T00:00:00.000000",
          "2025-03-20T00:00:00.000000",
          "2025-03-21T00:00:00.000000",
          "2025-03-24T00:00:00.000000",
          "2025-03-25T00:00:00.000000",
          "2025-03-26T00:00:00.000000",
          "2025-03-27T00:00:00.000000",
          "2025-03-28T00:00:00.000000",
          "2025-03-31T00:00:00.000000",
          "2025-04-01T00:00:00.000000",
          "2025-04-02T00:00:00.000000",
          "2025-04-03T00:00:00.000000",
          "2025-04-04T00:00:00.000000",
          "2025-04-07T00:00:00.000000",
          "2025-04-08T00:00:00.000000",
          "2025-04-09T00:00:00.000000",
          "2025-04-10T00:00:00.000000",
          "2025-04-11T00:00:00.000000",
          "2025-04-14T00:00:00.000000",
          "2025-04-15T00:00:00.000000",
          "2025-04-16T00:00:00.000000",
          "2025-04-17T00:00:00.000000",
          "2025-04-21T00:00:00.000000",
          "2025-04-22T00:00:00.000000",
          "2025-04-23T00:00:00.000000",
          "2025-04-24T00:00:00.000000",
          "2025-04-25T00:00:00.000000",
          "2025-04-28T00:00:00.000000",
          "2025-04-29T00:00:00.000000",
          "2025-04-30T00:00:00.000000",
          "2025-05-01T00:00:00.000000",
          "2025-05-02T00:00:00.000000",
          "2025-05-05T00:00:00.000000",
          "2025-05-06T00:00:00.000000",
          "2025-05-07T00:00:00.000000",
          "2025-05-08T00:00:00.000000",
          "2025-05-09T00:00:00.000000",
          "2025-05-12T00:00:00.000000",
          "2025-05-13T00:00:00.000000",
          "2025-05-14T00:00:00.000000",
          "2025-05-15T00:00:00.000000",
          "2025-05-16T00:00:00.000000",
          "2025-05-19T00:00:00.000000",
          "2025-05-20T00:00:00.000000",
          "2025-05-21T00:00:00.000000",
          "2025-05-22T00:00:00.000000",
          "2025-05-23T00:00:00.000000",
          "2025-05-27T00:00:00.000000",
          "2025-05-28T00:00:00.000000",
          "2025-05-29T00:00:00.000000",
          "2025-05-30T00:00:00.000000",
          "2025-06-02T00:00:00.000000",
          "2025-06-03T00:00:00.000000",
          "2025-06-04T00:00:00.000000",
          "2025-06-05T00:00:00.000000",
          "2025-06-06T00:00:00.000000",
          "2025-06-09T00:00:00.000000",
          "2025-06-10T00:00:00.000000",
          "2025-06-11T00:00:00.000000",
          "2025-06-12T00:00:00.000000",
          "2025-06-13T00:00:00.000000",
          "2025-06-16T00:00:00.000000",
          "2025-06-17T00:00:00.000000",
          "2025-06-18T00:00:00.000000",
          "2025-06-20T00:00:00.000000",
          "2025-06-23T00:00:00.000000",
          "2025-06-24T00:00:00.000000",
          "2025-06-25T00:00:00.000000",
          "2025-06-26T00:00:00.000000",
          "2025-06-27T00:00:00.000000",
          "2025-06-30T00:00:00.000000",
          "2025-07-01T00:00:00.000000",
          "2025-07-02T00:00:00.000000",
          "2025-07-03T00:00:00.000000",
          "2025-07-07T00:00:00.000000",
          "2025-07-08T00:00:00.000000",
          "2025-07-09T00:00:00.000000",
          "2025-07-10T00:00:00.000000",
          "2025-07-11T00:00:00.000000",
          "2025-07-14T00:00:00.000000",
          "2025-07-15T00:00:00.000000",
          "2025-07-16T00:00:00.000000",
          "2025-07-17T00:00:00.000000",
          "2025-07-18T00:00:00.000000",
          "2025-07-21T00:00:00.000000",
          "2025-07-22T00:00:00.000000",
          "2025-07-23T00:00:00.000000",
          "2025-07-24T00:00:00.000000",
          "2025-07-25T00:00:00.000000",
          "2025-07-28T00:00:00.000000",
          "2025-07-29T00:00:00.000000",
          "2025-07-30T00:00:00.000000",
          "2025-07-31T00:00:00.000000",
          "2025-08-01T00:00:00.000000",
          "2025-08-04T00:00:00.000000",
          "2025-08-05T00:00:00.000000",
          "2025-08-06T00:00:00.000000",
          "2025-08-07T00:00:00.000000",
          "2025-08-08T00:00:00.000000",
          "2025-08-11T00:00:00.000000",
          "2025-08-12T00:00:00.000000",
          "2025-08-13T00:00:00.000000",
          "2025-08-14T00:00:00.000000",
          "2025-08-15T00:00:00.000000",
          "2025-08-18T00:00:00.000000",
          "2025-08-19T00:00:00.000000",
          "2025-08-20T00:00:00.000000",
          "2025-08-21T00:00:00.000000",
          "2025-08-22T00:00:00.000000",
          "2025-08-25T00:00:00.000000",
          "2025-08-26T00:00:00.000000",
          "2025-08-27T00:00:00.000000",
          "2025-08-28T00:00:00.000000"
         ],
         "y": {
          "bdata": "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",
          "dtype": "f8"
         }
        },
        {
         "mode": "lines",
         "name": "SPY",
         "type": "scatter",
         "x": [
          "2020-01-02T00:00:00.000000",
          "2020-01-03T00:00:00.000000",
          "2020-01-06T00:00:00.000000",
          "2020-01-07T00:00:00.000000",
          "2020-01-08T00:00:00.000000",
          "2020-01-09T00:00:00.000000",
          "2020-01-10T00:00:00.000000",
          "2020-01-13T00:00:00.000000",
          "2020-01-14T00:00:00.000000",
          "2020-01-15T00:00:00.000000",
          "2020-01-16T00:00:00.000000",
          "2020-01-17T00:00:00.000000",
          "2020-01-21T00:00:00.000000",
          "2020-01-22T00:00:00.000000",
          "2020-01-23T00:00:00.000000",
          "2020-01-24T00:00:00.000000",
          "2020-01-27T00:00:00.000000",
          "2020-01-28T00:00:00.000000",
          "2020-01-29T00:00:00.000000",
          "2020-01-30T00:00:00.000000",
          "2020-01-31T00:00:00.000000",
          "2020-02-03T00:00:00.000000",
          "2020-02-04T00:00:00.000000",
          "2020-02-05T00:00:00.000000",
          "2020-02-06T00:00:00.000000",
          "2020-02-07T00:00:00.000000",
          "2020-02-10T00:00:00.000000",
          "2020-02-11T00:00:00.000000",
          "2020-02-12T00:00:00.000000",
          "2020-02-13T00:00:00.000000",
          "2020-02-14T00:00:00.000000",
          "2020-02-18T00:00:00.000000",
          "2020-02-19T00:00:00.000000",
          "2020-02-20T00:00:00.000000",
          "2020-02-21T00:00:00.000000",
          "2020-02-24T00:00:00.000000",
          "2020-02-25T00:00:00.000000",
          "2020-02-26T00:00:00.000000",
          "2020-02-27T00:00:00.000000",
          "2020-02-28T00:00:00.000000",
          "2020-03-02T00:00:00.000000",
          "2020-03-03T00:00:00.000000",
          "2020-03-04T00:00:00.000000",
          "2020-03-05T00:00:00.000000",
          "2020-03-06T00:00:00.000000",
          "2020-03-09T00:00:00.000000",
          "2020-03-10T00:00:00.000000",
          "2020-03-11T00:00:00.000000",
          "2020-03-12T00:00:00.000000",
          "2020-03-13T00:00:00.000000",
          "2020-03-16T00:00:00.000000",
          "2020-03-17T00:00:00.000000",
          "2020-03-18T00:00:00.000000",
          "2020-03-19T00:00:00.000000",
          "2020-03-20T00:00:00.000000",
          "2020-03-23T00:00:00.000000",
          "2020-03-24T00:00:00.000000",
          "2020-03-25T00:00:00.000000",
          "2020-03-26T00:00:00.000000",
          "2020-03-27T00:00:00.000000",
          "2020-03-30T00:00:00.000000",
          "2020-03-31T00:00:00.000000",
          "2020-04-01T00:00:00.000000",
          "2020-04-02T00:00:00.000000",
          "2020-04-03T00:00:00.000000",
          "2020-04-06T00:00:00.000000",
          "2020-04-07T00:00:00.000000",
          "2020-04-08T00:00:00.000000",
          "2020-04-09T00:00:00.000000",
          "2020-04-13T00:00:00.000000",
          "2020-04-14T00:00:00.000000",
          "2020-04-15T00:00:00.000000",
          "2020-04-16T00:00:00.000000",
          "2020-04-17T00:00:00.000000",
          "2020-04-20T00:00:00.000000",
          "2020-04-21T00:00:00.000000",
          "2020-04-22T00:00:00.000000",
          "2020-04-23T00:00:00.000000",
          "2020-04-24T00:00:00.000000",
          "2020-04-27T00:00:00.000000",
          "2020-04-28T00:00:00.000000",
          "2020-04-29T00:00:00.000000",
          "2020-04-30T00:00:00.000000",
          "2020-05-01T00:00:00.000000",
          "2020-05-04T00:00:00.000000",
          "2020-05-05T00:00:00.000000",
          "2020-05-06T00:00:00.000000",
          "2020-05-07T00:00:00.000000",
          "2020-05-08T00:00:00.000000",
          "2020-05-11T00:00:00.000000",
          "2020-05-12T00:00:00.000000",
          "2020-05-13T00:00:00.000000",
          "2020-05-14T00:00:00.000000",
          "2020-05-15T00:00:00.000000",
          "2020-05-18T00:00:00.000000",
          "2020-05-19T00:00:00.000000",
          "2020-05-20T00:00:00.000000",
          "2020-05-21T00:00:00.000000",
          "2020-05-22T00:00:00.000000",
          "2020-05-26T00:00:00.000000",
          "2020-05-27T00:00:00.000000",
          "2020-05-28T00:00:00.000000",
          "2020-05-29T00:00:00.000000",
          "2020-06-01T00:00:00.000000",
          "2020-06-02T00:00:00.000000",
          "2020-06-03T00:00:00.000000",
          "2020-06-04T00:00:00.000000",
          "2020-06-05T00:00:00.000000",
          "2020-06-08T00:00:00.000000",
          "2020-06-09T00:00:00.000000",
          "2020-06-10T00:00:00.000000",
          "2020-06-11T00:00:00.000000",
          "2020-06-12T00:00:00.000000",
          "2020-06-15T00:00:00.000000",
          "2020-06-16T00:00:00.000000",
          "2020-06-17T00:00:00.000000",
          "2020-06-18T00:00:00.000000",
          "2020-06-19T00:00:00.000000",
          "2020-06-22T00:00:00.000000",
          "2020-06-23T00:00:00.000000",
          "2020-06-24T00:00:00.000000",
          "2020-06-25T00:00:00.000000",
          "2020-06-26T00:00:00.000000",
          "2020-06-29T00:00:00.000000",
          "2020-06-30T00:00:00.000000",
          "2020-07-01T00:00:00.000000",
          "2020-07-02T00:00:00.000000",
          "2020-07-06T00:00:00.000000",
          "2020-07-07T00:00:00.000000",
          "2020-07-08T00:00:00.000000",
          "2020-07-09T00:00:00.000000",
          "2020-07-10T00:00:00.000000",
          "2020-07-13T00:00:00.000000",
          "2020-07-14T00:00:00.000000",
          "2020-07-15T00:00:00.000000",
          "2020-07-16T00:00:00.000000",
          "2020-07-17T00:00:00.000000",
          "2020-07-20T00:00:00.000000",
          "2020-07-21T00:00:00.000000",
          "2020-07-22T00:00:00.000000",
          "2020-07-23T00:00:00.000000",
          "2020-07-24T00:00:00.000000",
          "2020-07-27T00:00:00.000000",
          "2020-07-28T00:00:00.000000",
          "2020-07-29T00:00:00.000000",
          "2020-07-30T00:00:00.000000",
          "2020-07-31T00:00:00.000000",
          "2020-08-03T00:00:00.000000",
          "2020-08-04T00:00:00.000000",
          "2020-08-05T00:00:00.000000",
          "2020-08-06T00:00:00.000000",
          "2020-08-07T00:00:00.000000",
          "2020-08-10T00:00:00.000000",
          "2020-08-11T00:00:00.000000",
          "2020-08-12T00:00:00.000000",
          "2020-08-13T00:00:00.000000",
          "2020-08-14T00:00:00.000000",
          "2020-08-17T00:00:00.000000",
          "2020-08-18T00:00:00.000000",
          "2020-08-19T00:00:00.000000",
          "2020-08-20T00:00:00.000000",
          "2020-08-21T00:00:00.000000",
          "2020-08-24T00:00:00.000000",
          "2020-08-25T00:00:00.000000",
          "2020-08-26T00:00:00.000000",
          "2020-08-27T00:00:00.000000",
          "2020-08-28T00:00:00.000000",
          "2020-08-31T00:00:00.000000",
          "2020-09-01T00:00:00.000000",
          "2020-09-02T00:00:00.000000",
          "2020-09-03T00:00:00.000000",
          "2020-09-04T00:00:00.000000",
          "2020-09-08T00:00:00.000000",
          "2020-09-09T00:00:00.000000",
          "2020-09-10T00:00:00.000000",
          "2020-09-11T00:00:00.000000",
          "2020-09-14T00:00:00.000000",
          "2020-09-15T00:00:00.000000",
          "2020-09-16T00:00:00.000000",
          "2020-09-17T00:00:00.000000",
          "2020-09-18T00:00:00.000000",
          "2020-09-21T00:00:00.000000",
          "2020-09-22T00:00:00.000000",
          "2020-09-23T00:00:00.000000",
          "2020-09-24T00:00:00.000000",
          "2020-09-25T00:00:00.000000",
          "2020-09-28T00:00:00.000000",
          "2020-09-29T00:00:00.000000",
          "2020-09-30T00:00:00.000000",
          "2020-10-01T00:00:00.000000",
          "2020-10-02T00:00:00.000000",
          "2020-10-05T00:00:00.000000",
          "2020-10-06T00:00:00.000000",
          "2020-10-07T00:00:00.000000",
          "2020-10-08T00:00:00.000000",
          "2020-10-09T00:00:00.000000",
          "2020-10-12T00:00:00.000000",
          "2020-10-13T00:00:00.000000",
          "2020-10-14T00:00:00.000000",
          "2020-10-15T00:00:00.000000",
          "2020-10-16T00:00:00.000000",
          "2020-10-19T00:00:00.000000",
          "2020-10-20T00:00:00.000000",
          "2020-10-21T00:00:00.000000",
          "2020-10-22T00:00:00.000000",
          "2020-10-23T00:00:00.000000",
          "2020-10-26T00:00:00.000000",
          "2020-10-27T00:00:00.000000",
          "2020-10-28T00:00:00.000000",
          "2020-10-29T00:00:00.000000",
          "2020-10-30T00:00:00.000000",
          "2020-11-02T00:00:00.000000",
          "2020-11-03T00:00:00.000000",
          "2020-11-04T00:00:00.000000",
          "2020-11-05T00:00:00.000000",
          "2020-11-06T00:00:00.000000",
          "2020-11-09T00:00:00.000000",
          "2020-11-10T00:00:00.000000",
          "2020-11-11T00:00:00.000000",
          "2020-11-12T00:00:00.000000",
          "2020-11-13T00:00:00.000000",
          "2020-11-16T00:00:00.000000",
          "2020-11-17T00:00:00.000000",
          "2020-11-18T00:00:00.000000",
          "2020-11-19T00:00:00.000000",
          "2020-11-20T00:00:00.000000",
          "2020-11-23T00:00:00.000000",
          "2020-11-24T00:00:00.000000",
          "2020-11-25T00:00:00.000000",
          "2020-11-27T00:00:00.000000",
          "2020-11-30T00:00:00.000000",
          "2020-12-01T00:00:00.000000",
          "2020-12-02T00:00:00.000000",
          "2020-12-03T00:00:00.000000",
          "2020-12-04T00:00:00.000000",
          "2020-12-07T00:00:00.000000",
          "2020-12-08T00:00:00.000000",
          "2020-12-09T00:00:00.000000",
          "2020-12-10T00:00:00.000000",
          "2020-12-11T00:00:00.000000",
          "2020-12-14T00:00:00.000000",
          "2020-12-15T00:00:00.000000",
          "2020-12-16T00:00:00.000000",
          "2020-12-17T00:00:00.000000",
          "2020-12-18T00:00:00.000000",
          "2020-12-21T00:00:00.000000",
          "2020-12-22T00:00:00.000000",
          "2020-12-23T00:00:00.000000",
          "2020-12-24T00:00:00.000000",
          "2020-12-28T00:00:00.000000",
          "2020-12-29T00:00:00.000000",
          "2020-12-30T00:00:00.000000",
          "2020-12-31T00:00:00.000000",
          "2021-01-04T00:00:00.000000",
          "2021-01-05T00:00:00.000000",
          "2021-01-06T00:00:00.000000",
          "2021-01-07T00:00:00.000000",
          "2021-01-08T00:00:00.000000",
          "2021-01-11T00:00:00.000000",
          "2021-01-12T00:00:00.000000",
          "2021-01-13T00:00:00.000000",
          "2021-01-14T00:00:00.000000",
          "2021-01-15T00:00:00.000000",
          "2021-01-19T00:00:00.000000",
          "2021-01-20T00:00:00.000000",
          "2021-01-21T00:00:00.000000",
          "2021-01-22T00:00:00.000000",
          "2021-01-25T00:00:00.000000",
          "2021-01-26T00:00:00.000000",
          "2021-01-27T00:00:00.000000",
          "2021-01-28T00:00:00.000000",
          "2021-01-29T00:00:00.000000",
          "2021-02-01T00:00:00.000000",
          "2021-02-02T00:00:00.000000",
          "2021-02-03T00:00:00.000000",
          "2021-02-04T00:00:00.000000",
          "2021-02-05T00:00:00.000000",
          "2021-02-08T00:00:00.000000",
          "2021-02-09T00:00:00.000000",
          "2021-02-10T00:00:00.000000",
          "2021-02-11T00:00:00.000000",
          "2021-02-12T00:00:00.000000",
          "2021-02-16T00:00:00.000000",
          "2021-02-17T00:00:00.000000",
          "2021-02-18T00:00:00.000000",
          "2021-02-19T00:00:00.000000",
          "2021-02-22T00:00:00.000000",
          "2021-02-23T00:00:00.000000",
          "2021-02-24T00:00:00.000000",
          "2021-02-25T00:00:00.000000",
          "2021-02-26T00:00:00.000000",
          "2021-03-01T00:00:00.000000",
          "2021-03-02T00:00:00.000000",
          "2021-03-03T00:00:00.000000",
          "2021-03-04T00:00:00.000000",
          "2021-03-05T00:00:00.000000",
          "2021-03-08T00:00:00.000000",
          "2021-03-09T00:00:00.000000",
          "2021-03-10T00:00:00.000000",
          "2021-03-11T00:00:00.000000",
          "2021-03-12T00:00:00.000000",
          "2021-03-15T00:00:00.000000",
          "2021-03-16T00:00:00.000000",
          "2021-03-17T00:00:00.000000",
          "2021-03-18T00:00:00.000000",
          "2021-03-19T00:00:00.000000",
          "2021-03-22T00:00:00.000000",
          "2021-03-23T00:00:00.000000",
          "2021-03-24T00:00:00.000000",
          "2021-03-25T00:00:00.000000",
          "2021-03-26T00:00:00.000000",
          "2021-03-29T00:00:00.000000",
          "2021-03-30T00:00:00.000000",
          "2021-03-31T00:00:00.000000",
          "2021-04-01T00:00:00.000000",
          "2021-04-05T00:00:00.000000",
          "2021-04-06T00:00:00.000000",
          "2021-04-07T00:00:00.000000",
          "2021-04-08T00:00:00.000000",
          "2021-04-09T00:00:00.000000",
          "2021-04-12T00:00:00.000000",
          "2021-04-13T00:00:00.000000",
          "2021-04-14T00:00:00.000000",
          "2021-04-15T00:00:00.000000",
          "2021-04-16T00:00:00.000000",
          "2021-04-19T00:00:00.000000",
          "2021-04-20T00:00:00.000000",
          "2021-04-21T00:00:00.000000",
          "2021-04-22T00:00:00.000000",
          "2021-04-23T00:00:00.000000",
          "2021-04-26T00:00:00.000000",
          "2021-04-27T00:00:00.000000",
          "2021-04-28T00:00:00.000000",
          "2021-04-29T00:00:00.000000",
          "2021-04-30T00:00:00.000000",
          "2021-05-03T00:00:00.000000",
          "2021-05-04T00:00:00.000000",
          "2021-05-05T00:00:00.000000",
          "2021-05-06T00:00:00.000000",
          "2021-05-07T00:00:00.000000",
          "2021-05-10T00:00:00.000000",
          "2021-05-11T00:00:00.000000",
          "2021-05-12T00:00:00.000000",
          "2021-05-13T00:00:00.000000",
          "2021-05-14T00:00:00.000000",
          "2021-05-17T00:00:00.000000",
          "2021-05-18T00:00:00.000000",
          "2021-05-19T00:00:00.000000",
          "2021-05-20T00:00:00.000000",
          "2021-05-21T00:00:00.000000",
          "2021-05-24T00:00:00.000000",
          "2021-05-25T00:00:00.000000",
          "2021-05-26T00:00:00.000000",
          "2021-05-27T00:00:00.000000",
          "2021-05-28T00:00:00.000000",
          "2021-06-01T00:00:00.000000",
          "2021-06-02T00:00:00.000000",
          "2021-06-03T00:00:00.000000",
          "2021-06-04T00:00:00.000000",
          "2021-06-07T00:00:00.000000",
          "2021-06-08T00:00:00.000000",
          "2021-06-09T00:00:00.000000",
          "2021-06-10T00:00:00.000000",
          "2021-06-11T00:00:00.000000",
          "2021-06-14T00:00:00.000000",
          "2021-06-15T00:00:00.000000",
          "2021-06-16T00:00:00.000000",
          "2021-06-17T00:00:00.000000",
          "2021-06-18T00:00:00.000000",
          "2021-06-21T00:00:00.000000",
          "2021-06-22T00:00:00.000000",
          "2021-06-23T00:00:00.000000",
          "2021-06-24T00:00:00.000000",
          "2021-06-25T00:00:00.000000",
          "2021-06-28T00:00:00.000000",
          "2021-06-29T00:00:00.000000",
          "2021-06-30T00:00:00.000000",
          "2021-07-01T00:00:00.000000",
          "2021-07-02T00:00:00.000000",
          "2021-07-06T00:00:00.000000",
          "2021-07-07T00:00:00.000000",
          "2021-07-08T00:00:00.000000",
          "2021-07-09T00:00:00.000000",
          "2021-07-12T00:00:00.000000",
          "2021-07-13T00:00:00.000000",
          "2021-07-14T00:00:00.000000",
          "2021-07-15T00:00:00.000000",
          "2021-07-16T00:00:00.000000",
          "2021-07-19T00:00:00.000000",
          "2021-07-20T00:00:00.000000",
          "2021-07-21T00:00:00.000000",
          "2021-07-22T00:00:00.000000",
          "2021-07-23T00:00:00.000000",
          "2021-07-26T00:00:00.000000",
          "2021-07-27T00:00:00.000000",
          "2021-07-28T00:00:00.000000",
          "2021-07-29T00:00:00.000000",
          "2021-07-30T00:00:00.000000",
          "2021-08-02T00:00:00.000000",
          "2021-08-03T00:00:00.000000",
          "2021-08-04T00:00:00.000000",
          "2021-08-05T00:00:00.000000",
          "2021-08-06T00:00:00.000000",
          "2021-08-09T00:00:00.000000",
          "2021-08-10T00:00:00.000000",
          "2021-08-11T00:00:00.000000",
          "2021-08-12T00:00:00.000000",
          "2021-08-13T00:00:00.000000",
          "2021-08-16T00:00:00.000000",
          "2021-08-17T00:00:00.000000",
          "2021-08-18T00:00:00.000000",
          "2021-08-19T00:00:00.000000",
          "2021-08-20T00:00:00.000000",
          "2021-08-23T00:00:00.000000",
          "2021-08-24T00:00:00.000000",
          "2021-08-25T00:00:00.000000",
          "2021-08-26T00:00:00.000000",
          "2021-08-27T00:00:00.000000",
          "2021-08-30T00:00:00.000000",
          "2021-08-31T00:00:00.000000",
          "2021-09-01T00:00:00.000000",
          "2021-09-02T00:00:00.000000",
          "2021-09-03T00:00:00.000000",
          "2021-09-07T00:00:00.000000",
          "2021-09-08T00:00:00.000000",
          "2021-09-09T00:00:00.000000",
          "2021-09-10T00:00:00.000000",
          "2021-09-13T00:00:00.000000",
          "2021-09-14T00:00:00.000000",
          "2021-09-15T00:00:00.000000",
          "2021-09-16T00:00:00.000000",
          "2021-09-17T00:00:00.000000",
          "2021-09-20T00:00:00.000000",
          "2021-09-21T00:00:00.000000",
          "2021-09-22T00:00:00.000000",
          "2021-09-23T00:00:00.000000",
          "2021-09-24T00:00:00.000000",
          "2021-09-27T00:00:00.000000",
          "2021-09-28T00:00:00.000000",
          "2021-09-29T00:00:00.000000",
          "2021-09-30T00:00:00.000000",
          "2021-10-01T00:00:00.000000",
          "2021-10-04T00:00:00.000000",
          "2021-10-05T00:00:00.000000",
          "2021-10-06T00:00:00.000000",
          "2021-10-07T00:00:00.000000",
          "2021-10-08T00:00:00.000000",
          "2021-10-11T00:00:00.000000",
          "2021-10-12T00:00:00.000000",
          "2021-10-13T00:00:00.000000",
          "2021-10-14T00:00:00.000000",
          "2021-10-15T00:00:00.000000",
          "2021-10-18T00:00:00.000000",
          "2021-10-19T00:00:00.000000",
          "2021-10-20T00:00:00.000000",
          "2021-10-21T00:00:00.000000",
          "2021-10-22T00:00:00.000000",
          "2021-10-25T00:00:00.000000",
          "2021-10-26T00:00:00.000000",
          "2021-10-27T00:00:00.000000",
          "2021-10-28T00:00:00.000000",
          "2021-10-29T00:00:00.000000",
          "2021-11-01T00:00:00.000000",
          "2021-11-02T00:00:00.000000",
          "2021-11-03T00:00:00.000000",
          "2021-11-04T00:00:00.000000",
          "2021-11-05T00:00:00.000000",
          "2021-11-08T00:00:00.000000",
          "2021-11-09T00:00:00.000000",
          "2021-11-10T00:00:00.000000",
          "2021-11-11T00:00:00.000000",
          "2021-11-12T00:00:00.000000",
          "2021-11-15T00:00:00.000000",
          "2021-11-16T00:00:00.000000",
          "2021-11-17T00:00:00.000000",
          "2021-11-18T00:00:00.000000",
          "2021-11-19T00:00:00.000000",
          "2021-11-22T00:00:00.000000",
          "2021-11-23T00:00:00.000000",
          "2021-11-24T00:00:00.000000",
          "2021-11-26T00:00:00.000000",
          "2021-11-29T00:00:00.000000",
          "2021-11-30T00:00:00.000000",
          "2021-12-01T00:00:00.000000",
          "2021-12-02T00:00:00.000000",
          "2021-12-03T00:00:00.000000",
          "2021-12-06T00:00:00.000000",
          "2021-12-07T00:00:00.000000",
          "2021-12-08T00:00:00.000000",
          "2021-12-09T00:00:00.000000",
          "2021-12-10T00:00:00.000000",
          "2021-12-13T00:00:00.000000",
          "2021-12-14T00:00:00.000000",
          "2021-12-15T00:00:00.000000",
          "2021-12-16T00:00:00.000000",
          "2021-12-17T00:00:00.000000",
          "2021-12-20T00:00:00.000000",
          "2021-12-21T00:00:00.000000",
          "2021-12-22T00:00:00.000000",
          "2021-12-23T00:00:00.000000",
          "2021-12-27T00:00:00.000000",
          "2021-12-28T00:00:00.000000",
          "2021-12-29T00:00:00.000000",
          "2021-12-30T00:00:00.000000",
          "2021-12-31T00:00:00.000000",
          "2022-01-03T00:00:00.000000",
          "2022-01-04T00:00:00.000000",
          "2022-01-05T00:00:00.000000",
          "2022-01-06T00:00:00.000000",
          "2022-01-07T00:00:00.000000",
          "2022-01-10T00:00:00.000000",
          "2022-01-11T00:00:00.000000",
          "2022-01-12T00:00:00.000000",
          "2022-01-13T00:00:00.000000",
          "2022-01-14T00:00:00.000000",
          "2022-01-18T00:00:00.000000",
          "2022-01-19T00:00:00.000000",
          "2022-01-20T00:00:00.000000",
          "2022-01-21T00:00:00.000000",
          "2022-01-24T00:00:00.000000",
          "2022-01-25T00:00:00.000000",
          "2022-01-26T00:00:00.000000",
          "2022-01-27T00:00:00.000000",
          "2022-01-28T00:00:00.000000",
          "2022-01-31T00:00:00.000000",
          "2022-02-01T00:00:00.000000",
          "2022-02-02T00:00:00.000000",
          "2022-02-03T00:00:00.000000",
          "2022-02-04T00:00:00.000000",
          "2022-02-07T00:00:00.000000",
          "2022-02-08T00:00:00.000000",
          "2022-02-09T00:00:00.000000",
          "2022-02-10T00:00:00.000000",
          "2022-02-11T00:00:00.000000",
          "2022-02-14T00:00:00.000000",
          "2022-02-15T00:00:00.000000",
          "2022-02-16T00:00:00.000000",
          "2022-02-17T00:00:00.000000",
          "2022-02-18T00:00:00.000000",
          "2022-02-22T00:00:00.000000",
          "2022-02-23T00:00:00.000000",
          "2022-02-24T00:00:00.000000",
          "2022-02-25T00:00:00.000000",
          "2022-02-28T00:00:00.000000",
          "2022-03-01T00:00:00.000000",
          "2022-03-02T00:00:00.000000",
          "2022-03-03T00:00:00.000000",
          "2022-03-04T00:00:00.000000",
          "2022-03-07T00:00:00.000000",
          "2022-03-08T00:00:00.000000",
          "2022-03-09T00:00:00.000000",
          "2022-03-10T00:00:00.000000",
          "2022-03-11T00:00:00.000000",
          "2022-03-14T00:00:00.000000",
          "2022-03-15T00:00:00.000000",
          "2022-03-16T00:00:00.000000",
          "2022-03-17T00:00:00.000000",
          "2022-03-18T00:00:00.000000",
          "2022-03-21T00:00:00.000000",
          "2022-03-22T00:00:00.000000",
          "2022-03-23T00:00:00.000000",
          "2022-03-24T00:00:00.000000",
          "2022-03-25T00:00:00.000000",
          "2022-03-28T00:00:00.000000",
          "2022-03-29T00:00:00.000000",
          "2022-03-30T00:00:00.000000",
          "2022-03-31T00:00:00.000000",
          "2022-04-01T00:00:00.000000",
          "2022-04-04T00:00:00.000000",
          "2022-04-05T00:00:00.000000",
          "2022-04-06T00:00:00.000000",
          "2022-04-07T00:00:00.000000",
          "2022-04-08T00:00:00.000000",
          "2022-04-11T00:00:00.000000",
          "2022-04-12T00:00:00.000000",
          "2022-04-13T00:00:00.000000",
          "2022-04-14T00:00:00.000000",
          "2022-04-18T00:00:00.000000",
          "2022-04-19T00:00:00.000000",
          "2022-04-20T00:00:00.000000",
          "2022-04-21T00:00:00.000000",
          "2022-04-22T00:00:00.000000",
          "2022-04-25T00:00:00.000000",
          "2022-04-26T00:00:00.000000",
          "2022-04-27T00:00:00.000000",
          "2022-04-28T00:00:00.000000",
          "2022-04-29T00:00:00.000000",
          "2022-05-02T00:00:00.000000",
          "2022-05-03T00:00:00.000000",
          "2022-05-04T00:00:00.000000",
          "2022-05-05T00:00:00.000000",
          "2022-05-06T00:00:00.000000",
          "2022-05-09T00:00:00.000000",
          "2022-05-10T00:00:00.000000",
          "2022-05-11T00:00:00.000000",
          "2022-05-12T00:00:00.000000",
          "2022-05-13T00:00:00.000000",
          "2022-05-16T00:00:00.000000",
          "2022-05-17T00:00:00.000000",
          "2022-05-18T00:00:00.000000",
          "2022-05-19T00:00:00.000000",
          "2022-05-20T00:00:00.000000",
          "2022-05-23T00:00:00.000000",
          "2022-05-24T00:00:00.000000",
          "2022-05-25T00:00:00.000000",
          "2022-05-26T00:00:00.000000",
          "2022-05-27T00:00:00.000000",
          "2022-05-31T00:00:00.000000",
          "2022-06-01T00:00:00.000000",
          "2022-06-02T00:00:00.000000",
          "2022-06-03T00:00:00.000000",
          "2022-06-06T00:00:00.000000",
          "2022-06-07T00:00:00.000000",
          "2022-06-08T00:00:00.000000",
          "2022-06-09T00:00:00.000000",
          "2022-06-10T00:00:00.000000",
          "2022-06-13T00:00:00.000000",
          "2022-06-14T00:00:00.000000",
          "2022-06-15T00:00:00.000000",
          "2022-06-16T00:00:00.000000",
          "2022-06-17T00:00:00.000000",
          "2022-06-21T00:00:00.000000",
          "2022-06-22T00:00:00.000000",
          "2022-06-23T00:00:00.000000",
          "2022-06-24T00:00:00.000000",
          "2022-06-27T00:00:00.000000",
          "2022-06-28T00:00:00.000000",
          "2022-06-29T00:00:00.000000",
          "2022-06-30T00:00:00.000000",
          "2022-07-01T00:00:00.000000",
          "2022-07-05T00:00:00.000000",
          "2022-07-06T00:00:00.000000",
          "2022-07-07T00:00:00.000000",
          "2022-07-08T00:00:00.000000",
          "2022-07-11T00:00:00.000000",
          "2022-07-12T00:00:00.000000",
          "2022-07-13T00:00:00.000000",
          "2022-07-14T00:00:00.000000",
          "2022-07-15T00:00:00.000000",
          "2022-07-18T00:00:00.000000",
          "2022-07-19T00:00:00.000000",
          "2022-07-20T00:00:00.000000",
          "2022-07-21T00:00:00.000000",
          "2022-07-22T00:00:00.000000",
          "2022-07-25T00:00:00.000000",
          "2022-07-26T00:00:00.000000",
          "2022-07-27T00:00:00.000000",
          "2022-07-28T00:00:00.000000",
          "2022-07-29T00:00:00.000000",
          "2022-08-01T00:00:00.000000",
          "2022-08-02T00:00:00.000000",
          "2022-08-03T00:00:00.000000",
          "2022-08-04T00:00:00.000000",
          "2022-08-05T00:00:00.000000",
          "2022-08-08T00:00:00.000000",
          "2022-08-09T00:00:00.000000",
          "2022-08-10T00:00:00.000000",
          "2022-08-11T00:00:00.000000",
          "2022-08-12T00:00:00.000000",
          "2022-08-15T00:00:00.000000",
          "2022-08-16T00:00:00.000000",
          "2022-08-17T00:00:00.000000",
          "2022-08-18T00:00:00.000000",
          "2022-08-19T00:00:00.000000",
          "2022-08-22T00:00:00.000000",
          "2022-08-23T00:00:00.000000",
          "2022-08-24T00:00:00.000000",
          "2022-08-25T00:00:00.000000",
          "2022-08-26T00:00:00.000000",
          "2022-08-29T00:00:00.000000",
          "2022-08-30T00:00:00.000000",
          "2022-08-31T00:00:00.000000",
          "2022-09-01T00:00:00.000000",
          "2022-09-02T00:00:00.000000",
          "2022-09-06T00:00:00.000000",
          "2022-09-07T00:00:00.000000",
          "2022-09-08T00:00:00.000000",
          "2022-09-09T00:00:00.000000",
          "2022-09-12T00:00:00.000000",
          "2022-09-13T00:00:00.000000",
          "2022-09-14T00:00:00.000000",
          "2022-09-15T00:00:00.000000",
          "2022-09-16T00:00:00.000000",
          "2022-09-19T00:00:00.000000",
          "2022-09-20T00:00:00.000000",
          "2022-09-21T00:00:00.000000",
          "2022-09-22T00:00:00.000000",
          "2022-09-23T00:00:00.000000",
          "2022-09-26T00:00:00.000000",
          "2022-09-27T00:00:00.000000",
          "2022-09-28T00:00:00.000000",
          "2022-09-29T00:00:00.000000",
          "2022-09-30T00:00:00.000000",
          "2022-10-03T00:00:00.000000",
          "2022-10-04T00:00:00.000000",
          "2022-10-05T00:00:00.000000",
          "2022-10-06T00:00:00.000000",
          "2022-10-07T00:00:00.000000",
          "2022-10-10T00:00:00.000000",
          "2022-10-11T00:00:00.000000",
          "2022-10-12T00:00:00.000000",
          "2022-10-13T00:00:00.000000",
          "2022-10-14T00:00:00.000000",
          "2022-10-17T00:00:00.000000",
          "2022-10-18T00:00:00.000000",
          "2022-10-19T00:00:00.000000",
          "2022-10-20T00:00:00.000000",
          "2022-10-21T00:00:00.000000",
          "2022-10-24T00:00:00.000000",
          "2022-10-25T00:00:00.000000",
          "2022-10-26T00:00:00.000000",
          "2022-10-27T00:00:00.000000",
          "2022-10-28T00:00:00.000000",
          "2022-10-31T00:00:00.000000",
          "2022-11-01T00:00:00.000000",
          "2022-11-02T00:00:00.000000",
          "2022-11-03T00:00:00.000000",
          "2022-11-04T00:00:00.000000",
          "2022-11-07T00:00:00.000000",
          "2022-11-08T00:00:00.000000",
          "2022-11-09T00:00:00.000000",
          "2022-11-10T00:00:00.000000",
          "2022-11-11T00:00:00.000000",
          "2022-11-14T00:00:00.000000",
          "2022-11-15T00:00:00.000000",
          "2022-11-16T00:00:00.000000",
          "2022-11-17T00:00:00.000000",
          "2022-11-18T00:00:00.000000",
          "2022-11-21T00:00:00.000000",
          "2022-11-22T00:00:00.000000",
          "2022-11-23T00:00:00.000000",
          "2022-11-25T00:00:00.000000",
          "2022-11-28T00:00:00.000000",
          "2022-11-29T00:00:00.000000",
          "2022-11-30T00:00:00.000000",
          "2022-12-01T00:00:00.000000",
          "2022-12-02T00:00:00.000000",
          "2022-12-05T00:00:00.000000",
          "2022-12-06T00:00:00.000000",
          "2022-12-07T00:00:00.000000",
          "2022-12-08T00:00:00.000000",
          "2022-12-09T00:00:00.000000",
          "2022-12-12T00:00:00.000000",
          "2022-12-13T00:00:00.000000",
          "2022-12-14T00:00:00.000000",
          "2022-12-15T00:00:00.000000",
          "2022-12-16T00:00:00.000000",
          "2022-12-19T00:00:00.000000",
          "2022-12-20T00:00:00.000000",
          "2022-12-21T00:00:00.000000",
          "2022-12-22T00:00:00.000000",
          "2022-12-23T00:00:00.000000",
          "2022-12-27T00:00:00.000000",
          "2022-12-28T00:00:00.000000",
          "2022-12-29T00:00:00.000000",
          "2022-12-30T00:00:00.000000",
          "2023-01-03T00:00:00.000000",
          "2023-01-04T00:00:00.000000",
          "2023-01-05T00:00:00.000000",
          "2023-01-06T00:00:00.000000",
          "2023-01-09T00:00:00.000000",
          "2023-01-10T00:00:00.000000",
          "2023-01-11T00:00:00.000000",
          "2023-01-12T00:00:00.000000",
          "2023-01-13T00:00:00.000000",
          "2023-01-17T00:00:00.000000",
          "2023-01-18T00:00:00.000000",
          "2023-01-19T00:00:00.000000",
          "2023-01-20T00:00:00.000000",
          "2023-01-23T00:00:00.000000",
          "2023-01-24T00:00:00.000000",
          "2023-01-25T00:00:00.000000",
          "2023-01-26T00:00:00.000000",
          "2023-01-27T00:00:00.000000",
          "2023-01-30T00:00:00.000000",
          "2023-01-31T00:00:00.000000",
          "2023-02-01T00:00:00.000000",
          "2023-02-02T00:00:00.000000",
          "2023-02-03T00:00:00.000000",
          "2023-02-06T00:00:00.000000",
          "2023-02-07T00:00:00.000000",
          "2023-02-08T00:00:00.000000",
          "2023-02-09T00:00:00.000000",
          "2023-02-10T00:00:00.000000",
          "2023-02-13T00:00:00.000000",
          "2023-02-14T00:00:00.000000",
          "2023-02-15T00:00:00.000000",
          "2023-02-16T00:00:00.000000",
          "2023-02-17T00:00:00.000000",
          "2023-02-21T00:00:00.000000",
          "2023-02-22T00:00:00.000000",
          "2023-02-23T00:00:00.000000",
          "2023-02-24T00:00:00.000000",
          "2023-02-27T00:00:00.000000",
          "2023-02-28T00:00:00.000000",
          "2023-03-01T00:00:00.000000",
          "2023-03-02T00:00:00.000000",
          "2023-03-03T00:00:00.000000",
          "2023-03-06T00:00:00.000000",
          "2023-03-07T00:00:00.000000",
          "2023-03-08T00:00:00.000000",
          "2023-03-09T00:00:00.000000",
          "2023-03-10T00:00:00.000000",
          "2023-03-13T00:00:00.000000",
          "2023-03-14T00:00:00.000000",
          "2023-03-15T00:00:00.000000",
          "2023-03-16T00:00:00.000000",
          "2023-03-17T00:00:00.000000",
          "2023-03-20T00:00:00.000000",
          "2023-03-21T00:00:00.000000",
          "2023-03-22T00:00:00.000000",
          "2023-03-23T00:00:00.000000",
          "2023-03-24T00:00:00.000000",
          "2023-03-27T00:00:00.000000",
          "2023-03-28T00:00:00.000000",
          "2023-03-29T00:00:00.000000",
          "2023-03-30T00:00:00.000000",
          "2023-03-31T00:00:00.000000",
          "2023-04-03T00:00:00.000000",
          "2023-04-04T00:00:00.000000",
          "2023-04-05T00:00:00.000000",
          "2023-04-06T00:00:00.000000",
          "2023-04-10T00:00:00.000000",
          "2023-04-11T00:00:00.000000",
          "2023-04-12T00:00:00.000000",
          "2023-04-13T00:00:00.000000",
          "2023-04-14T00:00:00.000000",
          "2023-04-17T00:00:00.000000",
          "2023-04-18T00:00:00.000000",
          "2023-04-19T00:00:00.000000",
          "2023-04-20T00:00:00.000000",
          "2023-04-21T00:00:00.000000",
          "2023-04-24T00:00:00.000000",
          "2023-04-25T00:00:00.000000",
          "2023-04-26T00:00:00.000000",
          "2023-04-27T00:00:00.000000",
          "2023-04-28T00:00:00.000000",
          "2023-05-01T00:00:00.000000",
          "2023-05-02T00:00:00.000000",
          "2023-05-03T00:00:00.000000",
          "2023-05-04T00:00:00.000000",
          "2023-05-05T00:00:00.000000",
          "2023-05-08T00:00:00.000000",
          "2023-05-09T00:00:00.000000",
          "2023-05-10T00:00:00.000000",
          "2023-05-11T00:00:00.000000",
          "2023-05-12T00:00:00.000000",
          "2023-05-15T00:00:00.000000",
          "2023-05-16T00:00:00.000000",
          "2023-05-17T00:00:00.000000",
          "2023-05-18T00:00:00.000000",
          "2023-05-19T00:00:00.000000",
          "2023-05-22T00:00:00.000000",
          "2023-05-23T00:00:00.000000",
          "2023-05-24T00:00:00.000000",
          "2023-05-25T00:00:00.000000",
          "2023-05-26T00:00:00.000000",
          "2023-05-30T00:00:00.000000",
          "2023-05-31T00:00:00.000000",
          "2023-06-01T00:00:00.000000",
          "2023-06-02T00:00:00.000000",
          "2023-06-05T00:00:00.000000",
          "2023-06-06T00:00:00.000000",
          "2023-06-07T00:00:00.000000",
          "2023-06-08T00:00:00.000000",
          "2023-06-09T00:00:00.000000",
          "2023-06-12T00:00:00.000000",
          "2023-06-13T00:00:00.000000",
          "2023-06-14T00:00:00.000000",
          "2023-06-15T00:00:00.000000",
          "2023-06-16T00:00:00.000000",
          "2023-06-20T00:00:00.000000",
          "2023-06-21T00:00:00.000000",
          "2023-06-22T00:00:00.000000",
          "2023-06-23T00:00:00.000000",
          "2023-06-26T00:00:00.000000",
          "2023-06-27T00:00:00.000000",
          "2023-06-28T00:00:00.000000",
          "2023-06-29T00:00:00.000000",
          "2023-06-30T00:00:00.000000",
          "2023-07-03T00:00:00.000000",
          "2023-07-05T00:00:00.000000",
          "2023-07-06T00:00:00.000000",
          "2023-07-07T00:00:00.000000",
          "2023-07-10T00:00:00.000000",
          "2023-07-11T00:00:00.000000",
          "2023-07-12T00:00:00.000000",
          "2023-07-13T00:00:00.000000",
          "2023-07-14T00:00:00.000000",
          "2023-07-17T00:00:00.000000",
          "2023-07-18T00:00:00.000000",
          "2023-07-19T00:00:00.000000",
          "2023-07-20T00:00:00.000000",
          "2023-07-21T00:00:00.000000",
          "2023-07-24T00:00:00.000000",
          "2023-07-25T00:00:00.000000",
          "2023-07-26T00:00:00.000000",
          "2023-07-27T00:00:00.000000",
          "2023-07-28T00:00:00.000000",
          "2023-07-31T00:00:00.000000",
          "2023-08-01T00:00:00.000000",
          "2023-08-02T00:00:00.000000",
          "2023-08-03T00:00:00.000000",
          "2023-08-04T00:00:00.000000",
          "2023-08-07T00:00:00.000000",
          "2023-08-08T00:00:00.000000",
          "2023-08-09T00:00:00.000000",
          "2023-08-10T00:00:00.000000",
          "2023-08-11T00:00:00.000000",
          "2023-08-14T00:00:00.000000",
          "2023-08-15T00:00:00.000000",
          "2023-08-16T00:00:00.000000",
          "2023-08-17T00:00:00.000000",
          "2023-08-18T00:00:00.000000",
          "2023-08-21T00:00:00.000000",
          "2023-08-22T00:00:00.000000",
          "2023-08-23T00:00:00.000000",
          "2023-08-24T00:00:00.000000",
          "2023-08-25T00:00:00.000000",
          "2023-08-28T00:00:00.000000",
          "2023-08-29T00:00:00.000000",
          "2023-08-30T00:00:00.000000",
          "2023-08-31T00:00:00.000000",
          "2023-09-01T00:00:00.000000",
          "2023-09-05T00:00:00.000000",
          "2023-09-06T00:00:00.000000",
          "2023-09-07T00:00:00.000000",
          "2023-09-08T00:00:00.000000",
          "2023-09-11T00:00:00.000000",
          "2023-09-12T00:00:00.000000",
          "2023-09-13T00:00:00.000000",
          "2023-09-14T00:00:00.000000",
          "2023-09-15T00:00:00.000000",
          "2023-09-18T00:00:00.000000",
          "2023-09-19T00:00:00.000000",
          "2023-09-20T00:00:00.000000",
          "2023-09-21T00:00:00.000000",
          "2023-09-22T00:00:00.000000",
          "2023-09-25T00:00:00.000000",
          "2023-09-26T00:00:00.000000",
          "2023-09-27T00:00:00.000000",
          "2023-09-28T00:00:00.000000",
          "2023-09-29T00:00:00.000000",
          "2023-10-02T00:00:00.000000",
          "2023-10-03T00:00:00.000000",
          "2023-10-04T00:00:00.000000",
          "2023-10-05T00:00:00.000000",
          "2023-10-06T00:00:00.000000",
          "2023-10-09T00:00:00.000000",
          "2023-10-10T00:00:00.000000",
          "2023-10-11T00:00:00.000000",
          "2023-10-12T00:00:00.000000",
          "2023-10-13T00:00:00.000000",
          "2023-10-16T00:00:00.000000",
          "2023-10-17T00:00:00.000000",
          "2023-10-18T00:00:00.000000",
          "2023-10-19T00:00:00.000000",
          "2023-10-20T00:00:00.000000",
          "2023-10-23T00:00:00.000000",
          "2023-10-24T00:00:00.000000",
          "2023-10-25T00:00:00.000000",
          "2023-10-26T00:00:00.000000",
          "2023-10-27T00:00:00.000000",
          "2023-10-30T00:00:00.000000",
          "2023-10-31T00:00:00.000000",
          "2023-11-01T00:00:00.000000",
          "2023-11-02T00:00:00.000000",
          "2023-11-03T00:00:00.000000",
          "2023-11-06T00:00:00.000000",
          "2023-11-07T00:00:00.000000",
          "2023-11-08T00:00:00.000000",
          "2023-11-09T00:00:00.000000",
          "2023-11-10T00:00:00.000000",
          "2023-11-13T00:00:00.000000",
          "2023-11-14T00:00:00.000000",
          "2023-11-15T00:00:00.000000",
          "2023-11-16T00:00:00.000000",
          "2023-11-17T00:00:00.000000",
          "2023-11-20T00:00:00.000000",
          "2023-11-21T00:00:00.000000",
          "2023-11-22T00:00:00.000000",
          "2023-11-24T00:00:00.000000",
          "2023-11-27T00:00:00.000000",
          "2023-11-28T00:00:00.000000",
          "2023-11-29T00:00:00.000000",
          "2023-11-30T00:00:00.000000",
          "2023-12-01T00:00:00.000000",
          "2023-12-04T00:00:00.000000",
          "2023-12-05T00:00:00.000000",
          "2023-12-06T00:00:00.000000",
          "2023-12-07T00:00:00.000000",
          "2023-12-08T00:00:00.000000",
          "2023-12-11T00:00:00.000000",
          "2023-12-12T00:00:00.000000",
          "2023-12-13T00:00:00.000000",
          "2023-12-14T00:00:00.000000",
          "2023-12-15T00:00:00.000000",
          "2023-12-18T00:00:00.000000",
          "2023-12-19T00:00:00.000000",
          "2023-12-20T00:00:00.000000",
          "2023-12-21T00:00:00.000000",
          "2023-12-22T00:00:00.000000",
          "2023-12-26T00:00:00.000000",
          "2023-12-27T00:00:00.000000",
          "2023-12-28T00:00:00.000000",
          "2023-12-29T00:00:00.000000",
          "2024-01-02T00:00:00.000000",
          "2024-01-03T00:00:00.000000",
          "2024-01-04T00:00:00.000000",
          "2024-01-05T00:00:00.000000",
          "2024-01-08T00:00:00.000000",
          "2024-01-09T00:00:00.000000",
          "2024-01-10T00:00:00.000000",
          "2024-01-11T00:00:00.000000",
          "2024-01-12T00:00:00.000000",
          "2024-01-16T00:00:00.000000",
          "2024-01-17T00:00:00.000000",
          "2024-01-18T00:00:00.000000",
          "2024-01-19T00:00:00.000000",
          "2024-01-22T00:00:00.000000",
          "2024-01-23T00:00:00.000000",
          "2024-01-24T00:00:00.000000",
          "2024-01-25T00:00:00.000000",
          "2024-01-26T00:00:00.000000",
          "2024-01-29T00:00:00.000000",
          "2024-01-30T00:00:00.000000",
          "2024-01-31T00:00:00.000000",
          "2024-02-01T00:00:00.000000",
          "2024-02-02T00:00:00.000000",
          "2024-02-05T00:00:00.000000",
          "2024-02-06T00:00:00.000000",
          "2024-02-07T00:00:00.000000",
          "2024-02-08T00:00:00.000000",
          "2024-02-09T00:00:00.000000",
          "2024-02-12T00:00:00.000000",
          "2024-02-13T00:00:00.000000",
          "2024-02-14T00:00:00.000000",
          "2024-02-15T00:00:00.000000",
          "2024-02-16T00:00:00.000000",
          "2024-02-20T00:00:00.000000",
          "2024-02-21T00:00:00.000000",
          "2024-02-22T00:00:00.000000",
          "2024-02-23T00:00:00.000000",
          "2024-02-26T00:00:00.000000",
          "2024-02-27T00:00:00.000000",
          "2024-02-28T00:00:00.000000",
          "2024-02-29T00:00:00.000000",
          "2024-03-01T00:00:00.000000",
          "2024-03-04T00:00:00.000000",
          "2024-03-05T00:00:00.000000",
          "2024-03-06T00:00:00.000000",
          "2024-03-07T00:00:00.000000",
          "2024-03-08T00:00:00.000000",
          "2024-03-11T00:00:00.000000",
          "2024-03-12T00:00:00.000000",
          "2024-03-13T00:00:00.000000",
          "2024-03-14T00:00:00.000000",
          "2024-03-15T00:00:00.000000",
          "2024-03-18T00:00:00.000000",
          "2024-03-19T00:00:00.000000",
          "2024-03-20T00:00:00.000000",
          "2024-03-21T00:00:00.000000",
          "2024-03-22T00:00:00.000000",
          "2024-03-25T00:00:00.000000",
          "2024-03-26T00:00:00.000000",
          "2024-03-27T00:00:00.000000",
          "2024-03-28T00:00:00.000000",
          "2024-04-01T00:00:00.000000",
          "2024-04-02T00:00:00.000000",
          "2024-04-03T00:00:00.000000",
          "2024-04-04T00:00:00.000000",
          "2024-04-05T00:00:00.000000",
          "2024-04-08T00:00:00.000000",
          "2024-04-09T00:00:00.000000",
          "2024-04-10T00:00:00.000000",
          "2024-04-11T00:00:00.000000",
          "2024-04-12T00:00:00.000000",
          "2024-04-15T00:00:00.000000",
          "2024-04-16T00:00:00.000000",
          "2024-04-17T00:00:00.000000",
          "2024-04-18T00:00:00.000000",
          "2024-04-19T00:00:00.000000",
          "2024-04-22T00:00:00.000000",
          "2024-04-23T00:00:00.000000",
          "2024-04-24T00:00:00.000000",
          "2024-04-25T00:00:00.000000",
          "2024-04-26T00:00:00.000000",
          "2024-04-29T00:00:00.000000",
          "2024-04-30T00:00:00.000000",
          "2024-05-01T00:00:00.000000",
          "2024-05-02T00:00:00.000000",
          "2024-05-03T00:00:00.000000",
          "2024-05-06T00:00:00.000000",
          "2024-05-07T00:00:00.000000",
          "2024-05-08T00:00:00.000000",
          "2024-05-09T00:00:00.000000",
          "2024-05-10T00:00:00.000000",
          "2024-05-13T00:00:00.000000",
          "2024-05-14T00:00:00.000000",
          "2024-05-15T00:00:00.000000",
          "2024-05-16T00:00:00.000000",
          "2024-05-17T00:00:00.000000",
          "2024-05-20T00:00:00.000000",
          "2024-05-21T00:00:00.000000",
          "2024-05-22T00:00:00.000000",
          "2024-05-23T00:00:00.000000",
          "2024-05-24T00:00:00.000000",
          "2024-05-28T00:00:00.000000",
          "2024-05-29T00:00:00.000000",
          "2024-05-30T00:00:00.000000",
          "2024-05-31T00:00:00.000000",
          "2024-06-03T00:00:00.000000",
          "2024-06-04T00:00:00.000000",
          "2024-06-05T00:00:00.000000",
          "2024-06-06T00:00:00.000000",
          "2024-06-07T00:00:00.000000",
          "2024-06-10T00:00:00.000000",
          "2024-06-11T00:00:00.000000",
          "2024-06-12T00:00:00.000000",
          "2024-06-13T00:00:00.000000",
          "2024-06-14T00:00:00.000000",
          "2024-06-17T00:00:00.000000",
          "2024-06-18T00:00:00.000000",
          "2024-06-20T00:00:00.000000",
          "2024-06-21T00:00:00.000000",
          "2024-06-24T00:00:00.000000",
          "2024-06-25T00:00:00.000000",
          "2024-06-26T00:00:00.000000",
          "2024-06-27T00:00:00.000000",
          "2024-06-28T00:00:00.000000",
          "2024-07-01T00:00:00.000000",
          "2024-07-02T00:00:00.000000",
          "2024-07-03T00:00:00.000000",
          "2024-07-05T00:00:00.000000",
          "2024-07-08T00:00:00.000000",
          "2024-07-09T00:00:00.000000",
          "2024-07-10T00:00:00.000000",
          "2024-07-11T00:00:00.000000",
          "2024-07-12T00:00:00.000000",
          "2024-07-15T00:00:00.000000",
          "2024-07-16T00:00:00.000000",
          "2024-07-17T00:00:00.000000",
          "2024-07-18T00:00:00.000000",
          "2024-07-19T00:00:00.000000",
          "2024-07-22T00:00:00.000000",
          "2024-07-23T00:00:00.000000",
          "2024-07-24T00:00:00.000000",
          "2024-07-25T00:00:00.000000",
          "2024-07-26T00:00:00.000000",
          "2024-07-29T00:00:00.000000",
          "2024-07-30T00:00:00.000000",
          "2024-07-31T00:00:00.000000",
          "2024-08-01T00:00:00.000000",
          "2024-08-02T00:00:00.000000",
          "2024-08-05T00:00:00.000000",
          "2024-08-06T00:00:00.000000",
          "2024-08-07T00:00:00.000000",
          "2024-08-08T00:00:00.000000",
          "2024-08-09T00:00:00.000000",
          "2024-08-12T00:00:00.000000",
          "2024-08-13T00:00:00.000000",
          "2024-08-14T00:00:00.000000",
          "2024-08-15T00:00:00.000000",
          "2024-08-16T00:00:00.000000",
          "2024-08-19T00:00:00.000000",
          "2024-08-20T00:00:00.000000",
          "2024-08-21T00:00:00.000000",
          "2024-08-22T00:00:00.000000",
          "2024-08-23T00:00:00.000000",
          "2024-08-26T00:00:00.000000",
          "2024-08-27T00:00:00.000000",
          "2024-08-28T00:00:00.000000",
          "2024-08-29T00:00:00.000000",
          "2024-08-30T00:00:00.000000",
          "2024-09-03T00:00:00.000000",
          "2024-09-04T00:00:00.000000",
          "2024-09-05T00:00:00.000000",
          "2024-09-06T00:00:00.000000",
          "2024-09-09T00:00:00.000000",
          "2024-09-10T00:00:00.000000",
          "2024-09-11T00:00:00.000000",
          "2024-09-12T00:00:00.000000",
          "2024-09-13T00:00:00.000000",
          "2024-09-16T00:00:00.000000",
          "2024-09-17T00:00:00.000000",
          "2024-09-18T00:00:00.000000",
          "2024-09-19T00:00:00.000000",
          "2024-09-20T00:00:00.000000",
          "2024-09-23T00:00:00.000000",
          "2024-09-24T00:00:00.000000",
          "2024-09-25T00:00:00.000000",
          "2024-09-26T00:00:00.000000",
          "2024-09-27T00:00:00.000000",
          "2024-09-30T00:00:00.000000",
          "2024-10-01T00:00:00.000000",
          "2024-10-02T00:00:00.000000",
          "2024-10-03T00:00:00.000000",
          "2024-10-04T00:00:00.000000",
          "2024-10-07T00:00:00.000000",
          "2024-10-08T00:00:00.000000",
          "2024-10-09T00:00:00.000000",
          "2024-10-10T00:00:00.000000",
          "2024-10-11T00:00:00.000000",
          "2024-10-14T00:00:00.000000",
          "2024-10-15T00:00:00.000000",
          "2024-10-16T00:00:00.000000",
          "2024-10-17T00:00:00.000000",
          "2024-10-18T00:00:00.000000",
          "2024-10-21T00:00:00.000000",
          "2024-10-22T00:00:00.000000",
          "2024-10-23T00:00:00.000000",
          "2024-10-24T00:00:00.000000",
          "2024-10-25T00:00:00.000000",
          "2024-10-28T00:00:00.000000",
          "2024-10-29T00:00:00.000000",
          "2024-10-30T00:00:00.000000",
          "2024-10-31T00:00:00.000000",
          "2024-11-01T00:00:00.000000",
          "2024-11-04T00:00:00.000000",
          "2024-11-05T00:00:00.000000",
          "2024-11-06T00:00:00.000000",
          "2024-11-07T00:00:00.000000",
          "2024-11-08T00:00:00.000000",
          "2024-11-11T00:00:00.000000",
          "2024-11-12T00:00:00.000000",
          "2024-11-13T00:00:00.000000",
          "2024-11-14T00:00:00.000000",
          "2024-11-15T00:00:00.000000",
          "2024-11-18T00:00:00.000000",
          "2024-11-19T00:00:00.000000",
          "2024-11-20T00:00:00.000000",
          "2024-11-21T00:00:00.000000",
          "2024-11-22T00:00:00.000000",
          "2024-11-25T00:00:00.000000",
          "2024-11-26T00:00:00.000000",
          "2024-11-27T00:00:00.000000",
          "2024-11-29T00:00:00.000000",
          "2024-12-02T00:00:00.000000",
          "2024-12-03T00:00:00.000000",
          "2024-12-04T00:00:00.000000",
          "2024-12-05T00:00:00.000000",
          "2024-12-06T00:00:00.000000",
          "2024-12-09T00:00:00.000000",
          "2024-12-10T00:00:00.000000",
          "2024-12-11T00:00:00.000000",
          "2024-12-12T00:00:00.000000",
          "2024-12-13T00:00:00.000000",
          "2024-12-16T00:00:00.000000",
          "2024-12-17T00:00:00.000000",
          "2024-12-18T00:00:00.000000",
          "2024-12-19T00:00:00.000000",
          "2024-12-20T00:00:00.000000",
          "2024-12-23T00:00:00.000000",
          "2024-12-24T00:00:00.000000",
          "2024-12-26T00:00:00.000000",
          "2024-12-27T00:00:00.000000",
          "2024-12-30T00:00:00.000000",
          "2024-12-31T00:00:00.000000",
          "2025-01-02T00:00:00.000000",
          "2025-01-03T00:00:00.000000",
          "2025-01-06T00:00:00.000000",
          "2025-01-07T00:00:00.000000",
          "2025-01-08T00:00:00.000000",
          "2025-01-10T00:00:00.000000",
          "2025-01-13T00:00:00.000000",
          "2025-01-14T00:00:00.000000",
          "2025-01-15T00:00:00.000000",
          "2025-01-16T00:00:00.000000",
          "2025-01-17T00:00:00.000000",
          "2025-01-21T00:00:00.000000",
          "2025-01-22T00:00:00.000000",
          "2025-01-23T00:00:00.000000",
          "2025-01-24T00:00:00.000000",
          "2025-01-27T00:00:00.000000",
          "2025-01-28T00:00:00.000000",
          "2025-01-29T00:00:00.000000",
          "2025-01-30T00:00:00.000000",
          "2025-01-31T00:00:00.000000",
          "2025-02-03T00:00:00.000000",
          "2025-02-04T00:00:00.000000",
          "2025-02-05T00:00:00.000000",
          "2025-02-06T00:00:00.000000",
          "2025-02-07T00:00:00.000000",
          "2025-02-10T00:00:00.000000",
          "2025-02-11T00:00:00.000000",
          "2025-02-12T00:00:00.000000",
          "2025-02-13T00:00:00.000000",
          "2025-02-14T00:00:00.000000",
          "2025-02-18T00:00:00.000000",
          "2025-02-19T00:00:00.000000",
          "2025-02-20T00:00:00.000000",
          "2025-02-21T00:00:00.000000",
          "2025-02-24T00:00:00.000000",
          "2025-02-25T00:00:00.000000",
          "2025-02-26T00:00:00.000000",
          "2025-02-27T00:00:00.000000",
          "2025-02-28T00:00:00.000000",
          "2025-03-03T00:00:00.000000",
          "2025-03-04T00:00:00.000000",
          "2025-03-05T00:00:00.000000",
          "2025-03-06T00:00:00.000000",
          "2025-03-07T00:00:00.000000",
          "2025-03-10T00:00:00.000000",
          "2025-03-11T00:00:00.000000",
          "2025-03-12T00:00:00.000000",
          "2025-03-13T00:00:00.000000",
          "2025-03-14T00:00:00.000000",
          "2025-03-17T00:00:00.000000",
          "2025-03-18T00:00:00.000000",
          "2025-03-19T00:00:00.000000",
          "2025-03-20T00:00:00.000000",
          "2025-03-21T00:00:00.000000",
          "2025-03-24T00:00:00.000000",
          "2025-03-25T00:00:00.000000",
          "2025-03-26T00:00:00.000000",
          "2025-03-27T00:00:00.000000",
          "2025-03-28T00:00:00.000000",
          "2025-03-31T00:00:00.000000",
          "2025-04-01T00:00:00.000000",
          "2025-04-02T00:00:00.000000",
          "2025-04-03T00:00:00.000000",
          "2025-04-04T00:00:00.000000",
          "2025-04-07T00:00:00.000000",
          "2025-04-08T00:00:00.000000",
          "2025-04-09T00:00:00.000000",
          "2025-04-10T00:00:00.000000",
          "2025-04-11T00:00:00.000000",
          "2025-04-14T00:00:00.000000",
          "2025-04-15T00:00:00.000000",
          "2025-04-16T00:00:00.000000",
          "2025-04-17T00:00:00.000000",
          "2025-04-21T00:00:00.000000",
          "2025-04-22T00:00:00.000000",
          "2025-04-23T00:00:00.000000",
          "2025-04-24T00:00:00.000000",
          "2025-04-25T00:00:00.000000",
          "2025-04-28T00:00:00.000000",
          "2025-04-29T00:00:00.000000",
          "2025-04-30T00:00:00.000000",
          "2025-05-01T00:00:00.000000",
          "2025-05-02T00:00:00.000000",
          "2025-05-05T00:00:00.000000",
          "2025-05-06T00:00:00.000000",
          "2025-05-07T00:00:00.000000",
          "2025-05-08T00:00:00.000000",
          "2025-05-09T00:00:00.000000",
          "2025-05-12T00:00:00.000000",
          "2025-05-13T00:00:00.000000",
          "2025-05-14T00:00:00.000000",
          "2025-05-15T00:00:00.000000",
          "2025-05-16T00:00:00.000000",
          "2025-05-19T00:00:00.000000",
          "2025-05-20T00:00:00.000000",
          "2025-05-21T00:00:00.000000",
          "2025-05-22T00:00:00.000000",
          "2025-05-23T00:00:00.000000",
          "2025-05-27T00:00:00.000000",
          "2025-05-28T00:00:00.000000",
          "2025-05-29T00:00:00.000000",
          "2025-05-30T00:00:00.000000",
          "2025-06-02T00:00:00.000000",
          "2025-06-03T00:00:00.000000",
          "2025-06-04T00:00:00.000000",
          "2025-06-05T00:00:00.000000",
          "2025-06-06T00:00:00.000000",
          "2025-06-09T00:00:00.000000",
          "2025-06-10T00:00:00.000000",
          "2025-06-11T00:00:00.000000",
          "2025-06-12T00:00:00.000000",
          "2025-06-13T00:00:00.000000",
          "2025-06-16T00:00:00.000000",
          "2025-06-17T00:00:00.000000",
          "2025-06-18T00:00:00.000000",
          "2025-06-20T00:00:00.000000",
          "2025-06-23T00:00:00.000000",
          "2025-06-24T00:00:00.000000",
          "2025-06-25T00:00:00.000000",
          "2025-06-26T00:00:00.000000",
          "2025-06-27T00:00:00.000000",
          "2025-06-30T00:00:00.000000",
          "2025-07-01T00:00:00.000000",
          "2025-07-02T00:00:00.000000",
          "2025-07-03T00:00:00.000000",
          "2025-07-07T00:00:00.000000",
          "2025-07-08T00:00:00.000000",
          "2025-07-09T00:00:00.000000",
          "2025-07-10T00:00:00.000000",
          "2025-07-11T00:00:00.000000",
          "2025-07-14T00:00:00.000000",
          "2025-07-15T00:00:00.000000",
          "2025-07-16T00:00:00.000000",
          "2025-07-17T00:00:00.000000",
          "2025-07-18T00:00:00.000000",
          "2025-07-21T00:00:00.000000",
          "2025-07-22T00:00:00.000000",
          "2025-07-23T00:00:00.000000",
          "2025-07-24T00:00:00.000000",
          "2025-07-25T00:00:00.000000",
          "2025-07-28T00:00:00.000000",
          "2025-07-29T00:00:00.000000",
          "2025-07-30T00:00:00.000000",
          "2025-07-31T00:00:00.000000",
          "2025-08-01T00:00:00.000000",
          "2025-08-04T00:00:00.000000",
          "2025-08-05T00:00:00.000000",
          "2025-08-06T00:00:00.000000",
          "2025-08-07T00:00:00.000000",
          "2025-08-08T00:00:00.000000",
          "2025-08-11T00:00:00.000000",
          "2025-08-12T00:00:00.000000",
          "2025-08-13T00:00:00.000000",
          "2025-08-14T00:00:00.000000",
          "2025-08-15T00:00:00.000000",
          "2025-08-18T00:00:00.000000",
          "2025-08-19T00:00:00.000000",
          "2025-08-20T00:00:00.000000",
          "2025-08-21T00:00:00.000000",
          "2025-08-22T00:00:00.000000",
          "2025-08-25T00:00:00.000000",
          "2025-08-26T00:00:00.000000",
          "2025-08-27T00:00:00.000000",
          "2025-08-28T00:00:00.000000"
         ],
         "y": {
          "bdata": "AAAAAACIw0A/W3FWEWLDQFPwcgredMNAzKSBIP9mw0DXctOdUoHDQDWbEpQXo8NAxwOlkcWUw0BO+aSeTrfDQBAr5aCDr8NAb/SvUye7w0D9mgJv6uTDQGzn1ZGz9MNA/VpuutPqw0DZamkwbevDQHjh4V+F8cNAhr4/kZjDw0DWdAWQnnLDQLffEGXBpsNAplwI9Zuiw0CSb+NxLbPDQFUcLVtcV8NAC7ypCwd8w0DQhgtdNcjDQIutUr3nAsRAqMlv8xYUxEA46ZkDiPjDQNSJ+OwcH8RA4xcHiLQnxED9vgGAKEnEQJV5IXaUQ8RAAT349glMxEC8cksLfD7EQOI/u0/lVsRA+jUF3tRBxEDLRKMRHQzEQDYf8LM3YsNA5YNVjcnLwkCQNqAxFrrCQDjjYYju4sFA6AideKrPwUBBCG0JI5XCQBuD++a1DMJAg5ACfPPOwkD9rcPZHC/CQA8WoXEq4sFAVzjC/jR8wEBFXCz0rFbBQOAD3FFBfsBAqnPP6BvVvUAF+OZk9TDAQOrnOSV51rxArX0N7YJlvkCCgfbHM9u8QOR9HRIw67xAH04PAseru0ARl+LTvfa6QPn2iSIkaL1ADvAenEXZvUCKGDf3O5e/QAkv+LJApr5AoaIygJalv0BJs4ecwyy/QCqv+YCfxb1AIPI2fDJ1vkBAFg/yoQS+QL+QY3N7BMBAg1amQnYIwEChVPzigJLAQMbUToO60sBApDFnnYOrwEDeY2mOSCnBQO0YE/gqzMBAReS+yr/gwECWjOLgRlXBQO3UyYwhB8FA0741pOaCwEBF5L7Kv+DAQAJjesxu4MBAse56dMscwUDKabsbwVvBQLlHqrNjR8FA2/q2RkC7wUBoCOgSCpHBQP5VoAr7GcFATbuTrt4lwUAaBm87lU7BQEA2WUxtMMFANuL3vK1lwUBD7Cg4Ja/BQGBpPXYcsMFAz9GlPL5VwUA4ko8tTAfBQFt+3wDAO8FAcchG1QNQwUCXmFLX+dbBQITkcJQiqMFAL/tO/sP0wUAFkbfhE9XBQF7cix3W3cFAWAYhBfgVwkBqGXeL8FrCQA/Ook8uUsJAo94RfjpnwkD69FcwWHrCQMie+NKKocJAZhzCdiLhwkCxkB8qENTCQLgEekHAT8NA1j1FFK6Lw0Cj18AJO2bDQEiDGJVSSsNARqL4I90twkALryAcbmXCQL/Dbjh5kcJAxeWMKcbswkBGFrGW19jCQC0Xk8/B2sJAaT12nC6/wkAX4QVfFt7CQBxo0A4e9MJAv/outGl4wkBLt40lEavCQKd/7gx0OcJAdP3UXih+wkBi9u7O4rrCQBxU9qqF3MJAd/M4//b2wkDRb5U7EELDQKX8KeY5D8NA7O7ba1M0w0Ca1rSZRBjDQPzFUvQnSsNA+ZR5IXYfw0Dn4zOcK1/DQJaFkWzHjMNAE/gqruB7w0C4wDDWtorDQEayHdECs8NAKLXgKd69w0BTydc7k9rDQHAgaqSlncNAv7NJi1N9w0CBo3IUy6HDQLWCzhPsgcNAw/j8wZ2/w0DfbD3Hbq3DQI9OL0wh1cNA7CvUYl34w0DLRKMRHQzEQOlejlUALMRAsMGnKudOxEAyBqb7kFLEQL0aKDzaYcRA17H9hqg2xEAtsGNM4H7EQObwvIvEdcRAMq6CLO91xEDaPxmrL4bEQO1LHr2okcRAPL6aUKV7xECOQr9V7ovEQPfQB02/nsRAhgtdNUjUxECk3N+L7ubEQJFM/VlVHMVA353Fx0UoxUDxvaQ9V0vFQGmyRwiPN8VA1pLMJcNqxUD26JZnyrnFQIsxMN2H+sRAIMZ8K7TOxEBcdPLOMz3EQI1WmbmGo8RA8bnvhuRHxEAAiJLWkkrEQDuzQ1PYjsRAhNqDYpapxEBP/9wZaJTEQCKXd+8DZsRAuKDme+spxEBTKEx/tPDDQJwYzBKCJMRA+SDBrvusw0A+622aibrDQICH3XDyC8RANhifPzhhxECYQrLM/kTEQLrlmbI1bMRAfn8iMbKNxEB4xUy8rFvEQDLfCi1GuMRA6dqwNeBsxEC0twvLtcfEQLXz6sjZ9sRA2tQ0cdsmxUB7egOv/n3FQEnJ5MQCWsVAtW8Nqbk3xUDYn6bnNjHFQJrc7BTeLcVA58khvXnbxEDFl1aMsPDEQLZU4tCh5sRAtzxTthYExUCkBJRTHxbFQNXp1vt+ssRApqBRYCWgxEBx5fRxwuvDQAaTOqa6H8RA391ZfNzpw0CZTzu8FyPEQLcl3ZTxfcRAPuttmgnzxEDlDAFdwlvFQNcH72N+WsVAPxSMLXufxUAc+k8XPZfFQNv0fssmwMVAaYLYAB6KxUAawQzXpdbFQGQF+4IiHMZAizXlk/r9xUDtrBXF8LnFQI13/Ay40cVAiFEpZXirxUBfd99em8zFQLbJszyCJsZAZ86L2YwdxkBsleo9qy3GQIeALqEoFMZAg35aCidSxkBuhi9cRl7GQMsGkiGtXMZAn7cl3RSOxkCzr1CL9YHGQCwBNqcCk8ZANwr9VjlfxkBRCRseT13GQIGJYDWZVsZAQ2cyHx89xkA4J6vz94nGQCwBNqcCk8ZAOqMepjKzxkDKzU7hFZzGQM43a/Reh8ZAX6sDHX99xkDYaOZrxoLGQLv/q5FnmcZAMXt3Z/HKxkCtrXz087/GQNfvDncYyMZAeI6MQLzlxkDUSWQ4BpbGQNDoG17jvcZA9pQoT5vgxkDwW5Q8qTfHQPqKjO9pWcdAC1Cs2Ewxx0BvYjBLiDLHQNVygst3QsdANRJnxJ4tx0D7r/XLaALHQDJU3JimMMdAViidUY+Cx0BpdDYYH4jHQOCfSIzscsdANK1pM4mKx0CqbH50HIHHQORRY8Ex7sZAzEOKGLcgx0CnEocO+anGQM/4QAuJCsdA7UXmQQ9ex0CCy3eu1mLHQMpG1QPppsdAbjkSuJa+x0DXkJozd+rHQBsH2QZW5sdAZlrTZpLjx0DKlo5lpe3HQPI3lSvrC8hA1a96woEGyEDVZODi+AfIQMFaDcPL7cdA5n+g1tbix0A2Kd3lw7PHQNho5mtGu8dAVWB2xmX+x0B9GPOtUGrHQCNuqi5tS8dAdknZCfLbx0CQ1agpTqzHQA6Bhav+W8dAHj8DTgcSx0CSYlqClH7HQE75pJ7OYMdAXJfY5gu2x0B2SdkJ8tvHQM18zVjOGchA5EZdlj8iyECa5tlG6kbIQFXcmKZFP8hANr74q29UyEBjpRx0wPnHQJtW3QJy7sdANcKtYmIfyECK3tq9vu7HQJm5Bv2Fz8dAJddcdvXxx0CCe75MmlTIQNsykLuWUchA8B+1PgVByEA+uuWZMlrIQLWJH4hrnchAmhr+BM73yEBtz0Z3KPTIQHBYQxl8+8hAlvlJ38EZyUCz6azEckjJQCgpmZzYSslAIPbrMiVeyUDZ7dyEzEfJQG7vkNFzjclAyoPN+nKjyUBwJB9bGIPJQOv54ZZFU8lAYPWEA6KQyUA3bA1Y51TJQFaEddcjm8lAjv516uSoyUCOSRDKbafJQFJP501/pclALbP/CW3PyUBPhlb3FKTJQCOPDYIesslATPSFHJuJyUCH7q6YiYvJQAok8ofOv8lAhxKuqcfvyUBnBUxV/a3JQE2VEdl5c8lAUofAwtXoyEBKW2TNoTXJQDx6UeWbmMlApmC9qw6IyUASqHFMpE/JQDshxEq5PslAL2xrszGEyUBp3ZeNzH7JQFmqSH9jwclAqZGWfsCyyUAKJPKHzr/JQDyX/4Faw8lAPisCTyDPyUCUZN1GO8nJQNzsFF7B08lAFFVt/zW7yUB9S/5yTvfJQEda+gHh8MlAUEvhxDHyyUDZgvhKeOjJQI5iCbA5B8pAX+3Jw2ESykAPBnzEBCHKQMrwNPntFMpAO1XoCJ3vyUBmzAgVZu3JQPbFsE/yk8lAbROQ4rHxyUANcnn3PhXKQDHtrBVFDcpASVQTWaI0ykDsMiXXXEzKQDH90cLqWcpAsUHQk5RdykBmRHY+U2PKQKLme+ufiMpA4Zp63JO8ykAGC6jPJ7DKQOMufalZyMpAMq6CLG+QykDD8atNHtnKQN+Cmu+t8cpA1jI/6TvaykDmdbOkSuTKQIDwj7j6zMpArzT20SCXykDAiPkFljLKQFwwqWOqkspA4uPiydDJykBRe1DMItjKQAP6GFfBHstAKVK3L8ovy0BKpeWzRBDLQPItqPleDctAHkKfCxQqy0DELYtLQgjLQLPL5S7O+cpABAPtj+cxy0BnbZTRxA/LQHzL1QmhO8tAQhoVe+9Gy0B9n2yLfUHLQJVp/MjuSctA+y60aVVby0AxCluyg3DLQFdX818afctARGrO3KuNy0C2uHWWdl/LQAV6QcDuEstATgJ513Qdy0Aic3jexVTLQOMr4etMkstAVYHZGZedy0AChmDkRqzLQMjYVAyIgstAjFpOcHnBy0B8fyIxsuDLQIC0sLpW1stAoq+7by/ay0C5wrOa3e/LQCB/lwIe7stAhSehBsbUy0DW4oWH/8vLQMLNrDxgrctArNtoN751y0ABKR6TcYfLQJR91iyHYctAUrhIwyycy0CLaQlS3pDLQL/rIgAqTMtAFjaNcKvXykAxKqUMT9HKQG60G58QFMtAsbpWtmdoy0APhCFpC3TLQPo5upTHX8tANfM1Y7nSykCc+IG4Nt7KQKWvDEIKispAtEI6X9XaykBxHc7mGILKQHFth0jVyMpAsg2s1TDlykDhvnnt0SDLQG60G58QFMtAHT2AieDhykA6ZiavKNHKQK0Eh8qv6cpA0beTXYxdy0BoLmro7pLLQPw+2Rb7p8tA9LMI3qXey0BSHNyIgfrLQLuqJIBSDcxAbWRiPdQFzEAUVW3/NSzMQJkXYkfBMsxANWgHz5kSzEB+rPV6FljMQHqCbRzkZsxAVP4U81xzzECp38wb1pDMQJIRiCdyvcxAFfNc/gfgzEBK2QlyqPnMQCzRxp8RAM1AYzkfQYbnzEAsTNCGC6zMQP7AhERPrsxAc/y7ZcLlzEA2+W3eUujMQD8dYGahBc1AsIrnrnbzzEBK4t2qzgzNQFLV9l9r/8xAtogGj4XqzEAtUe8IP/TMQKkMoGU6CM1AfHdn8XFizEAACu0xjLvMQGASM6BgLMxAIj9UIGLcy0B5mvw2b0nMQKvcgTCkCsxAIwAqN4xfzECFE8eirfXMQA8zTw5pCc1AY5oWSU7XzEC5LrHNlxzNQPAuwfLE2sxAHMnHFuanzEAyd8KwfhrNQLY0mHbW2MxAeypKTUKKzECxllelqTzMQAPTfYj2vMxAXZp0pJgGzUDpS83qzTTNQFG1rAWgns1At2aKQm6YzUCGPOU1H6LNQJweBI4bjc1A7w53mPl5zUAFbbjQ1aXNQJx9eNE8o81A4GdvF5YRzUDMZnAwjwrNQB94Ro4e7cxA4vQgcNzjzEClgSD/PyfNQGbSQJB/O81AYzBLCGDUzEBbXpWmdNfMQJweBI6bVMxAS94o9FsJzEDzVsaM0LnLQB1NpTaGLstAxyekogNMy0ARl+LTvfbKQKrRKjNX5cpArPLeWGPDykCBhat+pm3LQETOYaIA7MtAAz5iwkoczEAwuqFQR2LMQNMQIfhut8tAQLFiM+fYy0AcmVgP9cHLQOEPTEh0/MtA1wLQ4UplzEC5eUutoOLLQIqtUr3nVctAXVnH9hs/y0D1i1QWda/LQNMQIfhut8tAGDus8t4fy0Dvm9ce5fLKQPtFKov6qMpAYNU6qdYvykA59Qn6upTKQPAB7qjgKstAUPdyrAIZy0A0S1kyW6/KQBqEFOAbLctAlqI/CYYKy0D6rXIHQtLKQBVlkqzbB8pAgGyymFrVyUAXG2KYk4bKQAQGiU30Z8pAxnI+ggwSykDYDSffF+HJQNvMygP2cspAle3Z6A4Jy0ACdjs3oV/LQE5DJoVxrMtAHIV+q1yqy0BbwihsSf3LQJAwaLb8oMtAIWcI6JILzEAzh+ddpC7MQO04XVL2YcxAmpijqdS7zECKrVK9Z47MQFCwjYPsHcxACtlXqEUyzEBjDEz3IXDMQITuXcYuFMxAbl0RyVTMy0BTUWoSJvDLQFA0a6MM3ctA4O8B7ihjy0DDqa0rIknLQFd20+4kmctA5yThSShBy0CWqZB9BUTLQG5JN2W8tMtA9YtUFnWvy0BCZa9aeEXLQOklSxXphcpAAY2xWEatykC6BeQMgefJQITdHyAj+slAMwLxRB6iykCCRP7QKabJQJJv43GtzclADgoxe/fryUAFyxMbEbbKQKUcdEAFw8lAj8k4M5ubyUBYJmtfw8nIQAo/HWBm2MhAN1vPsVtzyECymNpp0GzIQOOiNRxUAslAb09v4FXoyEBwEEX3f2vJQG2OmckrZchAvWENZfA+yEDJG4V+q0HIQNpWj8zUtchAxu1HaYaFyEDoLzhH9bzIQPQhidWGO8lAbv+1fhnayUB+GnZy97TJQN1nHkW7f8lAFNGP3xX8yUAaq6+u5o7JQO+H/brMoslAswn3Hr7hyUCmtCvEvZnJQDyloWrZ/chA2eknzllEyEAu85O+g1jHQO0xDN52RsdAYkGJrmubx0DyN5Ura9PGQMF3u18K4MZAwMNuOHlzx0A2zh1ZlWjHQJrn8j9Qo8dAwdJ67LhjyEB7KTFU3EvIQDkGSKDGzMdAA8qpT9DHx0DdM/qGV5bHQBZAeqI31sdAejGbwcHhx0DQ6BteY/bHQLIaNcVJUshAhy5DTSBNyEDvY/6pDgbIQD2EPheoz8dAep8buaKvx0AkqAZo6qDHQFjTFUB6FMhAg20cZJvhx0AqAMzbwYbIQMdVkOXNrshA5a2MGSHvyED0Va2T6rPIQItFCkGgu8hAKI0sYq1wyEDAUTmKJRPJQDdWsC+oY8lAdBMyh2fCyUAynUSG467JQK19De2Cg8lANm0mUc3pyUCSg73VReXJQBgGbzsV2slAfwLnV2zSyUBwIGqkJbjJQNWzL3l0QspA1bMveXRCykAZott1QLTKQLmL8x5t0MpABH72duHdykC64xbuDq3KQDvHHbfwwMpAtMrMNehkykCI/tNFL9jJQNAIZrguyMlAs/7w80vdyUDmtmBSxzrKQExiBhR8V8lAqXogXZssyUBUMSC42uXIQEwYhS1ZtchAJAn+bzLJyEBHyHr5QYbIQKLVPUWUbshAjO3mcf7eyEDO1nPslgjJQEsMFTcmbMlAzpXGPhqyyUB9LlDWD5TIQLmbGMwSrMhARtUD6VpkyEAIQDZZzDTIQCoNVcvaZMhAYDnObisdyEC4rW9rhLHHQJV2hbiHfsdAtS5g+7wZx0CZqvpIRt/GQFEXvQZO0MZAqUb8njdDx0B18bU60MbGQIYQK+WgbMZAPNJ0tD0Ex0BJKtzMyrrHQNFCwvGrrMdA9CBw3CBux0B18bU60MbGQIaXpMJNmsZAeuq1mKt1xkBxpWC9q2LGQOTlZY73+cZANrQLeuNzxkB6lS6HlgfHQNApyQvgTMdAtliXh5Qix0DwC9va7PDGQKq3GFSlf8dAWoyB6T7Jx0AHYZmsfSrIQJFPmRfi+8dApp21ohjbx0B2P+zXZWzIQKzpCiA9P8hAJWncfhQkyECMGaHC/IjHQEE2WUztSsdALOSHCsSgx0DDZWTAmNrHQPvUDdaM+8dAPrStHhl9x0AyuG9ee8fIQE2SdRvtBMlAoNoL9WzOyEC2F+rZlwTJQMGKfMq808hAz+V/oFbAyED9+XayC93IQOEd7jDzxchAQKE9hkEbyUDCQn6owEPJQBaHX8tNQslAavLbvCXbyEA3Cv1WOdDIQKLrmm1TmMlAZ4emsHaTyUAaVQ+k64vJQGFyEa9CFslA/FGaga25yEBqIMj/767IQDepBU9x4MhAUSGqONqwyEAKhgKJ/AvJQLqRK5qGPMlAZjCc2joTyUCT5jeiNHbIQJ+Qig5KLMhA1LGstM33x0CZliDlLQDIQNLVq8ULXMhARgel4hcDyEBGr4ETdibIQB7O5pgZDshAbI+ywpHBx0CrSgIoBS/IQAbNlt+3HshAPYCJYLUEyEDWNvSfLjTIQCrggYF27cdAZxBSgO95yEAynUSGY3bIQEXnWohMoshAkh4RFwvyyED6t185TgnJQFrKktkuIslAW0q7QlwWyUDz6+FS/LDIQFrq3DP6gshA7P8ZEt/3yEA89VrMlUTJQCbgMK+bPclA7QQ5lBJAyUAz6mEqE4fJQHppdDYYlslADwBESetDyUCMKt9oCKPJQBsEPUnJ6MlAnfdov1BJykAe4acDzAHKQFCCoUAi2clAayXngaMvykD90cLqWubJQFPEuLnfrMlAMtKBPS28yUBew5I3ignKQLqOj9x5BspAKq/5gB8cykBQuWG8EsDJQLaLokySr8lAiOng6LAryUCL09SSzCLJQMszZWsRRclAw1yQh/L/yEAqQXmJvhXJQN5v2YT7/chAa9F4aXTlyECKP9LFBhfJQOgCZf0QfslAOPOGNZSCyUCIoHj7cx7JQHwvac/1KMlAXCa8MR6yyEBS3EfU6lbIQP/M9DoCTshAaOAzS9m0yECvwsAjTY3IQL8pNPCZ+8hAUjXVbs2wyEDrIH1lkO3IQPX1H1djQclAjW0P2yvTyECqiSwRW+TIQDYcVPYqDslAK2Cq6iMayUDE8JJUuAvJQFsaTDvraMlAaHyghQSPyUCOL/7qO+vJQNah2NmCBMpA2mzs9JPfyUBzkwkeOs7JQJ49Ne8A6MlAaZWZa9DuyUAE2bUDkPDJQCAjv3yJ1clARbfrgFstykBNVGQr/RzKQOLOnpr3NMpAjvSIuFg5ykDOrDxgPzjKQBkNwK+UE8pAmPL4asIYykADAWrLwB/KQLAjuCuVtclA/cGdPbWZyUB8lBWOMBzKQJZP6uk8VcpAy/eFbW1OykCTay67ugLKQD7rbZoJ1clA1j1FFC6myUADAWrLwB/KQPI9zaaEIcpA6BnbHjYEykDdZgVMVSPKQNaqrBKpF8pA1GxKUN4OykCfY7fE5SXKQGdgC+Ir+clAJw4d8uVJykAnnmoIuYrKQLgRAzHZgMpAcdIzB5CDykBT+l88ajfKQP0P1NrKBspA8cZ4dn1AykCYlJ0gh5fKQKyKltwbmspAN6PN01d0ykD/7VeOs7TKQFBCDYyLF8tApgYXGEYKy0Docf7tVxnLQFP3w35dActA34nrYy0ry0C3BZM6pjfLQMEc/NLbdstAmosaujuly0AIYxxxpK3LQCnjHT+DBcxAXCMgdBHty0BqKrUx/MfLQPwz0+uIo8tAizsdDxS9y0AEPUnJZIfLQIlXYeCRastAIuIRz4y3y0D8R61PIbvLQFOIKo4W18tATuXKOjYrzEBu69sagTPMQNy5CZnDKMxASxXpb0zwy0BgTajSQ97LQEsV6W9M8MtAU8S4ud8dzEA6K7F8xVfMQIkD88dikcxAPCf8xdKMzEAqeDkFL6bMQNcvoyuv3MxAdHGN0SLtzEA9Y9vD9rvMQD1j28P2u8xAI+1ozNnczEA+XyYNBPHMQFCMjnIu8sxAbncjqAbBzEB4uMPMEwnNQEKF+bRDF81Aat8aUvMBzUDGhhjmpJrMQDBifoGlhcxApw25XqBkzECkwEroFaTMQDCtGGEuhMxAOAyAG2BTzED39AZe/VXMQEKTm53CUcxANvbRIMZ5zEASzHBd4iTMQF6N67T/78tAW9w6S3u5y0CUd56x7bzLQHc2aXEa68tAg31BEcHXy0A7TpeUHSfMQHyXsUs9w8tAfCkxVFz1y0COKK12vCLMQFg6RcPbisxANB6G6PaozECi7LNmOZ7MQIyVw6Lcq8xAYCsshiyMzEB+FsG7BFvMQNzsFF7BRMxAu9usgKlPzECfT91gTX/MQFfzX5pFV8xAw7Y2G7tfzEDuqXkHZJ7MQOLJ0OoeRsxAQh7KMWJKzEBUrCmfVDvMQK6cPk7o+MtAHNKbT4yCy0CymfNitnLLQK1ZDtxEkMtAIKFkIZAoy0DUOT+LYCvLQLUkc8mwU8tA4rHw/bhCy0CDEl3X7D/LQEsylwyL4spAS8QWFaoUy0Di1NYVERLLQEgWsZZXZMtAdt3b1jeRy0DRW7vX97XLQOrjhG4G08tAE98xyJSny0BgCEZuVITLQEkORylyzstAsZO75xzOy0B6/o/8Q2/LQGyIYU6SMctAGmnpBwTcykB3Cq8gHNDKQBsczGPUA8tANWG2WpqgykCqG6wZ+k7KQD3lNR9wMMpAG28hg52AykAlyFDCNavKQAPdaroC9MpAxuWMKUZ4y0BEh3x5arjLQD7+LgW8yMtA/05Plvvcy0AnJxbYMeLLQGdCREyHqstAFEyZxg8ZzED3Dhk9LxLMQHDjca2bncxARKGOWBytzEA7j0RCGrbMQCpBeYk+v8xAAo80He33zEAA3ADvwefMQI056xxIBM1ALg8pYtwIzUCL+4haffvMQDV3E4PZAs1AuqUF/p79zEDK8U3y0xrNQCf5KZXnRs1AYosKlY4fzUBi1qR0Fx7NQNfXf1wNAM1AXSz0rLc4zUDB204l31jNQNInlxkUds1Asj401oeYzUC7veXqBAHOQH4tN92pGc5AXQj1m/kMzkDpT4KhQDjOQPGztwtLZ85AqXFMJHX7zUAzjR/ZPUTOQAM3EU7LU85A7+j0wpR0zkBr5DnUpoLOQGk62t6hhc5AiKMUuQBvzkC42kK1aEPOQF3evQ8iBM5AoJbCiWPrzUBBLGwa4fXNQCnaSQZdY85Af1O5so5XzkDmlhb4e4POQAL1+dQNgM5AHX0UPneFzkDxaB0swmjOQLoa12l/Pc5AKGP11VWCzkAkCf5vsuPOQFvZno1u9M5AzK5uUosLz0B/G+A9OBTPQLdpJgB7P89Ar04IsVI1z0BfRNSZnXTPQBwDJFBjbs9AI37P2xLrzkAKWBZGslLPQJ5DbWoap89AoG8nu5iJz0BUxjt+BqHPQLkdcyeM5M9APXacLinoz0DJy8scrwvQQDGc2rriCdBA9DGugqyiz0ClBhcYRuzPQEhmavhTEtBAfuyJL637z0AHfMSElc7PQFrq3DP61c9Axv6FD1I/0EAgANlkMULQQOdaiMzyMtBA1M1BWKY60EASZ8SeJzXQQF0OLRcTRNBAMeAjJixr0EDh7wHuqGbQQF2ZW6uyPNBAmyZu+8BR0ECPPgqfO3vQQEngWubnYdBAxYcx30pe0EDo/q9GXovQQGja+8+/hNBATHIrwWF80EAvTCFZZl/QQDhR4n9PeNBAliSaZL+P0EBjzjoH8rbQQIWo4mgZxdBAXGZQ5vS80EC0adUtILHQQNRGyHo5qdBAuLALKRHN0ECT93VIQMzQQO8tVyfExNBAxeLwa3mp0EALDXxmKa7QQNQeFLMIetBA3iypEhim0ECo7/HIe6jQQOC1pbRrrdBANhxU9qqC0ECqL4Z9kqLQQJ+tOKvIZ9BA24DGWCwz0EA7VegInSvQQMUsclIcE9BAr+z3r6QK0ECVBWkDms3PQKXbxpJIDNBA9RPn7Ac90EARJzDqEDvQQKPaXMdHK9BAxX1ErX5S0EAX1xgtSmHQQMhKirrbHtBAJMH/TXYR0EAcDRGC7zfQQM6CBdRna9BAUxgn0s6W0ECYQrLMfpvQQCwf/Tznm9BA98rP0WW00EANK5TO6LnQQJZBSAF+utBA0AXK+iHO0EDEJ1PQaAPRQHUsK21z+tBAtePFG7QA0UDoCzk2twXRQNPUksxlENFAVwSeQNED0UAzTHIrAeTQQBAFY8ueANFAtcN7wagD0UCa/DZvKeXQQG7oP110yNBAlCloFJjv0EDHnHUOJPPQQK4HI4j899BAAr45WZ0r0UBc39YIiCvRQJE82KwvJtFAgIMour8z0UBv6sIhWz7RQOgwUUCbYtFA4KgcxZJr0UCZaU2bSW7RQJDVqCnOkdFApfXYcTqd0UDAn28n+5DRQHIOEwX0itFAa+juill80UCF8OCKlY3RQJUoTxsyk9FA+w5qD0qa0UD9ziYtjojRQOZYBQjMkdFAY31orA+w0UDSXleVRMTRQI3RoqCA3tFAB4+F78fj0UCvFi88POjRQG0cZBuYFdJAyhQ0Cqzt0UDpxFMNoQrSQLRmOXBTF9JAKW9lzMgy0kDvI2r1d/HRQD9hqdEqztFAwjxGLeev0UAzsAXxld7RQCjrh6xo19FA5mWO9+Rv0UApSeP2o1jRQJN0AvRgitFAT9NzmwSN0UAh9dI5P3bRQLPCEfbnvtFAlGoVwpR+0UAa6KelMCvRQLczf30wq9BA0ST7W4fS0ECorkQbv7XQQPfuzuKjGNFA7rshefAr0UAUoAffPi7RQLlvXnuUdtFA3V0xE6+E0UAmF/EqjNHRQCuUzqjH29FASS6Rg30H0kBRaysf/f/RQLuj0wvTD9JA8e0TRYjr0UA/JjSfRxzSQGpzHR85EdJApgJiYZMX0kBlF6P0rvzRQKNwkYYZ/dFAsqZ8Ug8p0kD/XnRDYcnRQMXveVsSwNFA8Dxj2wO10UDboBCzt2jRQJKJ9VCfmtFAeFQwBz+u0UD4K8fZrdzRQOxjrdczA9JAJTM1/Ekb0kDtAITdHyLSQCqFwvQHJNJAnBF7nkIW0kC/8Vp7Q2XSQJavyPgeXdJAQ0qEguBo0kCMsnE/W3bSQDwC5Lvua9JAWL873KF+0kDl/l50w3fSQEfbO2S0itJAO+TLUy9g0kByysmZKmLSQLq/F92QWdJAEnRNjkCE0kBuAlI8ZlnSQLd9AGTThdJAoBu5oqmm0kDZrC/XT57SQLkDYUjautJA3KZILhHi0kAE7HZugrzSQKJMknVb0dJA4KWAB8bR0kCwpRKHTuTSQHsT1Ctd3NJAuhYis8zZ0kAIFv/MtK3SQAdrht4JuNJAZ/8T2mO20kBj1Yt7McXSQPYmqFf6zNJAQHC1hWq+0kCGoZH0WWDSQAgPrlg1dNJAAX6lpAZq0kDHyUhYCKPSQEmm/qyqGdNAEf34XXk/00DoGMIl0FTTQNc126aIWdNAqMwLsSNK00AdDPiIiUzTQPY/oT3GLNNALiBnCOjt0kAGEeBKwQHTQAE9+PaJE9NATCUOHTIV00BdG7YGbC/TQJdKHDqkPtNA0KTS8llP00BPvi9sK2nTQGFMj9kdWtNAwahDYOF400C7qiSA0oHTQIsLrgcjhNNAh4AuoSij00C7c2QE4prTQD6M+VZopNNAGZQ5jYGK00BI6kcY9HrTQOYUvJyCodNAwRz80puH00CmKf0vnobTQCfCaRn3m9NAKqJwkUaH00DbRVEmSfLSQN0aAaHL8NJAB3koxwgr00AM/9l9akjTQPgjXWxIf9NAkZ7orZ1/00AdV5JoEkvTQIeKG9O0EtNAitTti/IA00Dpid7a/fTSQNuWI4GrMdNAIEtzRPpN00Bstk2RHBbTQM6IPU9BHdNACXNBHorS0kADwLwdBNrSQNjdt9em4NJATM3qTZA400BwHc7mGC/TQEr2tw5nYNNABOjBt8+N00D83kva86nTQMfgvnltxdNAyYAxPaa200DtNKibQ2/TQO1RVjgCmtNAWQJsToWD00D0DshqVJ7TQP7gzp6ag9NAmHwOBvxh00BnZkNdRYPTQCm3Y+6El9NAN2+pFfSo00D3BCwL43rTQKOIcXO/nNNAxw2Sw5Gg00BwYRdSYpDTQHsj+dhCxdNAiYfQ5wLF00AtxsB039PTQCSULATS39NAQrLM/qfK00CGzmQ+/nPTQLCHS/EpXdNAjlgcfq1E00BT8w7IKkfTQM+1EJll+NJArCDLmy1E00CLVS/uxe3SQC4ZFpRotNJA4I4K5uDn0kD5fhz59pHSQEjOsnSbrNJAEw+hz0Ut0kB+lphSlwbSQJ7Fx8UTH9JARQi+2z3h0UCOFewLyj/SQGi5mHzOY9JA6tb7fu0w0kDHeHb9pWPSQDHJrQQHVtJA2Fx2dZNX0kApx4ibqqvSQJDM1PAnt9JAf02BN/V90kCs+S/NYnHSQNbBIjROEtJAfCkxVFwx0kDYkzbxgz7SQNNTUWoSXNJAicXh13J00UAGHmk62m7QQLjXpvdbZ9BA7cOL5pUl0EDDeT4ksdfRQFusy0OKD9FAvLpJLXhd0UBQPljVmIjRQH3qBmsGfNFAUpqBLYgY0UDo1Hi6xh7RQCsTjUZ0ttBAVOPpGsUl0UCccnKmymnRQLqetImfx9FAnyhCkoLo0UA6bF4qQurRQAg3YiAmB9JAR1nhCPsI0kDiJalwsynSQPEk1MC4btJAZXxPs6lT0kBC2WfNcizSQIA7KpgDQNJAzkosX5Fg0kAqrF3DklrSQGOypWPZ9dJAzolWSOcV00BkxE3VJRzTQFJgJfQKNNNAnaaWZC5T00C5LrHNl1jTQCg9cwDxR9NA9mOgTsT00kDdZIKHrvbSQAY/zI2L1dJABWPLnsk500B28bU6UB3TQMG3TxShMNNAAFHSWiIr00AWEAubxkbTQA4Hlb3qYtNAsBxnt5Vh00AboixIm0nTQKRKYINPfNNAoEE7eM6A00Dm9Yo7HZ3TQHdeHTnLjtNATDtrRbGi00ACLLpQfmrTQPorGKzImdNAV0Qy9edu00CDcLghKG7TQMubrefYU9NAEyJiOriE00CYwXBq67vTQJ9TkhfAvtNAWHEFP0zm00BJ1m20m//TQMCI+QUWGNRAyyNAvmsW1EAyqWOquy3UQPzzPjdyVtRAFqpF46Uv1EARGCQ20SzUQA+hzwXKS9RAFLPISXFa1ECPXNE0IEjUQKXbxpIIUtRAraSou8071EBui/0LH03UQObGhf/sbNRAGsXBjRhp1EAxRLfrAHPUQAYYMb/Ac9RAn2TQvUug1EA4qOxVC6LUQNi9bX1buNRAe9M/dwa31ECktl22CanUQNAieJdgotRAoSSN24+O1EB3HXCLTjjUQKv/Z0j8htRAXrDRzFds1ED6BZbWY5TUQKTtHTL6j9RABbOEAAa51EBlHdtviK7UQPzpUQXm5tRAgkBJGjf51EBmeJr8tvnUQJMkSZIk7dRAgPfgLPrr1EBnbxeW687UQEaVbzTEwNRAbe+Q0XOr1EC4x4FKtvzUQLvH0hwR5dRA/7u2lHb71EA7lXy9swfVQJe/7aXEGtVA",
          "dtype": "f8"
         }
        }
       ],
       "layout": {
        "hovermode": "x unified",
        "template": {
         "data": {
          "bar": [
           {
            "error_x": {
             "color": "#2a3f5f"
            },
            "error_y": {
             "color": "#2a3f5f"
            },
            "marker": {
             "line": {
              "color": "white",
              "width": 0.5
             },
             "pattern": {
              "fillmode": "overlay",
              "size": 10,
              "solidity": 0.2
             }
            },
            "type": "bar"
           }
          ],
          "barpolar": [
           {
            "marker": {
             "line": {
              "color": "white",
              "width": 0.5
             },
             "pattern": {
              "fillmode": "overlay",
              "size": 10,
              "solidity": 0.2
             }
            },
            "type": "barpolar"
           }
          ],
          "carpet": [
           {
            "aaxis": {
             "endlinecolor": "#2a3f5f",
             "gridcolor": "#C8D4E3",
             "linecolor": "#C8D4E3",
             "minorgridcolor": "#C8D4E3",
             "startlinecolor": "#2a3f5f"
            },
            "baxis": {
             "endlinecolor": "#2a3f5f",
             "gridcolor": "#C8D4E3",
             "linecolor": "#C8D4E3",
             "minorgridcolor": "#C8D4E3",
             "startlinecolor": "#2a3f5f"
            },
            "type": "carpet"
           }
          ],
          "choropleth": [
           {
            "colorbar": {
             "outlinewidth": 0,
             "ticks": ""
            },
            "type": "choropleth"
           }
          ],
          "contour": [
           {
            "colorbar": {
             "outlinewidth": 0,
             "ticks": ""
            },
            "colorscale": [
             [
              0,
              "#0d0887"
             ],
             [
              0.1111111111111111,
              "#46039f"
             ],
             [
              0.2222222222222222,
              "#7201a8"
             ],
             [
              0.3333333333333333,
              "#9c179e"
             ],
             [
              0.4444444444444444,
              "#bd3786"
             ],
             [
              0.5555555555555556,
              "#d8576b"
             ],
             [
              0.6666666666666666,
              "#ed7953"
             ],
             [
              0.7777777777777778,
              "#fb9f3a"
             ],
             [
              0.8888888888888888,
              "#fdca26"
             ],
             [
              1,
              "#f0f921"
             ]
            ],
            "type": "contour"
           }
          ],
          "contourcarpet": [
           {
            "colorbar": {
             "outlinewidth": 0,
             "ticks": ""
            },
            "type": "contourcarpet"
           }
          ],
          "heatmap": [
           {
            "colorbar": {
             "outlinewidth": 0,
             "ticks": ""
            },
            "colorscale": [
             [
              0,
              "#0d0887"
             ],
             [
              0.1111111111111111,
              "#46039f"
             ],
             [
              0.2222222222222222,
              "#7201a8"
             ],
             [
              0.3333333333333333,
              "#9c179e"
             ],
             [
              0.4444444444444444,
              "#bd3786"
             ],
             [
              0.5555555555555556,
              "#d8576b"
             ],
             [
              0.6666666666666666,
              "#ed7953"
             ],
             [
              0.7777777777777778,
              "#fb9f3a"
             ],
             [
              0.8888888888888888,
              "#fdca26"
             ],
             [
              1,
              "#f0f921"
             ]
            ],
            "type": "heatmap"
           }
          ],
          "histogram": [
           {
            "marker": {
             "pattern": {
              "fillmode": "overlay",
              "size": 10,
              "solidity": 0.2
             }
            },
            "type": "histogram"
           }
          ],
          "histogram2d": [
           {
            "colorbar": {
             "outlinewidth": 0,
             "ticks": ""
            },
            "colorscale": [
             [
              0,
              "#0d0887"
             ],
             [
              0.1111111111111111,
              "#46039f"
             ],
             [
              0.2222222222222222,
              "#7201a8"
             ],
             [
              0.3333333333333333,
              "#9c179e"
             ],
             [
              0.4444444444444444,
              "#bd3786"
             ],
             [
              0.5555555555555556,
              "#d8576b"
             ],
             [
              0.6666666666666666,
              "#ed7953"
             ],
             [
              0.7777777777777778,
              "#fb9f3a"
             ],
             [
              0.8888888888888888,
              "#fdca26"
             ],
             [
              1,
              "#f0f921"
             ]
            ],
            "type": "histogram2d"
           }
          ],
          "histogram2dcontour": [
           {
            "colorbar": {
             "outlinewidth": 0,
             "ticks": ""
            },
            "colorscale": [
             [
              0,
              "#0d0887"
             ],
             [
              0.1111111111111111,
              "#46039f"
             ],
             [
              0.2222222222222222,
              "#7201a8"
             ],
             [
              0.3333333333333333,
              "#9c179e"
             ],
             [
              0.4444444444444444,
              "#bd3786"
             ],
             [
              0.5555555555555556,
              "#d8576b"
             ],
             [
              0.6666666666666666,
              "#ed7953"
             ],
             [
              0.7777777777777778,
              "#fb9f3a"
             ],
             [
              0.8888888888888888,
              "#fdca26"
             ],
             [
              1,
              "#f0f921"
             ]
            ],
            "type": "histogram2dcontour"
           }
          ],
          "mesh3d": [
           {
            "colorbar": {
             "outlinewidth": 0,
             "ticks": ""
            },
            "type": "mesh3d"
           }
          ],
          "parcoords": [
           {
            "line": {
             "colorbar": {
              "outlinewidth": 0,
              "ticks": ""
             }
            },
            "type": "parcoords"
           }
          ],
          "pie": [
           {
            "automargin": true,
            "type": "pie"
           }
          ],
          "scatter": [
           {
            "fillpattern": {
             "fillmode": "overlay",
             "size": 10,
             "solidity": 0.2
            },
            "type": "scatter"
           }
          ],
          "scatter3d": [
           {
            "line": {
             "colorbar": {
              "outlinewidth": 0,
              "ticks": ""
             }
            },
            "marker": {
             "colorbar": {
              "outlinewidth": 0,
              "ticks": ""
             }
            },
            "type": "scatter3d"
           }
          ],
          "scattercarpet": [
           {
            "marker": {
             "colorbar": {
              "outlinewidth": 0,
              "ticks": ""
             }
            },
            "type": "scattercarpet"
           }
          ],
          "scattergeo": [
           {
            "marker": {
             "colorbar": {
              "outlinewidth": 0,
              "ticks": ""
             }
            },
            "type": "scattergeo"
           }
          ],
          "scattergl": [
           {
            "marker": {
             "colorbar": {
              "outlinewidth": 0,
              "ticks": ""
             }
            },
            "type": "scattergl"
           }
          ],
          "scattermap": [
           {
            "marker": {
             "colorbar": {
              "outlinewidth": 0,
              "ticks": ""
             }
            },
            "type": "scattermap"
           }
          ],
          "scattermapbox": [
           {
            "marker": {
             "colorbar": {
              "outlinewidth": 0,
              "ticks": ""
             }
            },
            "type": "scattermapbox"
           }
          ],
          "scatterpolar": [
           {
            "marker": {
             "colorbar": {
              "outlinewidth": 0,
              "ticks": ""
             }
            },
            "type": "scatterpolar"
           }
          ],
          "scatterpolargl": [
           {
            "marker": {
             "colorbar": {
              "outlinewidth": 0,
              "ticks": ""
             }
            },
            "type": "scatterpolargl"
           }
          ],
          "scatterternary": [
           {
            "marker": {
             "colorbar": {
              "outlinewidth": 0,
              "ticks": ""
             }
            },
            "type": "scatterternary"
           }
          ],
          "surface": [
           {
            "colorbar": {
             "outlinewidth": 0,
             "ticks": ""
            },
            "colorscale": [
             [
              0,
              "#0d0887"
             ],
             [
              0.1111111111111111,
              "#46039f"
             ],
             [
              0.2222222222222222,
              "#7201a8"
             ],
             [
              0.3333333333333333,
              "#9c179e"
             ],
             [
              0.4444444444444444,
              "#bd3786"
             ],
             [
              0.5555555555555556,
              "#d8576b"
             ],
             [
              0.6666666666666666,
              "#ed7953"
             ],
             [
              0.7777777777777778,
              "#fb9f3a"
             ],
             [
              0.8888888888888888,
              "#fdca26"
             ],
             [
              1,
              "#f0f921"
             ]
            ],
            "type": "surface"
           }
          ],
          "table": [
           {
            "cells": {
             "fill": {
              "color": "#EBF0F8"
             },
             "line": {
              "color": "white"
             }
            },
            "header": {
             "fill": {
              "color": "#C8D4E3"
             },
             "line": {
              "color": "white"
             }
            },
            "type": "table"
           }
          ]
         },
         "layout": {
          "annotationdefaults": {
           "arrowcolor": "#2a3f5f",
           "arrowhead": 0,
           "arrowwidth": 1
          },
          "autotypenumbers": "strict",
          "coloraxis": {
           "colorbar": {
            "outlinewidth": 0,
            "ticks": ""
           }
          },
          "colorscale": {
           "diverging": [
            [
             0,
             "#8e0152"
            ],
            [
             0.1,
             "#c51b7d"
            ],
            [
             0.2,
             "#de77ae"
            ],
            [
             0.3,
             "#f1b6da"
            ],
            [
             0.4,
             "#fde0ef"
            ],
            [
             0.5,
             "#f7f7f7"
            ],
            [
             0.6,
             "#e6f5d0"
            ],
            [
             0.7,
             "#b8e186"
            ],
            [
             0.8,
             "#7fbc41"
            ],
            [
             0.9,
             "#4d9221"
            ],
            [
             1,
             "#276419"
            ]
           ],
           "sequential": [
            [
             0,
             "#0d0887"
            ],
            [
             0.1111111111111111,
             "#46039f"
            ],
            [
             0.2222222222222222,
             "#7201a8"
            ],
            [
             0.3333333333333333,
             "#9c179e"
            ],
            [
             0.4444444444444444,
             "#bd3786"
            ],
            [
             0.5555555555555556,
             "#d8576b"
            ],
            [
             0.6666666666666666,
             "#ed7953"
            ],
            [
             0.7777777777777778,
             "#fb9f3a"
            ],
            [
             0.8888888888888888,
             "#fdca26"
            ],
            [
             1,
             "#f0f921"
            ]
           ],
           "sequentialminus": [
            [
             0,
             "#0d0887"
            ],
            [
             0.1111111111111111,
             "#46039f"
            ],
            [
             0.2222222222222222,
             "#7201a8"
            ],
            [
             0.3333333333333333,
             "#9c179e"
            ],
            [
             0.4444444444444444,
             "#bd3786"
            ],
            [
             0.5555555555555556,
             "#d8576b"
            ],
            [
             0.6666666666666666,
             "#ed7953"
            ],
            [
             0.7777777777777778,
             "#fb9f3a"
            ],
            [
             0.8888888888888888,
             "#fdca26"
            ],
            [
             1,
             "#f0f921"
            ]
           ]
          },
          "colorway": [
           "#636efa",
           "#EF553B",
           "#00cc96",
           "#ab63fa",
           "#FFA15A",
           "#19d3f3",
           "#FF6692",
           "#B6E880",
           "#FF97FF",
           "#FECB52"
          ],
          "font": {
           "color": "#2a3f5f"
          },
          "geo": {
           "bgcolor": "white",
           "lakecolor": "white",
           "landcolor": "white",
           "showlakes": true,
           "showland": true,
           "subunitcolor": "#C8D4E3"
          },
          "hoverlabel": {
           "align": "left"
          },
          "hovermode": "closest",
          "mapbox": {
           "style": "light"
          },
          "paper_bgcolor": "white",
          "plot_bgcolor": "white",
          "polar": {
           "angularaxis": {
            "gridcolor": "#EBF0F8",
            "linecolor": "#EBF0F8",
            "ticks": ""
           },
           "bgcolor": "white",
           "radialaxis": {
            "gridcolor": "#EBF0F8",
            "linecolor": "#EBF0F8",
            "ticks": ""
           }
          },
          "scene": {
           "xaxis": {
            "backgroundcolor": "white",
            "gridcolor": "#DFE8F3",
            "gridwidth": 2,
            "linecolor": "#EBF0F8",
            "showbackground": true,
            "ticks": "",
            "zerolinecolor": "#EBF0F8"
           },
           "yaxis": {
            "backgroundcolor": "white",
            "gridcolor": "#DFE8F3",
            "gridwidth": 2,
            "linecolor": "#EBF0F8",
            "showbackground": true,
            "ticks": "",
            "zerolinecolor": "#EBF0F8"
           },
           "zaxis": {
            "backgroundcolor": "white",
            "gridcolor": "#DFE8F3",
            "gridwidth": 2,
            "linecolor": "#EBF0F8",
            "showbackground": true,
            "ticks": "",
            "zerolinecolor": "#EBF0F8"
           }
          },
          "shapedefaults": {
           "line": {
            "color": "#2a3f5f"
           }
          },
          "ternary": {
           "aaxis": {
            "gridcolor": "#DFE8F3",
            "linecolor": "#A2B1C6",
            "ticks": ""
           },
           "baxis": {
            "gridcolor": "#DFE8F3",
            "linecolor": "#A2B1C6",
            "ticks": ""
           },
           "bgcolor": "white",
           "caxis": {
            "gridcolor": "#DFE8F3",
            "linecolor": "#A2B1C6",
            "ticks": ""
           }
          },
          "title": {
           "x": 0.05
          },
          "xaxis": {
           "automargin": true,
           "gridcolor": "#EBF0F8",
           "linecolor": "#EBF0F8",
           "ticks": "",
           "title": {
            "standoff": 15
           },
           "zerolinecolor": "#EBF0F8",
           "zerolinewidth": 2
          },
          "yaxis": {
           "automargin": true,
           "gridcolor": "#EBF0F8",
           "linecolor": "#EBF0F8",
           "ticks": "",
           "title": {
            "standoff": 15
           },
           "zerolinecolor": "#EBF0F8",
           "zerolinewidth": 2
          }
         }
        },
        "title": {
         "text": "Total Return: MSFT vs SPY (Growth of $10,000)"
        },
        "xaxis": {
         "title": {
          "text": "Date"
         }
        },
        "yaxis": {
         "title": {
          "text": "Value of $10,000 Investment ($)"
         }
        }
       }
      },
      "text/html": [
       "<div>                        <script type=\"text/javascript\">window.PlotlyConfig = {MathJaxConfig: 'local'};</script>\n",
       "        <script charset=\"utf-8\" src=\"https://cdn.plot.ly/plotly-3.1.0.min.js\" integrity=\"sha256-Ei4740bWZhaUTQuD6q9yQlgVCMPBz6CZWhevDYPv93A=\" crossorigin=\"anonymous\"></script>                <div id=\"32a90f41-e6ad-49f0-bd3d-eca0dc33333c\" class=\"plotly-graph-div\" style=\"height:100%; width:100%;\"></div>            <script type=\"text/javascript\">                window.PLOTLYENV=window.PLOTLYENV || {};                                if (document.getElementById(\"32a90f41-e6ad-49f0-bd3d-eca0dc33333c\")) {                    Plotly.newPlot(                        \"32a90f41-e6ad-49f0-bd3d-eca0dc33333c\",                        [{\"mode\":\"lines\",\"name\":\"MSFT\",\"x\":[\"2020-01-02T00:00:00.000000\",\"2020-01-03T00:00:00.000000\",\"2020-01-06T00:00:00.000000\",\"2020-01-07T00:00:00.000000\",\"2020-01-08T00:00:00.000000\",\"2020-01-09T00:00:00.000000\",\"2020-01-10T00:00:00.000000\",\"2020-01-13T00:00:00.000000\",\"2020-01-14T00:00:00.000000\",\"2020-01-15T00:00:00.000000\",\"2020-01-16T00:00:00.000000\",\"2020-01-17T00:00:00.000000\",\"2020-01-21T00:00:00.000000\",\"2020-01-22T00:00:00.000000\",\"2020-01-23T00:00:00.000000\",\"2020-01-24T00:00:00.000000\",\"2020-01-27T00:00:00.000000\",\"2020-01-28T00:00:00.000000\",\"2020-01-29T00:00:00.000000\",\"2020-01-30T00:00:00.000000\",\"2020-01-31T00:00:00.000000\",\"2020-02-03T00:00:00.000000\",\"2020-02-04T00:00:00.000000\",\"2020-02-05T00:00:00.000000\",\"2020-02-06T00:00:00.000000\",\"2020-02-07T00:00:00.000000\",\"2020-02-10T00:00:00.000000\",\"2020-02-11T00:00:00.000000\",\"2020-02-12T00:00:00.000000\",\"2020-02-13T00:00:00.000000\",\"2020-02-14T00:00:00.000000\",\"2020-02-18T00:00:00.000000\",\"2020-02-19T00:00:00.000000\",\"2020-02-20T00:00:00.000000\",\"2020-02-21T00:00:00.000000\",\"2020-02-24T00:00:00.000000\",\"2020-02-25T00:00:00.000000\",\"2020-02-26T00:00:00.000000\",\"2020-02-27T00:00:00.000000\",\"2020-02-28T00:00:00.000000\",\"2020-03-02T00:00:00.000000\",\"2020-03-03T00:00:00.000000\",\"2020-03-04T00:00:00.000000\",\"2020-03-05T00:00:00.000000\",\"2020-03-06T00:00:00.000000\",\"2020-03-09T00:00:00.000000\",\"2020-03-10T00:00:00.000000\",\"2020-03-11T00:00:00.000000\",\"2020-03-12T00:00:00.000000\",\"2020-03-13T00:00:00.000000\",\"2020-03-16T00:00:00.000000\",\"2020-03-17T00:00:00.000000\",\"2020-03-18T00:00:00.000000\",\"2020-03-19T00:00:00.000000\",\"2020-03-20T00:00:00.000000\",\"2020-03-23T00:00:00.000000\",\"2020-03-24T00:00:00.000000\",\"2020-03-25T00:00:00.000000\",\"2020-03-26T00:00:00.000000\",\"2020-03-27T00:00:00.000000\",\"2020-03-30T00:00:00.000000\",\"2020-03-31T00:00:00.000000\",\"2020-04-01T00:00:00.000000\",\"2020-04-02T00:00:00.000000\",\"2020-04-03T00:00:00.000000\",\"2020-04-06T00:00:00.000000\",\"2020-04-07T00:00:00.000000\",\"2020-04-08T00:00:00.000000\",\"2020-04-09T00:00:00.000000\",\"2020-04-13T00:00:00.000000\",\"2020-04-14T00:00:00.000000\",\"2020-04-15T00:00:00.000000\",\"2020-04-16T00:00:00.000000\",\"2020-04-17T00:00:00.000000\",\"2020-04-20T00:00:00.000000\",\"2020-04-21T00:00:00.000000\",\"2020-04-22T00:00:00.000000\",\"2020-04-23T00:00:00.000000\",\"2020-04-24T00:00:00.000000\",\"2020-04-27T00:00:00.000000\",\"2020-04-28T00:00:00.000000\",\"2020-04-29T00:00:00.000000\",\"2020-04-30T00:00:00.000000\",\"2020-05-01T00:00:00.000000\",\"2020-05-04T00:00:00.000000\",\"2020-05-05T00:00:00.000000\",\"2020-05-06T00:00:00.000000\",\"2020-05-07T00:00:00.000000\",\"2020-05-08T00:00:00.000000\",\"2020-05-11T00:00:00.000000\",\"2020-05-12T00:00:00.000000\",\"2020-05-13T00:00:00.000000\",\"2020-05-14T00:00:00.000000\",\"2020-05-15T00:00:00.000000\",\"2020-05-18T00:00:00.000000\",\"2020-05-19T00:00:00.000000\",\"2020-05-20T00:00:00.000000\",\"2020-05-21T00:00:00.000000\",\"2020-05-22T00:00:00.000000\",\"2020-05-26T00:00:00.000000\",\"2020-05-27T00:00:00.000000\",\"2020-05-28T00:00:00.000000\",\"2020-05-29T00:00:00.000000\",\"2020-06-01T00:00:00.000000\",\"2020-06-02T00:00:00.000000\",\"2020-06-03T00:00:00.000000\",\"2020-06-04T00:00:00.000000\",\"2020-06-05T00:00:00.000000\",\"2020-06-08T00:00:00.000000\",\"2020-06-09T00:00:00.000000\",\"2020-06-10T00:00:00.000000\",\"2020-06-11T00:00:00.000000\",\"2020-06-12T00:00:00.000000\",\"2020-06-15T00:00:00.000000\",\"2020-06-16T00:00:00.000000\",\"2020-06-17T00:00:00.000000\",\"2020-06-18T00:00:00.000000\",\"2020-06-19T00:00:00.000000\",\"2020-06-22T00:00:00.000000\",\"2020-06-23T00:00:00.000000\",\"2020-06-24T00:00:00.000000\",\"2020-06-25T00:00:00.000000\",\"2020-06-26T00:00:00.000000\",\"2020-06-29T00:00:00.000000\",\"2020-06-30T00:00:00.000000\",\"2020-07-01T00:00:00.000000\",\"2020-07-02T00:00:00.000000\",\"2020-07-06T00:00:00.000000\",\"2020-07-07T00:00:00.000000\",\"2020-07-08T00:00:00.000000\",\"2020-07-09T00:00:00.000000\",\"2020-07-10T00:00:00.000000\",\"2020-07-13T00:00:00.000000\",\"2020-07-14T00:00:00.000000\",\"2020-07-15T00:00:00.000000\",\"2020-07-16T00:00:00.000000\",\"2020-07-17T00:00:00.000000\",\"2020-07-20T00:00:00.000000\",\"2020-07-21T00:00:00.000000\",\"2020-07-22T00:00:00.000000\",\"2020-07-23T00:00:00.000000\",\"2020-07-24T00:00:00.000000\",\"2020-07-27T00:00:00.000000\",\"2020-07-28T00:00:00.000000\",\"2020-07-29T00:00:00.000000\",\"2020-07-30T00:00:00.000000\",\"2020-07-31T00:00:00.000000\",\"2020-08-03T00:00:00.000000\",\"2020-08-04T00:00:00.000000\",\"2020-08-05T00:00:00.000000\",\"2020-08-06T00:00:00.000000\",\"2020-08-07T00:00:00.000000\",\"2020-08-10T00:00:00.000000\",\"2020-08-11T00:00:00.000000\",\"2020-08-12T00:00:00.000000\",\"2020-08-13T00:00:00.000000\",\"2020-08-14T00:00:00.000000\",\"2020-08-17T00:00:00.000000\",\"2020-08-18T00:00:00.000000\",\"2020-08-19T00:00:00.000000\",\"2020-08-20T00:00:00.000000\",\"2020-08-21T00:00:00.000000\",\"2020-08-24T00:00:00.000000\",\"2020-08-25T00:00:00.000000\",\"2020-08-26T00:00:00.000000\",\"2020-08-27T00:00:00.000000\",\"2020-08-28T00:00:00.000000\",\"2020-08-31T00:00:00.000000\",\"2020-09-01T00:00:00.000000\",\"2020-09-02T00:00:00.000000\",\"2020-09-03T00:00:00.000000\",\"2020-09-04T00:00:00.000000\",\"2020-09-08T00:00:00.000000\",\"2020-09-09T00:00:00.000000\",\"2020-09-10T00:00:00.000000\",\"2020-09-11T00:00:00.000000\",\"2020-09-14T00:00:00.000000\",\"2020-09-15T00:00:00.000000\",\"2020-09-16T00:00:00.000000\",\"2020-09-17T00:00:00.000000\",\"2020-09-18T00:00:00.000000\",\"2020-09-21T00:00:00.000000\",\"2020-09-22T00:00:00.000000\",\"2020-09-23T00:00:00.000000\",\"2020-09-24T00:00:00.000000\",\"2020-09-25T00:00:00.000000\",\"2020-09-28T00:00:00.000000\",\"2020-09-29T00:00:00.000000\",\"2020-09-30T00:00:00.000000\",\"2020-10-01T00:00:00.000000\",\"2020-10-02T00:00:00.000000\",\"2020-10-05T00:00:00.000000\",\"2020-10-06T00:00:00.000000\",\"2020-10-07T00:00:00.000000\",\"2020-10-08T00:00:00.000000\",\"2020-10-09T00:00:00.000000\",\"2020-10-12T00:00:00.000000\",\"2020-10-13T00:00:00.000000\",\"2020-10-14T00:00:00.000000\",\"2020-10-15T00:00:00.000000\",\"2020-10-16T00:00:00.000000\",\"2020-10-19T00:00:00.000000\",\"2020-10-20T00:00:00.000000\",\"2020-10-21T00:00:00.000000\",\"2020-10-22T00:00:00.000000\",\"2020-10-23T00:00:00.000000\",\"2020-10-26T00:00:00.000000\",\"2020-10-27T00:00:00.000000\",\"2020-10-28T00:00:00.000000\",\"2020-10-29T00:00:00.000000\",\"2020-10-30T00:00:00.000000\",\"2020-11-02T00:00:00.000000\",\"2020-11-03T00:00:00.000000\",\"2020-11-04T00:00:00.000000\",\"2020-11-05T00:00:00.000000\",\"2020-11-06T00:00:00.000000\",\"2020-11-09T00:00:00.000000\",\"2020-11-10T00:00:00.000000\",\"2020-11-11T00:00:00.000000\",\"2020-11-12T00:00:00.000000\",\"2020-11-13T00:00:00.000000\",\"2020-11-16T00:00:00.000000\",\"2020-11-17T00:00:00.000000\",\"2020-11-18T00:00:00.000000\",\"2020-11-19T00:00:00.000000\",\"2020-11-20T00:00:00.000000\",\"2020-11-23T00:00:00.000000\",\"2020-11-24T00:00:00.000000\",\"2020-11-25T00:00:00.000000\",\"2020-11-27T00:00:00.000000\",\"2020-11-30T00:00:00.000000\",\"2020-12-01T00:00:00.000000\",\"2020-12-02T00:00:00.000000\",\"2020-12-03T00:00:00.000000\",\"2020-12-04T00:00:00.000000\",\"2020-12-07T00:00:00.000000\",\"2020-12-08T00:00:00.000000\",\"2020-12-09T00:00:00.000000\",\"2020-12-10T00:00:00.000000\",\"2020-12-11T00:00:00.000000\",\"2020-12-14T00:00:00.000000\",\"2020-12-15T00:00:00.000000\",\"2020-12-16T00:00:00.000000\",\"2020-12-17T00:00:00.000000\",\"2020-12-18T00:00:00.000000\",\"2020-12-21T00:00:00.000000\",\"2020-12-22T00:00:00.000000\",\"2020-12-23T00:00:00.000000\",\"2020-12-24T00:00:00.000000\",\"2020-12-28T00:00:00.000000\",\"2020-12-29T00:00:00.000000\",\"2020-12-30T00:00:00.000000\",\"2020-12-31T00:00:00.000000\",\"2021-01-04T00:00:00.000000\",\"2021-01-05T00:00:00.000000\",\"2021-01-06T00:00:00.000000\",\"2021-01-07T00:00:00.000000\",\"2021-01-08T00:00:00.000000\",\"2021-01-11T00:00:00.000000\",\"2021-01-12T00:00:00.000000\",\"2021-01-13T00:00:00.000000\",\"2021-01-14T00:00:00.000000\",\"2021-01-15T00:00:00.000000\",\"2021-01-19T00:00:00.000000\",\"2021-01-20T00:00:00.000000\",\"2021-01-21T00:00:00.000000\",\"2021-01-22T00:00:00.000000\",\"2021-01-25T00:00:00.000000\",\"2021-01-26T00:00:00.000000\",\"2021-01-27T00:00:00.000000\",\"2021-01-28T00:00:00.000000\",\"2021-01-29T00:00:00.000000\",\"2021-02-01T00:00:00.000000\",\"2021-02-02T00:00:00.000000\",\"2021-02-03T00:00:00.000000\",\"2021-02-04T00:00:00.000000\",\"2021-02-05T00:00:00.000000\",\"2021-02-08T00:00:00.000000\",\"2021-02-09T00:00:00.000000\",\"2021-02-10T00:00:00.000000\",\"2021-02-11T00:00:00.000000\",\"2021-02-12T00:00:00.000000\",\"2021-02-16T00:00:00.000000\",\"2021-02-17T00:00:00.000000\",\"2021-02-18T00:00:00.000000\",\"2021-02-19T00:00:00.000000\",\"2021-02-22T00:00:00.000000\",\"2021-02-23T00:00:00.000000\",\"2021-02-24T00:00:00.000000\",\"2021-02-25T00:00:00.000000\",\"2021-02-26T00:00:00.000000\",\"2021-03-01T00:00:00.000000\",\"2021-03-02T00:00:00.000000\",\"2021-03-03T00:00:00.000000\",\"2021-03-04T00:00:00.000000\",\"2021-03-05T00:00:00.000000\",\"2021-03-08T00:00:00.000000\",\"2021-03-09T00:00:00.000000\",\"2021-03-10T00:00:00.000000\",\"2021-03-11T00:00:00.000000\",\"2021-03-12T00:00:00.000000\",\"2021-03-15T00:00:00.000000\",\"2021-03-16T00:00:00.000000\",\"2021-03-17T00:00:00.000000\",\"2021-03-18T00:00:00.000000\",\"2021-03-19T00:00:00.000000\",\"2021-03-22T00:00:00.000000\",\"2021-03-23T00:00:00.000000\",\"2021-03-24T00:00:00.000000\",\"2021-03-25T00:00:00.000000\",\"2021-03-26T00:00:00.000000\",\"2021-03-29T00:00:00.000000\",\"2021-03-30T00:00:00.000000\",\"2021-03-31T00:00:00.000000\",\"2021-04-01T00:00:00.000000\",\"2021-04-05T00:00:00.000000\",\"2021-04-06T00:00:00.000000\",\"2021-04-07T00:00:00.000000\",\"2021-04-08T00:00:00.000000\",\"2021-04-09T00:00:00.000000\",\"2021-04-12T00:00:00.000000\",\"2021-04-13T00:00:00.000000\",\"2021-04-14T00:00:00.000000\",\"2021-04-15T00:00:00.000000\",\"2021-04-16T00:00:00.000000\",\"2021-04-19T00:00:00.000000\",\"2021-04-20T00:00:00.000000\",\"2021-04-21T00:00:00.000000\",\"2021-04-22T00:00:00.000000\",\"2021-04-23T00:00:00.000000\",\"2021-04-26T00:00:00.000000\",\"2021-04-27T00:00:00.000000\",\"2021-04-28T00:00:00.000000\",\"2021-04-29T00:00:00.000000\",\"2021-04-30T00:00:00.000000\",\"2021-05-03T00:00:00.000000\",\"2021-05-04T00:00:00.000000\",\"2021-05-05T00:00:00.000000\",\"2021-05-06T00:00:00.000000\",\"2021-05-07T00:00:00.000000\",\"2021-05-10T00:00:00.000000\",\"2021-05-11T00:00:00.000000\",\"2021-05-12T00:00:00.000000\",\"2021-05-13T00:00:00.000000\",\"2021-05-14T00:00:00.000000\",\"2021-05-17T00:00:00.000000\",\"2021-05-18T00:00:00.000000\",\"2021-05-19T00:00:00.000000\",\"2021-05-20T00:00:00.000000\",\"2021-05-21T00:00:00.000000\",\"2021-05-24T00:00:00.000000\",\"2021-05-25T00:00:00.000000\",\"2021-05-26T00:00:00.000000\",\"2021-05-27T00:00:00.000000\",\"2021-05-28T00:00:00.000000\",\"2021-06-01T00:00:00.000000\",\"2021-06-02T00:00:00.000000\",\"2021-06-03T00:00:00.000000\",\"2021-06-04T00:00:00.000000\",\"2021-06-07T00:00:00.000000\",\"2021-06-08T00:00:00.000000\",\"2021-06-09T00:00:00.000000\",\"2021-06-10T00:00:00.000000\",\"2021-06-11T00:00:00.000000\",\"2021-06-14T00:00:00.000000\",\"2021-06-15T00:00:00.000000\",\"2021-06-16T00:00:00.000000\",\"2021-06-17T00:00:00.000000\",\"2021-06-18T00:00:00.000000\",\"2021-06-21T00:00:00.000000\",\"2021-06-22T00:00:00.000000\",\"2021-06-23T00:00:00.000000\",\"2021-06-24T00:00:00.000000\",\"2021-06-25T00:00:00.000000\",\"2021-06-28T00:00:00.000000\",\"2021-06-29T00:00:00.000000\",\"2021-06-30T00:00:00.000000\",\"2021-07-01T00:00:00.000000\",\"2021-07-02T00:00:00.000000\",\"2021-07-06T00:00:00.000000\",\"2021-07-07T00:00:00.000000\",\"2021-07-08T00:00:00.000000\",\"2021-07-09T00:00:00.000000\",\"2021-07-12T00:00:00.000000\",\"2021-07-13T00:00:00.000000\",\"2021-07-14T00:00:00.000000\",\"2021-07-15T00:00:00.000000\",\"2021-07-16T00:00:00.000000\",\"2021-07-19T00:00:00.000000\",\"2021-07-20T00:00:00.000000\",\"2021-07-21T00:00:00.000000\",\"2021-07-22T00:00:00.000000\",\"2021-07-23T00:00:00.000000\",\"2021-07-26T00:00:00.000000\",\"2021-07-27T00:00:00.000000\",\"2021-07-28T00:00:00.000000\",\"2021-07-29T00:00:00.000000\",\"2021-07-30T00:00:00.000000\",\"2021-08-02T00:00:00.000000\",\"2021-08-03T00:00:00.000000\",\"2021-08-04T00:00:00.000000\",\"2021-08-05T00:00:00.000000\",\"2021-08-06T00:00:00.000000\",\"2021-08-09T00:00:00.000000\",\"2021-08-10T00:00:00.000000\",\"2021-08-11T00:00:00.000000\",\"2021-08-12T00:00:00.000000\",\"2021-08-13T00:00:00.000000\",\"2021-08-16T00:00:00.000000\",\"2021-08-17T00:00:00.000000\",\"2021-08-18T00:00:00.000000\",\"2021-08-19T00:00:00.000000\",\"2021-08-20T00:00:00.000000\",\"2021-08-23T00:00:00.000000\",\"2021-08-24T00:00:00.000000\",\"2021-08-25T00:00:00.000000\",\"2021-08-26T00:00:00.000000\",\"2021-08-27T00:00:00.000000\",\"2021-08-30T00:00:00.000000\",\"2021-08-31T00:00:00.000000\",\"2021-09-01T00:00:00.000000\",\"2021-09-02T00:00:00.000000\",\"2021-09-03T00:00:00.000000\",\"2021-09-07T00:00:00.000000\",\"2021-09-08T00:00:00.000000\",\"2021-09-09T00:00:00.000000\",\"2021-09-10T00:00:00.000000\",\"2021-09-13T00:00:00.000000\",\"2021-09-14T00:00:00.000000\",\"2021-09-15T00:00:00.000000\",\"2021-09-16T00:00:00.000000\",\"2021-09-17T00:00:00.000000\",\"2021-09-20T00:00:00.000000\",\"2021-09-21T00:00:00.000000\",\"2021-09-22T00:00:00.000000\",\"2021-09-23T00:00:00.000000\",\"2021-09-24T00:00:00.000000\",\"2021-09-27T00:00:00.000000\",\"2021-09-28T00:00:00.000000\",\"2021-09-29T00:00:00.000000\",\"2021-09-30T00:00:00.000000\",\"2021-10-01T00:00:00.000000\",\"2021-10-04T00:00:00.000000\",\"2021-10-05T00:00:00.000000\",\"2021-10-06T00:00:00.000000\",\"2021-10-07T00:00:00.000000\",\"2021-10-08T00:00:00.000000\",\"2021-10-11T00:00:00.000000\",\"2021-10-12T00:00:00.000000\",\"2021-10-13T00:00:00.000000\",\"2021-10-14T00:00:00.000000\",\"2021-10-15T00:00:00.000000\",\"2021-10-18T00:00:00.000000\",\"2021-10-19T00:00:00.000000\",\"2021-10-20T00:00:00.000000\",\"2021-10-21T00:00:00.000000\",\"2021-10-22T00:00:00.000000\",\"2021-10-25T00:00:00.000000\",\"2021-10-26T00:00:00.000000\",\"2021-10-27T00:00:00.000000\",\"2021-10-28T00:00:00.000000\",\"2021-10-29T00:00:00.000000\",\"2021-11-01T00:00:00.000000\",\"2021-11-02T00:00:00.000000\",\"2021-11-03T00:00:00.000000\",\"2021-11-04T00:00:00.000000\",\"2021-11-05T00:00:00.000000\",\"2021-11-08T00:00:00.000000\",\"2021-11-09T00:00:00.000000\",\"2021-11-10T00:00:00.000000\",\"2021-11-11T00:00:00.000000\",\"2021-11-12T00:00:00.000000\",\"2021-11-15T00:00:00.000000\",\"2021-11-16T00:00:00.000000\",\"2021-11-17T00:00:00.000000\",\"2021-11-18T00:00:00.000000\",\"2021-11-19T00:00:00.000000\",\"2021-11-22T00:00:00.000000\",\"2021-11-23T00:00:00.000000\",\"2021-11-24T00:00:00.000000\",\"2021-11-26T00:00:00.000000\",\"2021-11-29T00:00:00.000000\",\"2021-11-30T00:00:00.000000\",\"2021-12-01T00:00:00.000000\",\"2021-12-02T00:00:00.000000\",\"2021-12-03T00:00:00.000000\",\"2021-12-06T00:00:00.000000\",\"2021-12-07T00:00:00.000000\",\"2021-12-08T00:00:00.000000\",\"2021-12-09T00:00:00.000000\",\"2021-12-10T00:00:00.000000\",\"2021-12-13T00:00:00.000000\",\"2021-12-14T00:00:00.000000\",\"2021-12-15T00:00:00.000000\",\"2021-12-16T00:00:00.000000\",\"2021-12-17T00:00:00.000000\",\"2021-12-20T00:00:00.000000\",\"2021-12-21T00:00:00.000000\",\"2021-12-22T00:00:00.000000\",\"2021-12-23T00:00:00.000000\",\"2021-12-27T00:00:00.000000\",\"2021-12-28T00:00:00.000000\",\"2021-12-29T00:00:00.000000\",\"2021-12-30T00:00:00.000000\",\"2021-12-31T00:00:00.000000\",\"2022-01-03T00:00:00.000000\",\"2022-01-04T00:00:00.000000\",\"2022-01-05T00:00:00.000000\",\"2022-01-06T00:00:00.000000\",\"2022-01-07T00:00:00.000000\",\"2022-01-10T00:00:00.000000\",\"2022-01-11T00:00:00.000000\",\"2022-01-12T00:00:00.000000\",\"2022-01-13T00:00:00.000000\",\"2022-01-14T00:00:00.000000\",\"2022-01-18T00:00:00.000000\",\"2022-01-19T00:00:00.000000\",\"2022-01-20T00:00:00.000000\",\"2022-01-21T00:00:00.000000\",\"2022-01-24T00:00:00.000000\",\"2022-01-25T00:00:00.000000\",\"2022-01-26T00:00:00.000000\",\"2022-01-27T00:00:00.000000\",\"2022-01-28T00:00:00.000000\",\"2022-01-31T00:00:00.000000\",\"2022-02-01T00:00:00.000000\",\"2022-02-02T00:00:00.000000\",\"2022-02-03T00:00:00.000000\",\"2022-02-04T00:00:00.000000\",\"2022-02-07T00:00:00.000000\",\"2022-02-08T00:00:00.000000\",\"2022-02-09T00:00:00.000000\",\"2022-02-10T00:00:00.000000\",\"2022-02-11T00:00:00.000000\",\"2022-02-14T00:00:00.000000\",\"2022-02-15T00:00:00.000000\",\"2022-02-16T00:00:00.000000\",\"2022-02-17T00:00:00.000000\",\"2022-02-18T00:00:00.000000\",\"2022-02-22T00:00:00.000000\",\"2022-02-23T00:00:00.000000\",\"2022-02-24T00:00:00.000000\",\"2022-02-25T00:00:00.000000\",\"2022-02-28T00:00:00.000000\",\"2022-03-01T00:00:00.000000\",\"2022-03-02T00:00:00.000000\",\"2022-03-03T00:00:00.000000\",\"2022-03-04T00:00:00.000000\",\"2022-03-07T00:00:00.000000\",\"2022-03-08T00:00:00.000000\",\"2022-03-09T00:00:00.000000\",\"2022-03-10T00:00:00.000000\",\"2022-03-11T00:00:00.000000\",\"2022-03-14T00:00:00.000000\",\"2022-03-15T00:00:00.000000\",\"2022-03-16T00:00:00.000000\",\"2022-03-17T00:00:00.000000\",\"2022-03-18T00:00:00.000000\",\"2022-03-21T00:00:00.000000\",\"2022-03-22T00:00:00.000000\",\"2022-03-23T00:00:00.000000\",\"2022-03-24T00:00:00.000000\",\"2022-03-25T00:00:00.000000\",\"2022-03-28T00:00:00.000000\",\"2022-03-29T00:00:00.000000\",\"2022-03-30T00:00:00.000000\",\"2022-03-31T00:00:00.000000\",\"2022-04-01T00:00:00.000000\",\"2022-04-04T00:00:00.000000\",\"2022-04-05T00:00:00.000000\",\"2022-04-06T00:00:00.000000\",\"2022-04-07T00:00:00.000000\",\"2022-04-08T00:00:00.000000\",\"2022-04-11T00:00:00.000000\",\"2022-04-12T00:00:00.000000\",\"2022-04-13T00:00:00.000000\",\"2022-04-14T00:00:00.000000\",\"2022-04-18T00:00:00.000000\",\"2022-04-19T00:00:00.000000\",\"2022-04-20T00:00:00.000000\",\"2022-04-21T00:00:00.000000\",\"2022-04-22T00:00:00.000000\",\"2022-04-25T00:00:00.000000\",\"2022-04-26T00:00:00.000000\",\"2022-04-27T00:00:00.000000\",\"2022-04-28T00:00:00.000000\",\"2022-04-29T00:00:00.000000\",\"2022-05-02T00:00:00.000000\",\"2022-05-03T00:00:00.000000\",\"2022-05-04T00:00:00.000000\",\"2022-05-05T00:00:00.000000\",\"2022-05-06T00:00:00.000000\",\"2022-05-09T00:00:00.000000\",\"2022-05-10T00:00:00.000000\",\"2022-05-11T00:00:00.000000\",\"2022-05-12T00:00:00.000000\",\"2022-05-13T00:00:00.000000\",\"2022-05-16T00:00:00.000000\",\"2022-05-17T00:00:00.000000\",\"2022-05-18T00:00:00.000000\",\"2022-05-19T00:00:00.000000\",\"2022-05-20T00:00:00.000000\",\"2022-05-23T00:00:00.000000\",\"2022-05-24T00:00:00.000000\",\"2022-05-25T00:00:00.000000\",\"2022-05-26T00:00:00.000000\",\"2022-05-27T00:00:00.000000\",\"2022-05-31T00:00:00.000000\",\"2022-06-01T00:00:00.000000\",\"2022-06-02T00:00:00.000000\",\"2022-06-03T00:00:00.000000\",\"2022-06-06T00:00:00.000000\",\"2022-06-07T00:00:00.000000\",\"2022-06-08T00:00:00.000000\",\"2022-06-09T00:00:00.000000\",\"2022-06-10T00:00:00.000000\",\"2022-06-13T00:00:00.000000\",\"2022-06-14T00:00:00.000000\",\"2022-06-15T00:00:00.000000\",\"2022-06-16T00:00:00.000000\",\"2022-06-17T00:00:00.000000\",\"2022-06-21T00:00:00.000000\",\"2022-06-22T00:00:00.000000\",\"2022-06-23T00:00:00.000000\",\"2022-06-24T00:00:00.000000\",\"2022-06-27T00:00:00.000000\",\"2022-06-28T00:00:00.000000\",\"2022-06-29T00:00:00.000000\",\"2022-06-30T00:00:00.000000\",\"2022-07-01T00:00:00.000000\",\"2022-07-05T00:00:00.000000\",\"2022-07-06T00:00:00.000000\",\"2022-07-07T00:00:00.000000\",\"2022-07-08T00:00:00.000000\",\"2022-07-11T00:00:00.000000\",\"2022-07-12T00:00:00.000000\",\"2022-07-13T00:00:00.000000\",\"2022-07-14T00:00:00.000000\",\"2022-07-15T00:00:00.000000\",\"2022-07-18T00:00:00.000000\",\"2022-07-19T00:00:00.000000\",\"2022-07-20T00:00:00.000000\",\"2022-07-21T00:00:00.000000\",\"2022-07-22T00:00:00.000000\",\"2022-07-25T00:00:00.000000\",\"2022-07-26T00:00:00.000000\",\"2022-07-27T00:00:00.000000\",\"2022-07-28T00:00:00.000000\",\"2022-07-29T00:00:00.000000\",\"2022-08-01T00:00:00.000000\",\"2022-08-02T00:00:00.000000\",\"2022-08-03T00:00:00.000000\",\"2022-08-04T00:00:00.000000\",\"2022-08-05T00:00:00.000000\",\"2022-08-08T00:00:00.000000\",\"2022-08-09T00:00:00.000000\",\"2022-08-10T00:00:00.000000\",\"2022-08-11T00:00:00.000000\",\"2022-08-12T00:00:00.000000\",\"2022-08-15T00:00:00.000000\",\"2022-08-16T00:00:00.000000\",\"2022-08-17T00:00:00.000000\",\"2022-08-18T00:00:00.000000\",\"2022-08-19T00:00:00.000000\",\"2022-08-22T00:00:00.000000\",\"2022-08-23T00:00:00.000000\",\"2022-08-24T00:00:00.000000\",\"2022-08-25T00:00:00.000000\",\"2022-08-26T00:00:00.000000\",\"2022-08-29T00:00:00.000000\",\"2022-08-30T00:00:00.000000\",\"2022-08-31T00:00:00.000000\",\"2022-09-01T00:00:00.000000\",\"2022-09-02T00:00:00.000000\",\"2022-09-06T00:00:00.000000\",\"2022-09-07T00:00:00.000000\",\"2022-09-08T00:00:00.000000\",\"2022-09-09T00:00:00.000000\",\"2022-09-12T00:00:00.000000\",\"2022-09-13T00:00:00.000000\",\"2022-09-14T00:00:00.000000\",\"2022-09-15T00:00:00.000000\",\"2022-09-16T00:00:00.000000\",\"2022-09-19T00:00:00.000000\",\"2022-09-20T00:00:00.000000\",\"2022-09-21T00:00:00.000000\",\"2022-09-22T00:00:00.000000\",\"2022-09-23T00:00:00.000000\",\"2022-09-26T00:00:00.000000\",\"2022-09-27T00:00:00.000000\",\"2022-09-28T00:00:00.000000\",\"2022-09-29T00:00:00.000000\",\"2022-09-30T00:00:00.000000\",\"2022-10-03T00:00:00.000000\",\"2022-10-04T00:00:00.000000\",\"2022-10-05T00:00:00.000000\",\"2022-10-06T00:00:00.000000\",\"2022-10-07T00:00:00.000000\",\"2022-10-10T00:00:00.000000\",\"2022-10-11T00:00:00.000000\",\"2022-10-12T00:00:00.000000\",\"2022-10-13T00:00:00.000000\",\"2022-10-14T00:00:00.000000\",\"2022-10-17T00:00:00.000000\",\"2022-10-18T00:00:00.000000\",\"2022-10-19T00:00:00.000000\",\"2022-10-20T00:00:00.000000\",\"2022-10-21T00:00:00.000000\",\"2022-10-24T00:00:00.000000\",\"2022-10-25T00:00:00.000000\",\"2022-10-26T00:00:00.000000\",\"2022-10-27T00:00:00.000000\",\"2022-10-28T00:00:00.000000\",\"2022-10-31T00:00:00.000000\",\"2022-11-01T00:00:00.000000\",\"2022-11-02T00:00:00.000000\",\"2022-11-03T00:00:00.000000\",\"2022-11-04T00:00:00.000000\",\"2022-11-07T00:00:00.000000\",\"2022-11-08T00:00:00.000000\",\"2022-11-09T00:00:00.000000\",\"2022-11-10T00:00:00.000000\",\"2022-11-11T00:00:00.000000\",\"2022-11-14T00:00:00.000000\",\"2022-11-15T00:00:00.000000\",\"2022-11-16T00:00:00.000000\",\"2022-11-17T00:00:00.000000\",\"2022-11-18T00:00:00.000000\",\"2022-11-21T00:00:00.000000\",\"2022-11-22T00:00:00.000000\",\"2022-11-23T00:00:00.000000\",\"2022-11-25T00:00:00.000000\",\"2022-11-28T00:00:00.000000\",\"2022-11-29T00:00:00.000000\",\"2022-11-30T00:00:00.000000\",\"2022-12-01T00:00:00.000000\",\"2022-12-02T00:00:00.000000\",\"2022-12-05T00:00:00.000000\",\"2022-12-06T00:00:00.000000\",\"2022-12-07T00:00:00.000000\",\"2022-12-08T00:00:00.000000\",\"2022-12-09T00:00:00.000000\",\"2022-12-12T00:00:00.000000\",\"2022-12-13T00:00:00.000000\",\"2022-12-14T00:00:00.000000\",\"2022-12-15T00:00:00.000000\",\"2022-12-16T00:00:00.000000\",\"2022-12-19T00:00:00.000000\",\"2022-12-20T00:00:00.000000\",\"2022-12-21T00:00:00.000000\",\"2022-12-22T00:00:00.000000\",\"2022-12-23T00:00:00.000000\",\"2022-12-27T00:00:00.000000\",\"2022-12-28T00:00:00.000000\",\"2022-12-29T00:00:00.000000\",\"2022-12-30T00:00:00.000000\",\"2023-01-03T00:00:00.000000\",\"2023-01-04T00:00:00.000000\",\"2023-01-05T00:00:00.000000\",\"2023-01-06T00:00:00.000000\",\"2023-01-09T00:00:00.000000\",\"2023-01-10T00:00:00.000000\",\"2023-01-11T00:00:00.000000\",\"2023-01-12T00:00:00.000000\",\"2023-01-13T00:00:00.000000\",\"2023-01-17T00:00:00.000000\",\"2023-01-18T00:00:00.000000\",\"2023-01-19T00:00:00.000000\",\"2023-01-20T00:00:00.000000\",\"2023-01-23T00:00:00.000000\",\"2023-01-24T00:00:00.000000\",\"2023-01-25T00:00:00.000000\",\"2023-01-26T00:00:00.000000\",\"2023-01-27T00:00:00.000000\",\"2023-01-30T00:00:00.000000\",\"2023-01-31T00:00:00.000000\",\"2023-02-01T00:00:00.000000\",\"2023-02-02T00:00:00.000000\",\"2023-02-03T00:00:00.000000\",\"2023-02-06T00:00:00.000000\",\"2023-02-07T00:00:00.000000\",\"2023-02-08T00:00:00.000000\",\"2023-02-09T00:00:00.000000\",\"2023-02-10T00:00:00.000000\",\"2023-02-13T00:00:00.000000\",\"2023-02-14T00:00:00.000000\",\"2023-02-15T00:00:00.000000\",\"2023-02-16T00:00:00.000000\",\"2023-02-17T00:00:00.000000\",\"2023-02-21T00:00:00.000000\",\"2023-02-22T00:00:00.000000\",\"2023-02-23T00:00:00.000000\",\"2023-02-24T00:00:00.000000\",\"2023-02-27T00:00:00.000000\",\"2023-02-28T00:00:00.000000\",\"2023-03-01T00:00:00.000000\",\"2023-03-02T00:00:00.000000\",\"2023-03-03T00:00:00.000000\",\"2023-03-06T00:00:00.000000\",\"2023-03-07T00:00:00.000000\",\"2023-03-08T00:00:00.000000\",\"2023-03-09T00:00:00.000000\",\"2023-03-10T00:00:00.000000\",\"2023-03-13T00:00:00.000000\",\"2023-03-14T00:00:00.000000\",\"2023-03-15T00:00:00.000000\",\"2023-03-16T00:00:00.000000\",\"2023-03-17T00:00:00.000000\",\"2023-03-20T00:00:00.000000\",\"2023-03-21T00:00:00.000000\",\"2023-03-22T00:00:00.000000\",\"2023-03-23T00:00:00.000000\",\"2023-03-24T00:00:00.000000\",\"2023-03-27T00:00:00.000000\",\"2023-03-28T00:00:00.000000\",\"2023-03-29T00:00:00.000000\",\"2023-03-30T00:00:00.000000\",\"2023-03-31T00:00:00.000000\",\"2023-04-03T00:00:00.000000\",\"2023-04-04T00:00:00.000000\",\"2023-04-05T00:00:00.000000\",\"2023-04-06T00:00:00.000000\",\"2023-04-10T00:00:00.000000\",\"2023-04-11T00:00:00.000000\",\"2023-04-12T00:00:00.000000\",\"2023-04-13T00:00:00.000000\",\"2023-04-14T00:00:00.000000\",\"2023-04-17T00:00:00.000000\",\"2023-04-18T00:00:00.000000\",\"2023-04-19T00:00:00.000000\",\"2023-04-20T00:00:00.000000\",\"2023-04-21T00:00:00.000000\",\"2023-04-24T00:00:00.000000\",\"2023-04-25T00:00:00.000000\",\"2023-04-26T00:00:00.000000\",\"2023-04-27T00:00:00.000000\",\"2023-04-28T00:00:00.000000\",\"2023-05-01T00:00:00.000000\",\"2023-05-02T00:00:00.000000\",\"2023-05-03T00:00:00.000000\",\"2023-05-04T00:00:00.000000\",\"2023-05-05T00:00:00.000000\",\"2023-05-08T00:00:00.000000\",\"2023-05-09T00:00:00.000000\",\"2023-05-10T00:00:00.000000\",\"2023-05-11T00:00:00.000000\",\"2023-05-12T00:00:00.000000\",\"2023-05-15T00:00:00.000000\",\"2023-05-16T00:00:00.000000\",\"2023-05-17T00:00:00.000000\",\"2023-05-18T00:00:00.000000\",\"2023-05-19T00:00:00.000000\",\"2023-05-22T00:00:00.000000\",\"2023-05-23T00:00:00.000000\",\"2023-05-24T00:00:00.000000\",\"2023-05-25T00:00:00.000000\",\"2023-05-26T00:00:00.000000\",\"2023-05-30T00:00:00.000000\",\"2023-05-31T00:00:00.000000\",\"2023-06-01T00:00:00.000000\",\"2023-06-02T00:00:00.000000\",\"2023-06-05T00:00:00.000000\",\"2023-06-06T00:00:00.000000\",\"2023-06-07T00:00:00.000000\",\"2023-06-08T00:00:00.000000\",\"2023-06-09T00:00:00.000000\",\"2023-06-12T00:00:00.000000\",\"2023-06-13T00:00:00.000000\",\"2023-06-14T00:00:00.000000\",\"2023-06-15T00:00:00.000000\",\"2023-06-16T00:00:00.000000\",\"2023-06-20T00:00:00.000000\",\"2023-06-21T00:00:00.000000\",\"2023-06-22T00:00:00.000000\",\"2023-06-23T00:00:00.000000\",\"2023-06-26T00:00:00.000000\",\"2023-06-27T00:00:00.000000\",\"2023-06-28T00:00:00.000000\",\"2023-06-29T00:00:00.000000\",\"2023-06-30T00:00:00.000000\",\"2023-07-03T00:00:00.000000\",\"2023-07-05T00:00:00.000000\",\"2023-07-06T00:00:00.000000\",\"2023-07-07T00:00:00.000000\",\"2023-07-10T00:00:00.000000\",\"2023-07-11T00:00:00.000000\",\"2023-07-12T00:00:00.000000\",\"2023-07-13T00:00:00.000000\",\"2023-07-14T00:00:00.000000\",\"2023-07-17T00:00:00.000000\",\"2023-07-18T00:00:00.000000\",\"2023-07-19T00:00:00.000000\",\"2023-07-20T00:00:00.000000\",\"2023-07-21T00:00:00.000000\",\"2023-07-24T00:00:00.000000\",\"2023-07-25T00:00:00.000000\",\"2023-07-26T00:00:00.000000\",\"2023-07-27T00:00:00.000000\",\"2023-07-28T00:00:00.000000\",\"2023-07-31T00:00:00.000000\",\"2023-08-01T00:00:00.000000\",\"2023-08-02T00:00:00.000000\",\"2023-08-03T00:00:00.000000\",\"2023-08-04T00:00:00.000000\",\"2023-08-07T00:00:00.000000\",\"2023-08-08T00:00:00.000000\",\"2023-08-09T00:00:00.000000\",\"2023-08-10T00:00:00.000000\",\"2023-08-11T00:00:00.000000\",\"2023-08-14T00:00:00.000000\",\"2023-08-15T00:00:00.000000\",\"2023-08-16T00:00:00.000000\",\"2023-08-17T00:00:00.000000\",\"2023-08-18T00:00:00.000000\",\"2023-08-21T00:00:00.000000\",\"2023-08-22T00:00:00.000000\",\"2023-08-23T00:00:00.000000\",\"2023-08-24T00:00:00.000000\",\"2023-08-25T00:00:00.000000\",\"2023-08-28T00:00:00.000000\",\"2023-08-29T00:00:00.000000\",\"2023-08-30T00:00:00.000000\",\"2023-08-31T00:00:00.000000\",\"2023-09-01T00:00:00.000000\",\"2023-09-05T00:00:00.000000\",\"2023-09-06T00:00:00.000000\",\"2023-09-07T00:00:00.000000\",\"2023-09-08T00:00:00.000000\",\"2023-09-11T00:00:00.000000\",\"2023-09-12T00:00:00.000000\",\"2023-09-13T00:00:00.000000\",\"2023-09-14T00:00:00.000000\",\"2023-09-15T00:00:00.000000\",\"2023-09-18T00:00:00.000000\",\"2023-09-19T00:00:00.000000\",\"2023-09-20T00:00:00.000000\",\"2023-09-21T00:00:00.000000\",\"2023-09-22T00:00:00.000000\",\"2023-09-25T00:00:00.000000\",\"2023-09-26T00:00:00.000000\",\"2023-09-27T00:00:00.000000\",\"2023-09-28T00:00:00.000000\",\"2023-09-29T00:00:00.000000\",\"2023-10-02T00:00:00.000000\",\"2023-10-03T00:00:00.000000\",\"2023-10-04T00:00:00.000000\",\"2023-10-05T00:00:00.000000\",\"2023-10-06T00:00:00.000000\",\"2023-10-09T00:00:00.000000\",\"2023-10-10T00:00:00.000000\",\"2023-10-11T00:00:00.000000\",\"2023-10-12T00:00:00.000000\",\"2023-10-13T00:00:00.000000\",\"2023-10-16T00:00:00.000000\",\"2023-10-17T00:00:00.000000\",\"2023-10-18T00:00:00.000000\",\"2023-10-19T00:00:00.000000\",\"2023-10-20T00:00:00.000000\",\"2023-10-23T00:00:00.000000\",\"2023-10-24T00:00:00.000000\",\"2023-10-25T00:00:00.000000\",\"2023-10-26T00:00:00.000000\",\"2023-10-27T00:00:00.000000\",\"2023-10-30T00:00:00.000000\",\"2023-10-31T00:00:00.000000\",\"2023-11-01T00:00:00.000000\",\"2023-11-02T00:00:00.000000\",\"2023-11-03T00:00:00.000000\",\"2023-11-06T00:00:00.000000\",\"2023-11-07T00:00:00.000000\",\"2023-11-08T00:00:00.000000\",\"2023-11-09T00:00:00.000000\",\"2023-11-10T00:00:00.000000\",\"2023-11-13T00:00:00.000000\",\"2023-11-14T00:00:00.000000\",\"2023-11-15T00:00:00.000000\",\"2023-11-16T00:00:00.000000\",\"2023-11-17T00:00:00.000000\",\"2023-11-20T00:00:00.000000\",\"2023-11-21T00:00:00.000000\",\"2023-11-22T00:00:00.000000\",\"2023-11-24T00:00:00.000000\",\"2023-11-27T00:00:00.000000\",\"2023-11-28T00:00:00.000000\",\"2023-11-29T00:00:00.000000\",\"2023-11-30T00:00:00.000000\",\"2023-12-01T00:00:00.000000\",\"2023-12-04T00:00:00.000000\",\"2023-12-05T00:00:00.000000\",\"2023-12-06T00:00:00.000000\",\"2023-12-07T00:00:00.000000\",\"2023-12-08T00:00:00.000000\",\"2023-12-11T00:00:00.000000\",\"2023-12-12T00:00:00.000000\",\"2023-12-13T00:00:00.000000\",\"2023-12-14T00:00:00.000000\",\"2023-12-15T00:00:00.000000\",\"2023-12-18T00:00:00.000000\",\"2023-12-19T00:00:00.000000\",\"2023-12-20T00:00:00.000000\",\"2023-12-21T00:00:00.000000\",\"2023-12-22T00:00:00.000000\",\"2023-12-26T00:00:00.000000\",\"2023-12-27T00:00:00.000000\",\"2023-12-28T00:00:00.000000\",\"2023-12-29T00:00:00.000000\",\"2024-01-02T00:00:00.000000\",\"2024-01-03T00:00:00.000000\",\"2024-01-04T00:00:00.000000\",\"2024-01-05T00:00:00.000000\",\"2024-01-08T00:00:00.000000\",\"2024-01-09T00:00:00.000000\",\"2024-01-10T00:00:00.000000\",\"2024-01-11T00:00:00.000000\",\"2024-01-12T00:00:00.000000\",\"2024-01-16T00:00:00.000000\",\"2024-01-17T00:00:00.000000\",\"2024-01-18T00:00:00.000000\",\"2024-01-19T00:00:00.000000\",\"2024-01-22T00:00:00.000000\",\"2024-01-23T00:00:00.000000\",\"2024-01-24T00:00:00.000000\",\"2024-01-25T00:00:00.000000\",\"2024-01-26T00:00:00.000000\",\"2024-01-29T00:00:00.000000\",\"2024-01-30T00:00:00.000000\",\"2024-01-31T00:00:00.000000\",\"2024-02-01T00:00:00.000000\",\"2024-02-02T00:00:00.000000\",\"2024-02-05T00:00:00.000000\",\"2024-02-06T00:00:00.000000\",\"2024-02-07T00:00:00.000000\",\"2024-02-08T00:00:00.000000\",\"2024-02-09T00:00:00.000000\",\"2024-02-12T00:00:00.000000\",\"2024-02-13T00:00:00.000000\",\"2024-02-14T00:00:00.000000\",\"2024-02-15T00:00:00.000000\",\"2024-02-16T00:00:00.000000\",\"2024-02-20T00:00:00.000000\",\"2024-02-21T00:00:00.000000\",\"2024-02-22T00:00:00.000000\",\"2024-02-23T00:00:00.000000\",\"2024-02-26T00:00:00.000000\",\"2024-02-27T00:00:00.000000\",\"2024-02-28T00:00:00.000000\",\"2024-02-29T00:00:00.000000\",\"2024-03-01T00:00:00.000000\",\"2024-03-04T00:00:00.000000\",\"2024-03-05T00:00:00.000000\",\"2024-03-06T00:00:00.000000\",\"2024-03-07T00:00:00.000000\",\"2024-03-08T00:00:00.000000\",\"2024-03-11T00:00:00.000000\",\"2024-03-12T00:00:00.000000\",\"2024-03-13T00:00:00.000000\",\"2024-03-14T00:00:00.000000\",\"2024-03-15T00:00:00.000000\",\"2024-03-18T00:00:00.000000\",\"2024-03-19T00:00:00.000000\",\"2024-03-20T00:00:00.000000\",\"2024-03-21T00:00:00.000000\",\"2024-03-22T00:00:00.000000\",\"2024-03-25T00:00:00.000000\",\"2024-03-26T00:00:00.000000\",\"2024-03-27T00:00:00.000000\",\"2024-03-28T00:00:00.000000\",\"2024-04-01T00:00:00.000000\",\"2024-04-02T00:00:00.000000\",\"2024-04-03T00:00:00.000000\",\"2024-04-04T00:00:00.000000\",\"2024-04-05T00:00:00.000000\",\"2024-04-08T00:00:00.000000\",\"2024-04-09T00:00:00.000000\",\"2024-04-10T00:00:00.000000\",\"2024-04-11T00:00:00.000000\",\"2024-04-12T00:00:00.000000\",\"2024-04-15T00:00:00.000000\",\"2024-04-16T00:00:00.000000\",\"2024-04-17T00:00:00.000000\",\"2024-04-18T00:00:00.000000\",\"2024-04-19T00:00:00.000000\",\"2024-04-22T00:00:00.000000\",\"2024-04-23T00:00:00.000000\",\"2024-04-24T00:00:00.000000\",\"2024-04-25T00:00:00.000000\",\"2024-04-26T00:00:00.000000\",\"2024-04-29T00:00:00.000000\",\"2024-04-30T00:00:00.000000\",\"2024-05-01T00:00:00.000000\",\"2024-05-02T00:00:00.000000\",\"2024-05-03T00:00:00.000000\",\"2024-05-06T00:00:00.000000\",\"2024-05-07T00:00:00.000000\",\"2024-05-08T00:00:00.000000\",\"2024-05-09T00:00:00.000000\",\"2024-05-10T00:00:00.000000\",\"2024-05-13T00:00:00.000000\",\"2024-05-14T00:00:00.000000\",\"2024-05-15T00:00:00.000000\",\"2024-05-16T00:00:00.000000\",\"2024-05-17T00:00:00.000000\",\"2024-05-20T00:00:00.000000\",\"2024-05-21T00:00:00.000000\",\"2024-05-22T00:00:00.000000\",\"2024-05-23T00:00:00.000000\",\"2024-05-24T00:00:00.000000\",\"2024-05-28T00:00:00.000000\",\"2024-05-29T00:00:00.000000\",\"2024-05-30T00:00:00.000000\",\"2024-05-31T00:00:00.000000\",\"2024-06-03T00:00:00.000000\",\"2024-06-04T00:00:00.000000\",\"2024-06-05T00:00:00.000000\",\"2024-06-06T00:00:00.000000\",\"2024-06-07T00:00:00.000000\",\"2024-06-10T00:00:00.000000\",\"2024-06-11T00:00:00.000000\",\"2024-06-12T00:00:00.000000\",\"2024-06-13T00:00:00.000000\",\"2024-06-14T00:00:00.000000\",\"2024-06-17T00:00:00.000000\",\"2024-06-18T00:00:00.000000\",\"2024-06-20T00:00:00.000000\",\"2024-06-21T00:00:00.000000\",\"2024-06-24T00:00:00.000000\",\"2024-06-25T00:00:00.000000\",\"2024-06-26T00:00:00.000000\",\"2024-06-27T00:00:00.000000\",\"2024-06-28T00:00:00.000000\",\"2024-07-01T00:00:00.000000\",\"2024-07-02T00:00:00.000000\",\"2024-07-03T00:00:00.000000\",\"2024-07-05T00:00:00.000000\",\"2024-07-08T00:00:00.000000\",\"2024-07-09T00:00:00.000000\",\"2024-07-10T00:00:00.000000\",\"2024-07-11T00:00:00.000000\",\"2024-07-12T00:00:00.000000\",\"2024-07-15T00:00:00.000000\",\"2024-07-16T00:00:00.000000\",\"2024-07-17T00:00:00.000000\",\"2024-07-18T00:00:00.000000\",\"2024-07-19T00:00:00.000000\",\"2024-07-22T00:00:00.000000\",\"2024-07-23T00:00:00.000000\",\"2024-07-24T00:00:00.000000\",\"2024-07-25T00:00:00.000000\",\"2024-07-26T00:00:00.000000\",\"2024-07-29T00:00:00.000000\",\"2024-07-30T00:00:00.000000\",\"2024-07-31T00:00:00.000000\",\"2024-08-01T00:00:00.000000\",\"2024-08-02T00:00:00.000000\",\"2024-08-05T00:00:00.000000\",\"2024-08-06T00:00:00.000000\",\"2024-08-07T00:00:00.000000\",\"2024-08-08T00:00:00.000000\",\"2024-08-09T00:00:00.000000\",\"2024-08-12T00:00:00.000000\",\"2024-08-13T00:00:00.000000\",\"2024-08-14T00:00:00.000000\",\"2024-08-15T00:00:00.000000\",\"2024-08-16T00:00:00.000000\",\"2024-08-19T00:00:00.000000\",\"2024-08-20T00:00:00.000000\",\"2024-08-21T00:00:00.000000\",\"2024-08-22T00:00:00.000000\",\"2024-08-23T00:00:00.000000\",\"2024-08-26T00:00:00.000000\",\"2024-08-27T00:00:00.000000\",\"2024-08-28T00:00:00.000000\",\"2024-08-29T00:00:00.000000\",\"2024-08-30T00:00:00.000000\",\"2024-09-03T00:00:00.000000\",\"2024-09-04T00:00:00.000000\",\"2024-09-05T00:00:00.000000\",\"2024-09-06T00:00:00.000000\",\"2024-09-09T00:00:00.000000\",\"2024-09-10T00:00:00.000000\",\"2024-09-11T00:00:00.000000\",\"2024-09-12T00:00:00.000000\",\"2024-09-13T00:00:00.000000\",\"2024-09-16T00:00:00.000000\",\"2024-09-17T00:00:00.000000\",\"2024-09-18T00:00:00.000000\",\"2024-09-19T00:00:00.000000\",\"2024-09-20T00:00:00.000000\",\"2024-09-23T00:00:00.000000\",\"2024-09-24T00:00:00.000000\",\"2024-09-25T00:00:00.000000\",\"2024-09-26T00:00:00.000000\",\"2024-09-27T00:00:00.000000\",\"2024-09-30T00:00:00.000000\",\"2024-10-01T00:00:00.000000\",\"2024-10-02T00:00:00.000000\",\"2024-10-03T00:00:00.000000\",\"2024-10-04T00:00:00.000000\",\"2024-10-07T00:00:00.000000\",\"2024-10-08T00:00:00.000000\",\"2024-10-09T00:00:00.000000\",\"2024-10-10T00:00:00.000000\",\"2024-10-11T00:00:00.000000\",\"2024-10-14T00:00:00.000000\",\"2024-10-15T00:00:00.000000\",\"2024-10-16T00:00:00.000000\",\"2024-10-17T00:00:00.000000\",\"2024-10-18T00:00:00.000000\",\"2024-10-21T00:00:00.000000\",\"2024-10-22T00:00:00.000000\",\"2024-10-23T00:00:00.000000\",\"2024-10-24T00:00:00.000000\",\"2024-10-25T00:00:00.000000\",\"2024-10-28T00:00:00.000000\",\"2024-10-29T00:00:00.000000\",\"2024-10-30T00:00:00.000000\",\"2024-10-31T00:00:00.000000\",\"2024-11-01T00:00:00.000000\",\"2024-11-04T00:00:00.000000\",\"2024-11-05T00:00:00.000000\",\"2024-11-06T00:00:00.000000\",\"2024-11-07T00:00:00.000000\",\"2024-11-08T00:00:00.000000\",\"2024-11-11T00:00:00.000000\",\"2024-11-12T00:00:00.000000\",\"2024-11-13T00:00:00.000000\",\"2024-11-14T00:00:00.000000\",\"2024-11-15T00:00:00.000000\",\"2024-11-18T00:00:00.000000\",\"2024-11-19T00:00:00.000000\",\"2024-11-20T00:00:00.000000\",\"2024-11-21T00:00:00.000000\",\"2024-11-22T00:00:00.000000\",\"2024-11-25T00:00:00.000000\",\"2024-11-26T00:00:00.000000\",\"2024-11-27T00:00:00.000000\",\"2024-11-29T00:00:00.000000\",\"2024-12-02T00:00:00.000000\",\"2024-12-03T00:00:00.000000\",\"2024-12-04T00:00:00.000000\",\"2024-12-05T00:00:00.000000\",\"2024-12-06T00:00:00.000000\",\"2024-12-09T00:00:00.000000\",\"2024-12-10T00:00:00.000000\",\"2024-12-11T00:00:00.000000\",\"2024-12-12T00:00:00.000000\",\"2024-12-13T00:00:00.000000\",\"2024-12-16T00:00:00.000000\",\"2024-12-17T00:00:00.000000\",\"2024-12-18T00:00:00.000000\",\"2024-12-19T00:00:00.000000\",\"2024-12-20T00:00:00.000000\",\"2024-12-23T00:00:00.000000\",\"2024-12-24T00:00:00.000000\",\"2024-12-26T00:00:00.000000\",\"2024-12-27T00:00:00.000000\",\"2024-12-30T00:00:00.000000\",\"2024-12-31T00:00:00.000000\",\"2025-01-02T00:00:00.000000\",\"2025-01-03T00:00:00.000000\",\"2025-01-06T00:00:00.000000\",\"2025-01-07T00:00:00.000000\",\"2025-01-08T00:00:00.000000\",\"2025-01-10T00:00:00.000000\",\"2025-01-13T00:00:00.000000\",\"2025-01-14T00:00:00.000000\",\"2025-01-15T00:00:00.000000\",\"2025-01-16T00:00:00.000000\",\"2025-01-17T00:00:00.000000\",\"2025-01-21T00:00:00.000000\",\"2025-01-22T00:00:00.000000\",\"2025-01-23T00:00:00.000000\",\"2025-01-24T00:00:00.000000\",\"2025-01-27T00:00:00.000000\",\"2025-01-28T00:00:00.000000\",\"2025-01-29T00:00:00.000000\",\"2025-01-30T00:00:00.000000\",\"2025-01-31T00:00:00.000000\",\"2025-02-03T00:00:00.000000\",\"2025-02-04T00:00:00.000000\",\"2025-02-05T00:00:00.000000\",\"2025-02-06T00:00:00.000000\",\"2025-02-07T00:00:00.000000\",\"2025-02-10T00:00:00.000000\",\"2025-02-11T00:00:00.000000\",\"2025-02-12T00:00:00.000000\",\"2025-02-13T00:00:00.000000\",\"2025-02-14T00:00:00.000000\",\"2025-02-18T00:00:00.000000\",\"2025-02-19T00:00:00.000000\",\"2025-02-20T00:00:00.000000\",\"2025-02-21T00:00:00.000000\",\"2025-02-24T00:00:00.000000\",\"2025-02-25T00:00:00.000000\",\"2025-02-26T00:00:00.000000\",\"2025-02-27T00:00:00.000000\",\"2025-02-28T00:00:00.000000\",\"2025-03-03T00:00:00.000000\",\"2025-03-04T00:00:00.000000\",\"2025-03-05T00:00:00.000000\",\"2025-03-06T00:00:00.000000\",\"2025-03-07T00:00:00.000000\",\"2025-03-10T00:00:00.000000\",\"2025-03-11T00:00:00.000000\",\"2025-03-12T00:00:00.000000\",\"2025-03-13T00:00:00.000000\",\"2025-03-14T00:00:00.000000\",\"2025-03-17T00:00:00.000000\",\"2025-03-18T00:00:00.000000\",\"2025-03-19T00:00:00.000000\",\"2025-03-20T00:00:00.000000\",\"2025-03-21T00:00:00.000000\",\"2025-03-24T00:00:00.000000\",\"2025-03-25T00:00:00.000000\",\"2025-03-26T00:00:00.000000\",\"2025-03-27T00:00:00.000000\",\"2025-03-28T00:00:00.000000\",\"2025-03-31T00:00:00.000000\",\"2025-04-01T00:00:00.000000\",\"2025-04-02T00:00:00.000000\",\"2025-04-03T00:00:00.000000\",\"2025-04-04T00:00:00.000000\",\"2025-04-07T00:00:00.000000\",\"2025-04-08T00:00:00.000000\",\"2025-04-09T00:00:00.000000\",\"2025-04-10T00:00:00.000000\",\"2025-04-11T00:00:00.000000\",\"2025-04-14T00:00:00.000000\",\"2025-04-15T00:00:00.000000\",\"2025-04-16T00:00:00.000000\",\"2025-04-17T00:00:00.000000\",\"2025-04-21T00:00:00.000000\",\"2025-04-22T00:00:00.000000\",\"2025-04-23T00:00:00.000000\",\"2025-04-24T00:00:00.000000\",\"2025-04-25T00:00:00.000000\",\"2025-04-28T00:00:00.000000\",\"2025-04-29T00:00:00.000000\",\"2025-04-30T00:00:00.000000\",\"2025-05-01T00:00:00.000000\",\"2025-05-02T00:00:00.000000\",\"2025-05-05T00:00:00.000000\",\"2025-05-06T00:00:00.000000\",\"2025-05-07T00:00:00.000000\",\"2025-05-08T00:00:00.000000\",\"2025-05-09T00:00:00.000000\",\"2025-05-12T00:00:00.000000\",\"2025-05-13T00:00:00.000000\",\"2025-05-14T00:00:00.000000\",\"2025-05-15T00:00:00.000000\",\"2025-05-16T00:00:00.000000\",\"2025-05-19T00:00:00.000000\",\"2025-05-20T00:00:00.000000\",\"2025-05-21T00:00:00.000000\",\"2025-05-22T00:00:00.000000\",\"2025-05-23T00:00:00.000000\",\"2025-05-27T00:00:00.000000\",\"2025-05-28T00:00:00.000000\",\"2025-05-29T00:00:00.000000\",\"2025-05-30T00:00:00.000000\",\"2025-06-02T00:00:00.000000\",\"2025-06-03T00:00:00.000000\",\"2025-06-04T00:00:00.000000\",\"2025-06-05T00:00:00.000000\",\"2025-06-06T00:00:00.000000\",\"2025-06-09T00:00:00.000000\",\"2025-06-10T00:00:00.000000\",\"2025-06-11T00:00:00.000000\",\"2025-06-12T00:00:00.000000\",\"2025-06-13T00:00:00.000000\",\"2025-06-16T00:00:00.000000\",\"2025-06-17T00:00:00.000000\",\"2025-06-18T00:00:00.000000\",\"2025-06-20T00:00:00.000000\",\"2025-06-23T00:00:00.000000\",\"2025-06-24T00:00:00.000000\",\"2025-06-25T00:00:00.000000\",\"2025-06-26T00:00:00.000000\",\"2025-06-27T00:00:00.000000\",\"2025-06-30T00:00:00.000000\",\"2025-07-01T00:00:00.000000\",\"2025-07-02T00:00:00.000000\",\"2025-07-03T00:00:00.000000\",\"2025-07-07T00:00:00.000000\",\"2025-07-08T00:00:00.000000\",\"2025-07-09T00:00:00.000000\",\"2025-07-10T00:00:00.000000\",\"2025-07-11T00:00:00.000000\",\"2025-07-14T00:00:00.000000\",\"2025-07-15T00:00:00.000000\",\"2025-07-16T00:00:00.000000\",\"2025-07-17T00:00:00.000000\",\"2025-07-18T00:00:00.000000\",\"2025-07-21T00:00:00.000000\",\"2025-07-22T00:00:00.000000\",\"2025-07-23T00:00:00.000000\",\"2025-07-24T00:00:00.000000\",\"2025-07-25T00:00:00.000000\",\"2025-07-28T00:00:00.000000\",\"2025-07-29T00:00:00.000000\",\"2025-07-30T00:00:00.000000\",\"2025-07-31T00:00:00.000000\",\"2025-08-01T00:00:00.000000\",\"2025-08-04T00:00:00.000000\",\"2025-08-05T00:00:00.000000\",\"2025-08-06T00:00:00.000000\",\"2025-08-07T00:00:00.000000\",\"2025-08-08T00:00:00.000000\",\"2025-08-11T00:00:00.000000\",\"2025-08-12T00:00:00.000000\",\"2025-08-13T00:00:00.000000\",\"2025-08-14T00:00:00.000000\",\"2025-08-15T00:00:00.000000\",\"2025-08-18T00:00:00.000000\",\"2025-08-19T00:00:00.000000\",\"2025-08-20T00:00:00.000000\",\"2025-08-21T00:00:00.000000\",\"2025-08-22T00:00:00.000000\",\"2025-08-25T00:00:00.000000\",\"2025-08-26T00:00:00.000000\",\"2025-08-27T00:00:00.000000\",\"2025-08-28T00:00:00.000000\"],\"y\":{\"dtype\":\"f8\",\"bdata\":\"AAAAAACIw0Cy861UlErDQHgKk7hWV8NAuRZxYYIpw0AC0whVq3jDQN3BM6sOtsNAE3uU2H2ew0Dvab8u4dvDQLRbUPlbt8NAr0Ht6rjYw0BTCQPqMTXEQCJxX\\u002fJ0UsRAVDBdWrU\\u002fxEAgWwiSSSbEQL3ND4msRsRAkzPbBJYRxEBZCXg0FLzDQNB5p7r2HsRAfLI0p2RvxEDxPljIQwPFQDNcOYHHs8RAhlhFCRk1xUAx0hoqy+fFQFYXQabL4MVAwByWeYpUxkCLNj6hxlzGQFKVxWDc8sZAaRhylUluxkCrWKEQ2XbGQIYVgWsUV8ZA2xWZod2KxkD\\u002frApiesTGQN+XnlRI1sZAggoblo19xkCtG2WKDMfFQH0L2hIQ18RAJ5AWUet+xEARL3A8LsDEQD3NJgFBSsNA6AOuFnPBw0CyzyvLIxLFQMs68BIMD8RAeNsfpEHMxEC9zQ+JrEbEQKi0gWLHs8NAVwCOyE1ewkD\\u002fx6J\\u002fJJ\\u002fDQD12h2zRu8JALfB3mzP1wEDksKXlmF7DQKCW\\u002fxJYg8BAsUAb2+HfwUBQUZKyMB\\u002fBQO7K89CiZsFAjS+8w8m\\u002fwEB9eDMH25TAQNBCfgGAFsJAQ1Ou9KfqwUAdpGlqHwnDQG\\u002fc32hmQcJA8l7OozyJw0AMHyypWDvDQIcR13QqjMJAAYtm+VfvwkASH6HzOsLCQJmK7+PnJsRAC3TFZozww0CEyABSciLEQIfRYFC9IsRA7XSwuYUuxEAF\\u002f0CDfS7FQELbZL3a9cRAgpAtPxKXxUCwJMWIV8fFQJyG4u3NWMVAQroc0gp3xEAaozWjuijFQBI2ymM958RAhJQ57YlJxUDycqmapznFQCS7ByUEtcRA0YCLT4GjxUBK5MNzg9rFQG7hR5QwSsVAdiyts\\u002f3OxUDunuIQHAvGQNwooohxQsZASCMG0YtjxkDAQeoS0oXGQOn5GAkhxcZAfLUMjndBxkDNZCJqouvFQCugWuTAA8ZAIJArdIRVxkCb\\u002fMOW0YzGQMRbTSF1ZMZAaYIaEU20xkBpGHKVSW7GQC8RXYfTcMZAroMHL9QzxkAdM3paYTvGQCObkUkLL8ZA8dmNCo9oxkCzk8FULlvGQC0eVOmznMZAdX9AmvWqxkB9lQxFA17GQCTwKgc\\u002f5MZA0BvBkcwIx0Aypa3s8TXHQKYeyCY9EshA3mFHq6jGxkCjZyn\\u002fEvXGQCct3NftGsdAfF8\\u002fCd+rx0DswbpAo8DHQC25iSv\\u002fAchABl4MT9Pcx0Bwl7L09YbIQCDbpbbqsMhA4BTaJFsxyEAgtlEdo3\\u002fIQKLfEH9SAshAIHMDEiNEyECWJoGjheLIQDKohdMECMlAvqZSGfk4yUAKr5gW7cPJQBXOxL9Fd8lAlWYLo+kGykA3lXukzjTKQB6U1WpuIMpAZ6IuNbhSyUBU9pYDbnrJQJR0wDmqcMlABeXwBy\\u002fvyEDhodBias\\u002fIQGHnDc2R4MlAL8BtwImGyUAHlTUISuXJQE6PPUmkxMhAhhuny76dyECzEo1p+OzIQEZHJqNutMhA\\u002f+EtRLXzyECNtQm2kO7IQNdkqkfZEclAcImHy7B6ykChNDSqARXKQC7wsuR1CspAbXEqlEl1ykBxaD\\u002fg4PvJQBXOxL9Fd8lA+5N5Y67eyEBXU0gdkZTJQEFq\\u002fxqYhclAuKjjpVKLyUDMaMxgjLbJQMhdZosF3clA7bOPF160yUCc4nMbg03KQIIBziqXHMpAESn7t0oxykC04RN+p4jKQDsYyfmUG8tAxijh8TzGy0B84eIEvA\\u002fMQDxga1XopMtAKuoqzT3cy0AQbRvToWXMQJ6Cc0Amo8pA8ROPqhhDykAj4v\\u002fd+dfIQPv8Y6rR5slAU\\u002fFCs5osyUAth8idUgLJQLZtOKzfLclAHUwzDxuXyUBU00hBYiLJQObghwpV38hAny1QFXeQyEBrikZIM9TIQIbEkaTKbMlAdNZpnOCWyEAnIbeF5OfIQGagKF58eclAykFy8AisyUD40rvAtmfJQB9xh6hiyMlAjWNI328LykCN2Fd4nEbJQBLZtUrqyclASI\\u002fI\\u002fsE9yUCNT\\u002fdVgLjJQANHgSdD0MlAZ19ql7N0ykDpY1\\u002fNliPLQDpMGsz4UctAKlA9LU4Sy0B2EuelKu3KQHYS56Uq7cpAA74gBSdCykBg0v4Owk\\u002fKQOm6dPSKVMpAl\\u002fcNj3BXykC6WCimbYHKQONCGCppwMlA0NnOA58jykANLw6FoNjIQKwNxM5CGMlAGrjiqfzRyEB4Exttj83IQKo4taJbTslA7ugojB2GykCUV5jXSF\\u002fLQGOJnTbsbMtAL12p2RDFykAo0fuF\\u002f93JQO33JcU5i8pAdNlBg\\u002fNoykAYXgl37InKQNqS6EznoMpAyMUIMM1JykDCkPpwK\\u002fHJQJKi\\u002f4ZaG8pAZeFwksDbyUA8XZNu1dLJQPQr7OF\\u002fSMpAaVJzNdNIykB9ElzwDHTKQOaiF70jT8pAr\\u002fat8ZSSykAbrsMuL3jKQOm6dPSKVMpAhU18NGJYykDCXfFAI1bKQE1ru78zjMpA9NmgneMHykB1mv8l69\\u002fJQK\\u002fEYvZsNcpAhj5\\u002f+0VTykA0bBtdD1HKQGN3UoQ488pAk\\u002f7ya533ykAAtgipN93KQPjEkJdxW8tAHS8LrbmFy0Dzltz\\u002f3inLQGrxtCWWYMtAJq15\\u002fI6ly0B+sZ3gz4vLQIbHaYvdPstA2ueBChtWy0DqIheZUsHKQGdzuyCjx8pAOTItUNoVykC0Wrkyx9PKQGinDPMG\\u002fspAFXr9Eem6ykDbXpd6g2rKQN107tqulspA6rx6y8YtykBsXdkKWiLKQBudwB7XmcpA+PjhadWRy0Cc0wBQ4qXLQNbJEk4AxctAGGPnNDs1zEAD00Oe7Y3MQPx5Kehfn8xACI7uc49dzUD3kMkyiYLMQHJh+EsmdM1AXZ8JurBvzUBLXRoEat3NQCojWl3wvc1ANE13ke3DzUBZyPS2jczNQDuEiyfL9c1AYgEPJKfXzUCJkuOpcgzOQI3RmlFdHM5AXM9O3pzzzUBYtevP+RTOQAa8LcE\\u002fCM5AFToRW\\u002feuzUDI1h8bHOPMQKwTdJxovMxAKlMVFGHkzECiPGDh5zTMQObGN48GoMxASprMHLsvzUB2SxY23c7MQCwAgi1pCMxAJZpwFfvty0CFgp8WnYfMQCroJPYBA8xAyQ59m\\u002ffLzEC8YFTdU6HMQKkcX1DRNc1AlVx2lZcKzUBNxTI7tuzMQHRUAepFSM1A+9\\u002fFtesyzUAcoJgF6mvMQCkacPEpYMxABAzpwCQSzUDwfUsBE0TNQPexER5ZAc1AES0bQbmezECQG7kWcSHNQBv3N5pZ+sxATZPnP46PzECAqYQ8PgvNQCsDWhR82s1ASYlTet6uzkDadpL6XIjOQGSiVuulyM5ARLA4oH8yz0BUZbuFMoTPQKIuvyUehs9ArtrhDIbXz0CLVHNcQXzPQLphsFqm989A7Bbea1IP0EAFzgLhbt\\u002fPQNQfCImG0M9AUcqt+dQM0ECPgif0063PQE6i0J2zFdBAd5r\\u002fJesb0EDcLlJWlyLQQAeevbyCW89A7YbAIvcaz0DOmrRchBDPQF5fk5VDBs9AiqQuXCaGzkC9m4lEQlzOQGGK+bM+w85AoMYcgVYZz0BDNEVyyHLOQBNZU2+LVM5AMzkmCP5wzUCMu0PxMfDNQHkh93Gbkc5Ac93red0zzkCAI3KTufHNQFJt1CnEBM5AFbYEia5uzkD6ZqpuR0XOQD9bKphp9s5AFdVGnUIUz0CoLjRwAA3PQGCZ9uxayM5AbdtwWL\\u002fTzkBzADo86YvOQFCdGU6wiM5A7PvPuyNWzkBBZIqWtPbOQGDwlYHKVs9Ak2o\\u002fB08vz0Ch+m1Tuk\\u002fPQJLQ29Taws9ArtrhDIbXz0CzuvRWZgvQQOCI3GRu5s9Aw1d8vD\\u002fHz0AKScH\\u002fHhvQQBtoJ6oXBNBAVF22vJc20EDlm72VFGTQQDwrDSprYNBAv7poWaZ20EDYImmVclzQQL5jjnv0ltBA480IkTzB0EBiLi09R7nQQFqAPoBDxNBA2TkImPkj0UAUzctBIyTRQB4dwPoFSNFABh2drEMg0UC2cZN+kCjRQC16IGCrHtFAVBryHpNY0UCnd4Ft33DRQMBrMEVfWdFA8hquiOVU0UDOPWX67hnRQH1p+4R8PtFAASCxJDtf0UBwrR0wGKrRQA7xJ6Xq4dFAeRsMWzPY0UAaqnw3dbDRQEVHOn5lq9FA6OsBu9Kv0UD+kHnGrZbRQNKe53hHldFARTe6Wau50UAjf8Vk\\u002fK\\u002fRQA9u2QeC39FAsfpDDYje0UBCLddvwszRQEEHAOvcrtFARKsLvve20UBfw4tDIeTRQMXhhjhFFNJAO6I2dcov0kDgb1759hfSQHxZQBeA+9FAQoR2BDJb0kBaDDxAMNPSQKlh7nvP19JAS4sKLeG30kC2te7iKa7SQDcheWS7f9JAiI6I18GJ0kBkfbMtJcfSQObnusMYrNJAMyUQyFCr0kAu9VVZgqDSQKzwJdpcoNJAIOFVhBCR0kAXDA1XiZHSQE\\u002f9ygTUYtJACn7k4VlK0kCwYWPGsV7SQCOV4XvlitJA8V4J7X7a0kAOeY9J5ODSQBX0rx8ijNJATFvFCPUz0kAVbA0y5jvSQCefxGXOd9JAwpWd5TeH0kCPS3TN4YPSQApwapTbMdJApYX7ul2J0UCy\\u002fk+7\\u002f5DRQDkmQ0cTcNFAmcqgUZfh0UAzEwBf34LRQENjLhli3NFADP2bGy0h0kCCvUtYsjzSQIK9S1iyPNJAauP\\u002fjtUy0kDlkBsvqR3SQDgUggLbU9JAYsqqIe650kDPphT4z9DSQIVRnL3QAdNAt\\u002f+WFbkQ00Dv31GzqwPTQAuTfQ2lONNA5qQxb1Yf00DeXBrJIA\\u002fTQEP\\u002f5kZLLtNAI9q\\u002fyxz900DxGsJj3A\\u002fUQP214TrsgtRAsP3gqlhf1EDLBeELyJrUQAB3ZJShqNRA\\u002fnRevWXP1EDKnoYJXMnUQLLStI3919RAcffZPZ7H1EDiRofXEHbUQLfuHXPcj9RAEzdNT9vT1EAFMkqzhcnUQJNIdDDh\\u002f9RA9Ee4xo4D1UCl8P+zsyXVQIA2BejIQtVANxSW3dEO1UDO3LrFqOzUQHZNazFS8NRAXJ5LhdBt1ECY34ihG9zUQFGwIjVEfNRAlH2DNyV01EDl6xWWyWrUQAtzQnvuA9RAJ6MfOH821EBR1PPi7cDUQL0lMgm6wdRAabBFgwak1EBHyx6awDnVQFB7Ey4ACNVAENbK0IJY1EAwNFwlprzUQEYs3an9IdRAI9k84H4Q1ECMUh5hzNLTQJ9F1QLMR9RAzzWbepal1EAbgWrMTL3UQKq7ZfdRONVAL8p4YGAl1UDhqh3OYDDVQOz+HTW7BtVARYF2ZzHX1EBQSEVHOr7UQNlywZUnY9RAl7ae7OCa00DFJ+hzGnPTQP49+rqsddNA7R8X\\u002fFF500ChCRxonYTTQCa\\u002fThy+uNNAprxfvRbj0kBFJkG3zjjTQHcYSE8XwdJAiCar6bfL0kB5pXnWaLDSQJI+fWsBWNJATeVtzWxd0kA1TqtYUuDRQE\\u002f9ygTUYtJAxUim8W6U0kCcG2hi8xnTQLDbUB0tRdNAZSywi+Qh00Bfk5VDbmzTQINrxcrTqtJA+816Azj10kD4gk\\u002flCqbSQO1kpidQ39JAEtuUs9pI00Cd6Rxny7zSQIAhHZhESNJAltQO8Z1H0kDrCfvkaJ7SQGftbS7cmNJAl9eXs3cN0kBnDCbV9ODRQFCHrhKO3dFAPE4gozRn0UBHGgiKzkrSQM33F5oQdtJAJSGQF5mN0kC\\u002fWOwUiVDSQO4hWBzQo9JAWk\\u002fFlPJf0kBiZhQrnv\\u002fRQDLuq8WXUdFA8WmrU+og0UARlTN4BerRQM6TgaPAu9FAGOv\\u002ftPtj0UDKp9N0UirRQIo57xmO1NFAltQO8Z1H0kCYhxf91FTSQIq0X1ynp9JAZdUQ93ST0kBLFbPxWOHSQC1aqoSymNJAfNMtbvvh0kClIbToRtvSQCgaNajnStNAUDY13siV00DQI4sRJX3TQGrBviXjJNNAgTa2w48200C87McvxY7TQKuqE8PATdNAZ+1tLtyY0kAugIEJmLbSQBFRJzilcNJATYBU63620UDm1apap4PRQM08p8UO3NFAYZNGHzVg0UAuOZ3iJGvRQH8+z2cht9FAKmKI3wHI0UDE\\u002f7vzv2\\u002fRQJYo1p76A9FAUZy90F1u0UCaqBDEa8fQQD7wJZ8TltFALBOLFP370UB41OzqfTvRQO6o7bDyqdFA0hO8yDF\\u002f0UCwLxjLiQHSQHdIPk\\u002fKONFAEX8XYRwP0UDB4kW1x23QQGO629j6u9BAV4WTGLkt0EA\\u002f1x3GILbPQNZh5ju9NtBAfFXlRM880EAOm0ZFW5HQQDZ3qeiDoM9ACaUX5JGCz0DMT071FHDPQCc0StrzONBAcztINYwo0ECMkD+KxFbQQLBei9+ejNBAl6WHAZIB0UC26G2ltuvQQF5oG0p89NBA5m0Itt8W0UCAQZNzPc7QQKPTsOMGutBAenOkbcX10EAaV+lQfdTQQN9aABfuetBAZPfvqNl9z0DTpthm6yfOQBm\\u002fZIf5bs5AmHr5LKlWz0ClzjTdRX7OQBWD+1im085AMEfvebWVz0CUfpCQPoLPQJhxcXhwHNBAB5cAlkOp0ED\\u002fbuk4gnzQQGLi4OoJ7c9A\\u002fzsbUrwy0EBNVkkCNPjPQIjuOY7lJ9BAUxXZFwJc0EBJLgrvhJHQQDp81YJptNBAjmcZRKWo0EBYe+ovcHbQQG1XZIZ2k89APXxygzl1z0A2d6nog6DPQCfqyBWw9M9Aq6wtdfOlz0BiDmg9FSfQQLRqdKDDUtBABTvSZ7570ECRbSvJWDTQQKFGuqX3G9BAOx\\u002fBaRZbz0BoQO053bnQQIopqj4WNNFAR+VuFQ950UB3jZIxhk3RQDuPoyC7GtFA51HZ0aCU0UAosAK\\u002faKfRQDUq2qqom9FAbjP1j1py0UAtN5cL6ZHRQFB2qwI2\\u002f9FAEuuKahnd0UAj1+fkCSvSQFCafLDfQ9JAvUESyb830kCo5HdieivSQO2T3vIiGdJAADL81u7Y0UBqvuY+0FLRQAQ6FDPePdFAPKZ9bIQz0UC5vUGIW2TRQEw1ZBaUuNBAx9QFaemK0EBYRZOG0GbQQKa6RQvkTtBA3Mh6P8k90EBwkg+A6fDPQCWvHRw9l89AuXZdYegY0EBZnnM7vh\\u002fQQIjLsIKXftBAz3HxFZWh0ECjZhym+W7PQNiCyyddds9AXHo\\u002fjuSbzkDuICRVa4fOQISDcSZ0gM5AdQRG6mA+zkDiJLwAo87NQI4n8kNxD85AP6D0DKqtzUApt6sKsZ7NQGZk0sJ9fc1AVyk9NEYSzkBzd0+sUaDNQO1AmjBkDc1AcceUGbIHzkDTlBciswvPQOx3w+naFc9AZ6u26fDIzkA1goaYMTjNQNB4mmHdmMxA4hDhCTgezEDLe+kiFynMQDWChpgxOM1AiHwC3MuCzEDvr5b8OqHNQNNNM\\u002fs\\u002fwM1AKlRdtrx\\u002fzUC2D9zwMHXNQALAxCTVM85A7KjGQqfXzkC0hgU8kETPQN73xZ3w2sxAtzSmHP1IzECoULAiNWzNQN5LF7nI9MxAqqnLIGV2zEApkYVhknTLQHpzpG3FucpAfWpDJ9idy0CznZGrwmzMQKBWTqWojMxAw2LP\\u002fnEBzEDYtpKMRU\\u002fOQGbJsFsp085A4zgNipIhzkB4104\\u002fDC\\u002fOQBGIUPEbPc5AOeXTpIM7zkBBypz2xCzOQBCmSmNUR85AKSCWUdSmzkBwX3ziZfjOQKddMfKQ9c5Acvvl6xU+zkAlJevpSRDOQPJBa\\u002fiY6s9AixJt8xzcz0DjkTxjuebPQEMEirtXTM9AZT8Il7GpzkDrPh7Ho5HOQPggmFer8s5A6i0bt0uzzkCpdtbLU5bPQFy3U17DEdBAny5dbpAW0EAvU545OibPQFx6P47km85AT5rL1BgUzkBGlQI6Yz\\u002fOQKwlSbyXk85ApgVKu8XLzUDXNpOwFt3NQEudGpZSpM1Au7XtmodWzUBqGCNxECbOQMiEXkT7\\u002f81ArCQBGjz4zUB9X9wJr6jMQNTnDMA4z8tAUTSlmREjzEAbFOppNmnMQO3Y94ucoMxAGSd9vkV+zUAyBh3Y9dXNQEyTca0J7c1AEHL5kPAQzkDvwJkMk3\\u002fNQEV7Fb5EA81AjZtDqL0MzkDLsAwFUljOQJp\\u002fww8BR85ATqnIDTUZzkCS4JZC1wXPQHYq4iUEC89AwaTpQo1czkCJtnkO2v\\u002fOQMXWM\\u002fYSns9AMmO7XsSM0EA7seSJrSjQQF40BcFaD9BAnk2fgiS80EC2X0jM3K7QQJNjguAPfdBA4g6MDsN00EBsGErfW\\u002fjQQA+elL7yBdFAA4sX1R7j0EDLQz1+AnDQQPpgNepjLtBAai4EP7evz0BfmDi4eorPQMFkcx4g889AOMIPUPNAz0ARRYxTF1\\u002fPQPCld4FtR89A0gpvXTvizkC2RgWqp33PQDyz6mDpAdBAi03xfkQb0EDn\\u002f\\u002fCMNN\\u002fPQGULQTLJ0M9AmX9NfXykz0BaVC3AvCzPQJUekLXh189AW6RKdy9a0EBk8jhZ1qTQQHlfGJuTUdFAiO7D+2CF0UCDKO1R2BHRQCMJqXK2KtFAKw3vIc4S0UDBoYfu\\u002fmjRQImwyUC0l9FAtX6K4HBU0UCj1XtxAELRQCk9NEa6ltFAmhH7Co\\u002fP0UAWKDw7yBPSQK5sj5qYAtJA+qnkntAB0kDOofvwPtTRQDHbZ5XBSNJA8glwL0sl0kCn8CYi\\u002f7vRQIxSzzyTxtFAMwTI3IAs0kBEqIL7HfHRQDSR+WPSG9JA958BtecU0kDNOR4DNRbSQJPuN\\u002f6g8NFAnLSD8gvr0UB6yD0r+arRQBqIsWAHRdFAuz0GG0iF0kCU0s3QHx3TQLOe2U0eRNNAzsliutso00DRRhQdcybTQBBwaUw5FtNA0UYUHXMm00Al8FF1inrTQIyGqnxyWtNAW3Te5Pc\\u002f00BJJHXhMpXTQEbmQCXmcdNA\\u002fbLOCpdf00Ap+jRfc2fTQAPShWkNjNNAz\\u002fKHuFi700AaWkulCwTUQCWsRTUqAdRAGirLN90u1EDZDCXIm8\\u002fTQNJvORvwuNNARIyiOxh71EAwzQEjOuvUQCNVMA420NRA6m6eNNKi1ED6M6E+P+bUQAhueJiWE9VAEyREaEcc1UCDxr8x9PfUQLwx4cg+UtRA7AzTy3tw1ED7AVZDF4nUQAeueCp\\u002f2tRAb\\u002fRQe8QB1UBRS5PA0TLVQE38IKvq39VAfH\\u002fwLRqD1UCHOcirQj7VQH1uKGcE9tRAH4sSbfNY1UDwXFI6fA3VQAH0Ffc4ptRA9dNmYkIG1UC8hfea1BrVQJ8WnTf5DdVAo0JL+E9m1UAoxjKxSD3VQGDcRPjaP9VA3Dng4Qty1UBK8\\u002fv14TDVQJGH8dYr2tRALW\\u002fNHXnk1ECOWwjNkjDVQG6wRDtkiNVAmuanf+ix1UB\\u002fvKH+yLnVQPByMwgjl9ZAukGwETJQ1kA7DTtuIMzVQDPWJthCmtVAWPtMC8+v1UB0OCEqQA7WQNWt90S4OdVAP382j1XI1EBA11gPY0PVQFaMUD\\u002f4G9VAEXkYb70i1UB3YfcDhJTUQCo0IiQGh9RARbJ5wP2Y1EBTUaVFhb7UQIZ3\\u002fa8xfdRAxk2Er70\\u002f1EAJGmLGAEvUQO7xYRwdLNRAFLGwONtc1EB2svqlxDnUQBfbk2s4LdRARNCue3j000BEe9p0Au7TQOUqkzwURdRAkrwA3m9O1EBFbKLyo5fUQNjpm7xNJtRA4NrYhNFW1ECZzT3vZ2LUQL4mtfRXrtRAj8ZufXa01EAuHYLZ3KPUQAZqpzNhstRA2v+30zYB1UDWz\\u002f1kaPbUQAGdOxmHxtRAk\\u002fIcPs0M1UBjgFDL9UfVQJ+M9HKB5NRACPmjSKwp1UB53eoxO1TVQPHELyiGy9RATjDoD9O41EDN1uOJN7LUQK7niUotM9RANbkl5Cwf1EDNLHbFjfbTQFTeERYZ\\u002f9NAKEyAow+o00D9xh+UhrLTQLEzc506wNNAmGYeNj7i00APkXbuxkPUQCJ\\u002fFIk1vNNA338tQuoV1EB8nuMddRzUQFYlMYbOm9RA8W9bIRDF1EACj8HLCK7UQOkku7gA79RA+8\\u002fP\\u002fqza1EB+YzfcX6PUQA6RO6WE8tRAGY5hLi3p1EBrccjcu8nUQOx0dXBD3dRAbQAAO0mS1EAZeArOAb3UQN\\u002fsIzeF0NRAnSAL1\\u002f9z1UBwCN1N9qXUQLXcl3fmxNRAu7rLWNY91UBIR00RukrVQIRBMHQNy9VAdtXS1Uvv1UDIEd\\u002fvhTfWQLGhO6Ksc9ZA6H3qkSe01kAHHHx4M9\\u002fWQNoikAO+ttZAOjOcYIFH10Dw2VLBTBfXQF7rkFUwUddAFf1yHZ1T10BeDVwsnrzXQAqreI1+VtdAhfUKkBvR10A3CDZChorXQHpsNmu\\u002f19dASmJH5vHQ10COydDRBOTXQJ1I\\u002fA0YJthAnXn\\u002fZuTn10D97JRh3ujXQP5FdRbModdA07xDog1L10CBoX9zo4HXQMK93UCJRddAeHjlKkRo10CUKxGFPZ3XQAt8ewvubddABMyGd66f10DJOMPNhJ\\u002fXQOHySZcvF9dA3+496bdk10DDjNrnvIPXQCDYkoaVjddAzLj98vVi10DSY2PtH5LXQJlMzrrvotdA\\u002fMjDszSk10ATpJJor5rXQJWnP\\u002fw2rtdAY5NtjYC610Cj3sjc9mbXQFaSdp+iYtdAGy8zY6c310B40EL0kzTXQKyCDrGxpNdAYMHnI3O210B+wMGHNyfYQLp5XLZGRdhAyCYCiUyD2ECkbAe9YaDYQOszy4Rxk9hA6drqz4Pa2EChZXJMECjZQPaIE44nBdlAdYLdN8Yr2UDT8ulv5mbZQHtSl8s3jNlARps8dQR92UBYvfCYlNrZQDo2Of5RyNlAtJw1LnAW2UBJGO7Xm3rZQA1RnhLM8tlABda4hdCY2UAUMRMUOpbZQLxdtz+DINpAG9FMOn0h2kBM3wwkgInaQPbv9\\u002f0ONNpAfSOaSaej2UBuUWWUF+PZQNe6xvCqs9lAqsHaezWL2UCdnt1tp3bZQMw1\\u002fnnGbNlAQ9p+0gwG2kCU29\\u002fy0\\u002fDZQPe+L+6Ew9lAlkua84rC2UBeilyzbsbZQDScm8o9JtpAmgHxeFlE2kB7UlyC9TraQCAgv09kdNlAdpexrFNr2UAivzuJad3ZQMW7YI8mrtlAwxjYp6mS2UCQWiLixEDaQJusHHLjPdpAolrQ5aTh2kBbksR7OVPaQBcaOIDOYdpAfPHYu\\u002fqj2kDd7ZOPzuHaQCA0mkbPJNtAlDPHKZ8a20Cpbpa5drvaQPy+Lqbip9pA8hdgD06k2kBJDATP1JjaQFrCCaAl19pALasjuXek2kDRE\\u002fcRdJTaQMKiRSPfatpAyQwooILm2kD30cJClNjaQJj4VTHM8tpAYlL+6vDB2kDn2DMdgQ3bQIxzjbrnq9pANJybyj0m2kAi4olLdTXaQHQbSOwXCdpACLi+E5iO2UDzswRiQDvZQOby0rwIWdlAqHh66wHE2UAFtLJlINzZQNeoez73OdlAVu1wBsOv2UBnPFce6m3ZQFJUzFDRnNhAfq+DLp332EBmjNfUjCbZQCJ7apJLtdlA6Nv3KJ0k2kD\\u002fsO+hpuDZQCpcJzYV9NlAuydgluMQ2kBb+JuSBzjaQAk2uBiLJ9pAkJ92xIBV2kD0Hro2XcvaQI7wPh1\\u002fqdpAHzLPuNWc2kD5osXAA\\u002fDaQO8Qy578K9tAPmX67v1D20CvwiHW7grbQLc\\u002fDTomPttAYXNG1sBA20Dpirk9Gi7bQFNKrdUDQ9pAbKGqAXhK2kDcYSA9XTDaQBR2LK2zWdpAGu8LY3Pa2kCfl0e1s+LaQG+70sbY19pAu5BK3QYZ20D3KGLXA2fbQOhDJDvg7ttAYQ63YU7320AuwwpeWgfcQDcQdlRjZdxAeMb8CntE3EBAFT\\u002fvGDrcQOtdTABBfNxAV3q2aAta3EDZbGDsOo\\u002fcQD2rWyrTotxAnDzrlgWu3EABvm8pYE7cQLMEsWTs7NxApKdQ\\u002f0YW3UB0ALDObS7dQAKRAuyGnN1ApuF4DRyH3UDgDJoSfhrdQOF0PLdFh91A9Lo3GwTM3EA1YT6tYbncQCnYaYgFwNxAr\\u002fgC7Ql43EDJuePdwxbcQENBKPmx49tAN3UFydWu20Dwe7u8Ww3cQKhtnTtULNxAc5KsgLkp20CzAJHbfX\\u002faQF6cbBzg7tpAfjuB7okG20ACehTFxsjaQI0gv4qtftpAv5nlJJRq2kBOsc3Wz97ZQGrsEbGJBtlAWfL\\u002fn9hO2UDq3rs0uTvZQEVkYuDGgNlA6zbetMa22UDc+X2YlcPZQKVyaGZOONpAvMdfu4Zm2kBIKXtVb7baQDi4yWbajNpABFwaU46+2kDohOIBqfPaQDqtnZLz6NpAoSErw21d2kDgxSt+j3HaQE3jGNL3O9pAmXVC3aVB2kBmBsUrCA3aQIsqaHP2NdpA5ubos0F32kBBbU2UL\\u002frZQJrtn+9p8dlAoyc9SCHp2UBrNTf4enzZQMfxtzjGvdlA2inDvIFH2kB1h7v1FNfaQHDQpjtmF9tAqmDhIrZR20BpZQaK4l3bQK2cDwjHm9tA\\u002fHgcj0ZV20DBTHieRtXbQLT0ptK2ndtAQfd\\u002fxiKB20BIYiB4pjrbQFYfRm9mattAuKu7jGVd20BgXGyK9yfbQASzuef9TNtANioV9Oqw2kCtUyUKGHfaQODzpRSCbdpAl+eNarZl2kCMLfE10PvZQNHvJWTKT9pAg7\\u002fHwXJ82kCNQL\\u002fTIWLaQNRM133tadpA2bFlqr2X2kBoP2pOP5HaQPdaI2WwZtpA\\u002f01mBHBw2kDVcq4C04faQJr95MrhkdpAaZYJ464f20ALky7pa\\u002fDaQAcNHYiJ8tpAWtZaKRUq20DDyuc1vhDbQKrrDNPLZ9tAPLjIHjhx20DFD7Kq\\u002fsfZQCDMMutJCdpAPS6W7ETq2UCqXlHe\\u002fhraQD5kskyiqNpAnzFwnuX92kC5VBz49c7aQGXSOBBihdpAOvT3S+vW2kAThnGIK\\u002fraQOt8P\\u002fCbFdtAvg66dH5U2kC2pqKF1GDaQForannNgdpAQK6VyHNc2kA6vNUUUj\\u002faQONBWvWIgtpA6jMaqaqf2kDJTvO\\u002fZDXbQC3A9y0F5NpA88ffWKvr2kBRRGAHDmbbQFvrLp6iadtA7KNeF93O20Ads6HsfSPcQONVNezzMtxACj1hZNNa3EBhiN8BDC\\u002fcQB4MR1gpi9xALdTSJHCU3ECxIOBIK2\\u002fcQLWT6MJ5tdxAfqIqFS\\u002fk3EA86hMaYM7bQPs1kzqEyNtAInu5toTB20Av15YwjKvbQLR8ScDy7dtAvlIV2Rfa20D\\u002fYv8vu17bQFqSiTL3AdtABw8jX8XL2kAZIA+8P5zaQG50eA3h6dpAlEFBdx0z20D4F5oQ7tnaQCsL6UqS\\u002fdpAlGdTRUWi2kA9L96OoIXaQGbEvsLjbNpAR7CaVw0a20CfMXCe5f3aQJ4eZ7dRRttAeaPpkbE920AqlyFUwV3cQNvrFyYOZtxAHoSkau063EBfKOBuUaDbQBYah6QHbtxAdgV6scUe3EDRqMuq0mHaQGuvJE\\u002f2YtpAh5bcxJUf2kDD+qLsLjfaQNnj6+4nRtpA1mQ0tVRv2kC2THouiwzaQFNaLfq9NNpAcn6WQAwo2kBwdzwZ\\u002fQDaQNK71JFmGdpAdGKipQ\\u002f32UAw+RLjwAraQMUB\\u002fRM+XtpA8TjjQ2B02kBqu9MOe\\u002fPZQOubMuD2rtlAGcotXLBL2UAMCfy2eGnZQAX07UBL9NhAPnSoA+E82UBrm0lYi7LYQCuCdE1\\u002ftNhAnTmJQnd+2UDzswRiQDvZQOXPhPr8ANlAfonn8vkq2EAjNw8usi\\u002fYQMVlfy+XXdhAopi2xVoU2EAGoqL8rrPYQDuvVEX2tdhAgcaYw6hh2EAQExrqo6fYQJm2O+2wl9hA6ennCKDf2ECglfK5Pv3YQE012qgYH9lAWLlafaHK2EBSzvTwjtTYQFJSAcPXFNhAKDV+oVjd10AFSf2QA0zYQN9oK0AzS9hA5hRPbz2410C+54ZyRuDWQF0IQyUNwNZAuT4nT1iK1kBDoRT5F9PYQMX50NxXPthAgE47seSx2EDVf1ZAeqfYQCngblGghdhAhdC29tOf10C8ix37fmHXQD5\\u002fhbOO1NZAu1XGUd9R10A9shhREs3XQCUrYG4tn9hAb9j6KDrp2ECfKURn\\u002f93YQKHLSWPeDNlAmPV9Srkg2UBrWhX\\u002fPQvbQN6Q4S0JrNtARsDfMoW620C5RGGK+YvbQKORbzGgjNtAHsaq0xHb20D0+nL2LuTbQE2T5z+Oj9xAjqy8SpqN3ECnNwtJcsvcQAIlj+KJztxAIrWmexfh3ECSQhOH9CvdQIYAmRuQIN1ALPDGv2zF3ECpo7mbsercQGR8MEKHntxASe4dOJNJ3UD2ardkYRPdQDdVj+3cKN1AufPnVTRE3UCgi+cZaF7dQIsOTWqubt1ALdEOGVR93UCA7yDBVbvdQGM3Zs1G591AtYR199gN3kDDRaecEPDdQLsKh1i7C95A+3wBz3Jx3kBcnkuF0DHeQCwEorbXdd5A9sCYxPBj3kBiR6uovofeQEnys1OGWd5AaIu2oHzl3kCc6rMtYCjfQB4kuGqHS99A2Qx07NSf30A9NRjKQYffQO+\\u002fZUUun99AFH3p0\\u002fJH30ARR5IqUzjfQLT9pBl0tt9ACpQU1Dmk30DSUAviUpLfQN9ItWQ6AeBAN9JUK2vh30BkpOYvXf\\u002ffQINj+0p7+t9A2DVyfAYU4ECOdc7aZRLgQDxLDXPfQ+BA01iGPXI24EBwImgShzbgQAvl77+MD+BA6yXbpG4U4EDWtrpCMz3gQMWXVJg6VOBAZ0yc+WFK4EC0z8jL80rgQOGT4IJnUOBAESvGRUT14ED0ppdt26jgQJe0hDquBuFAq1KiHnrG4ED4BMxynK\\u002fgQPseL4E\\u002fjuBAu6AFSwOY4EAjXTXX0JXgQD+rDAaa0uBAAKVA4iGM4EDGR9Thl5vgQM1aF8rLiOBAHpNSf9Bv4ECdS9T0KjTgQLNVoCs2E+BAvcYXGSsH4ECBQc68fx\\u002fgQPhZ28JUB+BADQcdTojq30Bkqpb9ghvgQJ8OXSUcM+BA\"},\"type\":\"scatter\"},{\"mode\":\"lines\",\"name\":\"SPY\",\"x\":[\"2020-01-02T00:00:00.000000\",\"2020-01-03T00:00:00.000000\",\"2020-01-06T00:00:00.000000\",\"2020-01-07T00:00:00.000000\",\"2020-01-08T00:00:00.000000\",\"2020-01-09T00:00:00.000000\",\"2020-01-10T00:00:00.000000\",\"2020-01-13T00:00:00.000000\",\"2020-01-14T00:00:00.000000\",\"2020-01-15T00:00:00.000000\",\"2020-01-16T00:00:00.000000\",\"2020-01-17T00:00:00.000000\",\"2020-01-21T00:00:00.000000\",\"2020-01-22T00:00:00.000000\",\"2020-01-23T00:00:00.000000\",\"2020-01-24T00:00:00.000000\",\"2020-01-27T00:00:00.000000\",\"2020-01-28T00:00:00.000000\",\"2020-01-29T00:00:00.000000\",\"2020-01-30T00:00:00.000000\",\"2020-01-31T00:00:00.000000\",\"2020-02-03T00:00:00.000000\",\"2020-02-04T00:00:00.000000\",\"2020-02-05T00:00:00.000000\",\"2020-02-06T00:00:00.000000\",\"2020-02-07T00:00:00.000000\",\"2020-02-10T00:00:00.000000\",\"2020-02-11T00:00:00.000000\",\"2020-02-12T00:00:00.000000\",\"2020-02-13T00:00:00.000000\",\"2020-02-14T00:00:00.000000\",\"2020-02-18T00:00:00.000000\",\"2020-02-19T00:00:00.000000\",\"2020-02-20T00:00:00.000000\",\"2020-02-21T00:00:00.000000\",\"2020-02-24T00:00:00.000000\",\"2020-02-25T00:00:00.000000\",\"2020-02-26T00:00:00.000000\",\"2020-02-27T00:00:00.000000\",\"2020-02-28T00:00:00.000000\",\"2020-03-02T00:00:00.000000\",\"2020-03-03T00:00:00.000000\",\"2020-03-04T00:00:00.000000\",\"2020-03-05T00:00:00.000000\",\"2020-03-06T00:00:00.000000\",\"2020-03-09T00:00:00.000000\",\"2020-03-10T00:00:00.000000\",\"2020-03-11T00:00:00.000000\",\"2020-03-12T00:00:00.000000\",\"2020-03-13T00:00:00.000000\",\"2020-03-16T00:00:00.000000\",\"2020-03-17T00:00:00.000000\",\"2020-03-18T00:00:00.000000\",\"2020-03-19T00:00:00.000000\",\"2020-03-20T00:00:00.000000\",\"2020-03-23T00:00:00.000000\",\"2020-03-24T00:00:00.000000\",\"2020-03-25T00:00:00.000000\",\"2020-03-26T00:00:00.000000\",\"2020-03-27T00:00:00.000000\",\"2020-03-30T00:00:00.000000\",\"2020-03-31T00:00:00.000000\",\"2020-04-01T00:00:00.000000\",\"2020-04-02T00:00:00.000000\",\"2020-04-03T00:00:00.000000\",\"2020-04-06T00:00:00.000000\",\"2020-04-07T00:00:00.000000\",\"2020-04-08T00:00:00.000000\",\"2020-04-09T00:00:00.000000\",\"2020-04-13T00:00:00.000000\",\"2020-04-14T00:00:00.000000\",\"2020-04-15T00:00:00.000000\",\"2020-04-16T00:00:00.000000\",\"2020-04-17T00:00:00.000000\",\"2020-04-20T00:00:00.000000\",\"2020-04-21T00:00:00.000000\",\"2020-04-22T00:00:00.000000\",\"2020-04-23T00:00:00.000000\",\"2020-04-24T00:00:00.000000\",\"2020-04-27T00:00:00.000000\",\"2020-04-28T00:00:00.000000\",\"2020-04-29T00:00:00.000000\",\"2020-04-30T00:00:00.000000\",\"2020-05-01T00:00:00.000000\",\"2020-05-04T00:00:00.000000\",\"2020-05-05T00:00:00.000000\",\"2020-05-06T00:00:00.000000\",\"2020-05-07T00:00:00.000000\",\"2020-05-08T00:00:00.000000\",\"2020-05-11T00:00:00.000000\",\"2020-05-12T00:00:00.000000\",\"2020-05-13T00:00:00.000000\",\"2020-05-14T00:00:00.000000\",\"2020-05-15T00:00:00.000000\",\"2020-05-18T00:00:00.000000\",\"2020-05-19T00:00:00.000000\",\"2020-05-20T00:00:00.000000\",\"2020-05-21T00:00:00.000000\",\"2020-05-22T00:00:00.000000\",\"2020-05-26T00:00:00.000000\",\"2020-05-27T00:00:00.000000\",\"2020-05-28T00:00:00.000000\",\"2020-05-29T00:00:00.000000\",\"2020-06-01T00:00:00.000000\",\"2020-06-02T00:00:00.000000\",\"2020-06-03T00:00:00.000000\",\"2020-06-04T00:00:00.000000\",\"2020-06-05T00:00:00.000000\",\"2020-06-08T00:00:00.000000\",\"2020-06-09T00:00:00.000000\",\"2020-06-10T00:00:00.000000\",\"2020-06-11T00:00:00.000000\",\"2020-06-12T00:00:00.000000\",\"2020-06-15T00:00:00.000000\",\"2020-06-16T00:00:00.000000\",\"2020-06-17T00:00:00.000000\",\"2020-06-18T00:00:00.000000\",\"2020-06-19T00:00:00.000000\",\"2020-06-22T00:00:00.000000\",\"2020-06-23T00:00:00.000000\",\"2020-06-24T00:00:00.000000\",\"2020-06-25T00:00:00.000000\",\"2020-06-26T00:00:00.000000\",\"2020-06-29T00:00:00.000000\",\"2020-06-30T00:00:00.000000\",\"2020-07-01T00:00:00.000000\",\"2020-07-02T00:00:00.000000\",\"2020-07-06T00:00:00.000000\",\"2020-07-07T00:00:00.000000\",\"2020-07-08T00:00:00.000000\",\"2020-07-09T00:00:00.000000\",\"2020-07-10T00:00:00.000000\",\"2020-07-13T00:00:00.000000\",\"2020-07-14T00:00:00.000000\",\"2020-07-15T00:00:00.000000\",\"2020-07-16T00:00:00.000000\",\"2020-07-17T00:00:00.000000\",\"2020-07-20T00:00:00.000000\",\"2020-07-21T00:00:00.000000\",\"2020-07-22T00:00:00.000000\",\"2020-07-23T00:00:00.000000\",\"2020-07-24T00:00:00.000000\",\"2020-07-27T00:00:00.000000\",\"2020-07-28T00:00:00.000000\",\"2020-07-29T00:00:00.000000\",\"2020-07-30T00:00:00.000000\",\"2020-07-31T00:00:00.000000\",\"2020-08-03T00:00:00.000000\",\"2020-08-04T00:00:00.000000\",\"2020-08-05T00:00:00.000000\",\"2020-08-06T00:00:00.000000\",\"2020-08-07T00:00:00.000000\",\"2020-08-10T00:00:00.000000\",\"2020-08-11T00:00:00.000000\",\"2020-08-12T00:00:00.000000\",\"2020-08-13T00:00:00.000000\",\"2020-08-14T00:00:00.000000\",\"2020-08-17T00:00:00.000000\",\"2020-08-18T00:00:00.000000\",\"2020-08-19T00:00:00.000000\",\"2020-08-20T00:00:00.000000\",\"2020-08-21T00:00:00.000000\",\"2020-08-24T00:00:00.000000\",\"2020-08-25T00:00:00.000000\",\"2020-08-26T00:00:00.000000\",\"2020-08-27T00:00:00.000000\",\"2020-08-28T00:00:00.000000\",\"2020-08-31T00:00:00.000000\",\"2020-09-01T00:00:00.000000\",\"2020-09-02T00:00:00.000000\",\"2020-09-03T00:00:00.000000\",\"2020-09-04T00:00:00.000000\",\"2020-09-08T00:00:00.000000\",\"2020-09-09T00:00:00.000000\",\"2020-09-10T00:00:00.000000\",\"2020-09-11T00:00:00.000000\",\"2020-09-14T00:00:00.000000\",\"2020-09-15T00:00:00.000000\",\"2020-09-16T00:00:00.000000\",\"2020-09-17T00:00:00.000000\",\"2020-09-18T00:00:00.000000\",\"2020-09-21T00:00:00.000000\",\"2020-09-22T00:00:00.000000\",\"2020-09-23T00:00:00.000000\",\"2020-09-24T00:00:00.000000\",\"2020-09-25T00:00:00.000000\",\"2020-09-28T00:00:00.000000\",\"2020-09-29T00:00:00.000000\",\"2020-09-30T00:00:00.000000\",\"2020-10-01T00:00:00.000000\",\"2020-10-02T00:00:00.000000\",\"2020-10-05T00:00:00.000000\",\"2020-10-06T00:00:00.000000\",\"2020-10-07T00:00:00.000000\",\"2020-10-08T00:00:00.000000\",\"2020-10-09T00:00:00.000000\",\"2020-10-12T00:00:00.000000\",\"2020-10-13T00:00:00.000000\",\"2020-10-14T00:00:00.000000\",\"2020-10-15T00:00:00.000000\",\"2020-10-16T00:00:00.000000\",\"2020-10-19T00:00:00.000000\",\"2020-10-20T00:00:00.000000\",\"2020-10-21T00:00:00.000000\",\"2020-10-22T00:00:00.000000\",\"2020-10-23T00:00:00.000000\",\"2020-10-26T00:00:00.000000\",\"2020-10-27T00:00:00.000000\",\"2020-10-28T00:00:00.000000\",\"2020-10-29T00:00:00.000000\",\"2020-10-30T00:00:00.000000\",\"2020-11-02T00:00:00.000000\",\"2020-11-03T00:00:00.000000\",\"2020-11-04T00:00:00.000000\",\"2020-11-05T00:00:00.000000\",\"2020-11-06T00:00:00.000000\",\"2020-11-09T00:00:00.000000\",\"2020-11-10T00:00:00.000000\",\"2020-11-11T00:00:00.000000\",\"2020-11-12T00:00:00.000000\",\"2020-11-13T00:00:00.000000\",\"2020-11-16T00:00:00.000000\",\"2020-11-17T00:00:00.000000\",\"2020-11-18T00:00:00.000000\",\"2020-11-19T00:00:00.000000\",\"2020-11-20T00:00:00.000000\",\"2020-11-23T00:00:00.000000\",\"2020-11-24T00:00:00.000000\",\"2020-11-25T00:00:00.000000\",\"2020-11-27T00:00:00.000000\",\"2020-11-30T00:00:00.000000\",\"2020-12-01T00:00:00.000000\",\"2020-12-02T00:00:00.000000\",\"2020-12-03T00:00:00.000000\",\"2020-12-04T00:00:00.000000\",\"2020-12-07T00:00:00.000000\",\"2020-12-08T00:00:00.000000\",\"2020-12-09T00:00:00.000000\",\"2020-12-10T00:00:00.000000\",\"2020-12-11T00:00:00.000000\",\"2020-12-14T00:00:00.000000\",\"2020-12-15T00:00:00.000000\",\"2020-12-16T00:00:00.000000\",\"2020-12-17T00:00:00.000000\",\"2020-12-18T00:00:00.000000\",\"2020-12-21T00:00:00.000000\",\"2020-12-22T00:00:00.000000\",\"2020-12-23T00:00:00.000000\",\"2020-12-24T00:00:00.000000\",\"2020-12-28T00:00:00.000000\",\"2020-12-29T00:00:00.000000\",\"2020-12-30T00:00:00.000000\",\"2020-12-31T00:00:00.000000\",\"2021-01-04T00:00:00.000000\",\"2021-01-05T00:00:00.000000\",\"2021-01-06T00:00:00.000000\",\"2021-01-07T00:00:00.000000\",\"2021-01-08T00:00:00.000000\",\"2021-01-11T00:00:00.000000\",\"2021-01-12T00:00:00.000000\",\"2021-01-13T00:00:00.000000\",\"2021-01-14T00:00:00.000000\",\"2021-01-15T00:00:00.000000\",\"2021-01-19T00:00:00.000000\",\"2021-01-20T00:00:00.000000\",\"2021-01-21T00:00:00.000000\",\"2021-01-22T00:00:00.000000\",\"2021-01-25T00:00:00.000000\",\"2021-01-26T00:00:00.000000\",\"2021-01-27T00:00:00.000000\",\"2021-01-28T00:00:00.000000\",\"2021-01-29T00:00:00.000000\",\"2021-02-01T00:00:00.000000\",\"2021-02-02T00:00:00.000000\",\"2021-02-03T00:00:00.000000\",\"2021-02-04T00:00:00.000000\",\"2021-02-05T00:00:00.000000\",\"2021-02-08T00:00:00.000000\",\"2021-02-09T00:00:00.000000\",\"2021-02-10T00:00:00.000000\",\"2021-02-11T00:00:00.000000\",\"2021-02-12T00:00:00.000000\",\"2021-02-16T00:00:00.000000\",\"2021-02-17T00:00:00.000000\",\"2021-02-18T00:00:00.000000\",\"2021-02-19T00:00:00.000000\",\"2021-02-22T00:00:00.000000\",\"2021-02-23T00:00:00.000000\",\"2021-02-24T00:00:00.000000\",\"2021-02-25T00:00:00.000000\",\"2021-02-26T00:00:00.000000\",\"2021-03-01T00:00:00.000000\",\"2021-03-02T00:00:00.000000\",\"2021-03-03T00:00:00.000000\",\"2021-03-04T00:00:00.000000\",\"2021-03-05T00:00:00.000000\",\"2021-03-08T00:00:00.000000\",\"2021-03-09T00:00:00.000000\",\"2021-03-10T00:00:00.000000\",\"2021-03-11T00:00:00.000000\",\"2021-03-12T00:00:00.000000\",\"2021-03-15T00:00:00.000000\",\"2021-03-16T00:00:00.000000\",\"2021-03-17T00:00:00.000000\",\"2021-03-18T00:00:00.000000\",\"2021-03-19T00:00:00.000000\",\"2021-03-22T00:00:00.000000\",\"2021-03-23T00:00:00.000000\",\"2021-03-24T00:00:00.000000\",\"2021-03-25T00:00:00.000000\",\"2021-03-26T00:00:00.000000\",\"2021-03-29T00:00:00.000000\",\"2021-03-30T00:00:00.000000\",\"2021-03-31T00:00:00.000000\",\"2021-04-01T00:00:00.000000\",\"2021-04-05T00:00:00.000000\",\"2021-04-06T00:00:00.000000\",\"2021-04-07T00:00:00.000000\",\"2021-04-08T00:00:00.000000\",\"2021-04-09T00:00:00.000000\",\"2021-04-12T00:00:00.000000\",\"2021-04-13T00:00:00.000000\",\"2021-04-14T00:00:00.000000\",\"2021-04-15T00:00:00.000000\",\"2021-04-16T00:00:00.000000\",\"2021-04-19T00:00:00.000000\",\"2021-04-20T00:00:00.000000\",\"2021-04-21T00:00:00.000000\",\"2021-04-22T00:00:00.000000\",\"2021-04-23T00:00:00.000000\",\"2021-04-26T00:00:00.000000\",\"2021-04-27T00:00:00.000000\",\"2021-04-28T00:00:00.000000\",\"2021-04-29T00:00:00.000000\",\"2021-04-30T00:00:00.000000\",\"2021-05-03T00:00:00.000000\",\"2021-05-04T00:00:00.000000\",\"2021-05-05T00:00:00.000000\",\"2021-05-06T00:00:00.000000\",\"2021-05-07T00:00:00.000000\",\"2021-05-10T00:00:00.000000\",\"2021-05-11T00:00:00.000000\",\"2021-05-12T00:00:00.000000\",\"2021-05-13T00:00:00.000000\",\"2021-05-14T00:00:00.000000\",\"2021-05-17T00:00:00.000000\",\"2021-05-18T00:00:00.000000\",\"2021-05-19T00:00:00.000000\",\"2021-05-20T00:00:00.000000\",\"2021-05-21T00:00:00.000000\",\"2021-05-24T00:00:00.000000\",\"2021-05-25T00:00:00.000000\",\"2021-05-26T00:00:00.000000\",\"2021-05-27T00:00:00.000000\",\"2021-05-28T00:00:00.000000\",\"2021-06-01T00:00:00.000000\",\"2021-06-02T00:00:00.000000\",\"2021-06-03T00:00:00.000000\",\"2021-06-04T00:00:00.000000\",\"2021-06-07T00:00:00.000000\",\"2021-06-08T00:00:00.000000\",\"2021-06-09T00:00:00.000000\",\"2021-06-10T00:00:00.000000\",\"2021-06-11T00:00:00.000000\",\"2021-06-14T00:00:00.000000\",\"2021-06-15T00:00:00.000000\",\"2021-06-16T00:00:00.000000\",\"2021-06-17T00:00:00.000000\",\"2021-06-18T00:00:00.000000\",\"2021-06-21T00:00:00.000000\",\"2021-06-22T00:00:00.000000\",\"2021-06-23T00:00:00.000000\",\"2021-06-24T00:00:00.000000\",\"2021-06-25T00:00:00.000000\",\"2021-06-28T00:00:00.000000\",\"2021-06-29T00:00:00.000000\",\"2021-06-30T00:00:00.000000\",\"2021-07-01T00:00:00.000000\",\"2021-07-02T00:00:00.000000\",\"2021-07-06T00:00:00.000000\",\"2021-07-07T00:00:00.000000\",\"2021-07-08T00:00:00.000000\",\"2021-07-09T00:00:00.000000\",\"2021-07-12T00:00:00.000000\",\"2021-07-13T00:00:00.000000\",\"2021-07-14T00:00:00.000000\",\"2021-07-15T00:00:00.000000\",\"2021-07-16T00:00:00.000000\",\"2021-07-19T00:00:00.000000\",\"2021-07-20T00:00:00.000000\",\"2021-07-21T00:00:00.000000\",\"2021-07-22T00:00:00.000000\",\"2021-07-23T00:00:00.000000\",\"2021-07-26T00:00:00.000000\",\"2021-07-27T00:00:00.000000\",\"2021-07-28T00:00:00.000000\",\"2021-07-29T00:00:00.000000\",\"2021-07-30T00:00:00.000000\",\"2021-08-02T00:00:00.000000\",\"2021-08-03T00:00:00.000000\",\"2021-08-04T00:00:00.000000\",\"2021-08-05T00:00:00.000000\",\"2021-08-06T00:00:00.000000\",\"2021-08-09T00:00:00.000000\",\"2021-08-10T00:00:00.000000\",\"2021-08-11T00:00:00.000000\",\"2021-08-12T00:00:00.000000\",\"2021-08-13T00:00:00.000000\",\"2021-08-16T00:00:00.000000\",\"2021-08-17T00:00:00.000000\",\"2021-08-18T00:00:00.000000\",\"2021-08-19T00:00:00.000000\",\"2021-08-20T00:00:00.000000\",\"2021-08-23T00:00:00.000000\",\"2021-08-24T00:00:00.000000\",\"2021-08-25T00:00:00.000000\",\"2021-08-26T00:00:00.000000\",\"2021-08-27T00:00:00.000000\",\"2021-08-30T00:00:00.000000\",\"2021-08-31T00:00:00.000000\",\"2021-09-01T00:00:00.000000\",\"2021-09-02T00:00:00.000000\",\"2021-09-03T00:00:00.000000\",\"2021-09-07T00:00:00.000000\",\"2021-09-08T00:00:00.000000\",\"2021-09-09T00:00:00.000000\",\"2021-09-10T00:00:00.000000\",\"2021-09-13T00:00:00.000000\",\"2021-09-14T00:00:00.000000\",\"2021-09-15T00:00:00.000000\",\"2021-09-16T00:00:00.000000\",\"2021-09-17T00:00:00.000000\",\"2021-09-20T00:00:00.000000\",\"2021-09-21T00:00:00.000000\",\"2021-09-22T00:00:00.000000\",\"2021-09-23T00:00:00.000000\",\"2021-09-24T00:00:00.000000\",\"2021-09-27T00:00:00.000000\",\"2021-09-28T00:00:00.000000\",\"2021-09-29T00:00:00.000000\",\"2021-09-30T00:00:00.000000\",\"2021-10-01T00:00:00.000000\",\"2021-10-04T00:00:00.000000\",\"2021-10-05T00:00:00.000000\",\"2021-10-06T00:00:00.000000\",\"2021-10-07T00:00:00.000000\",\"2021-10-08T00:00:00.000000\",\"2021-10-11T00:00:00.000000\",\"2021-10-12T00:00:00.000000\",\"2021-10-13T00:00:00.000000\",\"2021-10-14T00:00:00.000000\",\"2021-10-15T00:00:00.000000\",\"2021-10-18T00:00:00.000000\",\"2021-10-19T00:00:00.000000\",\"2021-10-20T00:00:00.000000\",\"2021-10-21T00:00:00.000000\",\"2021-10-22T00:00:00.000000\",\"2021-10-25T00:00:00.000000\",\"2021-10-26T00:00:00.000000\",\"2021-10-27T00:00:00.000000\",\"2021-10-28T00:00:00.000000\",\"2021-10-29T00:00:00.000000\",\"2021-11-01T00:00:00.000000\",\"2021-11-02T00:00:00.000000\",\"2021-11-03T00:00:00.000000\",\"2021-11-04T00:00:00.000000\",\"2021-11-05T00:00:00.000000\",\"2021-11-08T00:00:00.000000\",\"2021-11-09T00:00:00.000000\",\"2021-11-10T00:00:00.000000\",\"2021-11-11T00:00:00.000000\",\"2021-11-12T00:00:00.000000\",\"2021-11-15T00:00:00.000000\",\"2021-11-16T00:00:00.000000\",\"2021-11-17T00:00:00.000000\",\"2021-11-18T00:00:00.000000\",\"2021-11-19T00:00:00.000000\",\"2021-11-22T00:00:00.000000\",\"2021-11-23T00:00:00.000000\",\"2021-11-24T00:00:00.000000\",\"2021-11-26T00:00:00.000000\",\"2021-11-29T00:00:00.000000\",\"2021-11-30T00:00:00.000000\",\"2021-12-01T00:00:00.000000\",\"2021-12-02T00:00:00.000000\",\"2021-12-03T00:00:00.000000\",\"2021-12-06T00:00:00.000000\",\"2021-12-07T00:00:00.000000\",\"2021-12-08T00:00:00.000000\",\"2021-12-09T00:00:00.000000\",\"2021-12-10T00:00:00.000000\",\"2021-12-13T00:00:00.000000\",\"2021-12-14T00:00:00.000000\",\"2021-12-15T00:00:00.000000\",\"2021-12-16T00:00:00.000000\",\"2021-12-17T00:00:00.000000\",\"2021-12-20T00:00:00.000000\",\"2021-12-21T00:00:00.000000\",\"2021-12-22T00:00:00.000000\",\"2021-12-23T00:00:00.000000\",\"2021-12-27T00:00:00.000000\",\"2021-12-28T00:00:00.000000\",\"2021-12-29T00:00:00.000000\",\"2021-12-30T00:00:00.000000\",\"2021-12-31T00:00:00.000000\",\"2022-01-03T00:00:00.000000\",\"2022-01-04T00:00:00.000000\",\"2022-01-05T00:00:00.000000\",\"2022-01-06T00:00:00.000000\",\"2022-01-07T00:00:00.000000\",\"2022-01-10T00:00:00.000000\",\"2022-01-11T00:00:00.000000\",\"2022-01-12T00:00:00.000000\",\"2022-01-13T00:00:00.000000\",\"2022-01-14T00:00:00.000000\",\"2022-01-18T00:00:00.000000\",\"2022-01-19T00:00:00.000000\",\"2022-01-20T00:00:00.000000\",\"2022-01-21T00:00:00.000000\",\"2022-01-24T00:00:00.000000\",\"2022-01-25T00:00:00.000000\",\"2022-01-26T00:00:00.000000\",\"2022-01-27T00:00:00.000000\",\"2022-01-28T00:00:00.000000\",\"2022-01-31T00:00:00.000000\",\"2022-02-01T00:00:00.000000\",\"2022-02-02T00:00:00.000000\",\"2022-02-03T00:00:00.000000\",\"2022-02-04T00:00:00.000000\",\"2022-02-07T00:00:00.000000\",\"2022-02-08T00:00:00.000000\",\"2022-02-09T00:00:00.000000\",\"2022-02-10T00:00:00.000000\",\"2022-02-11T00:00:00.000000\",\"2022-02-14T00:00:00.000000\",\"2022-02-15T00:00:00.000000\",\"2022-02-16T00:00:00.000000\",\"2022-02-17T00:00:00.000000\",\"2022-02-18T00:00:00.000000\",\"2022-02-22T00:00:00.000000\",\"2022-02-23T00:00:00.000000\",\"2022-02-24T00:00:00.000000\",\"2022-02-25T00:00:00.000000\",\"2022-02-28T00:00:00.000000\",\"2022-03-01T00:00:00.000000\",\"2022-03-02T00:00:00.000000\",\"2022-03-03T00:00:00.000000\",\"2022-03-04T00:00:00.000000\",\"2022-03-07T00:00:00.000000\",\"2022-03-08T00:00:00.000000\",\"2022-03-09T00:00:00.000000\",\"2022-03-10T00:00:00.000000\",\"2022-03-11T00:00:00.000000\",\"2022-03-14T00:00:00.000000\",\"2022-03-15T00:00:00.000000\",\"2022-03-16T00:00:00.000000\",\"2022-03-17T00:00:00.000000\",\"2022-03-18T00:00:00.000000\",\"2022-03-21T00:00:00.000000\",\"2022-03-22T00:00:00.000000\",\"2022-03-23T00:00:00.000000\",\"2022-03-24T00:00:00.000000\",\"2022-03-25T00:00:00.000000\",\"2022-03-28T00:00:00.000000\",\"2022-03-29T00:00:00.000000\",\"2022-03-30T00:00:00.000000\",\"2022-03-31T00:00:00.000000\",\"2022-04-01T00:00:00.000000\",\"2022-04-04T00:00:00.000000\",\"2022-04-05T00:00:00.000000\",\"2022-04-06T00:00:00.000000\",\"2022-04-07T00:00:00.000000\",\"2022-04-08T00:00:00.000000\",\"2022-04-11T00:00:00.000000\",\"2022-04-12T00:00:00.000000\",\"2022-04-13T00:00:00.000000\",\"2022-04-14T00:00:00.000000\",\"2022-04-18T00:00:00.000000\",\"2022-04-19T00:00:00.000000\",\"2022-04-20T00:00:00.000000\",\"2022-04-21T00:00:00.000000\",\"2022-04-22T00:00:00.000000\",\"2022-04-25T00:00:00.000000\",\"2022-04-26T00:00:00.000000\",\"2022-04-27T00:00:00.000000\",\"2022-04-28T00:00:00.000000\",\"2022-04-29T00:00:00.000000\",\"2022-05-02T00:00:00.000000\",\"2022-05-03T00:00:00.000000\",\"2022-05-04T00:00:00.000000\",\"2022-05-05T00:00:00.000000\",\"2022-05-06T00:00:00.000000\",\"2022-05-09T00:00:00.000000\",\"2022-05-10T00:00:00.000000\",\"2022-05-11T00:00:00.000000\",\"2022-05-12T00:00:00.000000\",\"2022-05-13T00:00:00.000000\",\"2022-05-16T00:00:00.000000\",\"2022-05-17T00:00:00.000000\",\"2022-05-18T00:00:00.000000\",\"2022-05-19T00:00:00.000000\",\"2022-05-20T00:00:00.000000\",\"2022-05-23T00:00:00.000000\",\"2022-05-24T00:00:00.000000\",\"2022-05-25T00:00:00.000000\",\"2022-05-26T00:00:00.000000\",\"2022-05-27T00:00:00.000000\",\"2022-05-31T00:00:00.000000\",\"2022-06-01T00:00:00.000000\",\"2022-06-02T00:00:00.000000\",\"2022-06-03T00:00:00.000000\",\"2022-06-06T00:00:00.000000\",\"2022-06-07T00:00:00.000000\",\"2022-06-08T00:00:00.000000\",\"2022-06-09T00:00:00.000000\",\"2022-06-10T00:00:00.000000\",\"2022-06-13T00:00:00.000000\",\"2022-06-14T00:00:00.000000\",\"2022-06-15T00:00:00.000000\",\"2022-06-16T00:00:00.000000\",\"2022-06-17T00:00:00.000000\",\"2022-06-21T00:00:00.000000\",\"2022-06-22T00:00:00.000000\",\"2022-06-23T00:00:00.000000\",\"2022-06-24T00:00:00.000000\",\"2022-06-27T00:00:00.000000\",\"2022-06-28T00:00:00.000000\",\"2022-06-29T00:00:00.000000\",\"2022-06-30T00:00:00.000000\",\"2022-07-01T00:00:00.000000\",\"2022-07-05T00:00:00.000000\",\"2022-07-06T00:00:00.000000\",\"2022-07-07T00:00:00.000000\",\"2022-07-08T00:00:00.000000\",\"2022-07-11T00:00:00.000000\",\"2022-07-12T00:00:00.000000\",\"2022-07-13T00:00:00.000000\",\"2022-07-14T00:00:00.000000\",\"2022-07-15T00:00:00.000000\",\"2022-07-18T00:00:00.000000\",\"2022-07-19T00:00:00.000000\",\"2022-07-20T00:00:00.000000\",\"2022-07-21T00:00:00.000000\",\"2022-07-22T00:00:00.000000\",\"2022-07-25T00:00:00.000000\",\"2022-07-26T00:00:00.000000\",\"2022-07-27T00:00:00.000000\",\"2022-07-28T00:00:00.000000\",\"2022-07-29T00:00:00.000000\",\"2022-08-01T00:00:00.000000\",\"2022-08-02T00:00:00.000000\",\"2022-08-03T00:00:00.000000\",\"2022-08-04T00:00:00.000000\",\"2022-08-05T00:00:00.000000\",\"2022-08-08T00:00:00.000000\",\"2022-08-09T00:00:00.000000\",\"2022-08-10T00:00:00.000000\",\"2022-08-11T00:00:00.000000\",\"2022-08-12T00:00:00.000000\",\"2022-08-15T00:00:00.000000\",\"2022-08-16T00:00:00.000000\",\"2022-08-17T00:00:00.000000\",\"2022-08-18T00:00:00.000000\",\"2022-08-19T00:00:00.000000\",\"2022-08-22T00:00:00.000000\",\"2022-08-23T00:00:00.000000\",\"2022-08-24T00:00:00.000000\",\"2022-08-25T00:00:00.000000\",\"2022-08-26T00:00:00.000000\",\"2022-08-29T00:00:00.000000\",\"2022-08-30T00:00:00.000000\",\"2022-08-31T00:00:00.000000\",\"2022-09-01T00:00:00.000000\",\"2022-09-02T00:00:00.000000\",\"2022-09-06T00:00:00.000000\",\"2022-09-07T00:00:00.000000\",\"2022-09-08T00:00:00.000000\",\"2022-09-09T00:00:00.000000\",\"2022-09-12T00:00:00.000000\",\"2022-09-13T00:00:00.000000\",\"2022-09-14T00:00:00.000000\",\"2022-09-15T00:00:00.000000\",\"2022-09-16T00:00:00.000000\",\"2022-09-19T00:00:00.000000\",\"2022-09-20T00:00:00.000000\",\"2022-09-21T00:00:00.000000\",\"2022-09-22T00:00:00.000000\",\"2022-09-23T00:00:00.000000\",\"2022-09-26T00:00:00.000000\",\"2022-09-27T00:00:00.000000\",\"2022-09-28T00:00:00.000000\",\"2022-09-29T00:00:00.000000\",\"2022-09-30T00:00:00.000000\",\"2022-10-03T00:00:00.000000\",\"2022-10-04T00:00:00.000000\",\"2022-10-05T00:00:00.000000\",\"2022-10-06T00:00:00.000000\",\"2022-10-07T00:00:00.000000\",\"2022-10-10T00:00:00.000000\",\"2022-10-11T00:00:00.000000\",\"2022-10-12T00:00:00.000000\",\"2022-10-13T00:00:00.000000\",\"2022-10-14T00:00:00.000000\",\"2022-10-17T00:00:00.000000\",\"2022-10-18T00:00:00.000000\",\"2022-10-19T00:00:00.000000\",\"2022-10-20T00:00:00.000000\",\"2022-10-21T00:00:00.000000\",\"2022-10-24T00:00:00.000000\",\"2022-10-25T00:00:00.000000\",\"2022-10-26T00:00:00.000000\",\"2022-10-27T00:00:00.000000\",\"2022-10-28T00:00:00.000000\",\"2022-10-31T00:00:00.000000\",\"2022-11-01T00:00:00.000000\",\"2022-11-02T00:00:00.000000\",\"2022-11-03T00:00:00.000000\",\"2022-11-04T00:00:00.000000\",\"2022-11-07T00:00:00.000000\",\"2022-11-08T00:00:00.000000\",\"2022-11-09T00:00:00.000000\",\"2022-11-10T00:00:00.000000\",\"2022-11-11T00:00:00.000000\",\"2022-11-14T00:00:00.000000\",\"2022-11-15T00:00:00.000000\",\"2022-11-16T00:00:00.000000\",\"2022-11-17T00:00:00.000000\",\"2022-11-18T00:00:00.000000\",\"2022-11-21T00:00:00.000000\",\"2022-11-22T00:00:00.000000\",\"2022-11-23T00:00:00.000000\",\"2022-11-25T00:00:00.000000\",\"2022-11-28T00:00:00.000000\",\"2022-11-29T00:00:00.000000\",\"2022-11-30T00:00:00.000000\",\"2022-12-01T00:00:00.000000\",\"2022-12-02T00:00:00.000000\",\"2022-12-05T00:00:00.000000\",\"2022-12-06T00:00:00.000000\",\"2022-12-07T00:00:00.000000\",\"2022-12-08T00:00:00.000000\",\"2022-12-09T00:00:00.000000\",\"2022-12-12T00:00:00.000000\",\"2022-12-13T00:00:00.000000\",\"2022-12-14T00:00:00.000000\",\"2022-12-15T00:00:00.000000\",\"2022-12-16T00:00:00.000000\",\"2022-12-19T00:00:00.000000\",\"2022-12-20T00:00:00.000000\",\"2022-12-21T00:00:00.000000\",\"2022-12-22T00:00:00.000000\",\"2022-12-23T00:00:00.000000\",\"2022-12-27T00:00:00.000000\",\"2022-12-28T00:00:00.000000\",\"2022-12-29T00:00:00.000000\",\"2022-12-30T00:00:00.000000\",\"2023-01-03T00:00:00.000000\",\"2023-01-04T00:00:00.000000\",\"2023-01-05T00:00:00.000000\",\"2023-01-06T00:00:00.000000\",\"2023-01-09T00:00:00.000000\",\"2023-01-10T00:00:00.000000\",\"2023-01-11T00:00:00.000000\",\"2023-01-12T00:00:00.000000\",\"2023-01-13T00:00:00.000000\",\"2023-01-17T00:00:00.000000\",\"2023-01-18T00:00:00.000000\",\"2023-01-19T00:00:00.000000\",\"2023-01-20T00:00:00.000000\",\"2023-01-23T00:00:00.000000\",\"2023-01-24T00:00:00.000000\",\"2023-01-25T00:00:00.000000\",\"2023-01-26T00:00:00.000000\",\"2023-01-27T00:00:00.000000\",\"2023-01-30T00:00:00.000000\",\"2023-01-31T00:00:00.000000\",\"2023-02-01T00:00:00.000000\",\"2023-02-02T00:00:00.000000\",\"2023-02-03T00:00:00.000000\",\"2023-02-06T00:00:00.000000\",\"2023-02-07T00:00:00.000000\",\"2023-02-08T00:00:00.000000\",\"2023-02-09T00:00:00.000000\",\"2023-02-10T00:00:00.000000\",\"2023-02-13T00:00:00.000000\",\"2023-02-14T00:00:00.000000\",\"2023-02-15T00:00:00.000000\",\"2023-02-16T00:00:00.000000\",\"2023-02-17T00:00:00.000000\",\"2023-02-21T00:00:00.000000\",\"2023-02-22T00:00:00.000000\",\"2023-02-23T00:00:00.000000\",\"2023-02-24T00:00:00.000000\",\"2023-02-27T00:00:00.000000\",\"2023-02-28T00:00:00.000000\",\"2023-03-01T00:00:00.000000\",\"2023-03-02T00:00:00.000000\",\"2023-03-03T00:00:00.000000\",\"2023-03-06T00:00:00.000000\",\"2023-03-07T00:00:00.000000\",\"2023-03-08T00:00:00.000000\",\"2023-03-09T00:00:00.000000\",\"2023-03-10T00:00:00.000000\",\"2023-03-13T00:00:00.000000\",\"2023-03-14T00:00:00.000000\",\"2023-03-15T00:00:00.000000\",\"2023-03-16T00:00:00.000000\",\"2023-03-17T00:00:00.000000\",\"2023-03-20T00:00:00.000000\",\"2023-03-21T00:00:00.000000\",\"2023-03-22T00:00:00.000000\",\"2023-03-23T00:00:00.000000\",\"2023-03-24T00:00:00.000000\",\"2023-03-27T00:00:00.000000\",\"2023-03-28T00:00:00.000000\",\"2023-03-29T00:00:00.000000\",\"2023-03-30T00:00:00.000000\",\"2023-03-31T00:00:00.000000\",\"2023-04-03T00:00:00.000000\",\"2023-04-04T00:00:00.000000\",\"2023-04-05T00:00:00.000000\",\"2023-04-06T00:00:00.000000\",\"2023-04-10T00:00:00.000000\",\"2023-04-11T00:00:00.000000\",\"2023-04-12T00:00:00.000000\",\"2023-04-13T00:00:00.000000\",\"2023-04-14T00:00:00.000000\",\"2023-04-17T00:00:00.000000\",\"2023-04-18T00:00:00.000000\",\"2023-04-19T00:00:00.000000\",\"2023-04-20T00:00:00.000000\",\"2023-04-21T00:00:00.000000\",\"2023-04-24T00:00:00.000000\",\"2023-04-25T00:00:00.000000\",\"2023-04-26T00:00:00.000000\",\"2023-04-27T00:00:00.000000\",\"2023-04-28T00:00:00.000000\",\"2023-05-01T00:00:00.000000\",\"2023-05-02T00:00:00.000000\",\"2023-05-03T00:00:00.000000\",\"2023-05-04T00:00:00.000000\",\"2023-05-05T00:00:00.000000\",\"2023-05-08T00:00:00.000000\",\"2023-05-09T00:00:00.000000\",\"2023-05-10T00:00:00.000000\",\"2023-05-11T00:00:00.000000\",\"2023-05-12T00:00:00.000000\",\"2023-05-15T00:00:00.000000\",\"2023-05-16T00:00:00.000000\",\"2023-05-17T00:00:00.000000\",\"2023-05-18T00:00:00.000000\",\"2023-05-19T00:00:00.000000\",\"2023-05-22T00:00:00.000000\",\"2023-05-23T00:00:00.000000\",\"2023-05-24T00:00:00.000000\",\"2023-05-25T00:00:00.000000\",\"2023-05-26T00:00:00.000000\",\"2023-05-30T00:00:00.000000\",\"2023-05-31T00:00:00.000000\",\"2023-06-01T00:00:00.000000\",\"2023-06-02T00:00:00.000000\",\"2023-06-05T00:00:00.000000\",\"2023-06-06T00:00:00.000000\",\"2023-06-07T00:00:00.000000\",\"2023-06-08T00:00:00.000000\",\"2023-06-09T00:00:00.000000\",\"2023-06-12T00:00:00.000000\",\"2023-06-13T00:00:00.000000\",\"2023-06-14T00:00:00.000000\",\"2023-06-15T00:00:00.000000\",\"2023-06-16T00:00:00.000000\",\"2023-06-20T00:00:00.000000\",\"2023-06-21T00:00:00.000000\",\"2023-06-22T00:00:00.000000\",\"2023-06-23T00:00:00.000000\",\"2023-06-26T00:00:00.000000\",\"2023-06-27T00:00:00.000000\",\"2023-06-28T00:00:00.000000\",\"2023-06-29T00:00:00.000000\",\"2023-06-30T00:00:00.000000\",\"2023-07-03T00:00:00.000000\",\"2023-07-05T00:00:00.000000\",\"2023-07-06T00:00:00.000000\",\"2023-07-07T00:00:00.000000\",\"2023-07-10T00:00:00.000000\",\"2023-07-11T00:00:00.000000\",\"2023-07-12T00:00:00.000000\",\"2023-07-13T00:00:00.000000\",\"2023-07-14T00:00:00.000000\",\"2023-07-17T00:00:00.000000\",\"2023-07-18T00:00:00.000000\",\"2023-07-19T00:00:00.000000\",\"2023-07-20T00:00:00.000000\",\"2023-07-21T00:00:00.000000\",\"2023-07-24T00:00:00.000000\",\"2023-07-25T00:00:00.000000\",\"2023-07-26T00:00:00.000000\",\"2023-07-27T00:00:00.000000\",\"2023-07-28T00:00:00.000000\",\"2023-07-31T00:00:00.000000\",\"2023-08-01T00:00:00.000000\",\"2023-08-02T00:00:00.000000\",\"2023-08-03T00:00:00.000000\",\"2023-08-04T00:00:00.000000\",\"2023-08-07T00:00:00.000000\",\"2023-08-08T00:00:00.000000\",\"2023-08-09T00:00:00.000000\",\"2023-08-10T00:00:00.000000\",\"2023-08-11T00:00:00.000000\",\"2023-08-14T00:00:00.000000\",\"2023-08-15T00:00:00.000000\",\"2023-08-16T00:00:00.000000\",\"2023-08-17T00:00:00.000000\",\"2023-08-18T00:00:00.000000\",\"2023-08-21T00:00:00.000000\",\"2023-08-22T00:00:00.000000\",\"2023-08-23T00:00:00.000000\",\"2023-08-24T00:00:00.000000\",\"2023-08-25T00:00:00.000000\",\"2023-08-28T00:00:00.000000\",\"2023-08-29T00:00:00.000000\",\"2023-08-30T00:00:00.000000\",\"2023-08-31T00:00:00.000000\",\"2023-09-01T00:00:00.000000\",\"2023-09-05T00:00:00.000000\",\"2023-09-06T00:00:00.000000\",\"2023-09-07T00:00:00.000000\",\"2023-09-08T00:00:00.000000\",\"2023-09-11T00:00:00.000000\",\"2023-09-12T00:00:00.000000\",\"2023-09-13T00:00:00.000000\",\"2023-09-14T00:00:00.000000\",\"2023-09-15T00:00:00.000000\",\"2023-09-18T00:00:00.000000\",\"2023-09-19T00:00:00.000000\",\"2023-09-20T00:00:00.000000\",\"2023-09-21T00:00:00.000000\",\"2023-09-22T00:00:00.000000\",\"2023-09-25T00:00:00.000000\",\"2023-09-26T00:00:00.000000\",\"2023-09-27T00:00:00.000000\",\"2023-09-28T00:00:00.000000\",\"2023-09-29T00:00:00.000000\",\"2023-10-02T00:00:00.000000\",\"2023-10-03T00:00:00.000000\",\"2023-10-04T00:00:00.000000\",\"2023-10-05T00:00:00.000000\",\"2023-10-06T00:00:00.000000\",\"2023-10-09T00:00:00.000000\",\"2023-10-10T00:00:00.000000\",\"2023-10-11T00:00:00.000000\",\"2023-10-12T00:00:00.000000\",\"2023-10-13T00:00:00.000000\",\"2023-10-16T00:00:00.000000\",\"2023-10-17T00:00:00.000000\",\"2023-10-18T00:00:00.000000\",\"2023-10-19T00:00:00.000000\",\"2023-10-20T00:00:00.000000\",\"2023-10-23T00:00:00.000000\",\"2023-10-24T00:00:00.000000\",\"2023-10-25T00:00:00.000000\",\"2023-10-26T00:00:00.000000\",\"2023-10-27T00:00:00.000000\",\"2023-10-30T00:00:00.000000\",\"2023-10-31T00:00:00.000000\",\"2023-11-01T00:00:00.000000\",\"2023-11-02T00:00:00.000000\",\"2023-11-03T00:00:00.000000\",\"2023-11-06T00:00:00.000000\",\"2023-11-07T00:00:00.000000\",\"2023-11-08T00:00:00.000000\",\"2023-11-09T00:00:00.000000\",\"2023-11-10T00:00:00.000000\",\"2023-11-13T00:00:00.000000\",\"2023-11-14T00:00:00.000000\",\"2023-11-15T00:00:00.000000\",\"2023-11-16T00:00:00.000000\",\"2023-11-17T00:00:00.000000\",\"2023-11-20T00:00:00.000000\",\"2023-11-21T00:00:00.000000\",\"2023-11-22T00:00:00.000000\",\"2023-11-24T00:00:00.000000\",\"2023-11-27T00:00:00.000000\",\"2023-11-28T00:00:00.000000\",\"2023-11-29T00:00:00.000000\",\"2023-11-30T00:00:00.000000\",\"2023-12-01T00:00:00.000000\",\"2023-12-04T00:00:00.000000\",\"2023-12-05T00:00:00.000000\",\"2023-12-06T00:00:00.000000\",\"2023-12-07T00:00:00.000000\",\"2023-12-08T00:00:00.000000\",\"2023-12-11T00:00:00.000000\",\"2023-12-12T00:00:00.000000\",\"2023-12-13T00:00:00.000000\",\"2023-12-14T00:00:00.000000\",\"2023-12-15T00:00:00.000000\",\"2023-12-18T00:00:00.000000\",\"2023-12-19T00:00:00.000000\",\"2023-12-20T00:00:00.000000\",\"2023-12-21T00:00:00.000000\",\"2023-12-22T00:00:00.000000\",\"2023-12-26T00:00:00.000000\",\"2023-12-27T00:00:00.000000\",\"2023-12-28T00:00:00.000000\",\"2023-12-29T00:00:00.000000\",\"2024-01-02T00:00:00.000000\",\"2024-01-03T00:00:00.000000\",\"2024-01-04T00:00:00.000000\",\"2024-01-05T00:00:00.000000\",\"2024-01-08T00:00:00.000000\",\"2024-01-09T00:00:00.000000\",\"2024-01-10T00:00:00.000000\",\"2024-01-11T00:00:00.000000\",\"2024-01-12T00:00:00.000000\",\"2024-01-16T00:00:00.000000\",\"2024-01-17T00:00:00.000000\",\"2024-01-18T00:00:00.000000\",\"2024-01-19T00:00:00.000000\",\"2024-01-22T00:00:00.000000\",\"2024-01-23T00:00:00.000000\",\"2024-01-24T00:00:00.000000\",\"2024-01-25T00:00:00.000000\",\"2024-01-26T00:00:00.000000\",\"2024-01-29T00:00:00.000000\",\"2024-01-30T00:00:00.000000\",\"2024-01-31T00:00:00.000000\",\"2024-02-01T00:00:00.000000\",\"2024-02-02T00:00:00.000000\",\"2024-02-05T00:00:00.000000\",\"2024-02-06T00:00:00.000000\",\"2024-02-07T00:00:00.000000\",\"2024-02-08T00:00:00.000000\",\"2024-02-09T00:00:00.000000\",\"2024-02-12T00:00:00.000000\",\"2024-02-13T00:00:00.000000\",\"2024-02-14T00:00:00.000000\",\"2024-02-15T00:00:00.000000\",\"2024-02-16T00:00:00.000000\",\"2024-02-20T00:00:00.000000\",\"2024-02-21T00:00:00.000000\",\"2024-02-22T00:00:00.000000\",\"2024-02-23T00:00:00.000000\",\"2024-02-26T00:00:00.000000\",\"2024-02-27T00:00:00.000000\",\"2024-02-28T00:00:00.000000\",\"2024-02-29T00:00:00.000000\",\"2024-03-01T00:00:00.000000\",\"2024-03-04T00:00:00.000000\",\"2024-03-05T00:00:00.000000\",\"2024-03-06T00:00:00.000000\",\"2024-03-07T00:00:00.000000\",\"2024-03-08T00:00:00.000000\",\"2024-03-11T00:00:00.000000\",\"2024-03-12T00:00:00.000000\",\"2024-03-13T00:00:00.000000\",\"2024-03-14T00:00:00.000000\",\"2024-03-15T00:00:00.000000\",\"2024-03-18T00:00:00.000000\",\"2024-03-19T00:00:00.000000\",\"2024-03-20T00:00:00.000000\",\"2024-03-21T00:00:00.000000\",\"2024-03-22T00:00:00.000000\",\"2024-03-25T00:00:00.000000\",\"2024-03-26T00:00:00.000000\",\"2024-03-27T00:00:00.000000\",\"2024-03-28T00:00:00.000000\",\"2024-04-01T00:00:00.000000\",\"2024-04-02T00:00:00.000000\",\"2024-04-03T00:00:00.000000\",\"2024-04-04T00:00:00.000000\",\"2024-04-05T00:00:00.000000\",\"2024-04-08T00:00:00.000000\",\"2024-04-09T00:00:00.000000\",\"2024-04-10T00:00:00.000000\",\"2024-04-11T00:00:00.000000\",\"2024-04-12T00:00:00.000000\",\"2024-04-15T00:00:00.000000\",\"2024-04-16T00:00:00.000000\",\"2024-04-17T00:00:00.000000\",\"2024-04-18T00:00:00.000000\",\"2024-04-19T00:00:00.000000\",\"2024-04-22T00:00:00.000000\",\"2024-04-23T00:00:00.000000\",\"2024-04-24T00:00:00.000000\",\"2024-04-25T00:00:00.000000\",\"2024-04-26T00:00:00.000000\",\"2024-04-29T00:00:00.000000\",\"2024-04-30T00:00:00.000000\",\"2024-05-01T00:00:00.000000\",\"2024-05-02T00:00:00.000000\",\"2024-05-03T00:00:00.000000\",\"2024-05-06T00:00:00.000000\",\"2024-05-07T00:00:00.000000\",\"2024-05-08T00:00:00.000000\",\"2024-05-09T00:00:00.000000\",\"2024-05-10T00:00:00.000000\",\"2024-05-13T00:00:00.000000\",\"2024-05-14T00:00:00.000000\",\"2024-05-15T00:00:00.000000\",\"2024-05-16T00:00:00.000000\",\"2024-05-17T00:00:00.000000\",\"2024-05-20T00:00:00.000000\",\"2024-05-21T00:00:00.000000\",\"2024-05-22T00:00:00.000000\",\"2024-05-23T00:00:00.000000\",\"2024-05-24T00:00:00.000000\",\"2024-05-28T00:00:00.000000\",\"2024-05-29T00:00:00.000000\",\"2024-05-30T00:00:00.000000\",\"2024-05-31T00:00:00.000000\",\"2024-06-03T00:00:00.000000\",\"2024-06-04T00:00:00.000000\",\"2024-06-05T00:00:00.000000\",\"2024-06-06T00:00:00.000000\",\"2024-06-07T00:00:00.000000\",\"2024-06-10T00:00:00.000000\",\"2024-06-11T00:00:00.000000\",\"2024-06-12T00:00:00.000000\",\"2024-06-13T00:00:00.000000\",\"2024-06-14T00:00:00.000000\",\"2024-06-17T00:00:00.000000\",\"2024-06-18T00:00:00.000000\",\"2024-06-20T00:00:00.000000\",\"2024-06-21T00:00:00.000000\",\"2024-06-24T00:00:00.000000\",\"2024-06-25T00:00:00.000000\",\"2024-06-26T00:00:00.000000\",\"2024-06-27T00:00:00.000000\",\"2024-06-28T00:00:00.000000\",\"2024-07-01T00:00:00.000000\",\"2024-07-02T00:00:00.000000\",\"2024-07-03T00:00:00.000000\",\"2024-07-05T00:00:00.000000\",\"2024-07-08T00:00:00.000000\",\"2024-07-09T00:00:00.000000\",\"2024-07-10T00:00:00.000000\",\"2024-07-11T00:00:00.000000\",\"2024-07-12T00:00:00.000000\",\"2024-07-15T00:00:00.000000\",\"2024-07-16T00:00:00.000000\",\"2024-07-17T00:00:00.000000\",\"2024-07-18T00:00:00.000000\",\"2024-07-19T00:00:00.000000\",\"2024-07-22T00:00:00.000000\",\"2024-07-23T00:00:00.000000\",\"2024-07-24T00:00:00.000000\",\"2024-07-25T00:00:00.000000\",\"2024-07-26T00:00:00.000000\",\"2024-07-29T00:00:00.000000\",\"2024-07-30T00:00:00.000000\",\"2024-07-31T00:00:00.000000\",\"2024-08-01T00:00:00.000000\",\"2024-08-02T00:00:00.000000\",\"2024-08-05T00:00:00.000000\",\"2024-08-06T00:00:00.000000\",\"2024-08-07T00:00:00.000000\",\"2024-08-08T00:00:00.000000\",\"2024-08-09T00:00:00.000000\",\"2024-08-12T00:00:00.000000\",\"2024-08-13T00:00:00.000000\",\"2024-08-14T00:00:00.000000\",\"2024-08-15T00:00:00.000000\",\"2024-08-16T00:00:00.000000\",\"2024-08-19T00:00:00.000000\",\"2024-08-20T00:00:00.000000\",\"2024-08-21T00:00:00.000000\",\"2024-08-22T00:00:00.000000\",\"2024-08-23T00:00:00.000000\",\"2024-08-26T00:00:00.000000\",\"2024-08-27T00:00:00.000000\",\"2024-08-28T00:00:00.000000\",\"2024-08-29T00:00:00.000000\",\"2024-08-30T00:00:00.000000\",\"2024-09-03T00:00:00.000000\",\"2024-09-04T00:00:00.000000\",\"2024-09-05T00:00:00.000000\",\"2024-09-06T00:00:00.000000\",\"2024-09-09T00:00:00.000000\",\"2024-09-10T00:00:00.000000\",\"2024-09-11T00:00:00.000000\",\"2024-09-12T00:00:00.000000\",\"2024-09-13T00:00:00.000000\",\"2024-09-16T00:00:00.000000\",\"2024-09-17T00:00:00.000000\",\"2024-09-18T00:00:00.000000\",\"2024-09-19T00:00:00.000000\",\"2024-09-20T00:00:00.000000\",\"2024-09-23T00:00:00.000000\",\"2024-09-24T00:00:00.000000\",\"2024-09-25T00:00:00.000000\",\"2024-09-26T00:00:00.000000\",\"2024-09-27T00:00:00.000000\",\"2024-09-30T00:00:00.000000\",\"2024-10-01T00:00:00.000000\",\"2024-10-02T00:00:00.000000\",\"2024-10-03T00:00:00.000000\",\"2024-10-04T00:00:00.000000\",\"2024-10-07T00:00:00.000000\",\"2024-10-08T00:00:00.000000\",\"2024-10-09T00:00:00.000000\",\"2024-10-10T00:00:00.000000\",\"2024-10-11T00:00:00.000000\",\"2024-10-14T00:00:00.000000\",\"2024-10-15T00:00:00.000000\",\"2024-10-16T00:00:00.000000\",\"2024-10-17T00:00:00.000000\",\"2024-10-18T00:00:00.000000\",\"2024-10-21T00:00:00.000000\",\"2024-10-22T00:00:00.000000\",\"2024-10-23T00:00:00.000000\",\"2024-10-24T00:00:00.000000\",\"2024-10-25T00:00:00.000000\",\"2024-10-28T00:00:00.000000\",\"2024-10-29T00:00:00.000000\",\"2024-10-30T00:00:00.000000\",\"2024-10-31T00:00:00.000000\",\"2024-11-01T00:00:00.000000\",\"2024-11-04T00:00:00.000000\",\"2024-11-05T00:00:00.000000\",\"2024-11-06T00:00:00.000000\",\"2024-11-07T00:00:00.000000\",\"2024-11-08T00:00:00.000000\",\"2024-11-11T00:00:00.000000\",\"2024-11-12T00:00:00.000000\",\"2024-11-13T00:00:00.000000\",\"2024-11-14T00:00:00.000000\",\"2024-11-15T00:00:00.000000\",\"2024-11-18T00:00:00.000000\",\"2024-11-19T00:00:00.000000\",\"2024-11-20T00:00:00.000000\",\"2024-11-21T00:00:00.000000\",\"2024-11-22T00:00:00.000000\",\"2024-11-25T00:00:00.000000\",\"2024-11-26T00:00:00.000000\",\"2024-11-27T00:00:00.000000\",\"2024-11-29T00:00:00.000000\",\"2024-12-02T00:00:00.000000\",\"2024-12-03T00:00:00.000000\",\"2024-12-04T00:00:00.000000\",\"2024-12-05T00:00:00.000000\",\"2024-12-06T00:00:00.000000\",\"2024-12-09T00:00:00.000000\",\"2024-12-10T00:00:00.000000\",\"2024-12-11T00:00:00.000000\",\"2024-12-12T00:00:00.000000\",\"2024-12-13T00:00:00.000000\",\"2024-12-16T00:00:00.000000\",\"2024-12-17T00:00:00.000000\",\"2024-12-18T00:00:00.000000\",\"2024-12-19T00:00:00.000000\",\"2024-12-20T00:00:00.000000\",\"2024-12-23T00:00:00.000000\",\"2024-12-24T00:00:00.000000\",\"2024-12-26T00:00:00.000000\",\"2024-12-27T00:00:00.000000\",\"2024-12-30T00:00:00.000000\",\"2024-12-31T00:00:00.000000\",\"2025-01-02T00:00:00.000000\",\"2025-01-03T00:00:00.000000\",\"2025-01-06T00:00:00.000000\",\"2025-01-07T00:00:00.000000\",\"2025-01-08T00:00:00.000000\",\"2025-01-10T00:00:00.000000\",\"2025-01-13T00:00:00.000000\",\"2025-01-14T00:00:00.000000\",\"2025-01-15T00:00:00.000000\",\"2025-01-16T00:00:00.000000\",\"2025-01-17T00:00:00.000000\",\"2025-01-21T00:00:00.000000\",\"2025-01-22T00:00:00.000000\",\"2025-01-23T00:00:00.000000\",\"2025-01-24T00:00:00.000000\",\"2025-01-27T00:00:00.000000\",\"2025-01-28T00:00:00.000000\",\"2025-01-29T00:00:00.000000\",\"2025-01-30T00:00:00.000000\",\"2025-01-31T00:00:00.000000\",\"2025-02-03T00:00:00.000000\",\"2025-02-04T00:00:00.000000\",\"2025-02-05T00:00:00.000000\",\"2025-02-06T00:00:00.000000\",\"2025-02-07T00:00:00.000000\",\"2025-02-10T00:00:00.000000\",\"2025-02-11T00:00:00.000000\",\"2025-02-12T00:00:00.000000\",\"2025-02-13T00:00:00.000000\",\"2025-02-14T00:00:00.000000\",\"2025-02-18T00:00:00.000000\",\"2025-02-19T00:00:00.000000\",\"2025-02-20T00:00:00.000000\",\"2025-02-21T00:00:00.000000\",\"2025-02-24T00:00:00.000000\",\"2025-02-25T00:00:00.000000\",\"2025-02-26T00:00:00.000000\",\"2025-02-27T00:00:00.000000\",\"2025-02-28T00:00:00.000000\",\"2025-03-03T00:00:00.000000\",\"2025-03-04T00:00:00.000000\",\"2025-03-05T00:00:00.000000\",\"2025-03-06T00:00:00.000000\",\"2025-03-07T00:00:00.000000\",\"2025-03-10T00:00:00.000000\",\"2025-03-11T00:00:00.000000\",\"2025-03-12T00:00:00.000000\",\"2025-03-13T00:00:00.000000\",\"2025-03-14T00:00:00.000000\",\"2025-03-17T00:00:00.000000\",\"2025-03-18T00:00:00.000000\",\"2025-03-19T00:00:00.000000\",\"2025-03-20T00:00:00.000000\",\"2025-03-21T00:00:00.000000\",\"2025-03-24T00:00:00.000000\",\"2025-03-25T00:00:00.000000\",\"2025-03-26T00:00:00.000000\",\"2025-03-27T00:00:00.000000\",\"2025-03-28T00:00:00.000000\",\"2025-03-31T00:00:00.000000\",\"2025-04-01T00:00:00.000000\",\"2025-04-02T00:00:00.000000\",\"2025-04-03T00:00:00.000000\",\"2025-04-04T00:00:00.000000\",\"2025-04-07T00:00:00.000000\",\"2025-04-08T00:00:00.000000\",\"2025-04-09T00:00:00.000000\",\"2025-04-10T00:00:00.000000\",\"2025-04-11T00:00:00.000000\",\"2025-04-14T00:00:00.000000\",\"2025-04-15T00:00:00.000000\",\"2025-04-16T00:00:00.000000\",\"2025-04-17T00:00:00.000000\",\"2025-04-21T00:00:00.000000\",\"2025-04-22T00:00:00.000000\",\"2025-04-23T00:00:00.000000\",\"2025-04-24T00:00:00.000000\",\"2025-04-25T00:00:00.000000\",\"2025-04-28T00:00:00.000000\",\"2025-04-29T00:00:00.000000\",\"2025-04-30T00:00:00.000000\",\"2025-05-01T00:00:00.000000\",\"2025-05-02T00:00:00.000000\",\"2025-05-05T00:00:00.000000\",\"2025-05-06T00:00:00.000000\",\"2025-05-07T00:00:00.000000\",\"2025-05-08T00:00:00.000000\",\"2025-05-09T00:00:00.000000\",\"2025-05-12T00:00:00.000000\",\"2025-05-13T00:00:00.000000\",\"2025-05-14T00:00:00.000000\",\"2025-05-15T00:00:00.000000\",\"2025-05-16T00:00:00.000000\",\"2025-05-19T00:00:00.000000\",\"2025-05-20T00:00:00.000000\",\"2025-05-21T00:00:00.000000\",\"2025-05-22T00:00:00.000000\",\"2025-05-23T00:00:00.000000\",\"2025-05-27T00:00:00.000000\",\"2025-05-28T00:00:00.000000\",\"2025-05-29T00:00:00.000000\",\"2025-05-30T00:00:00.000000\",\"2025-06-02T00:00:00.000000\",\"2025-06-03T00:00:00.000000\",\"2025-06-04T00:00:00.000000\",\"2025-06-05T00:00:00.000000\",\"2025-06-06T00:00:00.000000\",\"2025-06-09T00:00:00.000000\",\"2025-06-10T00:00:00.000000\",\"2025-06-11T00:00:00.000000\",\"2025-06-12T00:00:00.000000\",\"2025-06-13T00:00:00.000000\",\"2025-06-16T00:00:00.000000\",\"2025-06-17T00:00:00.000000\",\"2025-06-18T00:00:00.000000\",\"2025-06-20T00:00:00.000000\",\"2025-06-23T00:00:00.000000\",\"2025-06-24T00:00:00.000000\",\"2025-06-25T00:00:00.000000\",\"2025-06-26T00:00:00.000000\",\"2025-06-27T00:00:00.000000\",\"2025-06-30T00:00:00.000000\",\"2025-07-01T00:00:00.000000\",\"2025-07-02T00:00:00.000000\",\"2025-07-03T00:00:00.000000\",\"2025-07-07T00:00:00.000000\",\"2025-07-08T00:00:00.000000\",\"2025-07-09T00:00:00.000000\",\"2025-07-10T00:00:00.000000\",\"2025-07-11T00:00:00.000000\",\"2025-07-14T00:00:00.000000\",\"2025-07-15T00:00:00.000000\",\"2025-07-16T00:00:00.000000\",\"2025-07-17T00:00:00.000000\",\"2025-07-18T00:00:00.000000\",\"2025-07-21T00:00:00.000000\",\"2025-07-22T00:00:00.000000\",\"2025-07-23T00:00:00.000000\",\"2025-07-24T00:00:00.000000\",\"2025-07-25T00:00:00.000000\",\"2025-07-28T00:00:00.000000\",\"2025-07-29T00:00:00.000000\",\"2025-07-30T00:00:00.000000\",\"2025-07-31T00:00:00.000000\",\"2025-08-01T00:00:00.000000\",\"2025-08-04T00:00:00.000000\",\"2025-08-05T00:00:00.000000\",\"2025-08-06T00:00:00.000000\",\"2025-08-07T00:00:00.000000\",\"2025-08-08T00:00:00.000000\",\"2025-08-11T00:00:00.000000\",\"2025-08-12T00:00:00.000000\",\"2025-08-13T00:00:00.000000\",\"2025-08-14T00:00:00.000000\",\"2025-08-15T00:00:00.000000\",\"2025-08-18T00:00:00.000000\",\"2025-08-19T00:00:00.000000\",\"2025-08-20T00:00:00.000000\",\"2025-08-21T00:00:00.000000\",\"2025-08-22T00:00:00.000000\",\"2025-08-25T00:00:00.000000\",\"2025-08-26T00:00:00.000000\",\"2025-08-27T00:00:00.000000\",\"2025-08-28T00:00:00.000000\"],\"y\":{\"dtype\":\"f8\",\"bdata\":\"AAAAAACIw0A\\u002fW3FWEWLDQFPwcgredMNAzKSBIP9mw0DXctOdUoHDQDWbEpQXo8NAxwOlkcWUw0BO+aSeTrfDQBAr5aCDr8NAb\\u002fSvUye7w0D9mgJv6uTDQGzn1ZGz9MNA\\u002fVpuutPqw0DZamkwbevDQHjh4V+F8cNAhr4\\u002fkZjDw0DWdAWQnnLDQLffEGXBpsNAplwI9Zuiw0CSb+NxLbPDQFUcLVtcV8NAC7ypCwd8w0DQhgtdNcjDQIutUr3nAsRAqMlv8xYUxEA46ZkDiPjDQNSJ+OwcH8RA4xcHiLQnxED9vgGAKEnEQJV5IXaUQ8RAAT349glMxEC8cksLfD7EQOI\\u002fu0\\u002flVsRA+jUF3tRBxEDLRKMRHQzEQDYf8LM3YsNA5YNVjcnLwkCQNqAxFrrCQDjjYYju4sFA6AideKrPwUBBCG0JI5XCQBuD++a1DMJAg5ACfPPOwkD9rcPZHC\\u002fCQA8WoXEq4sFAVzjC\\u002fjR8wEBFXCz0rFbBQOAD3FFBfsBAqnPP6BvVvUAF+OZk9TDAQOrnOSV51rxArX0N7YJlvkCCgfbHM9u8QOR9HRIw67xAH04PAseru0ARl+LTvfa6QPn2iSIkaL1ADvAenEXZvUCKGDf3O5e\\u002fQAkv+LJApr5AoaIygJalv0BJs4ecwyy\\u002fQCqv+YCfxb1AIPI2fDJ1vkBAFg\\u002fyoQS+QL+QY3N7BMBAg1amQnYIwEChVPzigJLAQMbUToO60sBApDFnnYOrwEDeY2mOSCnBQO0YE\\u002fgqzMBAReS+yr\\u002fgwECWjOLgRlXBQO3UyYwhB8FA0741pOaCwEBF5L7Kv+DAQAJjesxu4MBAse56dMscwUDKabsbwVvBQLlHqrNjR8FA2\\u002fq2RkC7wUBoCOgSCpHBQP5VoAr7GcFATbuTrt4lwUAaBm87lU7BQEA2WUxtMMFANuL3vK1lwUBD7Cg4Ja\\u002fBQGBpPXYcsMFAz9GlPL5VwUA4ko8tTAfBQFt+3wDAO8FAcchG1QNQwUCXmFLX+dbBQITkcJQiqMFAL\\u002ftO\\u002fsP0wUAFkbfhE9XBQF7cix3W3cFAWAYhBfgVwkBqGXeL8FrCQA\\u002fOok8uUsJAo94RfjpnwkD69FcwWHrCQMie+NKKocJAZhzCdiLhwkCxkB8qENTCQLgEekHAT8NA1j1FFK6Lw0Cj18AJO2bDQEiDGJVSSsNARqL4I90twkALryAcbmXCQL\\u002fDbjh5kcJAxeWMKcbswkBGFrGW19jCQC0Xk8\\u002fB2sJAaT12nC6\\u002fwkAX4QVfFt7CQBxo0A4e9MJAv\\u002foutGl4wkBLt40lEavCQKd\\u002f7gx0OcJAdP3UXih+wkBi9u7O4rrCQBxU9qqF3MJAd\\u002fM4\\u002f\\u002fb2wkDRb5U7EELDQKX8KeY5D8NA7O7ba1M0w0Ca1rSZRBjDQPzFUvQnSsNA+ZR5IXYfw0Dn4zOcK1\\u002fDQJaFkWzHjMNAE\\u002fgqruB7w0C4wDDWtorDQEayHdECs8NAKLXgKd69w0BTydc7k9rDQHAgaqSlncNAv7NJi1N9w0CBo3IUy6HDQLWCzhPsgcNAw\\u002fj8wZ2\\u002fw0DfbD3Hbq3DQI9OL0wh1cNA7CvUYl34w0DLRKMRHQzEQOlejlUALMRAsMGnKudOxEAyBqb7kFLEQL0aKDzaYcRA17H9hqg2xEAtsGNM4H7EQObwvIvEdcRAMq6CLO91xEDaPxmrL4bEQO1LHr2okcRAPL6aUKV7xECOQr9V7ovEQPfQB02\\u002fnsRAhgtdNUjUxECk3N+L7ubEQJFM\\u002fVlVHMVA353Fx0UoxUDxvaQ9V0vFQGmyRwiPN8VA1pLMJcNqxUD26JZnyrnFQIsxMN2H+sRAIMZ8K7TOxEBcdPLOMz3EQI1WmbmGo8RA8bnvhuRHxEAAiJLWkkrEQDuzQ1PYjsRAhNqDYpapxEBP\\u002f9wZaJTEQCKXd+8DZsRAuKDme+spxEBTKEx\\u002ftPDDQJwYzBKCJMRA+SDBrvusw0A+622aibrDQICH3XDyC8RANhifPzhhxECYQrLM\\u002fkTEQLrlmbI1bMRAfn8iMbKNxEB4xUy8rFvEQDLfCi1GuMRA6dqwNeBsxEC0twvLtcfEQLXz6sjZ9sRA2tQ0cdsmxUB7egOv\\u002fn3FQEnJ5MQCWsVAtW8Nqbk3xUDYn6bnNjHFQJrc7BTeLcVA58khvXnbxEDFl1aMsPDEQLZU4tCh5sRAtzxTthYExUCkBJRTHxbFQNXp1vt+ssRApqBRYCWgxEBx5fRxwuvDQAaTOqa6H8RA391ZfNzpw0CZTzu8FyPEQLcl3ZTxfcRAPuttmgnzxEDlDAFdwlvFQNcH72N+WsVAPxSMLXufxUAc+k8XPZfFQNv0fssmwMVAaYLYAB6KxUAawQzXpdbFQGQF+4IiHMZAizXlk\\u002fr9xUDtrBXF8LnFQI13\\u002fAy40cVAiFEpZXirxUBfd99em8zFQLbJszyCJsZAZ86L2YwdxkBsleo9qy3GQIeALqEoFMZAg35aCidSxkBuhi9cRl7GQMsGkiGtXMZAn7cl3RSOxkCzr1CL9YHGQCwBNqcCk8ZANwr9VjlfxkBRCRseT13GQIGJYDWZVsZAQ2cyHx89xkA4J6vz94nGQCwBNqcCk8ZAOqMepjKzxkDKzU7hFZzGQM43a\\u002fReh8ZAX6sDHX99xkDYaOZrxoLGQLv\\u002fq5FnmcZAMXt3Z\\u002fHKxkCtrXz087\\u002fGQNfvDncYyMZAeI6MQLzlxkDUSWQ4BpbGQNDoG17jvcZA9pQoT5vgxkDwW5Q8qTfHQPqKjO9pWcdAC1Cs2Ewxx0BvYjBLiDLHQNVygst3QsdANRJnxJ4tx0D7r\\u002fXLaALHQDJU3JimMMdAViidUY+Cx0BpdDYYH4jHQOCfSIzscsdANK1pM4mKx0CqbH50HIHHQORRY8Ex7sZAzEOKGLcgx0CnEocO+anGQM\\u002f4QAuJCsdA7UXmQQ9ex0CCy3eu1mLHQMpG1QPppsdAbjkSuJa+x0DXkJozd+rHQBsH2QZW5sdAZlrTZpLjx0DKlo5lpe3HQPI3lSvrC8hA1a96woEGyEDVZODi+AfIQMFaDcPL7cdA5n+g1tbix0A2Kd3lw7PHQNho5mtGu8dAVWB2xmX+x0B9GPOtUGrHQCNuqi5tS8dAdknZCfLbx0CQ1agpTqzHQA6Bhav+W8dAHj8DTgcSx0CSYlqClH7HQE75pJ7OYMdAXJfY5gu2x0B2SdkJ8tvHQM18zVjOGchA5EZdlj8iyECa5tlG6kbIQFXcmKZFP8hANr74q29UyEBjpRx0wPnHQJtW3QJy7sdANcKtYmIfyECK3tq9vu7HQJm5Bv2Fz8dAJddcdvXxx0CCe75MmlTIQNsykLuWUchA8B+1PgVByEA+uuWZMlrIQLWJH4hrnchAmhr+BM73yEBtz0Z3KPTIQHBYQxl8+8hAlvlJ38EZyUCz6azEckjJQCgpmZzYSslAIPbrMiVeyUDZ7dyEzEfJQG7vkNFzjclAyoPN+nKjyUBwJB9bGIPJQOv54ZZFU8lAYPWEA6KQyUA3bA1Y51TJQFaEddcjm8lAjv516uSoyUCOSRDKbafJQFJP501\\u002fpclALbP\\u002fCW3PyUBPhlb3FKTJQCOPDYIesslATPSFHJuJyUCH7q6YiYvJQAok8ofOv8lAhxKuqcfvyUBnBUxV\\u002fa3JQE2VEdl5c8lAUofAwtXoyEBKW2TNoTXJQDx6UeWbmMlApmC9qw6IyUASqHFMpE\\u002fJQDshxEq5PslAL2xrszGEyUBp3ZeNzH7JQFmqSH9jwclAqZGWfsCyyUAKJPKHzr\\u002fJQDyX\\u002f4Faw8lAPisCTyDPyUCUZN1GO8nJQNzsFF7B08lAFFVt\\u002fzW7yUB9S\\u002f5yTvfJQEda+gHh8MlAUEvhxDHyyUDZgvhKeOjJQI5iCbA5B8pAX+3Jw2ESykAPBnzEBCHKQMrwNPntFMpAO1XoCJ3vyUBmzAgVZu3JQPbFsE\\u002fyk8lAbROQ4rHxyUANcnn3PhXKQDHtrBVFDcpASVQTWaI0ykDsMiXXXEzKQDH90cLqWcpAsUHQk5RdykBmRHY+U2PKQKLme+ufiMpA4Zp63JO8ykAGC6jPJ7DKQOMufalZyMpAMq6CLG+QykDD8atNHtnKQN+Cmu+t8cpA1jI\\u002f6TvaykDmdbOkSuTKQIDwj7j6zMpArzT20SCXykDAiPkFljLKQFwwqWOqkspA4uPiydDJykBRe1DMItjKQAP6GFfBHstAKVK3L8ovy0BKpeWzRBDLQPItqPleDctAHkKfCxQqy0DELYtLQgjLQLPL5S7O+cpABAPtj+cxy0BnbZTRxA\\u002fLQHzL1QmhO8tAQhoVe+9Gy0B9n2yLfUHLQJVp\\u002fMjuSctA+y60aVVby0AxCluyg3DLQFdX818afctARGrO3KuNy0C2uHWWdl\\u002fLQAV6QcDuEstATgJ513Qdy0Aic3jexVTLQOMr4etMkstAVYHZGZedy0AChmDkRqzLQMjYVAyIgstAjFpOcHnBy0B8fyIxsuDLQIC0sLpW1stAoq+7by\\u002fay0C5wrOa3e\\u002fLQCB\\u002flwIe7stAhSehBsbUy0DW4oWH\\u002f8vLQMLNrDxgrctArNtoN751y0ABKR6TcYfLQJR91iyHYctAUrhIwyycy0CLaQlS3pDLQL\\u002frIgAqTMtAFjaNcKvXykAxKqUMT9HKQG60G58QFMtAsbpWtmdoy0APhCFpC3TLQPo5upTHX8tANfM1Y7nSykCc+IG4Nt7KQKWvDEIKispAtEI6X9XaykBxHc7mGILKQHFth0jVyMpAsg2s1TDlykDhvnnt0SDLQG60G58QFMtAHT2AieDhykA6ZiavKNHKQK0Eh8qv6cpA0beTXYxdy0BoLmro7pLLQPw+2Rb7p8tA9LMI3qXey0BSHNyIgfrLQLuqJIBSDcxAbWRiPdQFzEAUVW3\\u002fNSzMQJkXYkfBMsxANWgHz5kSzEB+rPV6FljMQHqCbRzkZsxAVP4U81xzzECp38wb1pDMQJIRiCdyvcxAFfNc\\u002fgfgzEBK2QlyqPnMQCzRxp8RAM1AYzkfQYbnzEAsTNCGC6zMQP7AhERPrsxAc\\u002fy7ZcLlzEA2+W3eUujMQD8dYGahBc1AsIrnrnbzzEBK4t2qzgzNQFLV9l9r\\u002f8xAtogGj4XqzEAtUe8IP\\u002fTMQKkMoGU6CM1AfHdn8XFizEAACu0xjLvMQGASM6BgLMxAIj9UIGLcy0B5mvw2b0nMQKvcgTCkCsxAIwAqN4xfzECFE8eirfXMQA8zTw5pCc1AY5oWSU7XzEC5LrHNlxzNQPAuwfLE2sxAHMnHFuanzEAyd8KwfhrNQLY0mHbW2MxAeypKTUKKzECxllelqTzMQAPTfYj2vMxAXZp0pJgGzUDpS83qzTTNQFG1rAWgns1At2aKQm6YzUCGPOU1H6LNQJweBI4bjc1A7w53mPl5zUAFbbjQ1aXNQJx9eNE8o81A4GdvF5YRzUDMZnAwjwrNQB94Ro4e7cxA4vQgcNzjzEClgSD\\u002fPyfNQGbSQJB\\u002fO81AYzBLCGDUzEBbXpWmdNfMQJweBI6bVMxAS94o9FsJzEDzVsaM0LnLQB1NpTaGLstAxyekogNMy0ARl+LTvfbKQKrRKjNX5cpArPLeWGPDykCBhat+pm3LQETOYaIA7MtAAz5iwkoczEAwuqFQR2LMQNMQIfhut8tAQLFiM+fYy0AcmVgP9cHLQOEPTEh0\\u002fMtA1wLQ4UplzEC5eUutoOLLQIqtUr3nVctAXVnH9hs\\u002fy0D1i1QWda\\u002fLQNMQIfhut8tAGDus8t4fy0Dvm9ce5fLKQPtFKov6qMpAYNU6qdYvykA59Qn6upTKQPAB7qjgKstAUPdyrAIZy0A0S1kyW6\\u002fKQBqEFOAbLctAlqI\\u002fCYYKy0D6rXIHQtLKQBVlkqzbB8pAgGyymFrVyUAXG2KYk4bKQAQGiU30Z8pAxnI+ggwSykDYDSffF+HJQNvMygP2cspAle3Z6A4Jy0ACdjs3oV\\u002fLQE5DJoVxrMtAHIV+q1yqy0BbwihsSf3LQJAwaLb8oMtAIWcI6JILzEAzh+ddpC7MQO04XVL2YcxAmpijqdS7zECKrVK9Z47MQFCwjYPsHcxACtlXqEUyzEBjDEz3IXDMQITuXcYuFMxAbl0RyVTMy0BTUWoSJvDLQFA0a6MM3ctA4O8B7ihjy0DDqa0rIknLQFd20+4kmctA5yThSShBy0CWqZB9BUTLQG5JN2W8tMtA9YtUFnWvy0BCZa9aeEXLQOklSxXphcpAAY2xWEatykC6BeQMgefJQITdHyAj+slAMwLxRB6iykCCRP7QKabJQJJv43GtzclADgoxe\\u002ffryUAFyxMbEbbKQKUcdEAFw8lAj8k4M5ubyUBYJmtfw8nIQAo\\u002fHWBm2MhAN1vPsVtzyECymNpp0GzIQOOiNRxUAslAb09v4FXoyEBwEEX3f2vJQG2OmckrZchAvWENZfA+yEDJG4V+q0HIQNpWj8zUtchAxu1HaYaFyEDoLzhH9bzIQPQhidWGO8lAbv+1fhnayUB+GnZy97TJQN1nHkW7f8lAFNGP3xX8yUAaq6+u5o7JQO+H\\u002fbrMoslAswn3Hr7hyUCmtCvEvZnJQDyloWrZ\\u002fchA2eknzllEyEAu85O+g1jHQO0xDN52RsdAYkGJrmubx0DyN5Ura9PGQMF3u18K4MZAwMNuOHlzx0A2zh1ZlWjHQJrn8j9Qo8dAwdJ67LhjyEB7KTFU3EvIQDkGSKDGzMdAA8qpT9DHx0DdM\\u002fqGV5bHQBZAeqI31sdAejGbwcHhx0DQ6BteY\\u002fbHQLIaNcVJUshAhy5DTSBNyEDvY\\u002f6pDgbIQD2EPheoz8dAep8buaKvx0AkqAZo6qDHQFjTFUB6FMhAg20cZJvhx0AqAMzbwYbIQMdVkOXNrshA5a2MGSHvyED0Va2T6rPIQItFCkGgu8hAKI0sYq1wyEDAUTmKJRPJQDdWsC+oY8lAdBMyh2fCyUAynUSG467JQK19De2Cg8lANm0mUc3pyUCSg73VReXJQBgGbzsV2slAfwLnV2zSyUBwIGqkJbjJQNWzL3l0QspA1bMveXRCykAZott1QLTKQLmL8x5t0MpABH72duHdykC64xbuDq3KQDvHHbfwwMpAtMrMNehkykCI\\u002ftNFL9jJQNAIZrguyMlAs\\u002f7w80vdyUDmtmBSxzrKQExiBhR8V8lAqXogXZssyUBUMSC42uXIQEwYhS1ZtchAJAn+bzLJyEBHyHr5QYbIQKLVPUWUbshAjO3mcf7eyEDO1nPslgjJQEsMFTcmbMlAzpXGPhqyyUB9LlDWD5TIQLmbGMwSrMhARtUD6VpkyEAIQDZZzDTIQCoNVcvaZMhAYDnObisdyEC4rW9rhLHHQJV2hbiHfsdAtS5g+7wZx0CZqvpIRt\\u002fGQFEXvQZO0MZAqUb8njdDx0B18bU60MbGQIYQK+WgbMZAPNJ0tD0Ex0BJKtzMyrrHQNFCwvGrrMdA9CBw3CBux0B18bU60MbGQIaXpMJNmsZAeuq1mKt1xkBxpWC9q2LGQOTlZY73+cZANrQLeuNzxkB6lS6HlgfHQNApyQvgTMdAtliXh5Qix0DwC9va7PDGQKq3GFSlf8dAWoyB6T7Jx0AHYZmsfSrIQJFPmRfi+8dApp21ohjbx0B2P+zXZWzIQKzpCiA9P8hAJWncfhQkyECMGaHC\\u002fIjHQEE2WUztSsdALOSHCsSgx0DDZWTAmNrHQPvUDdaM+8dAPrStHhl9x0AyuG9ee8fIQE2SdRvtBMlAoNoL9WzOyEC2F+rZlwTJQMGKfMq808hAz+V\\u002foFbAyED9+XayC93IQOEd7jDzxchAQKE9hkEbyUDCQn6owEPJQBaHX8tNQslAavLbvCXbyEA3Cv1WOdDIQKLrmm1TmMlAZ4emsHaTyUAaVQ+k64vJQGFyEa9CFslA\\u002fFGaga25yEBqIMj\\u002f767IQDepBU9x4MhAUSGqONqwyEAKhgKJ\\u002fAvJQLqRK5qGPMlAZjCc2joTyUCT5jeiNHbIQJ+Qig5KLMhA1LGstM33x0CZliDlLQDIQNLVq8ULXMhARgel4hcDyEBGr4ETdibIQB7O5pgZDshAbI+ywpHBx0CrSgIoBS\\u002fIQAbNlt+3HshAPYCJYLUEyEDWNvSfLjTIQCrggYF27cdAZxBSgO95yEAynUSGY3bIQEXnWohMoshAkh4RFwvyyED6t185TgnJQFrKktkuIslAW0q7QlwWyUDz6+FS\\u002fLDIQFrq3DP6gshA7P8ZEt\\u002f3yEA89VrMlUTJQCbgMK+bPclA7QQ5lBJAyUAz6mEqE4fJQHppdDYYlslADwBESetDyUCMKt9oCKPJQBsEPUnJ6MlAnfdov1BJykAe4acDzAHKQFCCoUAi2clAayXngaMvykD90cLqWubJQFPEuLnfrMlAMtKBPS28yUBew5I3ignKQLqOj9x5BspAKq\\u002f5gB8cykBQuWG8EsDJQLaLokySr8lAiOng6LAryUCL09SSzCLJQMszZWsRRclAw1yQh\\u002fL\\u002fyEAqQXmJvhXJQN5v2YT7\\u002fchAa9F4aXTlyECKP9LFBhfJQOgCZf0QfslAOPOGNZSCyUCIoHj7cx7JQHwvac\\u002f1KMlAXCa8MR6yyEBS3EfU6lbIQP\\u002fM9DoCTshAaOAzS9m0yECvwsAjTY3IQL8pNPCZ+8hAUjXVbs2wyEDrIH1lkO3IQPX1H1djQclAjW0P2yvTyECqiSwRW+TIQDYcVPYqDslAK2Cq6iMayUDE8JJUuAvJQFsaTDvraMlAaHyghQSPyUCOL\\u002f7qO+vJQNah2NmCBMpA2mzs9JPfyUBzkwkeOs7JQJ49Ne8A6MlAaZWZa9DuyUAE2bUDkPDJQCAjv3yJ1clARbfrgFstykBNVGQr\\u002fRzKQOLOnpr3NMpAjvSIuFg5ykDOrDxgPzjKQBkNwK+UE8pAmPL4asIYykADAWrLwB\\u002fKQLAjuCuVtclA\\u002fcGdPbWZyUB8lBWOMBzKQJZP6uk8VcpAy\\u002feFbW1OykCTay67ugLKQD7rbZoJ1clA1j1FFC6myUADAWrLwB\\u002fKQPI9zaaEIcpA6BnbHjYEykDdZgVMVSPKQNaqrBKpF8pA1GxKUN4OykCfY7fE5SXKQGdgC+Ir+clAJw4d8uVJykAnnmoIuYrKQLgRAzHZgMpAcdIzB5CDykBT+l88ajfKQP0P1NrKBspA8cZ4dn1AykCYlJ0gh5fKQKyKltwbmspAN6PN01d0ykD\\u002f7VeOs7TKQFBCDYyLF8tApgYXGEYKy0Docf7tVxnLQFP3w35dActA34nrYy0ry0C3BZM6pjfLQMEc\\u002fNLbdstAmosaujuly0AIYxxxpK3LQCnjHT+DBcxAXCMgdBHty0BqKrUx\\u002fMfLQPwz0+uIo8tAizsdDxS9y0AEPUnJZIfLQIlXYeCRastAIuIRz4y3y0D8R61PIbvLQFOIKo4W18tATuXKOjYrzEBu69sagTPMQNy5CZnDKMxASxXpb0zwy0BgTajSQ97LQEsV6W9M8MtAU8S4ud8dzEA6K7F8xVfMQIkD88dikcxAPCf8xdKMzEAqeDkFL6bMQNcvoyuv3MxAdHGN0SLtzEA9Y9vD9rvMQD1j28P2u8xAI+1ozNnczEA+XyYNBPHMQFCMjnIu8sxAbncjqAbBzEB4uMPMEwnNQEKF+bRDF81Aat8aUvMBzUDGhhjmpJrMQDBifoGlhcxApw25XqBkzECkwEroFaTMQDCtGGEuhMxAOAyAG2BTzED39AZe\\u002fVXMQEKTm53CUcxANvbRIMZ5zEASzHBd4iTMQF6N67T\\u002f78tAW9w6S3u5y0CUd56x7bzLQHc2aXEa68tAg31BEcHXy0A7TpeUHSfMQHyXsUs9w8tAfCkxVFz1y0COKK12vCLMQFg6RcPbisxANB6G6PaozECi7LNmOZ7MQIyVw6Lcq8xAYCsshiyMzEB+FsG7BFvMQNzsFF7BRMxAu9usgKlPzECfT91gTX\\u002fMQFfzX5pFV8xAw7Y2G7tfzEDuqXkHZJ7MQOLJ0OoeRsxAQh7KMWJKzEBUrCmfVDvMQK6cPk7o+MtAHNKbT4yCy0CymfNitnLLQK1ZDtxEkMtAIKFkIZAoy0DUOT+LYCvLQLUkc8mwU8tA4rHw\\u002fbhCy0CDEl3X7D\\u002fLQEsylwyL4spAS8QWFaoUy0Di1NYVERLLQEgWsZZXZMtAdt3b1jeRy0DRW7vX97XLQOrjhG4G08tAE98xyJSny0BgCEZuVITLQEkORylyzstAsZO75xzOy0B6\\u002fo\\u002f8Q2\\u002fLQGyIYU6SMctAGmnpBwTcykB3Cq8gHNDKQBsczGPUA8tANWG2WpqgykCqG6wZ+k7KQD3lNR9wMMpAG28hg52AykAlyFDCNavKQAPdaroC9MpAxuWMKUZ4y0BEh3x5arjLQD7+LgW8yMtA\\u002f05Plvvcy0AnJxbYMeLLQGdCREyHqstAFEyZxg8ZzED3Dhk9LxLMQHDjca2bncxARKGOWBytzEA7j0RCGrbMQCpBeYk+v8xAAo80He33zEAA3ADvwefMQI056xxIBM1ALg8pYtwIzUCL+4haffvMQDV3E4PZAs1AuqUF\\u002fp79zEDK8U3y0xrNQCf5KZXnRs1AYosKlY4fzUBi1qR0Fx7NQNfXf1wNAM1AXSz0rLc4zUDB204l31jNQNInlxkUds1Asj401oeYzUC7veXqBAHOQH4tN92pGc5AXQj1m\\u002fkMzkDpT4KhQDjOQPGztwtLZ85AqXFMJHX7zUAzjR\\u002fZPUTOQAM3EU7LU85A7+j0wpR0zkBr5DnUpoLOQGk62t6hhc5AiKMUuQBvzkC42kK1aEPOQF3evQ8iBM5AoJbCiWPrzUBBLGwa4fXNQCnaSQZdY85Af1O5so5XzkDmlhb4e4POQAL1+dQNgM5AHX0UPneFzkDxaB0swmjOQLoa12l\\u002fPc5AKGP11VWCzkAkCf5vsuPOQFvZno1u9M5AzK5uUosLz0B\\u002fG+A9OBTPQLdpJgB7P89Ar04IsVI1z0BfRNSZnXTPQBwDJFBjbs9AI37P2xLrzkAKWBZGslLPQJ5DbWoap89AoG8nu5iJz0BUxjt+BqHPQLkdcyeM5M9APXacLinoz0DJy8scrwvQQDGc2rriCdBA9DGugqyiz0ClBhcYRuzPQEhmavhTEtBAfuyJL637z0AHfMSElc7PQFrq3DP61c9Axv6FD1I\\u002f0EAgANlkMULQQOdaiMzyMtBA1M1BWKY60EASZ8SeJzXQQF0OLRcTRNBAMeAjJixr0EDh7wHuqGbQQF2ZW6uyPNBAmyZu+8BR0ECPPgqfO3vQQEngWubnYdBAxYcx30pe0EDo\\u002fq9GXovQQGja+8+\\u002fhNBATHIrwWF80EAvTCFZZl\\u002fQQDhR4n9PeNBAliSaZL+P0EBjzjoH8rbQQIWo4mgZxdBAXGZQ5vS80EC0adUtILHQQNRGyHo5qdBAuLALKRHN0ECT93VIQMzQQO8tVyfExNBAxeLwa3mp0EALDXxmKa7QQNQeFLMIetBA3iypEhim0ECo7\\u002fHIe6jQQOC1pbRrrdBANhxU9qqC0ECqL4Z9kqLQQJ+tOKvIZ9BA24DGWCwz0EA7VegInSvQQMUsclIcE9BAr+z3r6QK0ECVBWkDms3PQKXbxpJIDNBA9RPn7Ac90EARJzDqEDvQQKPaXMdHK9BAxX1ErX5S0EAX1xgtSmHQQMhKirrbHtBAJMH\\u002fTXYR0EAcDRGC7zfQQM6CBdRna9BAUxgn0s6W0ECYQrLMfpvQQCwf\\u002fTznm9BA98rP0WW00EANK5TO6LnQQJZBSAF+utBA0AXK+iHO0EDEJ1PQaAPRQHUsK21z+tBAtePFG7QA0UDoCzk2twXRQNPUksxlENFAVwSeQNED0UAzTHIrAeTQQBAFY8ueANFAtcN7wagD0UCa\\u002fDZvKeXQQG7oP110yNBAlCloFJjv0EDHnHUOJPPQQK4HI4j899BAAr45WZ0r0UBc39YIiCvRQJE82KwvJtFAgIMour8z0UBv6sIhWz7RQOgwUUCbYtFA4KgcxZJr0UCZaU2bSW7RQJDVqCnOkdFApfXYcTqd0UDAn28n+5DRQHIOEwX0itFAa+juill80UCF8OCKlY3RQJUoTxsyk9FA+w5qD0qa0UD9ziYtjojRQOZYBQjMkdFAY31orA+w0UDSXleVRMTRQI3RoqCA3tFAB4+F78fj0UCvFi88POjRQG0cZBuYFdJAyhQ0Cqzt0UDpxFMNoQrSQLRmOXBTF9JAKW9lzMgy0kDvI2r1d\\u002fHRQD9hqdEqztFAwjxGLeev0UAzsAXxld7RQCjrh6xo19FA5mWO9+Rv0UApSeP2o1jRQJN0AvRgitFAT9NzmwSN0UAh9dI5P3bRQLPCEfbnvtFAlGoVwpR+0UAa6KelMCvRQLczf30wq9BA0ST7W4fS0ECorkQbv7XQQPfuzuKjGNFA7rshefAr0UAUoAffPi7RQLlvXnuUdtFA3V0xE6+E0UAmF\\u002fEqjNHRQCuUzqjH29FASS6Rg30H0kBRaysf\\u002ff\\u002fRQLuj0wvTD9JA8e0TRYjr0UA\\u002fJjSfRxzSQGpzHR85EdJApgJiYZMX0kBlF6P0rvzRQKNwkYYZ\\u002fdFAsqZ8Ug8p0kD\\u002fXnRDYcnRQMXveVsSwNFA8Dxj2wO10UDboBCzt2jRQJKJ9VCfmtFAeFQwBz+u0UD4K8fZrdzRQOxjrdczA9JAJTM1\\u002fEkb0kDtAITdHyLSQCqFwvQHJNJAnBF7nkIW0kC\\u002f8Vp7Q2XSQJavyPgeXdJAQ0qEguBo0kCMsnE\\u002fW3bSQDwC5Lvua9JAWL873KF+0kDl\\u002fl50w3fSQEfbO2S0itJAO+TLUy9g0kByysmZKmLSQLq\\u002fF92QWdJAEnRNjkCE0kBuAlI8ZlnSQLd9AGTThdJAoBu5oqmm0kDZrC\\u002fXT57SQLkDYUjautJA3KZILhHi0kAE7HZugrzSQKJMknVb0dJA4KWAB8bR0kCwpRKHTuTSQHsT1Ctd3NJAuhYis8zZ0kAIFv\\u002fMtK3SQAdrht4JuNJAZ\\u002f8T2mO20kBj1Yt7McXSQPYmqFf6zNJAQHC1hWq+0kCGoZH0WWDSQAgPrlg1dNJAAX6lpAZq0kDHyUhYCKPSQEmm\\u002fqyqGdNAEf34XXk\\u002f00DoGMIl0FTTQNc126aIWdNAqMwLsSNK00AdDPiIiUzTQPY\\u002foT3GLNNALiBnCOjt0kAGEeBKwQHTQAE9+PaJE9NATCUOHTIV00BdG7YGbC\\u002fTQJdKHDqkPtNA0KTS8llP00BPvi9sK2nTQGFMj9kdWtNAwahDYOF400C7qiSA0oHTQIsLrgcjhNNAh4AuoSij00C7c2QE4prTQD6M+VZopNNAGZQ5jYGK00BI6kcY9HrTQOYUvJyCodNAwRz80puH00CmKf0vnobTQCfCaRn3m9NAKqJwkUaH00DbRVEmSfLSQN0aAaHL8NJAB3koxwgr00AM\\u002f9l9akjTQPgjXWxIf9NAkZ7orZ1\\u002f00AdV5JoEkvTQIeKG9O0EtNAitTti\\u002fIA00Dpid7a\\u002ffTSQNuWI4GrMdNAIEtzRPpN00Bstk2RHBbTQM6IPU9BHdNACXNBHorS0kADwLwdBNrSQNjdt9em4NJATM3qTZA400BwHc7mGC\\u002fTQEr2tw5nYNNABOjBt8+N00D83kva86nTQMfgvnltxdNAyYAxPaa200DtNKibQ2\\u002fTQO1RVjgCmtNAWQJsToWD00D0DshqVJ7TQP7gzp6ag9NAmHwOBvxh00BnZkNdRYPTQCm3Y+6El9NAN2+pFfSo00D3BCwL43rTQKOIcXO\\u002fnNNAxw2Sw5Gg00BwYRdSYpDTQHsj+dhCxdNAiYfQ5wLF00AtxsB039PTQCSULATS39NAQrLM\\u002fqfK00CGzmQ+\\u002fnPTQLCHS\\u002fEpXdNAjlgcfq1E00BT8w7IKkfTQM+1EJll+NJArCDLmy1E00CLVS\\u002fuxe3SQC4ZFpRotNJA4I4K5uDn0kD5fhz59pHSQEjOsnSbrNJAEw+hz0Ut0kB+lphSlwbSQJ7Fx8UTH9JARQi+2z3h0UCOFewLyj\\u002fSQGi5mHzOY9JA6tb7fu0w0kDHeHb9pWPSQDHJrQQHVtJA2Fx2dZNX0kApx4ibqqvSQJDM1PAnt9JAf02BN\\u002fV90kCs+S\\u002fNYnHSQNbBIjROEtJAfCkxVFwx0kDYkzbxgz7SQNNTUWoSXNJAicXh13J00UAGHmk62m7QQLjXpvdbZ9BA7cOL5pUl0EDDeT4ksdfRQFusy0OKD9FAvLpJLXhd0UBQPljVmIjRQH3qBmsGfNFAUpqBLYgY0UDo1Hi6xh7RQCsTjUZ0ttBAVOPpGsUl0UCccnKmymnRQLqetImfx9FAnyhCkoLo0UA6bF4qQurRQAg3YiAmB9JAR1nhCPsI0kDiJalwsynSQPEk1MC4btJAZXxPs6lT0kBC2WfNcizSQIA7KpgDQNJAzkosX5Fg0kAqrF3DklrSQGOypWPZ9dJAzolWSOcV00BkxE3VJRzTQFJgJfQKNNNAnaaWZC5T00C5LrHNl1jTQCg9cwDxR9NA9mOgTsT00kDdZIKHrvbSQAY\\u002fzI2L1dJABWPLnsk500B28bU6UB3TQMG3TxShMNNAAFHSWiIr00AWEAubxkbTQA4Hlb3qYtNAsBxnt5Vh00AboixIm0nTQKRKYINPfNNAoEE7eM6A00Dm9Yo7HZ3TQHdeHTnLjtNATDtrRbGi00ACLLpQfmrTQPorGKzImdNAV0Qy9edu00CDcLghKG7TQMubrefYU9NAEyJiOriE00CYwXBq67vTQJ9TkhfAvtNAWHEFP0zm00BJ1m20m\\u002f\\u002fTQMCI+QUWGNRAyyNAvmsW1EAyqWOquy3UQPzzPjdyVtRAFqpF46Uv1EARGCQ20SzUQA+hzwXKS9RAFLPISXFa1ECPXNE0IEjUQKXbxpIIUtRAraSou8071EBui\\u002f0LH03UQObGhf\\u002fsbNRAGsXBjRhp1EAxRLfrAHPUQAYYMb\\u002fAc9RAn2TQvUug1EA4qOxVC6LUQNi9bX1buNRAe9M\\u002fdwa31ECktl22CanUQNAieJdgotRAoSSN24+O1EB3HXCLTjjUQKv\\u002fZ0j8htRAXrDRzFds1ED6BZbWY5TUQKTtHTL6j9RABbOEAAa51EBlHdtviK7UQPzpUQXm5tRAgkBJGjf51EBmeJr8tvnUQJMkSZIk7dRAgPfgLPrr1EBnbxeW687UQEaVbzTEwNRAbe+Q0XOr1EC4x4FKtvzUQLvH0hwR5dRA\\u002f7u2lHb71EA7lXy9swfVQJe\\u002f7aXEGtVA\"},\"type\":\"scatter\"}],                        {\"template\":{\"data\":{\"barpolar\":[{\"marker\":{\"line\":{\"color\":\"white\",\"width\":0.5},\"pattern\":{\"fillmode\":\"overlay\",\"size\":10,\"solidity\":0.2}},\"type\":\"barpolar\"}],\"bar\":[{\"error_x\":{\"color\":\"#2a3f5f\"},\"error_y\":{\"color\":\"#2a3f5f\"},\"marker\":{\"line\":{\"color\":\"white\",\"width\":0.5},\"pattern\":{\"fillmode\":\"overlay\",\"size\":10,\"solidity\":0.2}},\"type\":\"bar\"}],\"carpet\":[{\"aaxis\":{\"endlinecolor\":\"#2a3f5f\",\"gridcolor\":\"#C8D4E3\",\"linecolor\":\"#C8D4E3\",\"minorgridcolor\":\"#C8D4E3\",\"startlinecolor\":\"#2a3f5f\"},\"baxis\":{\"endlinecolor\":\"#2a3f5f\",\"gridcolor\":\"#C8D4E3\",\"linecolor\":\"#C8D4E3\",\"minorgridcolor\":\"#C8D4E3\",\"startlinecolor\":\"#2a3f5f\"},\"type\":\"carpet\"}],\"choropleth\":[{\"colorbar\":{\"outlinewidth\":0,\"ticks\":\"\"},\"type\":\"choropleth\"}],\"contourcarpet\":[{\"colorbar\":{\"outlinewidth\":0,\"ticks\":\"\"},\"type\":\"contourcarpet\"}],\"contour\":[{\"colorbar\":{\"outlinewidth\":0,\"ticks\":\"\"},\"colorscale\":[[0.0,\"#0d0887\"],[0.1111111111111111,\"#46039f\"],[0.2222222222222222,\"#7201a8\"],[0.3333333333333333,\"#9c179e\"],[0.4444444444444444,\"#bd3786\"],[0.5555555555555556,\"#d8576b\"],[0.6666666666666666,\"#ed7953\"],[0.7777777777777778,\"#fb9f3a\"],[0.8888888888888888,\"#fdca26\"],[1.0,\"#f0f921\"]],\"type\":\"contour\"}],\"heatmap\":[{\"colorbar\":{\"outlinewidth\":0,\"ticks\":\"\"},\"colorscale\":[[0.0,\"#0d0887\"],[0.1111111111111111,\"#46039f\"],[0.2222222222222222,\"#7201a8\"],[0.3333333333333333,\"#9c179e\"],[0.4444444444444444,\"#bd3786\"],[0.5555555555555556,\"#d8576b\"],[0.6666666666666666,\"#ed7953\"],[0.7777777777777778,\"#fb9f3a\"],[0.8888888888888888,\"#fdca26\"],[1.0,\"#f0f921\"]],\"type\":\"heatmap\"}],\"histogram2dcontour\":[{\"colorbar\":{\"outlinewidth\":0,\"ticks\":\"\"},\"colorscale\":[[0.0,\"#0d0887\"],[0.1111111111111111,\"#46039f\"],[0.2222222222222222,\"#7201a8\"],[0.3333333333333333,\"#9c179e\"],[0.4444444444444444,\"#bd3786\"],[0.5555555555555556,\"#d8576b\"],[0.6666666666666666,\"#ed7953\"],[0.7777777777777778,\"#fb9f3a\"],[0.8888888888888888,\"#fdca26\"],[1.0,\"#f0f921\"]],\"type\":\"histogram2dcontour\"}],\"histogram2d\":[{\"colorbar\":{\"outlinewidth\":0,\"ticks\":\"\"},\"colorscale\":[[0.0,\"#0d0887\"],[0.1111111111111111,\"#46039f\"],[0.2222222222222222,\"#7201a8\"],[0.3333333333333333,\"#9c179e\"],[0.4444444444444444,\"#bd3786\"],[0.5555555555555556,\"#d8576b\"],[0.6666666666666666,\"#ed7953\"],[0.7777777777777778,\"#fb9f3a\"],[0.8888888888888888,\"#fdca26\"],[1.0,\"#f0f921\"]],\"type\":\"histogram2d\"}],\"histogram\":[{\"marker\":{\"pattern\":{\"fillmode\":\"overlay\",\"size\":10,\"solidity\":0.2}},\"type\":\"histogram\"}],\"mesh3d\":[{\"colorbar\":{\"outlinewidth\":0,\"ticks\":\"\"},\"type\":\"mesh3d\"}],\"parcoords\":[{\"line\":{\"colorbar\":{\"outlinewidth\":0,\"ticks\":\"\"}},\"type\":\"parcoords\"}],\"pie\":[{\"automargin\":true,\"type\":\"pie\"}],\"scatter3d\":[{\"line\":{\"colorbar\":{\"outlinewidth\":0,\"ticks\":\"\"}},\"marker\":{\"colorbar\":{\"outlinewidth\":0,\"ticks\":\"\"}},\"type\":\"scatter3d\"}],\"scattercarpet\":[{\"marker\":{\"colorbar\":{\"outlinewidth\":0,\"ticks\":\"\"}},\"type\":\"scattercarpet\"}],\"scattergeo\":[{\"marker\":{\"colorbar\":{\"outlinewidth\":0,\"ticks\":\"\"}},\"type\":\"scattergeo\"}],\"scattergl\":[{\"marker\":{\"colorbar\":{\"outlinewidth\":0,\"ticks\":\"\"}},\"type\":\"scattergl\"}],\"scattermapbox\":[{\"marker\":{\"colorbar\":{\"outlinewidth\":0,\"ticks\":\"\"}},\"type\":\"scattermapbox\"}],\"scattermap\":[{\"marker\":{\"colorbar\":{\"outlinewidth\":0,\"ticks\":\"\"}},\"type\":\"scattermap\"}],\"scatterpolargl\":[{\"marker\":{\"colorbar\":{\"outlinewidth\":0,\"ticks\":\"\"}},\"type\":\"scatterpolargl\"}],\"scatterpolar\":[{\"marker\":{\"colorbar\":{\"outlinewidth\":0,\"ticks\":\"\"}},\"type\":\"scatterpolar\"}],\"scatter\":[{\"fillpattern\":{\"fillmode\":\"overlay\",\"size\":10,\"solidity\":0.2},\"type\":\"scatter\"}],\"scatterternary\":[{\"marker\":{\"colorbar\":{\"outlinewidth\":0,\"ticks\":\"\"}},\"type\":\"scatterternary\"}],\"surface\":[{\"colorbar\":{\"outlinewidth\":0,\"ticks\":\"\"},\"colorscale\":[[0.0,\"#0d0887\"],[0.1111111111111111,\"#46039f\"],[0.2222222222222222,\"#7201a8\"],[0.3333333333333333,\"#9c179e\"],[0.4444444444444444,\"#bd3786\"],[0.5555555555555556,\"#d8576b\"],[0.6666666666666666,\"#ed7953\"],[0.7777777777777778,\"#fb9f3a\"],[0.8888888888888888,\"#fdca26\"],[1.0,\"#f0f921\"]],\"type\":\"surface\"}],\"table\":[{\"cells\":{\"fill\":{\"color\":\"#EBF0F8\"},\"line\":{\"color\":\"white\"}},\"header\":{\"fill\":{\"color\":\"#C8D4E3\"},\"line\":{\"color\":\"white\"}},\"type\":\"table\"}]},\"layout\":{\"annotationdefaults\":{\"arrowcolor\":\"#2a3f5f\",\"arrowhead\":0,\"arrowwidth\":1},\"autotypenumbers\":\"strict\",\"coloraxis\":{\"colorbar\":{\"outlinewidth\":0,\"ticks\":\"\"}},\"colorscale\":{\"diverging\":[[0,\"#8e0152\"],[0.1,\"#c51b7d\"],[0.2,\"#de77ae\"],[0.3,\"#f1b6da\"],[0.4,\"#fde0ef\"],[0.5,\"#f7f7f7\"],[0.6,\"#e6f5d0\"],[0.7,\"#b8e186\"],[0.8,\"#7fbc41\"],[0.9,\"#4d9221\"],[1,\"#276419\"]],\"sequential\":[[0.0,\"#0d0887\"],[0.1111111111111111,\"#46039f\"],[0.2222222222222222,\"#7201a8\"],[0.3333333333333333,\"#9c179e\"],[0.4444444444444444,\"#bd3786\"],[0.5555555555555556,\"#d8576b\"],[0.6666666666666666,\"#ed7953\"],[0.7777777777777778,\"#fb9f3a\"],[0.8888888888888888,\"#fdca26\"],[1.0,\"#f0f921\"]],\"sequentialminus\":[[0.0,\"#0d0887\"],[0.1111111111111111,\"#46039f\"],[0.2222222222222222,\"#7201a8\"],[0.3333333333333333,\"#9c179e\"],[0.4444444444444444,\"#bd3786\"],[0.5555555555555556,\"#d8576b\"],[0.6666666666666666,\"#ed7953\"],[0.7777777777777778,\"#fb9f3a\"],[0.8888888888888888,\"#fdca26\"],[1.0,\"#f0f921\"]]},\"colorway\":[\"#636efa\",\"#EF553B\",\"#00cc96\",\"#ab63fa\",\"#FFA15A\",\"#19d3f3\",\"#FF6692\",\"#B6E880\",\"#FF97FF\",\"#FECB52\"],\"font\":{\"color\":\"#2a3f5f\"},\"geo\":{\"bgcolor\":\"white\",\"lakecolor\":\"white\",\"landcolor\":\"white\",\"showlakes\":true,\"showland\":true,\"subunitcolor\":\"#C8D4E3\"},\"hoverlabel\":{\"align\":\"left\"},\"hovermode\":\"closest\",\"mapbox\":{\"style\":\"light\"},\"paper_bgcolor\":\"white\",\"plot_bgcolor\":\"white\",\"polar\":{\"angularaxis\":{\"gridcolor\":\"#EBF0F8\",\"linecolor\":\"#EBF0F8\",\"ticks\":\"\"},\"bgcolor\":\"white\",\"radialaxis\":{\"gridcolor\":\"#EBF0F8\",\"linecolor\":\"#EBF0F8\",\"ticks\":\"\"}},\"scene\":{\"xaxis\":{\"backgroundcolor\":\"white\",\"gridcolor\":\"#DFE8F3\",\"gridwidth\":2,\"linecolor\":\"#EBF0F8\",\"showbackground\":true,\"ticks\":\"\",\"zerolinecolor\":\"#EBF0F8\"},\"yaxis\":{\"backgroundcolor\":\"white\",\"gridcolor\":\"#DFE8F3\",\"gridwidth\":2,\"linecolor\":\"#EBF0F8\",\"showbackground\":true,\"ticks\":\"\",\"zerolinecolor\":\"#EBF0F8\"},\"zaxis\":{\"backgroundcolor\":\"white\",\"gridcolor\":\"#DFE8F3\",\"gridwidth\":2,\"linecolor\":\"#EBF0F8\",\"showbackground\":true,\"ticks\":\"\",\"zerolinecolor\":\"#EBF0F8\"}},\"shapedefaults\":{\"line\":{\"color\":\"#2a3f5f\"}},\"ternary\":{\"aaxis\":{\"gridcolor\":\"#DFE8F3\",\"linecolor\":\"#A2B1C6\",\"ticks\":\"\"},\"baxis\":{\"gridcolor\":\"#DFE8F3\",\"linecolor\":\"#A2B1C6\",\"ticks\":\"\"},\"bgcolor\":\"white\",\"caxis\":{\"gridcolor\":\"#DFE8F3\",\"linecolor\":\"#A2B1C6\",\"ticks\":\"\"}},\"title\":{\"x\":0.05},\"xaxis\":{\"automargin\":true,\"gridcolor\":\"#EBF0F8\",\"linecolor\":\"#EBF0F8\",\"ticks\":\"\",\"title\":{\"standoff\":15},\"zerolinecolor\":\"#EBF0F8\",\"zerolinewidth\":2},\"yaxis\":{\"automargin\":true,\"gridcolor\":\"#EBF0F8\",\"linecolor\":\"#EBF0F8\",\"ticks\":\"\",\"title\":{\"standoff\":15},\"zerolinecolor\":\"#EBF0F8\",\"zerolinewidth\":2}}},\"title\":{\"text\":\"Total Return: MSFT vs SPY (Growth of $10,000)\"},\"xaxis\":{\"title\":{\"text\":\"Date\"}},\"yaxis\":{\"title\":{\"text\":\"Value of $10,000 Investment ($)\"}},\"hovermode\":\"x unified\"},                        {\"responsive\": true}                    )                };            </script>        </div>"
      ],
      "text/plain": [
       "Figure({\n",
       "    'data': [{'mode': 'lines',\n",
       "              'name': 'MSFT',\n",
       "              'type': 'scatter',\n",
       "              'x': array(['2020-01-02T00:00:00.000000', '2020-01-03T00:00:00.000000',\n",
       "                          '2020-01-06T00:00:00.000000', ..., '2025-08-26T00:00:00.000000',\n",
       "                          '2025-08-27T00:00:00.000000', '2025-08-28T00:00:00.000000'],\n",
       "                         dtype='datetime64[us]'),\n",
       "              'y': {'bdata': ('AAAAAACIw0Cy861UlErDQHgKk7hWV8' ... 'cdTojq30Bkqpb9ghvgQJ8OXSUcM+BA'),\n",
       "                    'dtype': 'f8'}},\n",
       "             {'mode': 'lines',\n",
       "              'name': 'SPY',\n",
       "              'type': 'scatter',\n",
       "              'x': array(['2020-01-02T00:00:00.000000', '2020-01-03T00:00:00.000000',\n",
       "                          '2020-01-06T00:00:00.000000', ..., '2025-08-26T00:00:00.000000',\n",
       "                          '2025-08-27T00:00:00.000000', '2025-08-28T00:00:00.000000'],\n",
       "                         dtype='datetime64[us]'),\n",
       "              'y': {'bdata': ('AAAAAACIw0A/W3FWEWLDQFPwcgredM' ... 'u2lHb71EA7lXy9swfVQJe/7aXEGtVA'),\n",
       "                    'dtype': 'f8'}}],\n",
       "    'layout': {'hovermode': 'x unified',\n",
       "               'template': '...',\n",
       "               'title': {'text': 'Total Return: MSFT vs SPY (Growth of $10,000)'},\n",
       "               'xaxis': {'title': {'text': 'Date'}},\n",
       "               'yaxis': {'title': {'text': 'Value of $10,000 Investment ($)'}}}\n",
       "})"
      ]
     },
     "execution_count": 9,
     "metadata": {},
     "output_type": "execute_result"
    }
   ],
   "source": [
    "fig"
   ]
  },
  {
   "cell_type": "code",
   "execution_count": 10,
   "id": "a9da2a13",
   "metadata": {},
   "outputs": [
    {
     "data": {
      "text/plain": [
       "'If you had invested $10,000 in MSFT starting from 2020-01-01, it would have grown to **$33,176.88**, a total return of **231.77%**.\\nIn comparison, the benchmark SPY would have grown to **$21,611.07**, a total return of **116.11%**.'"
      ]
     },
     "execution_count": 10,
     "metadata": {},
     "output_type": "execute_result"
    }
   ],
   "source": [
    "explain"
   ]
  },
  {
   "cell_type": "code",
   "execution_count": 1,
   "id": "9dc4b387",
   "metadata": {},
   "outputs": [
    {
     "name": "stderr",
     "output_type": "stream",
     "text": [
      "/Users/oluwadolaposalako/CryptoAdvisor/helpers/indicators.py:241: FutureWarning: 'M' is deprecated and will be removed in a future version, please use 'ME' instead.\n",
      "  monthly_returns = df['close'].resample('M').ffill().pct_change().dropna()\n",
      "/Users/oluwadolaposalako/CryptoAdvisor/helpers/indicators.py:242: FutureWarning: 'Y' is deprecated and will be removed in a future version, please use 'YE' instead.\n",
      "  yearly_returns = df['close'].resample('Y').ffill().pct_change().dropna()\n"
     ]
    },
    {
     "data": {
      "text/plain": [
       "{'best_month': '2020-08',\n",
       " 'best_month_return': np.float64(21.65),\n",
       " 'worst_month': '2018-11',\n",
       " 'worst_month_return': np.float64(-18.12),\n",
       " 'hit_rate': np.float64(59.36),\n",
       " 'best_year': 2019,\n",
       " 'best_year_return': np.float64(88.94),\n",
       " 'worst_year': 2022,\n",
       " 'worst_year_return': np.float64(-26.4)}"
      ]
     },
     "execution_count": 1,
     "metadata": {},
     "output_type": "execute_result"
    }
   ],
   "source": [
    "from helpers import indicators\n",
    "indicators.get_best_worst_month_and_hit_rate(db_path=\"data/market/market.duckdb\", symbol='AAPL')"
   ]
  },
  {
   "cell_type": "code",
   "execution_count": 4,
   "id": "5acdc926",
   "metadata": {},
   "outputs": [
    {
     "name": "stderr",
     "output_type": "stream",
     "text": [
      "/Users/oluwadolaposalako/CryptoAdvisor/helpers/indicators.py:296: FutureWarning: 'M' is deprecated and will be removed in a future version, please use 'ME' instead.\n",
      "  monthly = df['close'].resample('M').last()\n"
     ]
    },
    {
     "data": {
      "text/plain": [
       "np.float64(45.16)"
      ]
     },
     "execution_count": 4,
     "metadata": {},
     "output_type": "execute_result"
    }
   ],
   "source": [
    "indicators.calculate_annualized_volatility(\"data/market/market.duckdb\", \"NVDA\")\n",
    "# Output: 22.45 (%)\n"
   ]
  },
  {
   "cell_type": "code",
   "execution_count": 1,
   "id": "e5d5e61e",
   "metadata": {},
   "outputs": [
    {
     "name": "stderr",
     "output_type": "stream",
     "text": [
      "/Users/oluwadolaposalako/CryptoAdvisor/helpers/indicators.py:362: FutureWarning: 'M' is deprecated and will be removed in a future version, please use 'ME' instead.\n",
      "  df = df.resample(\"M\").last().dropna()\n"
     ]
    }
   ],
   "source": [
    "from helpers import indicators\n",
    "fig, ex = indicators.plot_max_drawdown(db_path=\"data/market/market.duckdb\", symbol=\"AAPL\")"
   ]
  },
  {
   "cell_type": "code",
   "execution_count": 2,
   "id": "07cf10d6",
   "metadata": {},
   "outputs": [
    {
     "ename": "ValueError",
     "evalue": "Mime type rendering requires nbformat>=4.2.0 but it is not installed",
     "output_type": "error",
     "traceback": [
      "\u001b[0;31m---------------------------------------------------------------------------\u001b[0m",
      "\u001b[0;31mValueError\u001b[0m                                Traceback (most recent call last)",
      "File \u001b[0;32m/opt/anaconda3/envs/cryptoadvisor/lib/python3.9/site-packages/IPython/core/formatters.py:922\u001b[0m, in \u001b[0;36mIPythonDisplayFormatter.__call__\u001b[0;34m(self, obj)\u001b[0m\n\u001b[1;32m    920\u001b[0m method \u001b[38;5;241m=\u001b[39m get_real_method(obj, \u001b[38;5;28mself\u001b[39m\u001b[38;5;241m.\u001b[39mprint_method)\n\u001b[1;32m    921\u001b[0m \u001b[38;5;28;01mif\u001b[39;00m method \u001b[38;5;129;01mis\u001b[39;00m \u001b[38;5;129;01mnot\u001b[39;00m \u001b[38;5;28;01mNone\u001b[39;00m:\n\u001b[0;32m--> 922\u001b[0m     \u001b[43mmethod\u001b[49m\u001b[43m(\u001b[49m\u001b[43m)\u001b[49m\n\u001b[1;32m    923\u001b[0m     \u001b[38;5;28;01mreturn\u001b[39;00m \u001b[38;5;28;01mTrue\u001b[39;00m\n",
      "File \u001b[0;32m/opt/anaconda3/envs/cryptoadvisor/lib/python3.9/site-packages/plotly/basedatatypes.py:850\u001b[0m, in \u001b[0;36mBaseFigure._ipython_display_\u001b[0;34m(self)\u001b[0m\n\u001b[1;32m    847\u001b[0m \u001b[38;5;28;01mimport\u001b[39;00m\u001b[38;5;250m \u001b[39m\u001b[38;5;21;01mplotly\u001b[39;00m\u001b[38;5;21;01m.\u001b[39;00m\u001b[38;5;21;01mio\u001b[39;00m\u001b[38;5;250m \u001b[39m\u001b[38;5;28;01mas\u001b[39;00m\u001b[38;5;250m \u001b[39m\u001b[38;5;21;01mpio\u001b[39;00m\n\u001b[1;32m    849\u001b[0m \u001b[38;5;28;01mif\u001b[39;00m pio\u001b[38;5;241m.\u001b[39mrenderers\u001b[38;5;241m.\u001b[39mrender_on_display \u001b[38;5;129;01mand\u001b[39;00m pio\u001b[38;5;241m.\u001b[39mrenderers\u001b[38;5;241m.\u001b[39mdefault:\n\u001b[0;32m--> 850\u001b[0m     \u001b[43mpio\u001b[49m\u001b[38;5;241;43m.\u001b[39;49m\u001b[43mshow\u001b[49m\u001b[43m(\u001b[49m\u001b[38;5;28;43mself\u001b[39;49m\u001b[43m)\u001b[49m\n\u001b[1;32m    851\u001b[0m \u001b[38;5;28;01melse\u001b[39;00m:\n\u001b[1;32m    852\u001b[0m     \u001b[38;5;28mprint\u001b[39m(\u001b[38;5;28mrepr\u001b[39m(\u001b[38;5;28mself\u001b[39m))\n",
      "File \u001b[0;32m/opt/anaconda3/envs/cryptoadvisor/lib/python3.9/site-packages/plotly/io/_renderers.py:415\u001b[0m, in \u001b[0;36mshow\u001b[0;34m(fig, renderer, validate, **kwargs)\u001b[0m\n\u001b[1;32m    410\u001b[0m     \u001b[38;5;28;01mraise\u001b[39;00m \u001b[38;5;167;01mValueError\u001b[39;00m(\n\u001b[1;32m    411\u001b[0m         \u001b[38;5;124m\"\u001b[39m\u001b[38;5;124mMime type rendering requires ipython but it is not installed\u001b[39m\u001b[38;5;124m\"\u001b[39m\n\u001b[1;32m    412\u001b[0m     )\n\u001b[1;32m    414\u001b[0m \u001b[38;5;28;01mif\u001b[39;00m \u001b[38;5;129;01mnot\u001b[39;00m nbformat \u001b[38;5;129;01mor\u001b[39;00m Version(nbformat\u001b[38;5;241m.\u001b[39m__version__) \u001b[38;5;241m<\u001b[39m Version(\u001b[38;5;124m\"\u001b[39m\u001b[38;5;124m4.2.0\u001b[39m\u001b[38;5;124m\"\u001b[39m):\n\u001b[0;32m--> 415\u001b[0m     \u001b[38;5;28;01mraise\u001b[39;00m \u001b[38;5;167;01mValueError\u001b[39;00m(\n\u001b[1;32m    416\u001b[0m         \u001b[38;5;124m\"\u001b[39m\u001b[38;5;124mMime type rendering requires nbformat>=4.2.0 but it is not installed\u001b[39m\u001b[38;5;124m\"\u001b[39m\n\u001b[1;32m    417\u001b[0m     )\n\u001b[1;32m    419\u001b[0m display_jupyter_version_warnings()\n\u001b[1;32m    421\u001b[0m ipython_display\u001b[38;5;241m.\u001b[39mdisplay(bundle, raw\u001b[38;5;241m=\u001b[39m\u001b[38;5;28;01mTrue\u001b[39;00m)\n",
      "\u001b[0;31mValueError\u001b[0m: Mime type rendering requires nbformat>=4.2.0 but it is not installed"
     ]
    },
    {
     "data": {
      "application/vnd.plotly.v1+json": {
       "config": {
        "plotlyServerURL": "https://plot.ly"
       },
       "data": [
        {
         "fill": "tozeroy",
         "mode": "lines",
         "name": "Drawdown (%)",
         "type": "scatter",
         "x": [
          "2010-01-31T00:00:00.000000",
          "2010-02-28T00:00:00.000000",
          "2010-03-31T00:00:00.000000",
          "2010-04-30T00:00:00.000000",
          "2010-05-31T00:00:00.000000",
          "2010-06-30T00:00:00.000000",
          "2010-07-31T00:00:00.000000",
          "2010-08-31T00:00:00.000000",
          "2010-09-30T00:00:00.000000",
          "2010-10-31T00:00:00.000000",
          "2010-11-30T00:00:00.000000",
          "2010-12-31T00:00:00.000000",
          "2011-01-31T00:00:00.000000",
          "2011-02-28T00:00:00.000000",
          "2011-03-31T00:00:00.000000",
          "2011-04-30T00:00:00.000000",
          "2011-05-31T00:00:00.000000",
          "2011-06-30T00:00:00.000000",
          "2011-07-31T00:00:00.000000",
          "2011-08-31T00:00:00.000000",
          "2011-09-30T00:00:00.000000",
          "2011-10-31T00:00:00.000000",
          "2011-11-30T00:00:00.000000",
          "2011-12-31T00:00:00.000000",
          "2012-01-31T00:00:00.000000",
          "2012-02-29T00:00:00.000000",
          "2012-03-31T00:00:00.000000",
          "2012-04-30T00:00:00.000000",
          "2012-05-31T00:00:00.000000",
          "2012-06-30T00:00:00.000000",
          "2012-07-31T00:00:00.000000",
          "2012-08-31T00:00:00.000000",
          "2012-09-30T00:00:00.000000",
          "2012-10-31T00:00:00.000000",
          "2012-11-30T00:00:00.000000",
          "2012-12-31T00:00:00.000000",
          "2013-01-31T00:00:00.000000",
          "2013-02-28T00:00:00.000000",
          "2013-03-31T00:00:00.000000",
          "2013-04-30T00:00:00.000000",
          "2013-05-31T00:00:00.000000",
          "2013-06-30T00:00:00.000000",
          "2013-07-31T00:00:00.000000",
          "2013-08-31T00:00:00.000000",
          "2013-09-30T00:00:00.000000",
          "2013-10-31T00:00:00.000000",
          "2013-11-30T00:00:00.000000",
          "2013-12-31T00:00:00.000000",
          "2014-01-31T00:00:00.000000",
          "2014-02-28T00:00:00.000000",
          "2014-03-31T00:00:00.000000",
          "2014-04-30T00:00:00.000000",
          "2014-05-31T00:00:00.000000",
          "2014-06-30T00:00:00.000000",
          "2014-07-31T00:00:00.000000",
          "2014-08-31T00:00:00.000000",
          "2014-09-30T00:00:00.000000",
          "2014-10-31T00:00:00.000000",
          "2014-11-30T00:00:00.000000",
          "2014-12-31T00:00:00.000000",
          "2015-01-31T00:00:00.000000",
          "2015-02-28T00:00:00.000000",
          "2015-03-31T00:00:00.000000",
          "2015-04-30T00:00:00.000000",
          "2015-05-31T00:00:00.000000",
          "2015-06-30T00:00:00.000000",
          "2015-07-31T00:00:00.000000",
          "2015-08-31T00:00:00.000000",
          "2015-09-30T00:00:00.000000",
          "2015-10-31T00:00:00.000000",
          "2015-11-30T00:00:00.000000",
          "2015-12-31T00:00:00.000000",
          "2016-01-31T00:00:00.000000",
          "2016-02-29T00:00:00.000000",
          "2016-03-31T00:00:00.000000",
          "2016-04-30T00:00:00.000000",
          "2016-05-31T00:00:00.000000",
          "2016-06-30T00:00:00.000000",
          "2016-07-31T00:00:00.000000",
          "2016-08-31T00:00:00.000000",
          "2016-09-30T00:00:00.000000",
          "2016-10-31T00:00:00.000000",
          "2016-11-30T00:00:00.000000",
          "2016-12-31T00:00:00.000000",
          "2017-01-31T00:00:00.000000",
          "2017-02-28T00:00:00.000000",
          "2017-03-31T00:00:00.000000",
          "2017-04-30T00:00:00.000000",
          "2017-05-31T00:00:00.000000",
          "2017-06-30T00:00:00.000000",
          "2017-07-31T00:00:00.000000",
          "2017-08-31T00:00:00.000000",
          "2017-09-30T00:00:00.000000",
          "2017-10-31T00:00:00.000000",
          "2017-11-30T00:00:00.000000",
          "2017-12-31T00:00:00.000000",
          "2018-01-31T00:00:00.000000",
          "2018-02-28T00:00:00.000000",
          "2018-03-31T00:00:00.000000",
          "2018-04-30T00:00:00.000000",
          "2018-05-31T00:00:00.000000",
          "2018-06-30T00:00:00.000000",
          "2018-07-31T00:00:00.000000",
          "2018-08-31T00:00:00.000000",
          "2018-09-30T00:00:00.000000",
          "2018-10-31T00:00:00.000000",
          "2018-11-30T00:00:00.000000",
          "2018-12-31T00:00:00.000000",
          "2019-01-31T00:00:00.000000",
          "2019-02-28T00:00:00.000000",
          "2019-03-31T00:00:00.000000",
          "2019-04-30T00:00:00.000000",
          "2019-05-31T00:00:00.000000",
          "2019-06-30T00:00:00.000000",
          "2019-07-31T00:00:00.000000",
          "2019-08-31T00:00:00.000000",
          "2019-09-30T00:00:00.000000",
          "2019-10-31T00:00:00.000000",
          "2019-11-30T00:00:00.000000",
          "2019-12-31T00:00:00.000000",
          "2020-01-31T00:00:00.000000",
          "2020-02-29T00:00:00.000000",
          "2020-03-31T00:00:00.000000",
          "2020-04-30T00:00:00.000000",
          "2020-05-31T00:00:00.000000",
          "2020-06-30T00:00:00.000000",
          "2020-07-31T00:00:00.000000",
          "2020-08-31T00:00:00.000000",
          "2020-09-30T00:00:00.000000",
          "2020-10-31T00:00:00.000000",
          "2020-11-30T00:00:00.000000",
          "2020-12-31T00:00:00.000000",
          "2021-01-31T00:00:00.000000",
          "2021-02-28T00:00:00.000000",
          "2021-03-31T00:00:00.000000",
          "2021-04-30T00:00:00.000000",
          "2021-05-31T00:00:00.000000",
          "2021-06-30T00:00:00.000000",
          "2021-07-31T00:00:00.000000",
          "2021-08-31T00:00:00.000000",
          "2021-09-30T00:00:00.000000",
          "2021-10-31T00:00:00.000000",
          "2021-11-30T00:00:00.000000",
          "2021-12-31T00:00:00.000000",
          "2022-01-31T00:00:00.000000",
          "2022-02-28T00:00:00.000000",
          "2022-03-31T00:00:00.000000",
          "2022-04-30T00:00:00.000000",
          "2022-05-31T00:00:00.000000",
          "2022-06-30T00:00:00.000000",
          "2022-07-31T00:00:00.000000",
          "2022-08-31T00:00:00.000000",
          "2022-09-30T00:00:00.000000",
          "2022-10-31T00:00:00.000000",
          "2022-11-30T00:00:00.000000",
          "2022-12-31T00:00:00.000000",
          "2023-01-31T00:00:00.000000",
          "2023-02-28T00:00:00.000000",
          "2023-03-31T00:00:00.000000",
          "2023-04-30T00:00:00.000000",
          "2023-05-31T00:00:00.000000",
          "2023-06-30T00:00:00.000000",
          "2023-07-31T00:00:00.000000",
          "2023-08-31T00:00:00.000000",
          "2023-09-30T00:00:00.000000",
          "2023-10-31T00:00:00.000000",
          "2023-11-30T00:00:00.000000",
          "2023-12-31T00:00:00.000000",
          "2024-01-31T00:00:00.000000",
          "2024-02-29T00:00:00.000000",
          "2024-03-31T00:00:00.000000",
          "2024-04-30T00:00:00.000000",
          "2024-05-31T00:00:00.000000",
          "2024-06-30T00:00:00.000000",
          "2024-07-31T00:00:00.000000",
          "2024-08-31T00:00:00.000000",
          "2024-09-30T00:00:00.000000",
          "2024-10-31T00:00:00.000000",
          "2024-11-30T00:00:00.000000",
          "2024-12-31T00:00:00.000000",
          "2025-01-31T00:00:00.000000",
          "2025-02-28T00:00:00.000000",
          "2025-03-31T00:00:00.000000",
          "2025-04-30T00:00:00.000000",
          "2025-05-31T00:00:00.000000",
          "2025-06-30T00:00:00.000000",
          "2025-07-31T00:00:00.000000",
          "2025-08-31T00:00:00.000000"
         ],
         "y": {
          "bdata": "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",
          "dtype": "f8"
         }
        },
        {
         "hoverinfo": "text",
         "hovertext": [
          "Peak<br>Date: 2012-09-30",
          "Trough<br>Date: 2013-06-30<br>Max Drawdown: -39.19%",
          "Recovery<br>Date: 2014-06-30<br>Drawdown Period: 1y 9m"
         ],
         "marker": {
          "size": 10
         },
         "mode": "markers+text",
         "name": "Drawdown Points",
         "text": [
          "Peak",
          "Trough",
          "Recovery"
         ],
         "textposition": "top center",
         "type": "scatter",
         "x": [
          "2012-09-30T00:00:00",
          "2013-06-30T00:00:00",
          "2014-06-30T00:00:00"
         ],
         "y": [
          0,
          -39.18805644421298,
          0
         ]
        }
       ],
       "layout": {
        "hovermode": "x unified",
        "template": {
         "data": {
          "bar": [
           {
            "error_x": {
             "color": "#2a3f5f"
            },
            "error_y": {
             "color": "#2a3f5f"
            },
            "marker": {
             "line": {
              "color": "white",
              "width": 0.5
             },
             "pattern": {
              "fillmode": "overlay",
              "size": 10,
              "solidity": 0.2
             }
            },
            "type": "bar"
           }
          ],
          "barpolar": [
           {
            "marker": {
             "line": {
              "color": "white",
              "width": 0.5
             },
             "pattern": {
              "fillmode": "overlay",
              "size": 10,
              "solidity": 0.2
             }
            },
            "type": "barpolar"
           }
          ],
          "carpet": [
           {
            "aaxis": {
             "endlinecolor": "#2a3f5f",
             "gridcolor": "#C8D4E3",
             "linecolor": "#C8D4E3",
             "minorgridcolor": "#C8D4E3",
             "startlinecolor": "#2a3f5f"
            },
            "baxis": {
             "endlinecolor": "#2a3f5f",
             "gridcolor": "#C8D4E3",
             "linecolor": "#C8D4E3",
             "minorgridcolor": "#C8D4E3",
             "startlinecolor": "#2a3f5f"
            },
            "type": "carpet"
           }
          ],
          "choropleth": [
           {
            "colorbar": {
             "outlinewidth": 0,
             "ticks": ""
            },
            "type": "choropleth"
           }
          ],
          "contour": [
           {
            "colorbar": {
             "outlinewidth": 0,
             "ticks": ""
            },
            "colorscale": [
             [
              0,
              "#0d0887"
             ],
             [
              0.1111111111111111,
              "#46039f"
             ],
             [
              0.2222222222222222,
              "#7201a8"
             ],
             [
              0.3333333333333333,
              "#9c179e"
             ],
             [
              0.4444444444444444,
              "#bd3786"
             ],
             [
              0.5555555555555556,
              "#d8576b"
             ],
             [
              0.6666666666666666,
              "#ed7953"
             ],
             [
              0.7777777777777778,
              "#fb9f3a"
             ],
             [
              0.8888888888888888,
              "#fdca26"
             ],
             [
              1,
              "#f0f921"
             ]
            ],
            "type": "contour"
           }
          ],
          "contourcarpet": [
           {
            "colorbar": {
             "outlinewidth": 0,
             "ticks": ""
            },
            "type": "contourcarpet"
           }
          ],
          "heatmap": [
           {
            "colorbar": {
             "outlinewidth": 0,
             "ticks": ""
            },
            "colorscale": [
             [
              0,
              "#0d0887"
             ],
             [
              0.1111111111111111,
              "#46039f"
             ],
             [
              0.2222222222222222,
              "#7201a8"
             ],
             [
              0.3333333333333333,
              "#9c179e"
             ],
             [
              0.4444444444444444,
              "#bd3786"
             ],
             [
              0.5555555555555556,
              "#d8576b"
             ],
             [
              0.6666666666666666,
              "#ed7953"
             ],
             [
              0.7777777777777778,
              "#fb9f3a"
             ],
             [
              0.8888888888888888,
              "#fdca26"
             ],
             [
              1,
              "#f0f921"
             ]
            ],
            "type": "heatmap"
           }
          ],
          "histogram": [
           {
            "marker": {
             "pattern": {
              "fillmode": "overlay",
              "size": 10,
              "solidity": 0.2
             }
            },
            "type": "histogram"
           }
          ],
          "histogram2d": [
           {
            "colorbar": {
             "outlinewidth": 0,
             "ticks": ""
            },
            "colorscale": [
             [
              0,
              "#0d0887"
             ],
             [
              0.1111111111111111,
              "#46039f"
             ],
             [
              0.2222222222222222,
              "#7201a8"
             ],
             [
              0.3333333333333333,
              "#9c179e"
             ],
             [
              0.4444444444444444,
              "#bd3786"
             ],
             [
              0.5555555555555556,
              "#d8576b"
             ],
             [
              0.6666666666666666,
              "#ed7953"
             ],
             [
              0.7777777777777778,
              "#fb9f3a"
             ],
             [
              0.8888888888888888,
              "#fdca26"
             ],
             [
              1,
              "#f0f921"
             ]
            ],
            "type": "histogram2d"
           }
          ],
          "histogram2dcontour": [
           {
            "colorbar": {
             "outlinewidth": 0,
             "ticks": ""
            },
            "colorscale": [
             [
              0,
              "#0d0887"
             ],
             [
              0.1111111111111111,
              "#46039f"
             ],
             [
              0.2222222222222222,
              "#7201a8"
             ],
             [
              0.3333333333333333,
              "#9c179e"
             ],
             [
              0.4444444444444444,
              "#bd3786"
             ],
             [
              0.5555555555555556,
              "#d8576b"
             ],
             [
              0.6666666666666666,
              "#ed7953"
             ],
             [
              0.7777777777777778,
              "#fb9f3a"
             ],
             [
              0.8888888888888888,
              "#fdca26"
             ],
             [
              1,
              "#f0f921"
             ]
            ],
            "type": "histogram2dcontour"
           }
          ],
          "mesh3d": [
           {
            "colorbar": {
             "outlinewidth": 0,
             "ticks": ""
            },
            "type": "mesh3d"
           }
          ],
          "parcoords": [
           {
            "line": {
             "colorbar": {
              "outlinewidth": 0,
              "ticks": ""
             }
            },
            "type": "parcoords"
           }
          ],
          "pie": [
           {
            "automargin": true,
            "type": "pie"
           }
          ],
          "scatter": [
           {
            "fillpattern": {
             "fillmode": "overlay",
             "size": 10,
             "solidity": 0.2
            },
            "type": "scatter"
           }
          ],
          "scatter3d": [
           {
            "line": {
             "colorbar": {
              "outlinewidth": 0,
              "ticks": ""
             }
            },
            "marker": {
             "colorbar": {
              "outlinewidth": 0,
              "ticks": ""
             }
            },
            "type": "scatter3d"
           }
          ],
          "scattercarpet": [
           {
            "marker": {
             "colorbar": {
              "outlinewidth": 0,
              "ticks": ""
             }
            },
            "type": "scattercarpet"
           }
          ],
          "scattergeo": [
           {
            "marker": {
             "colorbar": {
              "outlinewidth": 0,
              "ticks": ""
             }
            },
            "type": "scattergeo"
           }
          ],
          "scattergl": [
           {
            "marker": {
             "colorbar": {
              "outlinewidth": 0,
              "ticks": ""
             }
            },
            "type": "scattergl"
           }
          ],
          "scattermap": [
           {
            "marker": {
             "colorbar": {
              "outlinewidth": 0,
              "ticks": ""
             }
            },
            "type": "scattermap"
           }
          ],
          "scattermapbox": [
           {
            "marker": {
             "colorbar": {
              "outlinewidth": 0,
              "ticks": ""
             }
            },
            "type": "scattermapbox"
           }
          ],
          "scatterpolar": [
           {
            "marker": {
             "colorbar": {
              "outlinewidth": 0,
              "ticks": ""
             }
            },
            "type": "scatterpolar"
           }
          ],
          "scatterpolargl": [
           {
            "marker": {
             "colorbar": {
              "outlinewidth": 0,
              "ticks": ""
             }
            },
            "type": "scatterpolargl"
           }
          ],
          "scatterternary": [
           {
            "marker": {
             "colorbar": {
              "outlinewidth": 0,
              "ticks": ""
             }
            },
            "type": "scatterternary"
           }
          ],
          "surface": [
           {
            "colorbar": {
             "outlinewidth": 0,
             "ticks": ""
            },
            "colorscale": [
             [
              0,
              "#0d0887"
             ],
             [
              0.1111111111111111,
              "#46039f"
             ],
             [
              0.2222222222222222,
              "#7201a8"
             ],
             [
              0.3333333333333333,
              "#9c179e"
             ],
             [
              0.4444444444444444,
              "#bd3786"
             ],
             [
              0.5555555555555556,
              "#d8576b"
             ],
             [
              0.6666666666666666,
              "#ed7953"
             ],
             [
              0.7777777777777778,
              "#fb9f3a"
             ],
             [
              0.8888888888888888,
              "#fdca26"
             ],
             [
              1,
              "#f0f921"
             ]
            ],
            "type": "surface"
           }
          ],
          "table": [
           {
            "cells": {
             "fill": {
              "color": "#EBF0F8"
             },
             "line": {
              "color": "white"
             }
            },
            "header": {
             "fill": {
              "color": "#C8D4E3"
             },
             "line": {
              "color": "white"
             }
            },
            "type": "table"
           }
          ]
         },
         "layout": {
          "annotationdefaults": {
           "arrowcolor": "#2a3f5f",
           "arrowhead": 0,
           "arrowwidth": 1
          },
          "autotypenumbers": "strict",
          "coloraxis": {
           "colorbar": {
            "outlinewidth": 0,
            "ticks": ""
           }
          },
          "colorscale": {
           "diverging": [
            [
             0,
             "#8e0152"
            ],
            [
             0.1,
             "#c51b7d"
            ],
            [
             0.2,
             "#de77ae"
            ],
            [
             0.3,
             "#f1b6da"
            ],
            [
             0.4,
             "#fde0ef"
            ],
            [
             0.5,
             "#f7f7f7"
            ],
            [
             0.6,
             "#e6f5d0"
            ],
            [
             0.7,
             "#b8e186"
            ],
            [
             0.8,
             "#7fbc41"
            ],
            [
             0.9,
             "#4d9221"
            ],
            [
             1,
             "#276419"
            ]
           ],
           "sequential": [
            [
             0,
             "#0d0887"
            ],
            [
             0.1111111111111111,
             "#46039f"
            ],
            [
             0.2222222222222222,
             "#7201a8"
            ],
            [
             0.3333333333333333,
             "#9c179e"
            ],
            [
             0.4444444444444444,
             "#bd3786"
            ],
            [
             0.5555555555555556,
             "#d8576b"
            ],
            [
             0.6666666666666666,
             "#ed7953"
            ],
            [
             0.7777777777777778,
             "#fb9f3a"
            ],
            [
             0.8888888888888888,
             "#fdca26"
            ],
            [
             1,
             "#f0f921"
            ]
           ],
           "sequentialminus": [
            [
             0,
             "#0d0887"
            ],
            [
             0.1111111111111111,
             "#46039f"
            ],
            [
             0.2222222222222222,
             "#7201a8"
            ],
            [
             0.3333333333333333,
             "#9c179e"
            ],
            [
             0.4444444444444444,
             "#bd3786"
            ],
            [
             0.5555555555555556,
             "#d8576b"
            ],
            [
             0.6666666666666666,
             "#ed7953"
            ],
            [
             0.7777777777777778,
             "#fb9f3a"
            ],
            [
             0.8888888888888888,
             "#fdca26"
            ],
            [
             1,
             "#f0f921"
            ]
           ]
          },
          "colorway": [
           "#636efa",
           "#EF553B",
           "#00cc96",
           "#ab63fa",
           "#FFA15A",
           "#19d3f3",
           "#FF6692",
           "#B6E880",
           "#FF97FF",
           "#FECB52"
          ],
          "font": {
           "color": "#2a3f5f"
          },
          "geo": {
           "bgcolor": "white",
           "lakecolor": "white",
           "landcolor": "white",
           "showlakes": true,
           "showland": true,
           "subunitcolor": "#C8D4E3"
          },
          "hoverlabel": {
           "align": "left"
          },
          "hovermode": "closest",
          "mapbox": {
           "style": "light"
          },
          "paper_bgcolor": "white",
          "plot_bgcolor": "white",
          "polar": {
           "angularaxis": {
            "gridcolor": "#EBF0F8",
            "linecolor": "#EBF0F8",
            "ticks": ""
           },
           "bgcolor": "white",
           "radialaxis": {
            "gridcolor": "#EBF0F8",
            "linecolor": "#EBF0F8",
            "ticks": ""
           }
          },
          "scene": {
           "xaxis": {
            "backgroundcolor": "white",
            "gridcolor": "#DFE8F3",
            "gridwidth": 2,
            "linecolor": "#EBF0F8",
            "showbackground": true,
            "ticks": "",
            "zerolinecolor": "#EBF0F8"
           },
           "yaxis": {
            "backgroundcolor": "white",
            "gridcolor": "#DFE8F3",
            "gridwidth": 2,
            "linecolor": "#EBF0F8",
            "showbackground": true,
            "ticks": "",
            "zerolinecolor": "#EBF0F8"
           },
           "zaxis": {
            "backgroundcolor": "white",
            "gridcolor": "#DFE8F3",
            "gridwidth": 2,
            "linecolor": "#EBF0F8",
            "showbackground": true,
            "ticks": "",
            "zerolinecolor": "#EBF0F8"
           }
          },
          "shapedefaults": {
           "line": {
            "color": "#2a3f5f"
           }
          },
          "ternary": {
           "aaxis": {
            "gridcolor": "#DFE8F3",
            "linecolor": "#A2B1C6",
            "ticks": ""
           },
           "baxis": {
            "gridcolor": "#DFE8F3",
            "linecolor": "#A2B1C6",
            "ticks": ""
           },
           "bgcolor": "white",
           "caxis": {
            "gridcolor": "#DFE8F3",
            "linecolor": "#A2B1C6",
            "ticks": ""
           }
          },
          "title": {
           "x": 0.05
          },
          "xaxis": {
           "automargin": true,
           "gridcolor": "#EBF0F8",
           "linecolor": "#EBF0F8",
           "ticks": "",
           "title": {
            "standoff": 15
           },
           "zerolinecolor": "#EBF0F8",
           "zerolinewidth": 2
          },
          "yaxis": {
           "automargin": true,
           "gridcolor": "#EBF0F8",
           "linecolor": "#EBF0F8",
           "ticks": "",
           "title": {
            "standoff": 15
           },
           "zerolinecolor": "#EBF0F8",
           "zerolinewidth": 2
          }
         }
        },
        "title": {
         "text": "AAPL — Max Drawdown & Duration (Monthly)"
        },
        "xaxis": {
         "title": {
          "text": "Date"
         }
        },
        "yaxis": {
         "title": {
          "text": "Drawdown (%)"
         }
        }
       }
      },
      "text/html": [
       "<div>                        <script type=\"text/javascript\">window.PlotlyConfig = {MathJaxConfig: 'local'};</script>\n",
       "        <script charset=\"utf-8\" src=\"https://cdn.plot.ly/plotly-3.1.0.min.js\" integrity=\"sha256-Ei4740bWZhaUTQuD6q9yQlgVCMPBz6CZWhevDYPv93A=\" crossorigin=\"anonymous\"></script>                <div id=\"8bf4cc5c-16dc-4a9c-8689-b89a5e058ca8\" class=\"plotly-graph-div\" style=\"height:100%; width:100%;\"></div>            <script type=\"text/javascript\">                window.PLOTLYENV=window.PLOTLYENV || {};                                if (document.getElementById(\"8bf4cc5c-16dc-4a9c-8689-b89a5e058ca8\")) {                    Plotly.newPlot(                        \"8bf4cc5c-16dc-4a9c-8689-b89a5e058ca8\",                        [{\"fill\":\"tozeroy\",\"mode\":\"lines\",\"name\":\"Drawdown (%)\",\"x\":[\"2010-01-31T00:00:00.000000\",\"2010-02-28T00:00:00.000000\",\"2010-03-31T00:00:00.000000\",\"2010-04-30T00:00:00.000000\",\"2010-05-31T00:00:00.000000\",\"2010-06-30T00:00:00.000000\",\"2010-07-31T00:00:00.000000\",\"2010-08-31T00:00:00.000000\",\"2010-09-30T00:00:00.000000\",\"2010-10-31T00:00:00.000000\",\"2010-11-30T00:00:00.000000\",\"2010-12-31T00:00:00.000000\",\"2011-01-31T00:00:00.000000\",\"2011-02-28T00:00:00.000000\",\"2011-03-31T00:00:00.000000\",\"2011-04-30T00:00:00.000000\",\"2011-05-31T00:00:00.000000\",\"2011-06-30T00:00:00.000000\",\"2011-07-31T00:00:00.000000\",\"2011-08-31T00:00:00.000000\",\"2011-09-30T00:00:00.000000\",\"2011-10-31T00:00:00.000000\",\"2011-11-30T00:00:00.000000\",\"2011-12-31T00:00:00.000000\",\"2012-01-31T00:00:00.000000\",\"2012-02-29T00:00:00.000000\",\"2012-03-31T00:00:00.000000\",\"2012-04-30T00:00:00.000000\",\"2012-05-31T00:00:00.000000\",\"2012-06-30T00:00:00.000000\",\"2012-07-31T00:00:00.000000\",\"2012-08-31T00:00:00.000000\",\"2012-09-30T00:00:00.000000\",\"2012-10-31T00:00:00.000000\",\"2012-11-30T00:00:00.000000\",\"2012-12-31T00:00:00.000000\",\"2013-01-31T00:00:00.000000\",\"2013-02-28T00:00:00.000000\",\"2013-03-31T00:00:00.000000\",\"2013-04-30T00:00:00.000000\",\"2013-05-31T00:00:00.000000\",\"2013-06-30T00:00:00.000000\",\"2013-07-31T00:00:00.000000\",\"2013-08-31T00:00:00.000000\",\"2013-09-30T00:00:00.000000\",\"2013-10-31T00:00:00.000000\",\"2013-11-30T00:00:00.000000\",\"2013-12-31T00:00:00.000000\",\"2014-01-31T00:00:00.000000\",\"2014-02-28T00:00:00.000000\",\"2014-03-31T00:00:00.000000\",\"2014-04-30T00:00:00.000000\",\"2014-05-31T00:00:00.000000\",\"2014-06-30T00:00:00.000000\",\"2014-07-31T00:00:00.000000\",\"2014-08-31T00:00:00.000000\",\"2014-09-30T00:00:00.000000\",\"2014-10-31T00:00:00.000000\",\"2014-11-30T00:00:00.000000\",\"2014-12-31T00:00:00.000000\",\"2015-01-31T00:00:00.000000\",\"2015-02-28T00:00:00.000000\",\"2015-03-31T00:00:00.000000\",\"2015-04-30T00:00:00.000000\",\"2015-05-31T00:00:00.000000\",\"2015-06-30T00:00:00.000000\",\"2015-07-31T00:00:00.000000\",\"2015-08-31T00:00:00.000000\",\"2015-09-30T00:00:00.000000\",\"2015-10-31T00:00:00.000000\",\"2015-11-30T00:00:00.000000\",\"2015-12-31T00:00:00.000000\",\"2016-01-31T00:00:00.000000\",\"2016-02-29T00:00:00.000000\",\"2016-03-31T00:00:00.000000\",\"2016-04-30T00:00:00.000000\",\"2016-05-31T00:00:00.000000\",\"2016-06-30T00:00:00.000000\",\"2016-07-31T00:00:00.000000\",\"2016-08-31T00:00:00.000000\",\"2016-09-30T00:00:00.000000\",\"2016-10-31T00:00:00.000000\",\"2016-11-30T00:00:00.000000\",\"2016-12-31T00:00:00.000000\",\"2017-01-31T00:00:00.000000\",\"2017-02-28T00:00:00.000000\",\"2017-03-31T00:00:00.000000\",\"2017-04-30T00:00:00.000000\",\"2017-05-31T00:00:00.000000\",\"2017-06-30T00:00:00.000000\",\"2017-07-31T00:00:00.000000\",\"2017-08-31T00:00:00.000000\",\"2017-09-30T00:00:00.000000\",\"2017-10-31T00:00:00.000000\",\"2017-11-30T00:00:00.000000\",\"2017-12-31T00:00:00.000000\",\"2018-01-31T00:00:00.000000\",\"2018-02-28T00:00:00.000000\",\"2018-03-31T00:00:00.000000\",\"2018-04-30T00:00:00.000000\",\"2018-05-31T00:00:00.000000\",\"2018-06-30T00:00:00.000000\",\"2018-07-31T00:00:00.000000\",\"2018-08-31T00:00:00.000000\",\"2018-09-30T00:00:00.000000\",\"2018-10-31T00:00:00.000000\",\"2018-11-30T00:00:00.000000\",\"2018-12-31T00:00:00.000000\",\"2019-01-31T00:00:00.000000\",\"2019-02-28T00:00:00.000000\",\"2019-03-31T00:00:00.000000\",\"2019-04-30T00:00:00.000000\",\"2019-05-31T00:00:00.000000\",\"2019-06-30T00:00:00.000000\",\"2019-07-31T00:00:00.000000\",\"2019-08-31T00:00:00.000000\",\"2019-09-30T00:00:00.000000\",\"2019-10-31T00:00:00.000000\",\"2019-11-30T00:00:00.000000\",\"2019-12-31T00:00:00.000000\",\"2020-01-31T00:00:00.000000\",\"2020-02-29T00:00:00.000000\",\"2020-03-31T00:00:00.000000\",\"2020-04-30T00:00:00.000000\",\"2020-05-31T00:00:00.000000\",\"2020-06-30T00:00:00.000000\",\"2020-07-31T00:00:00.000000\",\"2020-08-31T00:00:00.000000\",\"2020-09-30T00:00:00.000000\",\"2020-10-31T00:00:00.000000\",\"2020-11-30T00:00:00.000000\",\"2020-12-31T00:00:00.000000\",\"2021-01-31T00:00:00.000000\",\"2021-02-28T00:00:00.000000\",\"2021-03-31T00:00:00.000000\",\"2021-04-30T00:00:00.000000\",\"2021-05-31T00:00:00.000000\",\"2021-06-30T00:00:00.000000\",\"2021-07-31T00:00:00.000000\",\"2021-08-31T00:00:00.000000\",\"2021-09-30T00:00:00.000000\",\"2021-10-31T00:00:00.000000\",\"2021-11-30T00:00:00.000000\",\"2021-12-31T00:00:00.000000\",\"2022-01-31T00:00:00.000000\",\"2022-02-28T00:00:00.000000\",\"2022-03-31T00:00:00.000000\",\"2022-04-30T00:00:00.000000\",\"2022-05-31T00:00:00.000000\",\"2022-06-30T00:00:00.000000\",\"2022-07-31T00:00:00.000000\",\"2022-08-31T00:00:00.000000\",\"2022-09-30T00:00:00.000000\",\"2022-10-31T00:00:00.000000\",\"2022-11-30T00:00:00.000000\",\"2022-12-31T00:00:00.000000\",\"2023-01-31T00:00:00.000000\",\"2023-02-28T00:00:00.000000\",\"2023-03-31T00:00:00.000000\",\"2023-04-30T00:00:00.000000\",\"2023-05-31T00:00:00.000000\",\"2023-06-30T00:00:00.000000\",\"2023-07-31T00:00:00.000000\",\"2023-08-31T00:00:00.000000\",\"2023-09-30T00:00:00.000000\",\"2023-10-31T00:00:00.000000\",\"2023-11-30T00:00:00.000000\",\"2023-12-31T00:00:00.000000\",\"2024-01-31T00:00:00.000000\",\"2024-02-29T00:00:00.000000\",\"2024-03-31T00:00:00.000000\",\"2024-04-30T00:00:00.000000\",\"2024-05-31T00:00:00.000000\",\"2024-06-30T00:00:00.000000\",\"2024-07-31T00:00:00.000000\",\"2024-08-31T00:00:00.000000\",\"2024-09-30T00:00:00.000000\",\"2024-10-31T00:00:00.000000\",\"2024-11-30T00:00:00.000000\",\"2024-12-31T00:00:00.000000\",\"2025-01-31T00:00:00.000000\",\"2025-02-28T00:00:00.000000\",\"2025-03-31T00:00:00.000000\",\"2025-04-30T00:00:00.000000\",\"2025-05-31T00:00:00.000000\",\"2025-06-30T00:00:00.000000\",\"2025-07-31T00:00:00.000000\",\"2025-08-31T00:00:00.000000\"],\"y\":{\"dtype\":\"f8\",\"bdata\":\"AAAAAAAAAAAAAAAAAAAAAAAAAAAAAAAAAAAAAAAAAAA2Ftbq\\u002fuj5vzvJYMkKTw3AWuOQ4XWQ97+uq9HmjJAbwAAAAAAAAAAAAAAAAAAAAAAAAAAAAAAAAAAAAAAAAAAAAAAAAAAAAAAAAAAAAAAAAIbQuzRZhvW\\u002fbCSTHdcl7L+KD0lQX0v4v4igbPZm4BPAAAAAAAAAAADSdgmBlBf3v+ECfduO2wLAAAAAAAAAAAC2hWBJPksWwAAAAAAAAAAAAAAAAAAAAAAAAAAAAAAAAAAAAAAAAAAA0Gp4RqjBBMABeZkigSYNwGzjvUdOtgTAAAAAAAAAAAAAAAAAAAAAAAAAAAAAAAAAmj2yRyGCJcDQzfXBY7UnwHxNxn923TPA44W1cA1pP8DwoZ+YCJJAwBTHLFFaekDANDux\\u002fIJ4QMB9ejapIW4\\u002fwDHZyjsSmEPA7i417S8BP8BN\\u002f3lQ1Mo4wIiApMPgZzrAJ03YTv9OM8Bauab5908swMTZ1zu6zirACwNgz3i5NsDiwBxFfkUywKjhDkiOpzDADPhLFhi6IMC+66St407yvwAAAAAAAAAAAAAAAAAAAAAAAAAAAAAAABylRUl8J\\u002fu\\u002fAAAAAAAAAAAAAAAAAAAAAFhu34vCxBzApnoFCwzn978AAAAAAAAAAEMJse6OEQnA\\u002f5QrLI2VBMAAAAAAAAAAAJ4YAhiSsQ3A0MfFEa+HG8DWT773ihYqwL0kU30P2i3ASLdwhD5WH8BFz7vY27sgwHJMw4EXdjLAuuFFgbCdOMBkVI7ys7U4wHTl5Z7TQS7AjTDMatsBO8BTW2wm0sM1wOTR7bcsGTnAjpZHtMhZMsDPJiSyAGowwL5G0tOO6iXAdoV1B\\u002fcjJcCyPF2inv4owGvSUtatmSDAkRtNnqJQD8AAAAAAAAAAAAAAAAAAAAAAAEpG295Sd78AAAAAAAAAABgbsZ\\u002ft1hbAbSTu29scBcAAAAAAAAAAAIDyJ4\\u002fSGBjAAAAAAAAAAAAAAAAAAAAAAA51Rv0JU\\u002fi\\u002ftsVbiC9\\u002fBMAAAAAAAAAAAHKcIa0EOxfA0MHPtnvnHMAAAAAAAAAAAHy9R8gq\\u002f+2\\u002fAAAAAAAAAAAAAAAAAAAAAAALbeSMdOq\\u002fBgRbIaDJDsBSe8kOTEY1wGvJWS5PdT7A\\u002fMk21VKfOsAcnqATJlY3wJYFG7pHzy\\u002fANa\\u002fukx1QJsCsD2vpXTA2wBwYJCRpEyjAfl1TUk9EFcBurQXpinkbwOApOdi63bS\\u002fAAAAAAAAAAAAAAAAAAAAAAAAAAAAAAAAAAAAAAAAAAD7iSX\\u002ffvMmwIVC+dYQpzHA4s\\u002fgUMdrE8AAAAAAAAAAAAAAAAAAAAAAAAAAAAAAAAAAAAAAAAAAAChnrR2BhSTARh999NFHL8Cgg9iP3VIewAAAAAAAAAAArNnck1XA4b\\u002fCql7eDvggwJBOpdXTPB\\u002fAyOLFr9YI6b\\u002fsQWkkcSwXwAAAAAAAAAAAAAAAAAAAAAAAAAAAAAAAAKr5bCY+PxvAUhsUJ3p89b8AAAAAAAAAAAAAAAAAAAAAtlveQrgj+b+p1zwu8I8bwG4skINdrvi\\u002f2Ma2raY0JsCFtzBbhuUvwMMXJWXdyjbAyU5Ohbt0IMD+5UPBXi8mwBppneNC2TXAax1qDwqTKsC6\\u002fgEYsSYwwEanWpUtZzrA2ioUlt5EMsCPgt7u5l8wwIrBYHV4zhnAPfxo+BLuDcAAAAAAAAAAAAAAAAAAAAAAAAAAAAAAAABgIT1eSvMQwF+hGHacdSnA6jiH+8HoKcA79dzGW2cIwLZ27ngTuvu\\u002fmQViJG2IF8BWompskIMewAz\\u002fqZA4uyjA9FjJYTvoKcCEmV5g+eL5vwAAAAAAAAAAAAAAAAAAAAAAAAAAAAAAAAAAAAAAAAAA\\u002fhqc24ZXCMAAAAAAAAAAAAAAAAAAAAAAumc\\u002fXXUIF8Bxdvgkg48KwPmPDG0lZibAWSyZGjoZLsB8VK\\u002fI4bQzwKSmfDjF+jHAKg1EIScFMcDWb7QKpB4cwA==\"},\"type\":\"scatter\"},{\"hoverinfo\":\"text\",\"hovertext\":[\"Peak\\u003cbr\\u003eDate: 2012-09-30\",\"Trough\\u003cbr\\u003eDate: 2013-06-30\\u003cbr\\u003eMax Drawdown: -39.19%\",\"Recovery\\u003cbr\\u003eDate: 2014-06-30\\u003cbr\\u003eDrawdown Period: 1y 9m\"],\"marker\":{\"size\":10},\"mode\":\"markers+text\",\"name\":\"Drawdown Points\",\"text\":[\"Peak\",\"Trough\",\"Recovery\"],\"textposition\":\"top center\",\"x\":[\"2012-09-30T00:00:00\",\"2013-06-30T00:00:00\",\"2014-06-30T00:00:00\"],\"y\":[0.0,-39.18805644421298,0.0],\"type\":\"scatter\"}],                        {\"template\":{\"data\":{\"barpolar\":[{\"marker\":{\"line\":{\"color\":\"white\",\"width\":0.5},\"pattern\":{\"fillmode\":\"overlay\",\"size\":10,\"solidity\":0.2}},\"type\":\"barpolar\"}],\"bar\":[{\"error_x\":{\"color\":\"#2a3f5f\"},\"error_y\":{\"color\":\"#2a3f5f\"},\"marker\":{\"line\":{\"color\":\"white\",\"width\":0.5},\"pattern\":{\"fillmode\":\"overlay\",\"size\":10,\"solidity\":0.2}},\"type\":\"bar\"}],\"carpet\":[{\"aaxis\":{\"endlinecolor\":\"#2a3f5f\",\"gridcolor\":\"#C8D4E3\",\"linecolor\":\"#C8D4E3\",\"minorgridcolor\":\"#C8D4E3\",\"startlinecolor\":\"#2a3f5f\"},\"baxis\":{\"endlinecolor\":\"#2a3f5f\",\"gridcolor\":\"#C8D4E3\",\"linecolor\":\"#C8D4E3\",\"minorgridcolor\":\"#C8D4E3\",\"startlinecolor\":\"#2a3f5f\"},\"type\":\"carpet\"}],\"choropleth\":[{\"colorbar\":{\"outlinewidth\":0,\"ticks\":\"\"},\"type\":\"choropleth\"}],\"contourcarpet\":[{\"colorbar\":{\"outlinewidth\":0,\"ticks\":\"\"},\"type\":\"contourcarpet\"}],\"contour\":[{\"colorbar\":{\"outlinewidth\":0,\"ticks\":\"\"},\"colorscale\":[[0.0,\"#0d0887\"],[0.1111111111111111,\"#46039f\"],[0.2222222222222222,\"#7201a8\"],[0.3333333333333333,\"#9c179e\"],[0.4444444444444444,\"#bd3786\"],[0.5555555555555556,\"#d8576b\"],[0.6666666666666666,\"#ed7953\"],[0.7777777777777778,\"#fb9f3a\"],[0.8888888888888888,\"#fdca26\"],[1.0,\"#f0f921\"]],\"type\":\"contour\"}],\"heatmap\":[{\"colorbar\":{\"outlinewidth\":0,\"ticks\":\"\"},\"colorscale\":[[0.0,\"#0d0887\"],[0.1111111111111111,\"#46039f\"],[0.2222222222222222,\"#7201a8\"],[0.3333333333333333,\"#9c179e\"],[0.4444444444444444,\"#bd3786\"],[0.5555555555555556,\"#d8576b\"],[0.6666666666666666,\"#ed7953\"],[0.7777777777777778,\"#fb9f3a\"],[0.8888888888888888,\"#fdca26\"],[1.0,\"#f0f921\"]],\"type\":\"heatmap\"}],\"histogram2dcontour\":[{\"colorbar\":{\"outlinewidth\":0,\"ticks\":\"\"},\"colorscale\":[[0.0,\"#0d0887\"],[0.1111111111111111,\"#46039f\"],[0.2222222222222222,\"#7201a8\"],[0.3333333333333333,\"#9c179e\"],[0.4444444444444444,\"#bd3786\"],[0.5555555555555556,\"#d8576b\"],[0.6666666666666666,\"#ed7953\"],[0.7777777777777778,\"#fb9f3a\"],[0.8888888888888888,\"#fdca26\"],[1.0,\"#f0f921\"]],\"type\":\"histogram2dcontour\"}],\"histogram2d\":[{\"colorbar\":{\"outlinewidth\":0,\"ticks\":\"\"},\"colorscale\":[[0.0,\"#0d0887\"],[0.1111111111111111,\"#46039f\"],[0.2222222222222222,\"#7201a8\"],[0.3333333333333333,\"#9c179e\"],[0.4444444444444444,\"#bd3786\"],[0.5555555555555556,\"#d8576b\"],[0.6666666666666666,\"#ed7953\"],[0.7777777777777778,\"#fb9f3a\"],[0.8888888888888888,\"#fdca26\"],[1.0,\"#f0f921\"]],\"type\":\"histogram2d\"}],\"histogram\":[{\"marker\":{\"pattern\":{\"fillmode\":\"overlay\",\"size\":10,\"solidity\":0.2}},\"type\":\"histogram\"}],\"mesh3d\":[{\"colorbar\":{\"outlinewidth\":0,\"ticks\":\"\"},\"type\":\"mesh3d\"}],\"parcoords\":[{\"line\":{\"colorbar\":{\"outlinewidth\":0,\"ticks\":\"\"}},\"type\":\"parcoords\"}],\"pie\":[{\"automargin\":true,\"type\":\"pie\"}],\"scatter3d\":[{\"line\":{\"colorbar\":{\"outlinewidth\":0,\"ticks\":\"\"}},\"marker\":{\"colorbar\":{\"outlinewidth\":0,\"ticks\":\"\"}},\"type\":\"scatter3d\"}],\"scattercarpet\":[{\"marker\":{\"colorbar\":{\"outlinewidth\":0,\"ticks\":\"\"}},\"type\":\"scattercarpet\"}],\"scattergeo\":[{\"marker\":{\"colorbar\":{\"outlinewidth\":0,\"ticks\":\"\"}},\"type\":\"scattergeo\"}],\"scattergl\":[{\"marker\":{\"colorbar\":{\"outlinewidth\":0,\"ticks\":\"\"}},\"type\":\"scattergl\"}],\"scattermapbox\":[{\"marker\":{\"colorbar\":{\"outlinewidth\":0,\"ticks\":\"\"}},\"type\":\"scattermapbox\"}],\"scattermap\":[{\"marker\":{\"colorbar\":{\"outlinewidth\":0,\"ticks\":\"\"}},\"type\":\"scattermap\"}],\"scatterpolargl\":[{\"marker\":{\"colorbar\":{\"outlinewidth\":0,\"ticks\":\"\"}},\"type\":\"scatterpolargl\"}],\"scatterpolar\":[{\"marker\":{\"colorbar\":{\"outlinewidth\":0,\"ticks\":\"\"}},\"type\":\"scatterpolar\"}],\"scatter\":[{\"fillpattern\":{\"fillmode\":\"overlay\",\"size\":10,\"solidity\":0.2},\"type\":\"scatter\"}],\"scatterternary\":[{\"marker\":{\"colorbar\":{\"outlinewidth\":0,\"ticks\":\"\"}},\"type\":\"scatterternary\"}],\"surface\":[{\"colorbar\":{\"outlinewidth\":0,\"ticks\":\"\"},\"colorscale\":[[0.0,\"#0d0887\"],[0.1111111111111111,\"#46039f\"],[0.2222222222222222,\"#7201a8\"],[0.3333333333333333,\"#9c179e\"],[0.4444444444444444,\"#bd3786\"],[0.5555555555555556,\"#d8576b\"],[0.6666666666666666,\"#ed7953\"],[0.7777777777777778,\"#fb9f3a\"],[0.8888888888888888,\"#fdca26\"],[1.0,\"#f0f921\"]],\"type\":\"surface\"}],\"table\":[{\"cells\":{\"fill\":{\"color\":\"#EBF0F8\"},\"line\":{\"color\":\"white\"}},\"header\":{\"fill\":{\"color\":\"#C8D4E3\"},\"line\":{\"color\":\"white\"}},\"type\":\"table\"}]},\"layout\":{\"annotationdefaults\":{\"arrowcolor\":\"#2a3f5f\",\"arrowhead\":0,\"arrowwidth\":1},\"autotypenumbers\":\"strict\",\"coloraxis\":{\"colorbar\":{\"outlinewidth\":0,\"ticks\":\"\"}},\"colorscale\":{\"diverging\":[[0,\"#8e0152\"],[0.1,\"#c51b7d\"],[0.2,\"#de77ae\"],[0.3,\"#f1b6da\"],[0.4,\"#fde0ef\"],[0.5,\"#f7f7f7\"],[0.6,\"#e6f5d0\"],[0.7,\"#b8e186\"],[0.8,\"#7fbc41\"],[0.9,\"#4d9221\"],[1,\"#276419\"]],\"sequential\":[[0.0,\"#0d0887\"],[0.1111111111111111,\"#46039f\"],[0.2222222222222222,\"#7201a8\"],[0.3333333333333333,\"#9c179e\"],[0.4444444444444444,\"#bd3786\"],[0.5555555555555556,\"#d8576b\"],[0.6666666666666666,\"#ed7953\"],[0.7777777777777778,\"#fb9f3a\"],[0.8888888888888888,\"#fdca26\"],[1.0,\"#f0f921\"]],\"sequentialminus\":[[0.0,\"#0d0887\"],[0.1111111111111111,\"#46039f\"],[0.2222222222222222,\"#7201a8\"],[0.3333333333333333,\"#9c179e\"],[0.4444444444444444,\"#bd3786\"],[0.5555555555555556,\"#d8576b\"],[0.6666666666666666,\"#ed7953\"],[0.7777777777777778,\"#fb9f3a\"],[0.8888888888888888,\"#fdca26\"],[1.0,\"#f0f921\"]]},\"colorway\":[\"#636efa\",\"#EF553B\",\"#00cc96\",\"#ab63fa\",\"#FFA15A\",\"#19d3f3\",\"#FF6692\",\"#B6E880\",\"#FF97FF\",\"#FECB52\"],\"font\":{\"color\":\"#2a3f5f\"},\"geo\":{\"bgcolor\":\"white\",\"lakecolor\":\"white\",\"landcolor\":\"white\",\"showlakes\":true,\"showland\":true,\"subunitcolor\":\"#C8D4E3\"},\"hoverlabel\":{\"align\":\"left\"},\"hovermode\":\"closest\",\"mapbox\":{\"style\":\"light\"},\"paper_bgcolor\":\"white\",\"plot_bgcolor\":\"white\",\"polar\":{\"angularaxis\":{\"gridcolor\":\"#EBF0F8\",\"linecolor\":\"#EBF0F8\",\"ticks\":\"\"},\"bgcolor\":\"white\",\"radialaxis\":{\"gridcolor\":\"#EBF0F8\",\"linecolor\":\"#EBF0F8\",\"ticks\":\"\"}},\"scene\":{\"xaxis\":{\"backgroundcolor\":\"white\",\"gridcolor\":\"#DFE8F3\",\"gridwidth\":2,\"linecolor\":\"#EBF0F8\",\"showbackground\":true,\"ticks\":\"\",\"zerolinecolor\":\"#EBF0F8\"},\"yaxis\":{\"backgroundcolor\":\"white\",\"gridcolor\":\"#DFE8F3\",\"gridwidth\":2,\"linecolor\":\"#EBF0F8\",\"showbackground\":true,\"ticks\":\"\",\"zerolinecolor\":\"#EBF0F8\"},\"zaxis\":{\"backgroundcolor\":\"white\",\"gridcolor\":\"#DFE8F3\",\"gridwidth\":2,\"linecolor\":\"#EBF0F8\",\"showbackground\":true,\"ticks\":\"\",\"zerolinecolor\":\"#EBF0F8\"}},\"shapedefaults\":{\"line\":{\"color\":\"#2a3f5f\"}},\"ternary\":{\"aaxis\":{\"gridcolor\":\"#DFE8F3\",\"linecolor\":\"#A2B1C6\",\"ticks\":\"\"},\"baxis\":{\"gridcolor\":\"#DFE8F3\",\"linecolor\":\"#A2B1C6\",\"ticks\":\"\"},\"bgcolor\":\"white\",\"caxis\":{\"gridcolor\":\"#DFE8F3\",\"linecolor\":\"#A2B1C6\",\"ticks\":\"\"}},\"title\":{\"x\":0.05},\"xaxis\":{\"automargin\":true,\"gridcolor\":\"#EBF0F8\",\"linecolor\":\"#EBF0F8\",\"ticks\":\"\",\"title\":{\"standoff\":15},\"zerolinecolor\":\"#EBF0F8\",\"zerolinewidth\":2},\"yaxis\":{\"automargin\":true,\"gridcolor\":\"#EBF0F8\",\"linecolor\":\"#EBF0F8\",\"ticks\":\"\",\"title\":{\"standoff\":15},\"zerolinecolor\":\"#EBF0F8\",\"zerolinewidth\":2}}},\"title\":{\"text\":\"AAPL \\u2014 Max Drawdown & Duration (Monthly)\"},\"xaxis\":{\"title\":{\"text\":\"Date\"}},\"yaxis\":{\"title\":{\"text\":\"Drawdown (%)\"}},\"hovermode\":\"x unified\"},                        {\"responsive\": true}                    )                };            </script>        </div>"
      ],
      "text/plain": [
       "Figure({\n",
       "    'data': [{'fill': 'tozeroy',\n",
       "              'mode': 'lines',\n",
       "              'name': 'Drawdown (%)',\n",
       "              'type': 'scatter',\n",
       "              'x': array(['2010-01-31T00:00:00.000000', '2010-02-28T00:00:00.000000',\n",
       "                          '2010-03-31T00:00:00.000000', '2010-04-30T00:00:00.000000',\n",
       "                          '2010-05-31T00:00:00.000000', '2010-06-30T00:00:00.000000',\n",
       "                          '2010-07-31T00:00:00.000000', '2010-08-31T00:00:00.000000',\n",
       "                          '2010-09-30T00:00:00.000000', '2010-10-31T00:00:00.000000',\n",
       "                          '2010-11-30T00:00:00.000000', '2010-12-31T00:00:00.000000',\n",
       "                          '2011-01-31T00:00:00.000000', '2011-02-28T00:00:00.000000',\n",
       "                          '2011-03-31T00:00:00.000000', '2011-04-30T00:00:00.000000',\n",
       "                          '2011-05-31T00:00:00.000000', '2011-06-30T00:00:00.000000',\n",
       "                          '2011-07-31T00:00:00.000000', '2011-08-31T00:00:00.000000',\n",
       "                          '2011-09-30T00:00:00.000000', '2011-10-31T00:00:00.000000',\n",
       "                          '2011-11-30T00:00:00.000000', '2011-12-31T00:00:00.000000',\n",
       "                          '2012-01-31T00:00:00.000000', '2012-02-29T00:00:00.000000',\n",
       "                          '2012-03-31T00:00:00.000000', '2012-04-30T00:00:00.000000',\n",
       "                          '2012-05-31T00:00:00.000000', '2012-06-30T00:00:00.000000',\n",
       "                          '2012-07-31T00:00:00.000000', '2012-08-31T00:00:00.000000',\n",
       "                          '2012-09-30T00:00:00.000000', '2012-10-31T00:00:00.000000',\n",
       "                          '2012-11-30T00:00:00.000000', '2012-12-31T00:00:00.000000',\n",
       "                          '2013-01-31T00:00:00.000000', '2013-02-28T00:00:00.000000',\n",
       "                          '2013-03-31T00:00:00.000000', '2013-04-30T00:00:00.000000',\n",
       "                          '2013-05-31T00:00:00.000000', '2013-06-30T00:00:00.000000',\n",
       "                          '2013-07-31T00:00:00.000000', '2013-08-31T00:00:00.000000',\n",
       "                          '2013-09-30T00:00:00.000000', '2013-10-31T00:00:00.000000',\n",
       "                          '2013-11-30T00:00:00.000000', '2013-12-31T00:00:00.000000',\n",
       "                          '2014-01-31T00:00:00.000000', '2014-02-28T00:00:00.000000',\n",
       "                          '2014-03-31T00:00:00.000000', '2014-04-30T00:00:00.000000',\n",
       "                          '2014-05-31T00:00:00.000000', '2014-06-30T00:00:00.000000',\n",
       "                          '2014-07-31T00:00:00.000000', '2014-08-31T00:00:00.000000',\n",
       "                          '2014-09-30T00:00:00.000000', '2014-10-31T00:00:00.000000',\n",
       "                          '2014-11-30T00:00:00.000000', '2014-12-31T00:00:00.000000',\n",
       "                          '2015-01-31T00:00:00.000000', '2015-02-28T00:00:00.000000',\n",
       "                          '2015-03-31T00:00:00.000000', '2015-04-30T00:00:00.000000',\n",
       "                          '2015-05-31T00:00:00.000000', '2015-06-30T00:00:00.000000',\n",
       "                          '2015-07-31T00:00:00.000000', '2015-08-31T00:00:00.000000',\n",
       "                          '2015-09-30T00:00:00.000000', '2015-10-31T00:00:00.000000',\n",
       "                          '2015-11-30T00:00:00.000000', '2015-12-31T00:00:00.000000',\n",
       "                          '2016-01-31T00:00:00.000000', '2016-02-29T00:00:00.000000',\n",
       "                          '2016-03-31T00:00:00.000000', '2016-04-30T00:00:00.000000',\n",
       "                          '2016-05-31T00:00:00.000000', '2016-06-30T00:00:00.000000',\n",
       "                          '2016-07-31T00:00:00.000000', '2016-08-31T00:00:00.000000',\n",
       "                          '2016-09-30T00:00:00.000000', '2016-10-31T00:00:00.000000',\n",
       "                          '2016-11-30T00:00:00.000000', '2016-12-31T00:00:00.000000',\n",
       "                          '2017-01-31T00:00:00.000000', '2017-02-28T00:00:00.000000',\n",
       "                          '2017-03-31T00:00:00.000000', '2017-04-30T00:00:00.000000',\n",
       "                          '2017-05-31T00:00:00.000000', '2017-06-30T00:00:00.000000',\n",
       "                          '2017-07-31T00:00:00.000000', '2017-08-31T00:00:00.000000',\n",
       "                          '2017-09-30T00:00:00.000000', '2017-10-31T00:00:00.000000',\n",
       "                          '2017-11-30T00:00:00.000000', '2017-12-31T00:00:00.000000',\n",
       "                          '2018-01-31T00:00:00.000000', '2018-02-28T00:00:00.000000',\n",
       "                          '2018-03-31T00:00:00.000000', '2018-04-30T00:00:00.000000',\n",
       "                          '2018-05-31T00:00:00.000000', '2018-06-30T00:00:00.000000',\n",
       "                          '2018-07-31T00:00:00.000000', '2018-08-31T00:00:00.000000',\n",
       "                          '2018-09-30T00:00:00.000000', '2018-10-31T00:00:00.000000',\n",
       "                          '2018-11-30T00:00:00.000000', '2018-12-31T00:00:00.000000',\n",
       "                          '2019-01-31T00:00:00.000000', '2019-02-28T00:00:00.000000',\n",
       "                          '2019-03-31T00:00:00.000000', '2019-04-30T00:00:00.000000',\n",
       "                          '2019-05-31T00:00:00.000000', '2019-06-30T00:00:00.000000',\n",
       "                          '2019-07-31T00:00:00.000000', '2019-08-31T00:00:00.000000',\n",
       "                          '2019-09-30T00:00:00.000000', '2019-10-31T00:00:00.000000',\n",
       "                          '2019-11-30T00:00:00.000000', '2019-12-31T00:00:00.000000',\n",
       "                          '2020-01-31T00:00:00.000000', '2020-02-29T00:00:00.000000',\n",
       "                          '2020-03-31T00:00:00.000000', '2020-04-30T00:00:00.000000',\n",
       "                          '2020-05-31T00:00:00.000000', '2020-06-30T00:00:00.000000',\n",
       "                          '2020-07-31T00:00:00.000000', '2020-08-31T00:00:00.000000',\n",
       "                          '2020-09-30T00:00:00.000000', '2020-10-31T00:00:00.000000',\n",
       "                          '2020-11-30T00:00:00.000000', '2020-12-31T00:00:00.000000',\n",
       "                          '2021-01-31T00:00:00.000000', '2021-02-28T00:00:00.000000',\n",
       "                          '2021-03-31T00:00:00.000000', '2021-04-30T00:00:00.000000',\n",
       "                          '2021-05-31T00:00:00.000000', '2021-06-30T00:00:00.000000',\n",
       "                          '2021-07-31T00:00:00.000000', '2021-08-31T00:00:00.000000',\n",
       "                          '2021-09-30T00:00:00.000000', '2021-10-31T00:00:00.000000',\n",
       "                          '2021-11-30T00:00:00.000000', '2021-12-31T00:00:00.000000',\n",
       "                          '2022-01-31T00:00:00.000000', '2022-02-28T00:00:00.000000',\n",
       "                          '2022-03-31T00:00:00.000000', '2022-04-30T00:00:00.000000',\n",
       "                          '2022-05-31T00:00:00.000000', '2022-06-30T00:00:00.000000',\n",
       "                          '2022-07-31T00:00:00.000000', '2022-08-31T00:00:00.000000',\n",
       "                          '2022-09-30T00:00:00.000000', '2022-10-31T00:00:00.000000',\n",
       "                          '2022-11-30T00:00:00.000000', '2022-12-31T00:00:00.000000',\n",
       "                          '2023-01-31T00:00:00.000000', '2023-02-28T00:00:00.000000',\n",
       "                          '2023-03-31T00:00:00.000000', '2023-04-30T00:00:00.000000',\n",
       "                          '2023-05-31T00:00:00.000000', '2023-06-30T00:00:00.000000',\n",
       "                          '2023-07-31T00:00:00.000000', '2023-08-31T00:00:00.000000',\n",
       "                          '2023-09-30T00:00:00.000000', '2023-10-31T00:00:00.000000',\n",
       "                          '2023-11-30T00:00:00.000000', '2023-12-31T00:00:00.000000',\n",
       "                          '2024-01-31T00:00:00.000000', '2024-02-29T00:00:00.000000',\n",
       "                          '2024-03-31T00:00:00.000000', '2024-04-30T00:00:00.000000',\n",
       "                          '2024-05-31T00:00:00.000000', '2024-06-30T00:00:00.000000',\n",
       "                          '2024-07-31T00:00:00.000000', '2024-08-31T00:00:00.000000',\n",
       "                          '2024-09-30T00:00:00.000000', '2024-10-31T00:00:00.000000',\n",
       "                          '2024-11-30T00:00:00.000000', '2024-12-31T00:00:00.000000',\n",
       "                          '2025-01-31T00:00:00.000000', '2025-02-28T00:00:00.000000',\n",
       "                          '2025-03-31T00:00:00.000000', '2025-04-30T00:00:00.000000',\n",
       "                          '2025-05-31T00:00:00.000000', '2025-06-30T00:00:00.000000',\n",
       "                          '2025-07-31T00:00:00.000000', '2025-08-31T00:00:00.000000'],\n",
       "                         dtype='datetime64[us]'),\n",
       "              'y': {'bdata': ('AAAAAAAAAAAAAAAAAAAAAAAAAAAAAA' ... 'jF+jHAKg1EIScFMcDWb7QKpB4cwA=='),\n",
       "                    'dtype': 'f8'}},\n",
       "             {'hoverinfo': 'text',\n",
       "              'hovertext': [Peak<br>Date: 2012-09-30, Trough<br>Date:\n",
       "                            2013-06-30<br>Max Drawdown: -39.19%, Recovery<br>Date:\n",
       "                            2014-06-30<br>Drawdown Period: 1y 9m],\n",
       "              'marker': {'size': 10},\n",
       "              'mode': 'markers+text',\n",
       "              'name': 'Drawdown Points',\n",
       "              'text': [Peak, Trough, Recovery],\n",
       "              'textposition': 'top center',\n",
       "              'type': 'scatter',\n",
       "              'x': [2012-09-30 00:00:00, 2013-06-30 00:00:00, 2014-06-30 00:00:00],\n",
       "              'y': [0.0, -39.18805644421298, 0.0]}],\n",
       "    'layout': {'hovermode': 'x unified',\n",
       "               'template': '...',\n",
       "               'title': {'text': 'AAPL — Max Drawdown & Duration (Monthly)'},\n",
       "               'xaxis': {'title': {'text': 'Date'}},\n",
       "               'yaxis': {'title': {'text': 'Drawdown (%)'}}}\n",
       "})"
      ]
     },
     "execution_count": 2,
     "metadata": {},
     "output_type": "execute_result"
    }
   ],
   "source": [
    "fig"
   ]
  },
  {
   "cell_type": "code",
   "execution_count": 3,
   "id": "d141889b",
   "metadata": {},
   "outputs": [
    {
     "data": {
      "text/plain": [
       "'Between **2012-09-30** and **2014-06-30**, AAPL experienced a maximum drawdown of **-39.19%**. The drawdown lasted **1 years 9 months** until recovery.'"
      ]
     },
     "execution_count": 3,
     "metadata": {},
     "output_type": "execute_result"
    }
   ],
   "source": [
    "ex"
   ]
  },
  {
   "cell_type": "code",
   "execution_count": 1,
   "id": "e0208f63",
   "metadata": {},
   "outputs": [
    {
     "name": "stderr",
     "output_type": "stream",
     "text": [
      "/Users/oluwadolaposalako/CryptoAdvisor/helpers/indicators.py:494: FutureWarning: 'M' is deprecated and will be removed in a future version, please use 'ME' instead.\n",
      "  monthly_close = df[\"close\"].resample(\"M\").last().dropna()\n"
     ]
    },
    {
     "data": {
      "text/plain": [
       "({'cagr_pct': 26.0,\n",
       "  'vol_ann_pct': np.float64(26.53),\n",
       "  'downside_dev_ann_pct': np.float64(14.66),\n",
       "  'max_dd_pct': 39.19,\n",
       "  'sharpe': 0.9,\n",
       "  'sortino': 1.64,\n",
       "  'calmar': 0.66},\n",
       " 'Computed from monthly closes (price-only) from 2010-01-31 to 2025-07-31. Sharpe = (CAGR − rf) / σ; Sortino = (CAGR − rf) / σ_down; Calmar = CAGR / |MaxDD|. rf assumed 2.0%/yr. CAGR 26.0%, Vol 26.53%, Downside Dev 14.66%, Max DD 39.19%.')"
      ]
     },
     "execution_count": 1,
     "metadata": {},
     "output_type": "execute_result"
    }
   ],
   "source": [
    "from helpers import indicators\n",
    "indicators.compute_sharpe_sortino_calmar(db_path=\"data/market/market.duckdb\", symbol=\"AAPL\")"
   ]
  },
  {
   "cell_type": "code",
   "execution_count": 24,
   "id": "9dff366c",
   "metadata": {},
   "outputs": [
    {
     "name": "stderr",
     "output_type": "stream",
     "text": [
      "/Users/oluwadolaposalako/CryptoAdvisor/helpers/indicators.py:585: FutureWarning:\n",
      "\n",
      "'M' is deprecated and will be removed in a future version, please use 'ME' instead.\n",
      "\n"
     ]
    }
   ],
   "source": [
    "from helpers import indicators\n",
    "fig, note = indicators.plot_return_distribution(db_path=\"data/market/market.duckdb\", symbol=\"NFLX\", bins=90)"
   ]
  },
  {
   "cell_type": "code",
   "execution_count": 28,
   "id": "880dd013",
   "metadata": {},
   "outputs": [
    {
     "ename": "ValueError",
     "evalue": "Mime type rendering requires nbformat>=4.2.0 but it is not installed",
     "output_type": "error",
     "traceback": [
      "\u001b[0;31m---------------------------------------------------------------------------\u001b[0m",
      "\u001b[0;31mValueError\u001b[0m                                Traceback (most recent call last)",
      "File \u001b[0;32m/opt/anaconda3/envs/cryptoadvisor/lib/python3.9/site-packages/IPython/core/formatters.py:922\u001b[0m, in \u001b[0;36mIPythonDisplayFormatter.__call__\u001b[0;34m(self, obj)\u001b[0m\n\u001b[1;32m    920\u001b[0m method \u001b[38;5;241m=\u001b[39m get_real_method(obj, \u001b[38;5;28mself\u001b[39m\u001b[38;5;241m.\u001b[39mprint_method)\n\u001b[1;32m    921\u001b[0m \u001b[38;5;28;01mif\u001b[39;00m method \u001b[38;5;129;01mis\u001b[39;00m \u001b[38;5;129;01mnot\u001b[39;00m \u001b[38;5;28;01mNone\u001b[39;00m:\n\u001b[0;32m--> 922\u001b[0m     \u001b[43mmethod\u001b[49m\u001b[43m(\u001b[49m\u001b[43m)\u001b[49m\n\u001b[1;32m    923\u001b[0m     \u001b[38;5;28;01mreturn\u001b[39;00m \u001b[38;5;28;01mTrue\u001b[39;00m\n",
      "File \u001b[0;32m/opt/anaconda3/envs/cryptoadvisor/lib/python3.9/site-packages/plotly/basedatatypes.py:850\u001b[0m, in \u001b[0;36mBaseFigure._ipython_display_\u001b[0;34m(self)\u001b[0m\n\u001b[1;32m    847\u001b[0m \u001b[38;5;28;01mimport\u001b[39;00m\u001b[38;5;250m \u001b[39m\u001b[38;5;21;01mplotly\u001b[39;00m\u001b[38;5;21;01m.\u001b[39;00m\u001b[38;5;21;01mio\u001b[39;00m\u001b[38;5;250m \u001b[39m\u001b[38;5;28;01mas\u001b[39;00m\u001b[38;5;250m \u001b[39m\u001b[38;5;21;01mpio\u001b[39;00m\n\u001b[1;32m    849\u001b[0m \u001b[38;5;28;01mif\u001b[39;00m pio\u001b[38;5;241m.\u001b[39mrenderers\u001b[38;5;241m.\u001b[39mrender_on_display \u001b[38;5;129;01mand\u001b[39;00m pio\u001b[38;5;241m.\u001b[39mrenderers\u001b[38;5;241m.\u001b[39mdefault:\n\u001b[0;32m--> 850\u001b[0m     \u001b[43mpio\u001b[49m\u001b[38;5;241;43m.\u001b[39;49m\u001b[43mshow\u001b[49m\u001b[43m(\u001b[49m\u001b[38;5;28;43mself\u001b[39;49m\u001b[43m)\u001b[49m\n\u001b[1;32m    851\u001b[0m \u001b[38;5;28;01melse\u001b[39;00m:\n\u001b[1;32m    852\u001b[0m     \u001b[38;5;28mprint\u001b[39m(\u001b[38;5;28mrepr\u001b[39m(\u001b[38;5;28mself\u001b[39m))\n",
      "File \u001b[0;32m/opt/anaconda3/envs/cryptoadvisor/lib/python3.9/site-packages/plotly/io/_renderers.py:415\u001b[0m, in \u001b[0;36mshow\u001b[0;34m(fig, renderer, validate, **kwargs)\u001b[0m\n\u001b[1;32m    410\u001b[0m     \u001b[38;5;28;01mraise\u001b[39;00m \u001b[38;5;167;01mValueError\u001b[39;00m(\n\u001b[1;32m    411\u001b[0m         \u001b[38;5;124m\"\u001b[39m\u001b[38;5;124mMime type rendering requires ipython but it is not installed\u001b[39m\u001b[38;5;124m\"\u001b[39m\n\u001b[1;32m    412\u001b[0m     )\n\u001b[1;32m    414\u001b[0m \u001b[38;5;28;01mif\u001b[39;00m \u001b[38;5;129;01mnot\u001b[39;00m nbformat \u001b[38;5;129;01mor\u001b[39;00m Version(nbformat\u001b[38;5;241m.\u001b[39m__version__) \u001b[38;5;241m<\u001b[39m Version(\u001b[38;5;124m\"\u001b[39m\u001b[38;5;124m4.2.0\u001b[39m\u001b[38;5;124m\"\u001b[39m):\n\u001b[0;32m--> 415\u001b[0m     \u001b[38;5;28;01mraise\u001b[39;00m \u001b[38;5;167;01mValueError\u001b[39;00m(\n\u001b[1;32m    416\u001b[0m         \u001b[38;5;124m\"\u001b[39m\u001b[38;5;124mMime type rendering requires nbformat>=4.2.0 but it is not installed\u001b[39m\u001b[38;5;124m\"\u001b[39m\n\u001b[1;32m    417\u001b[0m     )\n\u001b[1;32m    419\u001b[0m display_jupyter_version_warnings()\n\u001b[1;32m    421\u001b[0m ipython_display\u001b[38;5;241m.\u001b[39mdisplay(bundle, raw\u001b[38;5;241m=\u001b[39m\u001b[38;5;28;01mTrue\u001b[39;00m)\n",
      "\u001b[0;31mValueError\u001b[0m: Mime type rendering requires nbformat>=4.2.0 but it is not installed"
     ]
    },
    {
     "data": {
      "application/vnd.plotly.v1+json": {
       "config": {
        "plotlyServerURL": "https://plot.ly"
       },
       "data": [
        {
         "histnorm": "probability density",
         "name": "Monthly Returns",
         "nbinsx": 90,
         "opacity": 0.9,
         "type": "histogram",
         "x": {
          "bdata": "1JMMTzxqGECWRp2TmEcnQGT3KsRUEEFAV6s/JpHFKEDFsE+HUQkCwOqkshFvchbAxadA/lllNkAGqHXN+zE9QNSyGrgKJRxARGJzmryfMkCBO0KRPVUtwHDjkx052DVAYGrpRaCzC8CgcI3KcBwuQJ0PQXcwMQHAx8JvFytjMECviK24ovcHwDx8shTKH/Q/mUqxDJxLJ8BPbQAo2uZJwIvZYjhEiDvAdRoOuxxiNcAMFmwn3oUdQKDrO9mQXVJAGzu227V+H8COvEsoEhoPQIozGk9dVT7Ae2QCvVPXNMA3aeO0ktMfQLiESoQ4/jDAbhz/Uo0xFEDXTBtb064hwIMZ7vkbx0ZAvL9EXG7yCEDugZPKI6AqQDO+11/4nVNAujdVZUClK0CglqDlj13kPyva8PljTixAi29kxpXXEkBw8i2XMcsawHX2/dOvoi9AP+Me490gMEA680TsKdIhQHnFpVQ6KxFAmbTRfjLdKkCwxo/7ScLkP/B97PHuWyZAhi+SbNi7IUAWFz9z4QA1wJoOjemECSHA/14lRnO+PUACjsGvnswVQHLDHdYFOxDAiHuNDUf7KUAAgFPotigWwHVZNWwu5CnApzO86beDJ8AcJLbEEgL3v9VU0B5OVD1AwSbrgT36HUA8/rJtnIQowJyNMoPDxkBA1iBunnxHKECXZMgaLxQVQN4DirxSzTVAII48EN0n5D9oNAOQ13YkwM6CFq5b1RNA4olLw46WK0CLR5eoHgcdwCOQdEzMtDPA3CkPMRda+z8tg+bJbeIiQI0Mpc8k3ifAuu4ZUH3bK0AO1+dHz58lwPB0PdVhytC/f/WtIpM5G0DY04/Nfw/yP1KrQ60OtTpAJJNR49A1GcD5cz/3cz8XQNRDFC15UStA3AtnII0l8D9q9gPUgfgPQCDkvZyewgdACyk2F1ORHEAi9DsX6MAgwEZV2wu8lTVA4XwQ9UubDsDq+GBaGP4NQHxVousGvSBAeq5pSY0FEsCo7b5vFq4CQIOQVUTBZ0RA9tqIdekxH0BARzXoucz1P3Q4eG4pLBdAQg1ovoQNKUAJTkymC6gmQGOsFEG3lCvATGNztq7qIUDYhEfrYBH8P2rrGSSUVjPAwNY7yVu+FMAg/6vIB9IZwOo5dJwL1zpAOSeo7iHqFUCAZNLV5YXbv2LxTbvLXQ9AyOhM/mRtHcDUOs0wGgMcQFQ/4OwRIyjAKls8QxcbIsCnU4BFZ8ohwFGRRABKlB1ABhqeomP2IkBIIFh4LKcGQMX3QdZrmhpAQ2JP/9C/G0B0ZlifSg38P4xj5L4wnydAgAetJIFEnb/6uvrfOdMgQHlXi5swvx1A0FTJBmKkIECoXPjMKE4WwBsKmCVLbhPAjtPZ0BYoCUC2lJrHKmQkQOwEqw2Brfi/oM3IIBJq8z8YXmxeYYUJwL4yh9urHvm/b0mv7sqbAMDvJEE92TQUQLxKybdjHQDAzjo8i3LyI0C4C+jhFOscQGMXDzV/NCpAgN1GLRkNHMDVcIZ36ZYYwCIPbmEsGT3A5Pp24h+MHsA1M1QM8zQUwFWzpU5El0jA4Kb5+Q/BDUCwmBAY1twmwCV0XnQdnDxAXNKI3vUQ47+r2bC/i0EVQIzfCv3d+DdATuAGPNG0EkDYDVLXzuILwMBjBuZYADRAx/TcbQPvIcCFAqLml/4cQDxJYvwBARLAP523kMXKM0BCZ1LaMucmQJgnPZWhFda/kLEzYBBI878MVTNlxdwpwAQNJ3VfDiJA0GoGeHpBLkA+aRQ5WMoFQLgpsIZ1uS9A+abfB/uEG0D4e7CJ9WfnP+/dd0cpqyLAz+MRlciFMEBXOfDoKbwUQDZxd0gHlBvAZiHP+EY8J0DQwdc2aRHyPwm9GCbrXhpAHhOadlpMMUCYnezbKEbgP5AQ8bvrKyNAgDrakA3m2D9xCmtbx5cTwGRe8CU0XDVAWZv8ykawGkAy2KWAB9olQOdEIc3B1yrA",
          "dtype": "f8"
         }
        },
        {
         "mode": "lines",
         "name": "Normal PDF (mean/std-matched)",
         "type": "scatter",
         "x": {
          "bdata": "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",
          "dtype": "f8"
         },
         "y": {
          "bdata": "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",
          "dtype": "f8"
         }
        }
       ],
       "layout": {
        "annotations": [
         {
          "showarrow": false,
          "text": "0%",
          "x": 0,
          "xanchor": "left",
          "xref": "x",
          "y": 1,
          "yanchor": "top",
          "yref": "y domain"
         },
         {
          "showarrow": false,
          "text": "Mean 3.82%",
          "x": 3.819339684066256,
          "xanchor": "left",
          "xref": "x",
          "y": 1,
          "yanchor": "top",
          "yref": "y domain"
         },
         {
          "showarrow": false,
          "text": "5th–95th pct",
          "x": -18.7519109337752,
          "xanchor": "left",
          "xref": "x",
          "y": 1,
          "yanchor": "top",
          "yref": "y domain"
         }
        ],
        "bargap": 0.02,
        "hovermode": "x",
        "shapes": [
         {
          "line": {
           "dash": "dash",
           "width": 1
          },
          "type": "line",
          "x0": 0,
          "x1": 0,
          "xref": "x",
          "y0": 0,
          "y1": 1,
          "yref": "y domain"
         },
         {
          "line": {
           "dash": "dot",
           "width": 1
          },
          "type": "line",
          "x0": 3.819339684066256,
          "x1": 3.819339684066256,
          "xref": "x",
          "y0": 0,
          "y1": 1,
          "yref": "y domain"
         },
         {
          "fillcolor": "LightGray",
          "line": {
           "width": 0
          },
          "opacity": 0.2,
          "type": "rect",
          "x0": -18.7519109337752,
          "x1": 28.167373561276314,
          "xref": "x",
          "y0": 0,
          "y1": 1,
          "yref": "y domain"
         }
        ],
        "template": {
         "data": {
          "bar": [
           {
            "error_x": {
             "color": "#2a3f5f"
            },
            "error_y": {
             "color": "#2a3f5f"
            },
            "marker": {
             "line": {
              "color": "white",
              "width": 0.5
             },
             "pattern": {
              "fillmode": "overlay",
              "size": 10,
              "solidity": 0.2
             }
            },
            "type": "bar"
           }
          ],
          "barpolar": [
           {
            "marker": {
             "line": {
              "color": "white",
              "width": 0.5
             },
             "pattern": {
              "fillmode": "overlay",
              "size": 10,
              "solidity": 0.2
             }
            },
            "type": "barpolar"
           }
          ],
          "carpet": [
           {
            "aaxis": {
             "endlinecolor": "#2a3f5f",
             "gridcolor": "#C8D4E3",
             "linecolor": "#C8D4E3",
             "minorgridcolor": "#C8D4E3",
             "startlinecolor": "#2a3f5f"
            },
            "baxis": {
             "endlinecolor": "#2a3f5f",
             "gridcolor": "#C8D4E3",
             "linecolor": "#C8D4E3",
             "minorgridcolor": "#C8D4E3",
             "startlinecolor": "#2a3f5f"
            },
            "type": "carpet"
           }
          ],
          "choropleth": [
           {
            "colorbar": {
             "outlinewidth": 0,
             "ticks": ""
            },
            "type": "choropleth"
           }
          ],
          "contour": [
           {
            "colorbar": {
             "outlinewidth": 0,
             "ticks": ""
            },
            "colorscale": [
             [
              0,
              "#0d0887"
             ],
             [
              0.1111111111111111,
              "#46039f"
             ],
             [
              0.2222222222222222,
              "#7201a8"
             ],
             [
              0.3333333333333333,
              "#9c179e"
             ],
             [
              0.4444444444444444,
              "#bd3786"
             ],
             [
              0.5555555555555556,
              "#d8576b"
             ],
             [
              0.6666666666666666,
              "#ed7953"
             ],
             [
              0.7777777777777778,
              "#fb9f3a"
             ],
             [
              0.8888888888888888,
              "#fdca26"
             ],
             [
              1,
              "#f0f921"
             ]
            ],
            "type": "contour"
           }
          ],
          "contourcarpet": [
           {
            "colorbar": {
             "outlinewidth": 0,
             "ticks": ""
            },
            "type": "contourcarpet"
           }
          ],
          "heatmap": [
           {
            "colorbar": {
             "outlinewidth": 0,
             "ticks": ""
            },
            "colorscale": [
             [
              0,
              "#0d0887"
             ],
             [
              0.1111111111111111,
              "#46039f"
             ],
             [
              0.2222222222222222,
              "#7201a8"
             ],
             [
              0.3333333333333333,
              "#9c179e"
             ],
             [
              0.4444444444444444,
              "#bd3786"
             ],
             [
              0.5555555555555556,
              "#d8576b"
             ],
             [
              0.6666666666666666,
              "#ed7953"
             ],
             [
              0.7777777777777778,
              "#fb9f3a"
             ],
             [
              0.8888888888888888,
              "#fdca26"
             ],
             [
              1,
              "#f0f921"
             ]
            ],
            "type": "heatmap"
           }
          ],
          "histogram": [
           {
            "marker": {
             "pattern": {
              "fillmode": "overlay",
              "size": 10,
              "solidity": 0.2
             }
            },
            "type": "histogram"
           }
          ],
          "histogram2d": [
           {
            "colorbar": {
             "outlinewidth": 0,
             "ticks": ""
            },
            "colorscale": [
             [
              0,
              "#0d0887"
             ],
             [
              0.1111111111111111,
              "#46039f"
             ],
             [
              0.2222222222222222,
              "#7201a8"
             ],
             [
              0.3333333333333333,
              "#9c179e"
             ],
             [
              0.4444444444444444,
              "#bd3786"
             ],
             [
              0.5555555555555556,
              "#d8576b"
             ],
             [
              0.6666666666666666,
              "#ed7953"
             ],
             [
              0.7777777777777778,
              "#fb9f3a"
             ],
             [
              0.8888888888888888,
              "#fdca26"
             ],
             [
              1,
              "#f0f921"
             ]
            ],
            "type": "histogram2d"
           }
          ],
          "histogram2dcontour": [
           {
            "colorbar": {
             "outlinewidth": 0,
             "ticks": ""
            },
            "colorscale": [
             [
              0,
              "#0d0887"
             ],
             [
              0.1111111111111111,
              "#46039f"
             ],
             [
              0.2222222222222222,
              "#7201a8"
             ],
             [
              0.3333333333333333,
              "#9c179e"
             ],
             [
              0.4444444444444444,
              "#bd3786"
             ],
             [
              0.5555555555555556,
              "#d8576b"
             ],
             [
              0.6666666666666666,
              "#ed7953"
             ],
             [
              0.7777777777777778,
              "#fb9f3a"
             ],
             [
              0.8888888888888888,
              "#fdca26"
             ],
             [
              1,
              "#f0f921"
             ]
            ],
            "type": "histogram2dcontour"
           }
          ],
          "mesh3d": [
           {
            "colorbar": {
             "outlinewidth": 0,
             "ticks": ""
            },
            "type": "mesh3d"
           }
          ],
          "parcoords": [
           {
            "line": {
             "colorbar": {
              "outlinewidth": 0,
              "ticks": ""
             }
            },
            "type": "parcoords"
           }
          ],
          "pie": [
           {
            "automargin": true,
            "type": "pie"
           }
          ],
          "scatter": [
           {
            "fillpattern": {
             "fillmode": "overlay",
             "size": 10,
             "solidity": 0.2
            },
            "type": "scatter"
           }
          ],
          "scatter3d": [
           {
            "line": {
             "colorbar": {
              "outlinewidth": 0,
              "ticks": ""
             }
            },
            "marker": {
             "colorbar": {
              "outlinewidth": 0,
              "ticks": ""
             }
            },
            "type": "scatter3d"
           }
          ],
          "scattercarpet": [
           {
            "marker": {
             "colorbar": {
              "outlinewidth": 0,
              "ticks": ""
             }
            },
            "type": "scattercarpet"
           }
          ],
          "scattergeo": [
           {
            "marker": {
             "colorbar": {
              "outlinewidth": 0,
              "ticks": ""
             }
            },
            "type": "scattergeo"
           }
          ],
          "scattergl": [
           {
            "marker": {
             "colorbar": {
              "outlinewidth": 0,
              "ticks": ""
             }
            },
            "type": "scattergl"
           }
          ],
          "scattermap": [
           {
            "marker": {
             "colorbar": {
              "outlinewidth": 0,
              "ticks": ""
             }
            },
            "type": "scattermap"
           }
          ],
          "scattermapbox": [
           {
            "marker": {
             "colorbar": {
              "outlinewidth": 0,
              "ticks": ""
             }
            },
            "type": "scattermapbox"
           }
          ],
          "scatterpolar": [
           {
            "marker": {
             "colorbar": {
              "outlinewidth": 0,
              "ticks": ""
             }
            },
            "type": "scatterpolar"
           }
          ],
          "scatterpolargl": [
           {
            "marker": {
             "colorbar": {
              "outlinewidth": 0,
              "ticks": ""
             }
            },
            "type": "scatterpolargl"
           }
          ],
          "scatterternary": [
           {
            "marker": {
             "colorbar": {
              "outlinewidth": 0,
              "ticks": ""
             }
            },
            "type": "scatterternary"
           }
          ],
          "surface": [
           {
            "colorbar": {
             "outlinewidth": 0,
             "ticks": ""
            },
            "colorscale": [
             [
              0,
              "#0d0887"
             ],
             [
              0.1111111111111111,
              "#46039f"
             ],
             [
              0.2222222222222222,
              "#7201a8"
             ],
             [
              0.3333333333333333,
              "#9c179e"
             ],
             [
              0.4444444444444444,
              "#bd3786"
             ],
             [
              0.5555555555555556,
              "#d8576b"
             ],
             [
              0.6666666666666666,
              "#ed7953"
             ],
             [
              0.7777777777777778,
              "#fb9f3a"
             ],
             [
              0.8888888888888888,
              "#fdca26"
             ],
             [
              1,
              "#f0f921"
             ]
            ],
            "type": "surface"
           }
          ],
          "table": [
           {
            "cells": {
             "fill": {
              "color": "#EBF0F8"
             },
             "line": {
              "color": "white"
             }
            },
            "header": {
             "fill": {
              "color": "#C8D4E3"
             },
             "line": {
              "color": "white"
             }
            },
            "type": "table"
           }
          ]
         },
         "layout": {
          "annotationdefaults": {
           "arrowcolor": "#2a3f5f",
           "arrowhead": 0,
           "arrowwidth": 1
          },
          "autotypenumbers": "strict",
          "coloraxis": {
           "colorbar": {
            "outlinewidth": 0,
            "ticks": ""
           }
          },
          "colorscale": {
           "diverging": [
            [
             0,
             "#8e0152"
            ],
            [
             0.1,
             "#c51b7d"
            ],
            [
             0.2,
             "#de77ae"
            ],
            [
             0.3,
             "#f1b6da"
            ],
            [
             0.4,
             "#fde0ef"
            ],
            [
             0.5,
             "#f7f7f7"
            ],
            [
             0.6,
             "#e6f5d0"
            ],
            [
             0.7,
             "#b8e186"
            ],
            [
             0.8,
             "#7fbc41"
            ],
            [
             0.9,
             "#4d9221"
            ],
            [
             1,
             "#276419"
            ]
           ],
           "sequential": [
            [
             0,
             "#0d0887"
            ],
            [
             0.1111111111111111,
             "#46039f"
            ],
            [
             0.2222222222222222,
             "#7201a8"
            ],
            [
             0.3333333333333333,
             "#9c179e"
            ],
            [
             0.4444444444444444,
             "#bd3786"
            ],
            [
             0.5555555555555556,
             "#d8576b"
            ],
            [
             0.6666666666666666,
             "#ed7953"
            ],
            [
             0.7777777777777778,
             "#fb9f3a"
            ],
            [
             0.8888888888888888,
             "#fdca26"
            ],
            [
             1,
             "#f0f921"
            ]
           ],
           "sequentialminus": [
            [
             0,
             "#0d0887"
            ],
            [
             0.1111111111111111,
             "#46039f"
            ],
            [
             0.2222222222222222,
             "#7201a8"
            ],
            [
             0.3333333333333333,
             "#9c179e"
            ],
            [
             0.4444444444444444,
             "#bd3786"
            ],
            [
             0.5555555555555556,
             "#d8576b"
            ],
            [
             0.6666666666666666,
             "#ed7953"
            ],
            [
             0.7777777777777778,
             "#fb9f3a"
            ],
            [
             0.8888888888888888,
             "#fdca26"
            ],
            [
             1,
             "#f0f921"
            ]
           ]
          },
          "colorway": [
           "#636efa",
           "#EF553B",
           "#00cc96",
           "#ab63fa",
           "#FFA15A",
           "#19d3f3",
           "#FF6692",
           "#B6E880",
           "#FF97FF",
           "#FECB52"
          ],
          "font": {
           "color": "#2a3f5f"
          },
          "geo": {
           "bgcolor": "white",
           "lakecolor": "white",
           "landcolor": "white",
           "showlakes": true,
           "showland": true,
           "subunitcolor": "#C8D4E3"
          },
          "hoverlabel": {
           "align": "left"
          },
          "hovermode": "closest",
          "mapbox": {
           "style": "light"
          },
          "paper_bgcolor": "white",
          "plot_bgcolor": "white",
          "polar": {
           "angularaxis": {
            "gridcolor": "#EBF0F8",
            "linecolor": "#EBF0F8",
            "ticks": ""
           },
           "bgcolor": "white",
           "radialaxis": {
            "gridcolor": "#EBF0F8",
            "linecolor": "#EBF0F8",
            "ticks": ""
           }
          },
          "scene": {
           "xaxis": {
            "backgroundcolor": "white",
            "gridcolor": "#DFE8F3",
            "gridwidth": 2,
            "linecolor": "#EBF0F8",
            "showbackground": true,
            "ticks": "",
            "zerolinecolor": "#EBF0F8"
           },
           "yaxis": {
            "backgroundcolor": "white",
            "gridcolor": "#DFE8F3",
            "gridwidth": 2,
            "linecolor": "#EBF0F8",
            "showbackground": true,
            "ticks": "",
            "zerolinecolor": "#EBF0F8"
           },
           "zaxis": {
            "backgroundcolor": "white",
            "gridcolor": "#DFE8F3",
            "gridwidth": 2,
            "linecolor": "#EBF0F8",
            "showbackground": true,
            "ticks": "",
            "zerolinecolor": "#EBF0F8"
           }
          },
          "shapedefaults": {
           "line": {
            "color": "#2a3f5f"
           }
          },
          "ternary": {
           "aaxis": {
            "gridcolor": "#DFE8F3",
            "linecolor": "#A2B1C6",
            "ticks": ""
           },
           "baxis": {
            "gridcolor": "#DFE8F3",
            "linecolor": "#A2B1C6",
            "ticks": ""
           },
           "bgcolor": "white",
           "caxis": {
            "gridcolor": "#DFE8F3",
            "linecolor": "#A2B1C6",
            "ticks": ""
           }
          },
          "title": {
           "x": 0.05
          },
          "xaxis": {
           "automargin": true,
           "gridcolor": "#EBF0F8",
           "linecolor": "#EBF0F8",
           "ticks": "",
           "title": {
            "standoff": 15
           },
           "zerolinecolor": "#EBF0F8",
           "zerolinewidth": 2
          },
          "yaxis": {
           "automargin": true,
           "gridcolor": "#EBF0F8",
           "linecolor": "#EBF0F8",
           "ticks": "",
           "title": {
            "standoff": 15
           },
           "zerolinecolor": "#EBF0F8",
           "zerolinewidth": 2
          }
         }
        },
        "title": {
         "text": "NFLX — Monthly Return Distribution"
        },
        "xaxis": {
         "title": {
          "text": "Monthly return (%)"
         }
        },
        "yaxis": {
         "title": {
          "text": "Density"
         }
        }
       }
      },
      "text/html": [
       "<div>                        <script type=\"text/javascript\">window.PlotlyConfig = {MathJaxConfig: 'local'};</script>\n",
       "        <script charset=\"utf-8\" src=\"https://cdn.plot.ly/plotly-3.1.0.min.js\" integrity=\"sha256-Ei4740bWZhaUTQuD6q9yQlgVCMPBz6CZWhevDYPv93A=\" crossorigin=\"anonymous\"></script>                <div id=\"21329bc2-83de-48d4-90a8-a76af818a766\" class=\"plotly-graph-div\" style=\"height:100%; width:100%;\"></div>            <script type=\"text/javascript\">                window.PLOTLYENV=window.PLOTLYENV || {};                                if (document.getElementById(\"21329bc2-83de-48d4-90a8-a76af818a766\")) {                    Plotly.newPlot(                        \"21329bc2-83de-48d4-90a8-a76af818a766\",                        [{\"histnorm\":\"probability density\",\"name\":\"Monthly Returns\",\"nbinsx\":90,\"opacity\":0.9,\"x\":{\"dtype\":\"f8\",\"bdata\":\"1JMMTzxqGECWRp2TmEcnQGT3KsRUEEFAV6s\\u002fJpHFKEDFsE+HUQkCwOqkshFvchbAxadA\\u002flllNkAGqHXN+zE9QNSyGrgKJRxARGJzmryfMkCBO0KRPVUtwHDjkx052DVAYGrpRaCzC8CgcI3KcBwuQJ0PQXcwMQHAx8JvFytjMECviK24ovcHwDx8shTKH\\u002fQ\\u002fmUqxDJxLJ8BPbQAo2uZJwIvZYjhEiDvAdRoOuxxiNcAMFmwn3oUdQKDrO9mQXVJAGzu227V+H8COvEsoEhoPQIozGk9dVT7Ae2QCvVPXNMA3aeO0ktMfQLiESoQ4\\u002fjDAbhz\\u002fUo0xFEDXTBtb064hwIMZ7vkbx0ZAvL9EXG7yCEDugZPKI6AqQDO+11\\u002f4nVNAujdVZUClK0CglqDlj13kPyva8PljTixAi29kxpXXEkBw8i2XMcsawHX2\\u002fdOvoi9AP+Me490gMEA680TsKdIhQHnFpVQ6KxFAmbTRfjLdKkCwxo\\u002f7ScLkP\\u002fB97PHuWyZAhi+SbNi7IUAWFz9z4QA1wJoOjemECSHA\\u002f14lRnO+PUACjsGvnswVQHLDHdYFOxDAiHuNDUf7KUAAgFPotigWwHVZNWwu5CnApzO86beDJ8AcJLbEEgL3v9VU0B5OVD1AwSbrgT36HUA8\\u002frJtnIQowJyNMoPDxkBA1iBunnxHKECXZMgaLxQVQN4DirxSzTVAII48EN0n5D9oNAOQ13YkwM6CFq5b1RNA4olLw46WK0CLR5eoHgcdwCOQdEzMtDPA3CkPMRda+z8tg+bJbeIiQI0Mpc8k3ifAuu4ZUH3bK0AO1+dHz58lwPB0PdVhytC\\u002ff\\u002fWtIpM5G0DY04\\u002fNfw\\u002fyP1KrQ60OtTpAJJNR49A1GcD5cz\\u002f3cz8XQNRDFC15UStA3AtnII0l8D9q9gPUgfgPQCDkvZyewgdACyk2F1ORHEAi9DsX6MAgwEZV2wu8lTVA4XwQ9UubDsDq+GBaGP4NQHxVousGvSBAeq5pSY0FEsCo7b5vFq4CQIOQVUTBZ0RA9tqIdekxH0BARzXoucz1P3Q4eG4pLBdAQg1ovoQNKUAJTkymC6gmQGOsFEG3lCvATGNztq7qIUDYhEfrYBH8P2rrGSSUVjPAwNY7yVu+FMAg\\u002f6vIB9IZwOo5dJwL1zpAOSeo7iHqFUCAZNLV5YXbv2LxTbvLXQ9AyOhM\\u002fmRtHcDUOs0wGgMcQFQ\\u002f4OwRIyjAKls8QxcbIsCnU4BFZ8ohwFGRRABKlB1ABhqeomP2IkBIIFh4LKcGQMX3QdZrmhpAQ2JP\\u002f9C\\u002fG0B0ZlifSg38P4xj5L4wnydAgAetJIFEnb\\u002f6uvrfOdMgQHlXi5swvx1A0FTJBmKkIECoXPjMKE4WwBsKmCVLbhPAjtPZ0BYoCUC2lJrHKmQkQOwEqw2Brfi\\u002foM3IIBJq8z8YXmxeYYUJwL4yh9urHvm\\u002fb0mv7sqbAMDvJEE92TQUQLxKybdjHQDAzjo8i3LyI0C4C+jhFOscQGMXDzV\\u002fNCpAgN1GLRkNHMDVcIZ36ZYYwCIPbmEsGT3A5Pp24h+MHsA1M1QM8zQUwFWzpU5El0jA4Kb5+Q\\u002fBDUCwmBAY1twmwCV0XnQdnDxAXNKI3vUQ47+r2bC\\u002fi0EVQIzfCv3d+DdATuAGPNG0EkDYDVLXzuILwMBjBuZYADRAx\\u002fTcbQPvIcCFAqLml\\u002f4cQDxJYvwBARLAP523kMXKM0BCZ1LaMucmQJgnPZWhFda\\u002fkLEzYBBI878MVTNlxdwpwAQNJ3VfDiJA0GoGeHpBLkA+aRQ5WMoFQLgpsIZ1uS9A+abfB\\u002fuEG0D4e7CJ9WfnP+\\u002fdd0cpqyLAz+MRlciFMEBXOfDoKbwUQDZxd0gHlBvAZiHP+EY8J0DQwdc2aRHyPwm9GCbrXhpAHhOadlpMMUCYnezbKEbgP5AQ8bvrKyNAgDrakA3m2D9xCmtbx5cTwGRe8CU0XDVAWZv8ykawGkAy2KWAB9olQOdEIc3B1yrA\"},\"type\":\"histogram\"},{\"mode\":\"lines\",\"name\":\"Normal PDF (mean\\u002fstd-matched)\",\"x\":{\"dtype\":\"f8\",\"bdata\":\"rWjqtigWTcB9oh7\\u002fUupMwE3cUkd9vkzAHBaHj6eSTMDsT7vX0WZMwLyJ7x\\u002f8OkzAjMMjaCYPTMBc\\u002fVewUONLwCw3jPh6t0vA+3DAQKWLS8DLqvSIz19LwJvkKNH5M0vAax5dGSQIS8A7WJFhTtxKwAuSxal4sErA2sv58aKESsCqBS46zVhKwHo\\u002fYoL3LErASnmWyiEBSsAas8oSTNVJwOrs\\u002flp2qUnAuSYzo6B9ScCJYGfrylFJwFmamzP1JUnAKdTPex\\u002f6SMD5DQTESc5IwMhHOAx0okjAmIFsVJ52SMBou6CcyEpIwDj11OTyHkjACC8JLR3zR8DYaD11R8dHwKiicb1xm0fAd9ylBZxvR8BHFtpNxkNHwBdQDpbwF0fA54lC3hrsRsC3w3YmRcBGwIb9qm5vlEbAVjfftploRsAmcRP\\u002fwzxGwPaqR0fuEEbAxuR7jxjlRcCWHrDXQrlFwGZY5B9tjUXANZIYaJdhRcAFzEywwTVFwNUFgfjrCUXApT+1QBbeRMB0eemIQLJEwESzHdFqhkTAFO1RGZVaRMDkJoZhvy5EwLRguqnpAkTAhJru8RPXQ8BU1CI6PqtDwCQOV4Jof0PA80eLypJTQ8DDgb8SvSdDwJO781rn+0LAYvUnoxHQQsAyL1zrO6RCwAJpkDNmeELA0qLEe5BMQsCi3PjDuiBCwHIWLQzl9EHAQlBhVA\\u002fJQcASipWcOZ1BwOLDyeRjcUHAsf39LI5FQcCBNzJ1uBlBwFFxZr3i7UDAIKuaBQ3CQMDw5M5NN5ZAwMAeA5ZhakDAkFg33os+QMBgkmsmthJAwGCYP93AzT\\u002fA\\u002fwuobRV2P8CffxD+aR4\\u002fwD7zeI6+xj7A3mbhHhNvPsB+2kmvZxc+wB1Osj+8vz3AvcEa0BBoPcBdNYNgZRA9wPyo6\\u002fC5uDzAnBxUgQ5hPMA8kLwRYwk8wNsDJaK3sTvAe3eNMgxaO8Ab6\\u002fXCYAI7wLpeXlO1qjrAWtLG4wlTOsD6RS90Xvs5wJq5lwSzoznAOi0AlQdMOcDYoGglXPQ4wHgU0bWwnDjAGIg5RgVFOMC4+6HWWe03wFhvCmeulTfA9uJy9wI+N8CWVtuHV+Y2wDbKQxisjjbA1j2sqAA3NsB2sRQ5Vd81wBYlfcmphzXAtJjlWf4vNcBUDE7qUtg0wPR\\u002ftnqngDTAlPMeC\\u002fwoNMA0Z4ebUNEzwNTa7yuleTPAck5YvPkhM8ASwsBMTsoywLI1Kd2icjLAUqmRbfcaMsDyHPr9S8MxwJKQYo6gazHAMATLHvUTMcDQdzOvSbwwwHDrmz+eZDDAEF8E0PIMMMBgpdnAjmovwKCMquE3uy7A3HN7AuELLsAcW0wjilwtwFxCHUQzrSzAnCnuZNz9K8DcEL+FhU4rwBj4j6YunyrAWN9gx9fvKcCYxjHogEApwNitAgkqkSjAGJXTKdPhJ8BYfKRKfDInwJRjdWslgybA1EpGjM7TJcAUMhetdyQlwFQZ6M0gdSTAlAC57snFI8DU54kPcxYjwBDPWjAcZyLAULYrUcW3IcCQnfxxbgghwNCEzZIXWSDAINg8Z4FTH8Cgpt6o0\\u002fQdwBh1gOollhzAmEMiLHg3G8AYEsRtytgZwJjgZa8cehjAGK8H8W4bF8CYfakywbwVwBBMS3QTXhTAkBrttWX\\u002fEsAQ6Y73t6ARwJC3MDkKQhDAIAyl9bjGDcAQqeh4XQkLwBBGLPwBTAjAEONvf6aOBcAQgLMCS9ECwBAd94XvEwDAIHR1Eiit+r8ArvwYcTL1vwDQBz90b++\\u002fAEQWTAZ65L8AcEmyMAnTvwBAzZxZDac\\u002fAMB8GYfM2D9A7K9\\u002fsVvnPyC8ULmPKPE\\u002fIILJskaj9j8gSEKs\\u002fR38PxCH3VJazABAEOqZz7WJA0AgTVZMEUcGQCCwEslsBAlAIBPPRcjBC0AgdovCI38OQJDso58\\u002fnhBAEB4CXu38EUCYT2Acm1sTQBiBvtpIuhRAmLIcmfYYFkAY5HpXpHcXQJgV2RVS1hhAGEc31P80GkCYeJWSrZMbQBiq81Bb8hxAmNtRDwlRHkAoDbDNtq8fQFQfB0YyhyBAFDg2JYk2IUDUUGUE4OUhQJRplOM2lSJAVILDwo1EI0AUm\\u002fKh5PMjQNSzIYE7oyRAlMxQYJJSJUBU5X8\\u002f6QEmQBT+rh5AsSZA3Bbe\\u002fZZgJ0CcLw3d7Q8oQFxIPLxEvyhAHGFrm5tuKUDceZp68h0qQJySyVlJzSpAXKv4OKB8K0AcxCcY9yssQNzcVvdN2yxAnPWF1qSKLUBcDrW1+zkuQBwn5JRS6S5A5D8TdKmYL0BSLKEpACQwQLK4OJmrezBAEkXQCFfTMEBy0Wd4AisxQNJd\\u002f+etgjFAMuqWV1naMUCSdi7HBDIyQPICxjawiTJAUo9dplvhMkCyG\\u002fUVBzkzQBaojIWykDNAdjQk9V3oM0DWwLtkCUA0QDZNU9S0lzRAltnqQ2DvNED2ZYKzC0c1QFbyGSO3njVAtn6xkmL2NUAWC0kCDk42QHaX4HG5pTZA1iN44WT9NkA2sA9REFU3QJo8p8C7rDdA+sg+MGcEOEBaVdafElw4QLrhbQ++szhAGm4Ff2kLOUB6+pzuFGM5QNqGNF7AujlAOhPMzWsSOkCan2M9F2o6QPor+6zCwTpAWriSHG4ZO0C6RCqMGXE7QB7RwfvEyDtAfl1Za3AgPEDe6fDaG3g8QD52iErHzzxAngIgunInPUD+jrcpHn89QF4bT5nJ1j1AvqfmCHUuPkAeNH54IIY+QH7AFejL3T5A3kytV3c1P0BC2UTHIo0\\u002fQKJl3DbO5D9AAfk50zweQEAxvwWLEkpAQGGF0ULodUBAkUud+r2hQEDBEWmyk81AQPHXNGpp+UBAIZ4AIj8lQUBRZMzZFFFBQIEqmJHqfEFAsfBjScCoQUDjti8BltRBQBN9+7hrAEJAQ0PHcEEsQkBzCZMoF1hCQKPPXuDsg0JA05UqmMKvQkADXPZPmNtCQDMiwgduB0NAY+iNv0MzQ0CTrll3GV9DQMN0JS\\u002fvikNA8zrx5sS2Q0AlAb2emuJDQFXHiFZwDkRAhY1UDkY6REC1UyDGG2ZEQOUZ7H3xkURAFeC3Nce9REBFpoPtnOlEQHVsT6VyFUVApTIbXUhBRUDV+OYUHm1FQAW\\u002fsszzmEVAN4V+hMnERUBnS0o8n\\u002fBFQJcRFvR0HEZAx9fhq0pIRkD3na1jIHRGQCdkeRv2n0ZAVypF08vLRkCH8BCLofdGQLe23EJ3I0dA53yo+kxPR0AXQ3SyIntHQEcJQGr4pkdAec8LIs7SR0CpldfZo\\u002f5HQNlbo5F5KkhACSJvSU9WSEA56DoBJYJIQGmuBrn6rUhAmXTScNDZSEDJOp4opgVJQPkAauB7MUlAKcc1mFFdSUBZjQFQJ4lJQItTzQf9tElAuxmZv9LgSUDr32R3qAxKQBumMC9+OEpAS2z85lNkSkB7MsieKZBKQKv4k1b\\u002fu0pA275fDtXnSkALhSvGqhNLQDtL932AP0tAaxHDNVZrS0Cb147tK5dLQM2dWqUBw0tA\\u002fWMmXdfuS0AtKvIUrRpMQF3wvcyCRkxAjbaJhFhyTEC9fFU8Lp5MQO1CIfQDykxAHQntq9n1TEBNz7hjryFNQH2VhBuFTU1ArVtQ01p5TUDdIRyLMKVNQA\\u002fo50IG0U1AP66z+tv8TUBvdH+ysShOQJ86S2qHVE5AzwAXIl2ATkD\\u002fxuLZMqxOQC+NrpEI2E5AX1N6Sd4DT0CPGUYBtC9PQL\\u002ffEbmJW09A76XdcF+HT0AhbKkoNbNPQFEydeAK309AQHwgTHAFUEBYXwYoWxtQQHBC7ANGMVBAiCXS3zBHUECgCLi7G11QQLjrnZcGc1BA0M6Dc\\u002fGIUEDosWlP3J5QQACVTyvHtFBAGHg1B7LKUEAyWxvjnOBQQEo+Ab+H9lBAYiHnmnIMUUB6BM12XSJRQJLnslJIOFFAqsqYLjNOUUDCrX4KHmRRQNqQZOYIelFA8nNKwvOPUUAKVzCe3qVRQCI6FnrJu1FAOh38VbTRUUBSAOIxn+dRQGrjxw2K\\u002fVFAgsat6XQTUkCaqZPFXylSQLKMeaFKP1JAym9ffTVVUkDkUkVZIGtSQPw1KzULgVJAFBkREfaWUkAs\\u002fPbs4KxSQETf3MjLwlJAXMLCpLbYUkB0paiAoe5SQIyIjlyMBFNApGt0OHcaU0C8TloUYjBTQNQxQPBMRlNA7BQmzDdcU0AE+AuoInJTQBzb8YMNiFNAM77XX\\u002fidU0A=\"},\"y\":{\"dtype\":\"f8\",\"bdata\":\"7NPo6QQc4j46zL0SNMfjPtd1CA4Nl+U+tXRTd3KO5z4BfH7herDpPkOfUvVzAOw+A1GktOWB7j4SHGLxSpzwPiKvd8lFFPI+Py+ubgmr8z7EBbdd4GL1Pm4xvoU7Pvc+EDtFXrQ\\u002f+T4CjxERD2r7PklbO7g8wP0+WW0s2K4iAD\\u002frolf\\u002fYX4BP0A5n+X69AI\\u002f0zUz91eIBD8VfudIdDoGP+EcEPJoDQg\\u002fzkmAb24DCj9oW1gP3h4MPyrkP2UzYg4\\u002fbL5M4wZoED9ymBbnmLURPw2SWnNFGxM\\u002fRvDSbZaaFD\\u002fsZry3KjUWPyDQVfu27Bc\\u002flJVJewbDGT\\u002fic4Xj+7kbP25k+hqS0x0\\u002f5afZiu4IID8831JThTshP\\u002fMISqixgiI\\u002f0XmmiqXfIz8n0EMhoVMlP2lHyB3z3yY\\u002fuN12H\\u002fmFKD+I0IoTIEcqP1TZo5LkJCw\\u002f84TEOtMgLj8pAa+CRB4wP81yb8zZPDE\\u002fwE+ayghtMj+j7FRtua8zP7NIQ2XcBTU\\u002fCN1oQGtwNj+sqkeDaPA3P9nJ6L3fhjk\\u002fkbV3nOU0Oz8Xuhfzl\\u002fs8Pz1ZmcQd3D4\\u002fvxDaodNrQD86NTTntndBPw7VlfFZkkI\\u002f1NbAh2K8Qz9Ld9LrevZEP75HcMtRQUY\\u002fMZ4fLJqdRz8jp5lTCwxJP6kP76tgjUo\\u002fXEFPo1kiTD+RaUiHuctNP+QEV1tHik8\\u002fIrRO1WavUD994k4qDaVRP163aSp\\u002fplI\\u002f9VyFwia0Uz+fzywtb85UP6I5T87E9VU\\u002fM7M2DJUqVz8Pm6wlTm1YPyG5QwVfvlk\\u002fJ37CETceWz\\u002fm+Kn7RY1cP5qC2If7C14\\u002fl65JV8eaXz9\\u002f2vtVDJ1gP7WuchUvdWE\\u002fiSutzQJWYj+zea\\u002fRvT9jP72sw8CVMmQ\\u002fjsAQYr8uZT8ySu5+bjRmP8rbAbzVQ2c\\u002fVdU0cSZdaD9vGpOAkIBpP9TqJCxCrmo\\u002f+uDX6mfmaz+i44w8LCltP4SdYn23dm4\\u002fwdJVuC\\u002fPbz9tVak8XJlwPzjeaU+5UHE\\u002fc6uWFb4Ncj8rk9IKeNByP83wuw3zmHM\\u002fNxp4SDlndD+FwlkZUzt1Pw9HtftGFXY\\u002ftIL2cBn1dj9wVgzqzNp3PwyaPrFhxng\\u002f5JuD1NW3eT8wumoQJa96PwXxsbtIrHs\\u002f7XacszevfD\\u002fcqiBJ5rd9P3GsAy9Gxn4\\u002f4\\u002fT4aEbafz\\u002f2F+6d6XmAPzyyjQ9rCYE\\u002fi5qz15qbgT\\u002fwT1\\u002fRajCCP4iW9V7Lx4I\\u002fxvPAZathgz\\u002fKZz5K+P2DP4jYP+2dnIQ\\u002f+zPtqYY9hT+r0axUm+CFP1QT+zrDhYY\\u002fXK44JOQshz+YZnZT4tWHP5tVRIqggIg\\u002fDiGKDAAtiT8iv2yl4NqJPwibRa0gioo\\u002fWhOuEJ06iz+7bKFYMeyLP6FqtrO3now\\u002fCNBwAAlSjT9IFKrY\\u002fAWOP9GbD55puo4\\u002f3sSzhyRvjz\\u002fmCVfYABKQP2Di4hNqbJA\\u002fJYAQALfGkD9r9Hgx0CCRP9rXDNGdepE\\u002fpW3cpQfUkT96c1Ef9SySP7Qz1V9NhZI\\u002fsvPcR\\u002ffckj8sYFaB2TOTP+0kbYvaiZM\\u002fVm6ixuDekz+LqC6B0jKUPyBspQOWhZQ\\u002f6inTnRHXlD+20MuzKyeVP+ZXIcvKdZU\\u002fMdI4mNXClT9LbLQLMw6WP4WE6F\\u002fKV5Y\\u002fs9pRJoOflj+LswJVReWWPxew\\u002fFP5KJc\\u002fSgltCohqlz9x2cDr2qmXPwQhhwTc5pc\\u002f+EIWB3YhmD8czepXlFmYP8WEtRkjj5g\\u002fbN0OOQ\\u002fCmD8wN8Z3RvKYP0GFw3e3H5k\\u002ffEhyxVFKmT97IK3hBXKZP5+UIUvFlpk\\u002fIR8kh4K4mT829ewpMdeZP8aANt7F8pk\\u002fLgE3bDYLmj\\u002fZUO+\\u002feSCaP3Rcye6HMpo\\u002fgG2BPFpBmj9cBFYf60yaPzqdekM2VZo\\u002ff17KjThamj\\u002fhVbgd8FuaP62Se05cWpo\\u002f+BZ2t31Vmj+VRdYrVk2aP6Ifc7noQZo\\u002frlDkpjkzmj+vs9dwTiGaP46kpsYtDJo\\u002fhBguht\\u002fzmT9BG+22bNiZP+rtbYTfuZk\\u002fyJ\\u002f+N0OYmT+\\u002fjb4xpHOZP8jEBuEPTJk\\u002fP8wzvJQhmT9j3tc3QvSYP9AOXb0oxJg\\u002fa1AfoVmRmD\\u002fjtAYY51uYP7afqizkI5g\\u002f\\u002ffwGtGTplz\\u002fs2MxBfayXP4r3VxxDbZc\\u002fr0RTMMwrlz+XIhYEL+iWP7jAxKqCopY\\u002fcr49t95alj9Fa98uWxGWPxX7LnwQxpU\\u002f1v5rYRd5lT\\u002fmYRrriCqVP1ASjWJ+2pQ\\u002fQVZ7QBGJlD\\u002fZo6ofWzaUPwmatq914pM\\u002fIXoAqHqNkz9HOs+6gzeTP4P5qIiq4JI\\u002fuUfukwiJkj\\u002fFVb80tzCSPyq+Mo3P15E\\u002fsyzlfWp+kT9HvOiaoCSRPyxuGiGKypA\\u002fGqbj6z5wkD\\u002fLGm1r1hWQP8BYkDbPdo8\\u002flyIm8xHCjj96jzf9oA2OPwNtCiqnWY0\\u002f3MfiJE6mjD8sS2ZhvvOLPyhREg8fQos\\u002fk1\\u002fHDZaRij8zy2vjR+KJP6VAprJXNIk\\u002f8vqvMueHiD8tgD2oFt2HP3\\u002fTe98ENIc\\u002f7ysfJ8+Mhj\\u002fCZn9MkeeFP3qfvZhlRIU\\u002fTpLtzmSjhD\\u002f6tTwrpgSEP2hLEGM\\u002faIM\\u002f2v8SpkTOgj9OKCqgyDaCPw8TSnzcoYE\\u002fVW8g6I8PgT+8WosY8X+AP9GApp0Z5n8\\u002fJ786vdzRfj89CRlpP8N9P++GCrtSunw\\u002fY6EVHSW3ez8H5lJawrl6P3DcxrAzwnk\\u002fxXgq5H\\u002fQeD9B0otRq+R3P+TYsAO4\\u002fnY\\u002fwO4lyKUedj9yhuJEckR1P844bg4ZcHQ\\u002fiSVxvpOhcz+855oK2thyP6voy9vhFXI\\u002fWG5tZZ9YcT\\u002fBYuU8BaFwPwH4JuII3m8\\u002fZ0mMQxmFbj\\u002ffiCwuGDdtP\\u002fChM7Hf82s\\u002fqcO7iEe7aj87qzNLJY1pPznqG5ZMaWg\\u002fFLwBOo9PZz+TxZ9lvT9mP\\u002fTdDtClOWU\\u002fQMry4RU9ZD\\u002fEmpDd2UljP+YevgW9X2I\\u002f\\u002fqKbw4l+YT+G5QrLCaZgP+zEr3sMrF8\\u002fK3YTm48cXj9iPKe3LZ1cP39LPjN3LVs\\u002fMURWSfzMWT\\u002fFg3ZHTXtYP6vWrML6N1c\\u002fWOUlypUCVj8\\u002fP+IWsNpUPwJSizjcv1M\\u002fieFtv62xUj9AuaFjua9RP8pNaCmVuVA\\u002fLcGbBbGdTz8P2zTdON5NPy11Qin3M0w\\u002feaH+viSeSj\\u002fG2bQn\\u002fhtJPyg9ZsrDrEc\\u002fv5q7ELpPRj8AgG6HKQRFP0wBVPpeyUM\\u002fjzc1jKueQj\\u002fVcaLKZINBP6vk7r3kdkA\\u002f9GUG6xPxPj8NE2shbw89P4lcrIiqRzs\\u002f+8E+up6YOT8ka25+LQE4PxBo48VBgDY\\u002fewsCns8UNT9CnoEg1L0zP4AVkl5VejI\\u002fC6fnR2JJMT+PDwGOEiowPwFO9gcNNy4\\u002fOfiD9s05LD8lTNo6yloqP5qjJId0mCg\\u002fN5Kslk\\u002fxJj9JqgPU7WMlP2Tbufvw7iM\\u002fHVIfvAmRIj+ysYpS90ghP5BkliaHFSA\\u002fGUaDxyjrHT86Y7cjD9AbPxuLM1ms1xk\\u002fwvVjdQQAGD8\\u002fqZ\\u002fJM0cWP87aYRluqxQ\\u002fH4Zlyf0qEz+t5ykQQ8QRP9+kWyizdRA\\u002fVLwnC697Dj+YX6gXmjYMP7OTOZSGGQo\\u002f1ZngcPchCD+yACDzkU0GPxuHZEEcmgQ\\u002fn6LZ9nsFAz99DwnAtI0BP7nfmQDnMAA\\u002fIbfqBJ3a\\u002fT4XcRVdgoL7PoJavJ5bVvk+9m0IuzVT9z7q\\u002fT2sSnb1Pt5Y0zb\\u002fvPM+piGovuAk8j6271Awo6vwPnHjtfw9nu4+L6a5ZJ4a7D6eAjojn8jpPgkfE6q1pOc+xKFm6JGr5T7pkugFG9rjPrxrwkJsLeI+vjY9+9Gi4D6o\\u002f62cjW\\u002fePrwpuszh09s+Kjk3xT5u2T7FZVfCjzrXPq\\u002ftxk8INdU+HTLO1h9a0z4y+a1mjabRPqRjKrVDF9A+aLVvqtpSzT4BBnxD0rTKPv7TzrSNT8g+WgHy4Icexj42xGQDkR3EPrNTfv7ISMI+HEmU\\u002fZmcwD7o4DLPZiu+PhCp\\u002fTwKYrs+RwFvD3bXuD5l+a60cYa2PuyCv14sarQ+1ArGoTV+sj5MTpSJdr6wPkG\\u002faUBWTq4+R\\u002fTuvrhpqz4A92IPtcioPtldPqxvZaY+z+MVK4c6pD7bgC4IC0OiPnGKgBJzeqA+AK6B3S65nT7u3uVQUsuaPlnx4pBWJJg+r8CD0di9lT6DnNt7AZKTPlFk\\u002fxx5m5E+ilR\\u002fRryqjz4=\"},\"type\":\"scatter\"}],                        {\"template\":{\"data\":{\"barpolar\":[{\"marker\":{\"line\":{\"color\":\"white\",\"width\":0.5},\"pattern\":{\"fillmode\":\"overlay\",\"size\":10,\"solidity\":0.2}},\"type\":\"barpolar\"}],\"bar\":[{\"error_x\":{\"color\":\"#2a3f5f\"},\"error_y\":{\"color\":\"#2a3f5f\"},\"marker\":{\"line\":{\"color\":\"white\",\"width\":0.5},\"pattern\":{\"fillmode\":\"overlay\",\"size\":10,\"solidity\":0.2}},\"type\":\"bar\"}],\"carpet\":[{\"aaxis\":{\"endlinecolor\":\"#2a3f5f\",\"gridcolor\":\"#C8D4E3\",\"linecolor\":\"#C8D4E3\",\"minorgridcolor\":\"#C8D4E3\",\"startlinecolor\":\"#2a3f5f\"},\"baxis\":{\"endlinecolor\":\"#2a3f5f\",\"gridcolor\":\"#C8D4E3\",\"linecolor\":\"#C8D4E3\",\"minorgridcolor\":\"#C8D4E3\",\"startlinecolor\":\"#2a3f5f\"},\"type\":\"carpet\"}],\"choropleth\":[{\"colorbar\":{\"outlinewidth\":0,\"ticks\":\"\"},\"type\":\"choropleth\"}],\"contourcarpet\":[{\"colorbar\":{\"outlinewidth\":0,\"ticks\":\"\"},\"type\":\"contourcarpet\"}],\"contour\":[{\"colorbar\":{\"outlinewidth\":0,\"ticks\":\"\"},\"colorscale\":[[0.0,\"#0d0887\"],[0.1111111111111111,\"#46039f\"],[0.2222222222222222,\"#7201a8\"],[0.3333333333333333,\"#9c179e\"],[0.4444444444444444,\"#bd3786\"],[0.5555555555555556,\"#d8576b\"],[0.6666666666666666,\"#ed7953\"],[0.7777777777777778,\"#fb9f3a\"],[0.8888888888888888,\"#fdca26\"],[1.0,\"#f0f921\"]],\"type\":\"contour\"}],\"heatmap\":[{\"colorbar\":{\"outlinewidth\":0,\"ticks\":\"\"},\"colorscale\":[[0.0,\"#0d0887\"],[0.1111111111111111,\"#46039f\"],[0.2222222222222222,\"#7201a8\"],[0.3333333333333333,\"#9c179e\"],[0.4444444444444444,\"#bd3786\"],[0.5555555555555556,\"#d8576b\"],[0.6666666666666666,\"#ed7953\"],[0.7777777777777778,\"#fb9f3a\"],[0.8888888888888888,\"#fdca26\"],[1.0,\"#f0f921\"]],\"type\":\"heatmap\"}],\"histogram2dcontour\":[{\"colorbar\":{\"outlinewidth\":0,\"ticks\":\"\"},\"colorscale\":[[0.0,\"#0d0887\"],[0.1111111111111111,\"#46039f\"],[0.2222222222222222,\"#7201a8\"],[0.3333333333333333,\"#9c179e\"],[0.4444444444444444,\"#bd3786\"],[0.5555555555555556,\"#d8576b\"],[0.6666666666666666,\"#ed7953\"],[0.7777777777777778,\"#fb9f3a\"],[0.8888888888888888,\"#fdca26\"],[1.0,\"#f0f921\"]],\"type\":\"histogram2dcontour\"}],\"histogram2d\":[{\"colorbar\":{\"outlinewidth\":0,\"ticks\":\"\"},\"colorscale\":[[0.0,\"#0d0887\"],[0.1111111111111111,\"#46039f\"],[0.2222222222222222,\"#7201a8\"],[0.3333333333333333,\"#9c179e\"],[0.4444444444444444,\"#bd3786\"],[0.5555555555555556,\"#d8576b\"],[0.6666666666666666,\"#ed7953\"],[0.7777777777777778,\"#fb9f3a\"],[0.8888888888888888,\"#fdca26\"],[1.0,\"#f0f921\"]],\"type\":\"histogram2d\"}],\"histogram\":[{\"marker\":{\"pattern\":{\"fillmode\":\"overlay\",\"size\":10,\"solidity\":0.2}},\"type\":\"histogram\"}],\"mesh3d\":[{\"colorbar\":{\"outlinewidth\":0,\"ticks\":\"\"},\"type\":\"mesh3d\"}],\"parcoords\":[{\"line\":{\"colorbar\":{\"outlinewidth\":0,\"ticks\":\"\"}},\"type\":\"parcoords\"}],\"pie\":[{\"automargin\":true,\"type\":\"pie\"}],\"scatter3d\":[{\"line\":{\"colorbar\":{\"outlinewidth\":0,\"ticks\":\"\"}},\"marker\":{\"colorbar\":{\"outlinewidth\":0,\"ticks\":\"\"}},\"type\":\"scatter3d\"}],\"scattercarpet\":[{\"marker\":{\"colorbar\":{\"outlinewidth\":0,\"ticks\":\"\"}},\"type\":\"scattercarpet\"}],\"scattergeo\":[{\"marker\":{\"colorbar\":{\"outlinewidth\":0,\"ticks\":\"\"}},\"type\":\"scattergeo\"}],\"scattergl\":[{\"marker\":{\"colorbar\":{\"outlinewidth\":0,\"ticks\":\"\"}},\"type\":\"scattergl\"}],\"scattermapbox\":[{\"marker\":{\"colorbar\":{\"outlinewidth\":0,\"ticks\":\"\"}},\"type\":\"scattermapbox\"}],\"scattermap\":[{\"marker\":{\"colorbar\":{\"outlinewidth\":0,\"ticks\":\"\"}},\"type\":\"scattermap\"}],\"scatterpolargl\":[{\"marker\":{\"colorbar\":{\"outlinewidth\":0,\"ticks\":\"\"}},\"type\":\"scatterpolargl\"}],\"scatterpolar\":[{\"marker\":{\"colorbar\":{\"outlinewidth\":0,\"ticks\":\"\"}},\"type\":\"scatterpolar\"}],\"scatter\":[{\"fillpattern\":{\"fillmode\":\"overlay\",\"size\":10,\"solidity\":0.2},\"type\":\"scatter\"}],\"scatterternary\":[{\"marker\":{\"colorbar\":{\"outlinewidth\":0,\"ticks\":\"\"}},\"type\":\"scatterternary\"}],\"surface\":[{\"colorbar\":{\"outlinewidth\":0,\"ticks\":\"\"},\"colorscale\":[[0.0,\"#0d0887\"],[0.1111111111111111,\"#46039f\"],[0.2222222222222222,\"#7201a8\"],[0.3333333333333333,\"#9c179e\"],[0.4444444444444444,\"#bd3786\"],[0.5555555555555556,\"#d8576b\"],[0.6666666666666666,\"#ed7953\"],[0.7777777777777778,\"#fb9f3a\"],[0.8888888888888888,\"#fdca26\"],[1.0,\"#f0f921\"]],\"type\":\"surface\"}],\"table\":[{\"cells\":{\"fill\":{\"color\":\"#EBF0F8\"},\"line\":{\"color\":\"white\"}},\"header\":{\"fill\":{\"color\":\"#C8D4E3\"},\"line\":{\"color\":\"white\"}},\"type\":\"table\"}]},\"layout\":{\"annotationdefaults\":{\"arrowcolor\":\"#2a3f5f\",\"arrowhead\":0,\"arrowwidth\":1},\"autotypenumbers\":\"strict\",\"coloraxis\":{\"colorbar\":{\"outlinewidth\":0,\"ticks\":\"\"}},\"colorscale\":{\"diverging\":[[0,\"#8e0152\"],[0.1,\"#c51b7d\"],[0.2,\"#de77ae\"],[0.3,\"#f1b6da\"],[0.4,\"#fde0ef\"],[0.5,\"#f7f7f7\"],[0.6,\"#e6f5d0\"],[0.7,\"#b8e186\"],[0.8,\"#7fbc41\"],[0.9,\"#4d9221\"],[1,\"#276419\"]],\"sequential\":[[0.0,\"#0d0887\"],[0.1111111111111111,\"#46039f\"],[0.2222222222222222,\"#7201a8\"],[0.3333333333333333,\"#9c179e\"],[0.4444444444444444,\"#bd3786\"],[0.5555555555555556,\"#d8576b\"],[0.6666666666666666,\"#ed7953\"],[0.7777777777777778,\"#fb9f3a\"],[0.8888888888888888,\"#fdca26\"],[1.0,\"#f0f921\"]],\"sequentialminus\":[[0.0,\"#0d0887\"],[0.1111111111111111,\"#46039f\"],[0.2222222222222222,\"#7201a8\"],[0.3333333333333333,\"#9c179e\"],[0.4444444444444444,\"#bd3786\"],[0.5555555555555556,\"#d8576b\"],[0.6666666666666666,\"#ed7953\"],[0.7777777777777778,\"#fb9f3a\"],[0.8888888888888888,\"#fdca26\"],[1.0,\"#f0f921\"]]},\"colorway\":[\"#636efa\",\"#EF553B\",\"#00cc96\",\"#ab63fa\",\"#FFA15A\",\"#19d3f3\",\"#FF6692\",\"#B6E880\",\"#FF97FF\",\"#FECB52\"],\"font\":{\"color\":\"#2a3f5f\"},\"geo\":{\"bgcolor\":\"white\",\"lakecolor\":\"white\",\"landcolor\":\"white\",\"showlakes\":true,\"showland\":true,\"subunitcolor\":\"#C8D4E3\"},\"hoverlabel\":{\"align\":\"left\"},\"hovermode\":\"closest\",\"mapbox\":{\"style\":\"light\"},\"paper_bgcolor\":\"white\",\"plot_bgcolor\":\"white\",\"polar\":{\"angularaxis\":{\"gridcolor\":\"#EBF0F8\",\"linecolor\":\"#EBF0F8\",\"ticks\":\"\"},\"bgcolor\":\"white\",\"radialaxis\":{\"gridcolor\":\"#EBF0F8\",\"linecolor\":\"#EBF0F8\",\"ticks\":\"\"}},\"scene\":{\"xaxis\":{\"backgroundcolor\":\"white\",\"gridcolor\":\"#DFE8F3\",\"gridwidth\":2,\"linecolor\":\"#EBF0F8\",\"showbackground\":true,\"ticks\":\"\",\"zerolinecolor\":\"#EBF0F8\"},\"yaxis\":{\"backgroundcolor\":\"white\",\"gridcolor\":\"#DFE8F3\",\"gridwidth\":2,\"linecolor\":\"#EBF0F8\",\"showbackground\":true,\"ticks\":\"\",\"zerolinecolor\":\"#EBF0F8\"},\"zaxis\":{\"backgroundcolor\":\"white\",\"gridcolor\":\"#DFE8F3\",\"gridwidth\":2,\"linecolor\":\"#EBF0F8\",\"showbackground\":true,\"ticks\":\"\",\"zerolinecolor\":\"#EBF0F8\"}},\"shapedefaults\":{\"line\":{\"color\":\"#2a3f5f\"}},\"ternary\":{\"aaxis\":{\"gridcolor\":\"#DFE8F3\",\"linecolor\":\"#A2B1C6\",\"ticks\":\"\"},\"baxis\":{\"gridcolor\":\"#DFE8F3\",\"linecolor\":\"#A2B1C6\",\"ticks\":\"\"},\"bgcolor\":\"white\",\"caxis\":{\"gridcolor\":\"#DFE8F3\",\"linecolor\":\"#A2B1C6\",\"ticks\":\"\"}},\"title\":{\"x\":0.05},\"xaxis\":{\"automargin\":true,\"gridcolor\":\"#EBF0F8\",\"linecolor\":\"#EBF0F8\",\"ticks\":\"\",\"title\":{\"standoff\":15},\"zerolinecolor\":\"#EBF0F8\",\"zerolinewidth\":2},\"yaxis\":{\"automargin\":true,\"gridcolor\":\"#EBF0F8\",\"linecolor\":\"#EBF0F8\",\"ticks\":\"\",\"title\":{\"standoff\":15},\"zerolinecolor\":\"#EBF0F8\",\"zerolinewidth\":2}}},\"shapes\":[{\"line\":{\"dash\":\"dash\",\"width\":1},\"type\":\"line\",\"x0\":0,\"x1\":0,\"xref\":\"x\",\"y0\":0,\"y1\":1,\"yref\":\"y domain\"},{\"line\":{\"dash\":\"dot\",\"width\":1},\"type\":\"line\",\"x0\":3.819339684066256,\"x1\":3.819339684066256,\"xref\":\"x\",\"y0\":0,\"y1\":1,\"yref\":\"y domain\"},{\"fillcolor\":\"LightGray\",\"line\":{\"width\":0},\"opacity\":0.2,\"type\":\"rect\",\"x0\":-18.7519109337752,\"x1\":28.167373561276314,\"xref\":\"x\",\"y0\":0,\"y1\":1,\"yref\":\"y domain\"}],\"annotations\":[{\"showarrow\":false,\"text\":\"0%\",\"x\":0,\"xanchor\":\"left\",\"xref\":\"x\",\"y\":1,\"yanchor\":\"top\",\"yref\":\"y domain\"},{\"showarrow\":false,\"text\":\"Mean 3.82%\",\"x\":3.819339684066256,\"xanchor\":\"left\",\"xref\":\"x\",\"y\":1,\"yanchor\":\"top\",\"yref\":\"y domain\"},{\"showarrow\":false,\"text\":\"5th\\u201395th pct\",\"x\":-18.7519109337752,\"xanchor\":\"left\",\"xref\":\"x\",\"y\":1,\"yanchor\":\"top\",\"yref\":\"y domain\"}],\"title\":{\"text\":\"NFLX \\u2014 Monthly Return Distribution\"},\"xaxis\":{\"title\":{\"text\":\"Monthly return (%)\"}},\"yaxis\":{\"title\":{\"text\":\"Density\"}},\"bargap\":0.02,\"hovermode\":\"x\"},                        {\"responsive\": true}                    )                };            </script>        </div>"
      ],
      "text/plain": [
       "Figure({\n",
       "    'data': [{'histnorm': 'probability density',\n",
       "              'name': 'Monthly Returns',\n",
       "              'nbinsx': 90,\n",
       "              'opacity': 0.9,\n",
       "              'type': 'histogram',\n",
       "              'x': {'bdata': ('1JMMTzxqGECWRp2TmEcnQGT3KsRUEE' ... 'v8ykawGkAy2KWAB9olQOdEIc3B1yrA'),\n",
       "                    'dtype': 'f8'}},\n",
       "             {'mode': 'lines',\n",
       "              'name': 'Normal PDF (mean/std-matched)',\n",
       "              'type': 'scatter',\n",
       "              'x': {'bdata': ('rWjqtigWTcB9oh7/UupMwE3cUkd9vk' ... 'uoInJTQBzb8YMNiFNAM77XX/idU0A='),\n",
       "                    'dtype': 'f8'},\n",
       "              'y': {'bdata': ('7NPo6QQc4j46zL0SNMfjPtd1CA4Nl+' ... 't7AZKTPlFk/xx5m5E+ilR/Rryqjz4='),\n",
       "                    'dtype': 'f8'}}],\n",
       "    'layout': {'annotations': [{'showarrow': False,\n",
       "                                'text': '0%',\n",
       "                                'x': 0,\n",
       "                                'xanchor': 'left',\n",
       "                                'xref': 'x',\n",
       "                                'y': 1,\n",
       "                                'yanchor': 'top',\n",
       "                                'yref': 'y domain'},\n",
       "                               {'showarrow': False,\n",
       "                                'text': 'Mean 3.82%',\n",
       "                                'x': 3.819339684066256,\n",
       "                                'xanchor': 'left',\n",
       "                                'xref': 'x',\n",
       "                                'y': 1,\n",
       "                                'yanchor': 'top',\n",
       "                                'yref': 'y domain'},\n",
       "                               {'showarrow': False,\n",
       "                                'text': '5th–95th pct',\n",
       "                                'x': np.float64(-18.7519109337752),\n",
       "                                'xanchor': 'left',\n",
       "                                'xref': 'x',\n",
       "                                'y': 1,\n",
       "                                'yanchor': 'top',\n",
       "                                'yref': 'y domain'}],\n",
       "               'bargap': 0.02,\n",
       "               'hovermode': 'x',\n",
       "               'shapes': [{'line': {'dash': 'dash', 'width': 1},\n",
       "                           'type': 'line',\n",
       "                           'x0': 0,\n",
       "                           'x1': 0,\n",
       "                           'xref': 'x',\n",
       "                           'y0': 0,\n",
       "                           'y1': 1,\n",
       "                           'yref': 'y domain'},\n",
       "                          {'line': {'dash': 'dot', 'width': 1},\n",
       "                           'type': 'line',\n",
       "                           'x0': 3.819339684066256,\n",
       "                           'x1': 3.819339684066256,\n",
       "                           'xref': 'x',\n",
       "                           'y0': 0,\n",
       "                           'y1': 1,\n",
       "                           'yref': 'y domain'},\n",
       "                          {'fillcolor': 'LightGray',\n",
       "                           'line': {'width': 0},\n",
       "                           'opacity': 0.2,\n",
       "                           'type': 'rect',\n",
       "                           'x0': np.float64(-18.7519109337752),\n",
       "                           'x1': np.float64(28.167373561276314),\n",
       "                           'xref': 'x',\n",
       "                           'y0': 0,\n",
       "                           'y1': 1,\n",
       "                           'yref': 'y domain'}],\n",
       "               'template': '...',\n",
       "               'title': {'text': 'NFLX — Monthly Return Distribution'},\n",
       "               'xaxis': {'title': {'text': 'Monthly return (%)'}},\n",
       "               'yaxis': {'title': {'text': 'Density'}}}\n",
       "})"
      ]
     },
     "execution_count": 28,
     "metadata": {},
     "output_type": "execute_result"
    }
   ],
   "source": [
    "fig"
   ]
  },
  {
   "cell_type": "code",
   "execution_count": 27,
   "id": "ac2e81b2",
   "metadata": {},
   "outputs": [
    {
     "name": "stdout",
     "output_type": "stream",
     "text": [
      "Computed from monthly closes (price-only) from 2010-01-31 to 2025-07-31. Skew = 0.73 (right/upside), Excess kurtosis = 5.45 (fat tails). Mean monthly return 3.82%, stdev 15.50%. 37.1% of months were negative. 5th–95th percentile range: -18.75% to 28.17%.\n"
     ]
    }
   ],
   "source": [
    "print(note)"
   ]
  },
  {
   "cell_type": "code",
   "execution_count": null,
   "id": "81175bce",
   "metadata": {},
   "outputs": [],
   "source": [
    "from helpers import indicators\n",
    "indicators.get_best_worst_month_and_hit_rate"
   ]
  },
  {
   "cell_type": "code",
   "execution_count": null,
   "id": "af02cde1",
   "metadata": {},
   "outputs": [],
   "source": []
  },
  {
   "cell_type": "code",
   "execution_count": 1,
   "id": "f1f5ebfc",
   "metadata": {},
   "outputs": [
    {
     "ename": "IOException",
     "evalue": "IO Error: Could not set lock on file \"/Users/oluwadolaposalako/CryptoAdvisor/data/market/market.duckdb\": Conflicting lock is held in /opt/anaconda3/envs/cryptoadvisor/bin/python3.10 (PID 21687) by user oluwadolaposalako. See also https://duckdb.org/docs/stable/connect/concurrency",
     "output_type": "error",
     "traceback": [
      "\u001b[0;31m---------------------------------------------------------------------------\u001b[0m",
      "\u001b[0;31mIOException\u001b[0m                               Traceback (most recent call last)",
      "Cell \u001b[0;32mIn[1], line 2\u001b[0m\n\u001b[1;32m      1\u001b[0m \u001b[38;5;28;01mfrom\u001b[39;00m\u001b[38;5;250m \u001b[39m\u001b[38;5;21;01mhelpers\u001b[39;00m\u001b[38;5;250m \u001b[39m\u001b[38;5;28;01mimport\u001b[39;00m indicators\n\u001b[0;32m----> 2\u001b[0m db \u001b[38;5;241m=\u001b[39m \u001b[43mindicators\u001b[49m\u001b[38;5;241;43m.\u001b[39;49m\u001b[43mload_db\u001b[49m\u001b[43m(\u001b[49m\u001b[43mdb_path\u001b[49m\u001b[38;5;241;43m=\u001b[39;49m\u001b[38;5;124;43m\"\u001b[39;49m\u001b[38;5;124;43mdata/market/market.duckdb\u001b[39;49m\u001b[38;5;124;43m\"\u001b[39;49m\u001b[43m)\u001b[49m\n\u001b[1;32m      3\u001b[0m indicators\u001b[38;5;241m.\u001b[39mcompute_momentum_12_1_with_fig(con\u001b[38;5;241m=\u001b[39mdb, symbol\u001b[38;5;241m=\u001b[39m\u001b[38;5;124m\"\u001b[39m\u001b[38;5;124mAAPL\u001b[39m\u001b[38;5;124m\"\u001b[39m)\n",
      "File \u001b[0;32m~/CryptoAdvisor/helpers/indicators.py:21\u001b[0m, in \u001b[0;36mload_db\u001b[0;34m(db_path)\u001b[0m\n\u001b[1;32m     20\u001b[0m \u001b[38;5;28;01mdef\u001b[39;00m\u001b[38;5;250m \u001b[39m\u001b[38;5;21mload_db\u001b[39m(db_path):\n\u001b[0;32m---> 21\u001b[0m     conn \u001b[38;5;241m=\u001b[39m \u001b[43mduckdb\u001b[49m\u001b[38;5;241;43m.\u001b[39;49m\u001b[43mconnect\u001b[49m\u001b[43m(\u001b[49m\u001b[43mdb_path\u001b[49m\u001b[43m)\u001b[49m\n\u001b[1;32m     22\u001b[0m     \u001b[38;5;28;01mreturn\u001b[39;00m conn\n",
      "\u001b[0;31mIOException\u001b[0m: IO Error: Could not set lock on file \"/Users/oluwadolaposalako/CryptoAdvisor/data/market/market.duckdb\": Conflicting lock is held in /opt/anaconda3/envs/cryptoadvisor/bin/python3.10 (PID 21687) by user oluwadolaposalako. See also https://duckdb.org/docs/stable/connect/concurrency"
     ]
    }
   ],
   "source": [
    "from helpers import indicators\n",
    "db = indicators.load_db(db_path=\"data/market/market.duckdb\")\n",
    "indicators.compute_momentum_12_1_with_fig(con=db, symbol=\"AAPL\")"
   ]
  },
  {
   "cell_type": "code",
   "execution_count": null,
   "id": "b9a57e9b",
   "metadata": {},
   "outputs": [],
   "source": []
  }
 ],
 "metadata": {
  "kernelspec": {
   "display_name": "cryptoadvisor",
   "language": "python",
   "name": "python3"
  },
  "language_info": {
   "codemirror_mode": {
    "name": "ipython",
    "version": 3
   },
   "file_extension": ".py",
   "mimetype": "text/x-python",
   "name": "python",
   "nbconvert_exporter": "python",
   "pygments_lexer": "ipython3",
   "version": "3.10.18"
  }
 },
 "nbformat": 4,
 "nbformat_minor": 5
}
